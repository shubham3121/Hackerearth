{
 "cells": [
  {
   "cell_type": "code",
   "execution_count": 16,
   "metadata": {
    "collapsed": true
   },
   "outputs": [],
   "source": [
    "import numpy as np\n",
    "import pandas as pd\n",
    "from sklearn.ensemble import RandomForestClassifier\n",
    "from sklearn.tree import DecisionTreeClassifier\n",
    "from sklearn.svm import SVC\n",
    "from sklearn.cluster import KMeans\n",
    "from sklearn.preprocessing import MinMaxScaler\n",
    "from sklearn.cross_validation import KFold\n",
    "from sklearn.cross_validation import train_test_split\n",
    "import xgboost as xgb\n",
    "from sklearn.metrics import accuracy_score\n",
    "from tqdm import tqdm_notebook\n",
    "from sklearn.grid_search import GridSearchCV\n",
    "from sklearn.naive_bayes import GaussianNB"
   ]
  },
  {
   "cell_type": "code",
   "execution_count": 2,
   "metadata": {
    "collapsed": true
   },
   "outputs": [],
   "source": [
    "train = pd.read_csv('train_data.csv')\n",
    "test = pd.read_csv('test_data.csv')"
   ]
  },
  {
   "cell_type": "code",
   "execution_count": 3,
   "metadata": {},
   "outputs": [
    {
     "data": {
      "text/html": [
       "<div>\n",
       "<style>\n",
       "    .dataframe thead tr:only-child th {\n",
       "        text-align: right;\n",
       "    }\n",
       "\n",
       "    .dataframe thead th {\n",
       "        text-align: left;\n",
       "    }\n",
       "\n",
       "    .dataframe tbody tr th {\n",
       "        vertical-align: top;\n",
       "    }\n",
       "</style>\n",
       "<table border=\"1\" class=\"dataframe\">\n",
       "  <thead>\n",
       "    <tr style=\"text-align: right;\">\n",
       "      <th></th>\n",
       "      <th>connection_id</th>\n",
       "      <th>cont_1</th>\n",
       "      <th>cont_2</th>\n",
       "      <th>cont_3</th>\n",
       "      <th>cont_4</th>\n",
       "      <th>cont_5</th>\n",
       "      <th>cont_6</th>\n",
       "      <th>cont_7</th>\n",
       "      <th>cont_8</th>\n",
       "      <th>cont_9</th>\n",
       "      <th>...</th>\n",
       "      <th>cat_15</th>\n",
       "      <th>cat_16</th>\n",
       "      <th>cat_17</th>\n",
       "      <th>cat_18</th>\n",
       "      <th>cat_19</th>\n",
       "      <th>cat_20</th>\n",
       "      <th>cat_21</th>\n",
       "      <th>cat_22</th>\n",
       "      <th>cat_23</th>\n",
       "      <th>target</th>\n",
       "    </tr>\n",
       "  </thead>\n",
       "  <tbody>\n",
       "    <tr>\n",
       "      <th>0</th>\n",
       "      <td>cxcon_1</td>\n",
       "      <td>0</td>\n",
       "      <td>1032</td>\n",
       "      <td>0</td>\n",
       "      <td>0.0</td>\n",
       "      <td>0.0</td>\n",
       "      <td>0.0</td>\n",
       "      <td>0.0</td>\n",
       "      <td>1.0</td>\n",
       "      <td>0.0</td>\n",
       "      <td>...</td>\n",
       "      <td>0</td>\n",
       "      <td>0</td>\n",
       "      <td>0</td>\n",
       "      <td>0</td>\n",
       "      <td>0</td>\n",
       "      <td>511</td>\n",
       "      <td>511</td>\n",
       "      <td>255</td>\n",
       "      <td>255</td>\n",
       "      <td>2</td>\n",
       "    </tr>\n",
       "    <tr>\n",
       "      <th>1</th>\n",
       "      <td>cxcon_4</td>\n",
       "      <td>0</td>\n",
       "      <td>520</td>\n",
       "      <td>0</td>\n",
       "      <td>0.0</td>\n",
       "      <td>0.0</td>\n",
       "      <td>0.0</td>\n",
       "      <td>0.0</td>\n",
       "      <td>1.0</td>\n",
       "      <td>0.0</td>\n",
       "      <td>...</td>\n",
       "      <td>0</td>\n",
       "      <td>0</td>\n",
       "      <td>0</td>\n",
       "      <td>0</td>\n",
       "      <td>0</td>\n",
       "      <td>511</td>\n",
       "      <td>511</td>\n",
       "      <td>255</td>\n",
       "      <td>255</td>\n",
       "      <td>0</td>\n",
       "    </tr>\n",
       "    <tr>\n",
       "      <th>2</th>\n",
       "      <td>cxcon_7</td>\n",
       "      <td>0</td>\n",
       "      <td>1032</td>\n",
       "      <td>0</td>\n",
       "      <td>0.0</td>\n",
       "      <td>0.0</td>\n",
       "      <td>0.0</td>\n",
       "      <td>0.0</td>\n",
       "      <td>1.0</td>\n",
       "      <td>0.0</td>\n",
       "      <td>...</td>\n",
       "      <td>0</td>\n",
       "      <td>0</td>\n",
       "      <td>0</td>\n",
       "      <td>0</td>\n",
       "      <td>0</td>\n",
       "      <td>511</td>\n",
       "      <td>511</td>\n",
       "      <td>255</td>\n",
       "      <td>255</td>\n",
       "      <td>0</td>\n",
       "    </tr>\n",
       "    <tr>\n",
       "      <th>3</th>\n",
       "      <td>cxcon_10</td>\n",
       "      <td>0</td>\n",
       "      <td>1032</td>\n",
       "      <td>0</td>\n",
       "      <td>0.0</td>\n",
       "      <td>0.0</td>\n",
       "      <td>0.0</td>\n",
       "      <td>0.0</td>\n",
       "      <td>1.0</td>\n",
       "      <td>0.0</td>\n",
       "      <td>...</td>\n",
       "      <td>0</td>\n",
       "      <td>0</td>\n",
       "      <td>0</td>\n",
       "      <td>0</td>\n",
       "      <td>0</td>\n",
       "      <td>511</td>\n",
       "      <td>511</td>\n",
       "      <td>255</td>\n",
       "      <td>255</td>\n",
       "      <td>0</td>\n",
       "    </tr>\n",
       "    <tr>\n",
       "      <th>4</th>\n",
       "      <td>cxcon_13</td>\n",
       "      <td>0</td>\n",
       "      <td>1032</td>\n",
       "      <td>0</td>\n",
       "      <td>0.0</td>\n",
       "      <td>0.0</td>\n",
       "      <td>0.0</td>\n",
       "      <td>0.0</td>\n",
       "      <td>1.0</td>\n",
       "      <td>0.0</td>\n",
       "      <td>...</td>\n",
       "      <td>0</td>\n",
       "      <td>0</td>\n",
       "      <td>0</td>\n",
       "      <td>0</td>\n",
       "      <td>0</td>\n",
       "      <td>511</td>\n",
       "      <td>511</td>\n",
       "      <td>255</td>\n",
       "      <td>255</td>\n",
       "      <td>2</td>\n",
       "    </tr>\n",
       "  </tbody>\n",
       "</table>\n",
       "<p>5 rows × 43 columns</p>\n",
       "</div>"
      ],
      "text/plain": [
       "  connection_id  cont_1  cont_2  cont_3  cont_4  cont_5  cont_6  cont_7  \\\n",
       "0       cxcon_1       0    1032       0     0.0     0.0     0.0     0.0   \n",
       "1       cxcon_4       0     520       0     0.0     0.0     0.0     0.0   \n",
       "2       cxcon_7       0    1032       0     0.0     0.0     0.0     0.0   \n",
       "3      cxcon_10       0    1032       0     0.0     0.0     0.0     0.0   \n",
       "4      cxcon_13       0    1032       0     0.0     0.0     0.0     0.0   \n",
       "\n",
       "   cont_8  cont_9   ...    cat_15  cat_16  cat_17  cat_18  cat_19  cat_20  \\\n",
       "0     1.0     0.0   ...         0       0       0       0       0     511   \n",
       "1     1.0     0.0   ...         0       0       0       0       0     511   \n",
       "2     1.0     0.0   ...         0       0       0       0       0     511   \n",
       "3     1.0     0.0   ...         0       0       0       0       0     511   \n",
       "4     1.0     0.0   ...         0       0       0       0       0     511   \n",
       "\n",
       "   cat_21  cat_22  cat_23  target  \n",
       "0     511     255     255       2  \n",
       "1     511     255     255       0  \n",
       "2     511     255     255       0  \n",
       "3     511     255     255       0  \n",
       "4     511     255     255       2  \n",
       "\n",
       "[5 rows x 43 columns]"
      ]
     },
     "execution_count": 3,
     "metadata": {},
     "output_type": "execute_result"
    }
   ],
   "source": [
    "train.head()"
   ]
  },
  {
   "cell_type": "code",
   "execution_count": 4,
   "metadata": {
    "collapsed": true
   },
   "outputs": [],
   "source": [
    "# Continuous variables\n",
    "cont_cols = ['cont_1','cont_2','cont_3','cont_4','cont_5','cont_6','cont_7','cont_8','cont_9','cont_10','cont_11','cont_12',\n",
    "            'cont_13','cont_14','cont_15','cont_16','cont_17','cont_18']\n",
    "\n",
    "# Categorical variables\n",
    "cat_cols = ['cat_1','cat_2','cat_3','cat_4','cat_5','cat_6','cat_7','cat_8','cat_9','cat_10','cat_11','cat_12','cat_13',\n",
    "           'cat_14','cat_15','cat_16', 'cat_18','cat_19','cat_20', 'cat_21', 'cat_22','cat_23']"
   ]
  },
  {
   "cell_type": "code",
   "execution_count": 5,
   "metadata": {
    "collapsed": true
   },
   "outputs": [],
   "source": [
    "scaler = MinMaxScaler()\n",
    "train[cont_cols] = scaler.fit_transform(train[cont_cols])\n",
    "test[cont_cols] = scaler.fit_transform(test[cont_cols])"
   ]
  },
  {
   "cell_type": "code",
   "execution_count": 6,
   "metadata": {
    "collapsed": true
   },
   "outputs": [],
   "source": [
    "cols_to_use = list(set(train.columns) - set(['connection_id', 'cat_17', 'target']))"
   ]
  },
  {
   "cell_type": "code",
   "execution_count": 7,
   "metadata": {
    "collapsed": true
   },
   "outputs": [],
   "source": [
    "def multAcc(pred, dtrain):\n",
    "    label = dtrain.get_label()\n",
    "    acc = accuracy_score(label, pred)\n",
    "    return 'maccuracy', acc"
   ]
  },
  {
   "cell_type": "code",
   "execution_count": 8,
   "metadata": {
    "collapsed": true
   },
   "outputs": [],
   "source": [
    "# One hot encoding the training data\n",
    "X = train[cols_to_use]\n",
    "y = train.target\n",
    "\n",
    "# One hot encoding the test dataset\n",
    "X_test = test[cols_to_use]"
   ]
  },
  {
   "cell_type": "code",
   "execution_count": 82,
   "metadata": {
    "collapsed": true
   },
   "outputs": [],
   "source": [
    "X_train, X_valid, y_train, y_valid = train_test_split(X, y, test_size = 0.30,random_state = 47)"
   ]
  },
  {
   "cell_type": "code",
   "execution_count": 83,
   "metadata": {
    "collapsed": true
   },
   "outputs": [],
   "source": [
    "# Creating training meta dataset\n",
    "X_train_meta = X_valid.copy()\n",
    "X_train_meta['M1'] = None\n",
    "X_train_meta['M2'] = None"
   ]
  },
  {
   "cell_type": "code",
   "execution_count": 84,
   "metadata": {
    "collapsed": true
   },
   "outputs": [],
   "source": [
    "X_test_meta = X_test.copy()\n",
    "X_test_meta['M1'] = None\n",
    "X_test_meta['M2'] = None"
   ]
  },
  {
   "cell_type": "markdown",
   "metadata": {},
   "source": [
    "#### Random Forest Classifier"
   ]
  },
  {
   "cell_type": "code",
   "execution_count": 16,
   "metadata": {},
   "outputs": [
    {
     "name": "stdout",
     "output_type": "stream",
     "text": [
      "Fitting 3 folds for each of 24 candidates, totalling 72 fits\n",
      "building tree 1 of 100\n"
     ]
    },
    {
     "name": "stderr",
     "output_type": "stream",
     "text": [
      "[Parallel(n_jobs=1)]: Done   1 tasks       | elapsed:    0.1s\n"
     ]
    },
    {
     "name": "stdout",
     "output_type": "stream",
     "text": [
      "building tree 2 of 100\n",
      "building tree 3 of 100\n",
      "building tree 1 of 100\n",
      "building tree 4 of 100\n",
      "building tree 1 of 100\n"
     ]
    },
    {
     "name": "stderr",
     "output_type": "stream",
     "text": [
      "[Parallel(n_jobs=1)]: Done   4 tasks       | elapsed:    0.5s\n"
     ]
    },
    {
     "name": "stdout",
     "output_type": "stream",
     "text": [
      "building tree 5 of 100\n"
     ]
    },
    {
     "name": "stderr",
     "output_type": "stream",
     "text": [
      "[Parallel(n_jobs=1)]: Done   1 tasks       | elapsed:    0.1s\n"
     ]
    },
    {
     "name": "stdout",
     "output_type": "stream",
     "text": [
      "building tree 2 of 100\n"
     ]
    },
    {
     "name": "stderr",
     "output_type": "stream",
     "text": [
      "[Parallel(n_jobs=1)]: Done   1 tasks       | elapsed:    0.2s\n"
     ]
    },
    {
     "name": "stdout",
     "output_type": "stream",
     "text": [
      "building tree 6 of 100\n",
      "building tree 3 of 100\n",
      "building tree 2 of 100\n",
      "building tree 7 of 100\n",
      "building tree 3 of 100\n",
      "building tree 4 of 100\n",
      "building tree 4 of 100\n"
     ]
    },
    {
     "name": "stderr",
     "output_type": "stream",
     "text": [
      "[Parallel(n_jobs=1)]: Done   4 tasks       | elapsed:    0.6s\n"
     ]
    },
    {
     "name": "stdout",
     "output_type": "stream",
     "text": [
      "building tree 5 of 100\n"
     ]
    },
    {
     "name": "stderr",
     "output_type": "stream",
     "text": [
      "[Parallel(n_jobs=1)]: Done   7 tasks       | elapsed:    0.9s\n"
     ]
    },
    {
     "name": "stdout",
     "output_type": "stream",
     "text": [
      "building tree 8 of 100\n"
     ]
    },
    {
     "name": "stderr",
     "output_type": "stream",
     "text": [
      "[Parallel(n_jobs=1)]: Done   4 tasks       | elapsed:    0.6s\n"
     ]
    },
    {
     "name": "stdout",
     "output_type": "stream",
     "text": [
      "building tree 5 of 100\n",
      "building tree 9 of 100\n",
      "building tree 6 of 100\n",
      "building tree 7 of 100\n",
      "building tree 10 of 100\n",
      "building tree 6 of 100\n"
     ]
    },
    {
     "name": "stderr",
     "output_type": "stream",
     "text": [
      "[Parallel(n_jobs=1)]: Done   7 tasks       | elapsed:    1.0s\n"
     ]
    },
    {
     "name": "stdout",
     "output_type": "stream",
     "text": [
      "building tree 8 of 100\n",
      "building tree 7 of 100\n",
      "building tree 11 of 100\n",
      "building tree 9 of 100\n"
     ]
    },
    {
     "name": "stderr",
     "output_type": "stream",
     "text": [
      "[Parallel(n_jobs=1)]: Done   7 tasks       | elapsed:    1.1s\n"
     ]
    },
    {
     "name": "stdout",
     "output_type": "stream",
     "text": [
      "building tree 8 of 100\n",
      "building tree 12 of 100\n",
      "building tree 9 of 100\n",
      "building tree 10 of 100\n"
     ]
    },
    {
     "name": "stderr",
     "output_type": "stream",
     "text": [
      "[Parallel(n_jobs=1)]: Done  12 tasks       | elapsed:    1.7s\n"
     ]
    },
    {
     "name": "stdout",
     "output_type": "stream",
     "text": [
      "building tree 13 of 100\n",
      "building tree 10 of 100\n",
      "building tree 11 of 100\n",
      "building tree 14 of 100\n",
      "building tree 11 of 100\n",
      "building tree 15 of 100\n",
      "building tree 12 of 100\n",
      "building tree 12 of 100\n",
      "building tree 16 of 100\n"
     ]
    },
    {
     "name": "stderr",
     "output_type": "stream",
     "text": [
      "[Parallel(n_jobs=1)]: Done  12 tasks       | elapsed:    1.8s\n"
     ]
    },
    {
     "name": "stdout",
     "output_type": "stream",
     "text": [
      "building tree 13 of 100\n"
     ]
    },
    {
     "name": "stderr",
     "output_type": "stream",
     "text": [
      "[Parallel(n_jobs=1)]: Done  12 tasks       | elapsed:    1.8s\n"
     ]
    },
    {
     "name": "stdout",
     "output_type": "stream",
     "text": [
      "building tree 13 of 100\n",
      "building tree 17 of 100\n",
      "building tree 14 of 100\n"
     ]
    },
    {
     "name": "stderr",
     "output_type": "stream",
     "text": [
      "[Parallel(n_jobs=1)]: Done  17 tasks       | elapsed:    2.4s\n"
     ]
    },
    {
     "name": "stdout",
     "output_type": "stream",
     "text": [
      "building tree 18 of 100\n",
      "building tree 14 of 100\n",
      "building tree 15 of 100\n",
      "building tree 19 of 100\n",
      "building tree 15 of 100\n",
      "building tree 16 of 100\n",
      "building tree 20 of 100\n",
      "building tree 16 of 100\n",
      "building tree 17 of 100\n",
      "building tree 21 of 100\n",
      "building tree 17 of 100\n"
     ]
    },
    {
     "name": "stderr",
     "output_type": "stream",
     "text": [
      "[Parallel(n_jobs=1)]: Done  17 tasks       | elapsed:    2.6s\n"
     ]
    },
    {
     "name": "stdout",
     "output_type": "stream",
     "text": [
      "building tree 22 of 100\n",
      "building tree 18 of 100\n"
     ]
    },
    {
     "name": "stderr",
     "output_type": "stream",
     "text": [
      "[Parallel(n_jobs=1)]: Done  17 tasks       | elapsed:    2.6s\n"
     ]
    },
    {
     "name": "stdout",
     "output_type": "stream",
     "text": [
      "building tree 23 of 100\n",
      "building tree 18 of 100\n",
      "building tree 19 of 100\n",
      "building tree 24 of 100\n",
      "building tree 19 of 100\n",
      "building tree 20 of 100\n",
      "building tree 20 of 100\n"
     ]
    },
    {
     "name": "stderr",
     "output_type": "stream",
     "text": [
      "[Parallel(n_jobs=1)]: Done  24 tasks       | elapsed:    3.4s\n"
     ]
    },
    {
     "name": "stdout",
     "output_type": "stream",
     "text": [
      "building tree 25 of 100\n",
      "building tree 21 of 100\n",
      "building tree 21 of 100\n",
      "building tree 26 of 100\n",
      "building tree 22 of 100\n",
      "building tree 22 of 100\n",
      "building tree 27 of 100\n",
      "building tree 23 of 100\n",
      "building tree 28 of 100\n",
      "building tree 23 of 100\n",
      "building tree 29 of 100\n",
      "building tree 24 of 100\n",
      "building tree 30 of 100\n",
      "building tree 24 of 100\n"
     ]
    },
    {
     "name": "stderr",
     "output_type": "stream",
     "text": [
      "[Parallel(n_jobs=1)]: Done  24 tasks       | elapsed:    3.7s\n"
     ]
    },
    {
     "name": "stdout",
     "output_type": "stream",
     "text": [
      "building tree 25 of 100\n",
      "building tree 31 of 100\n"
     ]
    },
    {
     "name": "stderr",
     "output_type": "stream",
     "text": [
      "[Parallel(n_jobs=1)]: Done  24 tasks       | elapsed:    3.7s\n"
     ]
    },
    {
     "name": "stdout",
     "output_type": "stream",
     "text": [
      "building tree 25 of 100\n",
      "building tree 26 of 100\n"
     ]
    },
    {
     "name": "stderr",
     "output_type": "stream",
     "text": [
      "[Parallel(n_jobs=1)]: Done  31 tasks       | elapsed:    4.2s\n"
     ]
    },
    {
     "name": "stdout",
     "output_type": "stream",
     "text": [
      "building tree 32 of 100\n",
      "building tree 26 of 100\n",
      "building tree 27 of 100\n",
      "building tree 33 of 100\n",
      "building tree 27 of 100\n",
      "building tree 34 of 100\n",
      "building tree 28 of 100\n",
      "building tree 35 of 100\n",
      "building tree 28 of 100\n",
      "building tree 29 of 100\n",
      "building tree 36 of 100\n",
      "building tree 29 of 100\n",
      "building tree 30 of 100\n",
      "building tree 37 of 100\n",
      "building tree 38 of 100\n",
      "building tree 30 of 100\n",
      "building tree 31 of 100\n",
      "building tree 39 of 100\n",
      "building tree 31 of 100\n"
     ]
    },
    {
     "name": "stderr",
     "output_type": "stream",
     "text": [
      "[Parallel(n_jobs=1)]: Done  31 tasks       | elapsed:    4.6s\n"
     ]
    },
    {
     "name": "stdout",
     "output_type": "stream",
     "text": [
      "building tree 32 of 100\n"
     ]
    },
    {
     "name": "stderr",
     "output_type": "stream",
     "text": [
      "[Parallel(n_jobs=1)]: Done  31 tasks       | elapsed:    4.6s\n"
     ]
    },
    {
     "name": "stdout",
     "output_type": "stream",
     "text": [
      "building tree 32 of 100\n",
      "building tree 40 of 100\n",
      "building tree 33 of 100\n",
      "building tree 34 of 100\n",
      "building tree 33 of 100\n"
     ]
    },
    {
     "name": "stderr",
     "output_type": "stream",
     "text": [
      "[Parallel(n_jobs=1)]: Done  40 tasks       | elapsed:    5.2s\n"
     ]
    },
    {
     "name": "stdout",
     "output_type": "stream",
     "text": [
      "building tree 41 of 100\n",
      "building tree 35 of 100\n",
      "building tree 34 of 100\n",
      "building tree 42 of 100\n",
      "building tree 43 of 100\n",
      "building tree 36 of 100\n",
      "building tree 35 of 100\n",
      "building tree 37 of 100\n",
      "building tree 44 of 100\n",
      "building tree 36 of 100\n",
      "building tree 45 of 100\n",
      "building tree 38 of 100\n",
      "building tree 37 of 100\n",
      "building tree 46 of 100\n",
      "building tree 39 of 100\n",
      "building tree 47 of 100\n",
      "building tree 38 of 100\n",
      "building tree 40 of 100\n",
      "building tree 48 of 100\n",
      "building tree 39 of 100\n"
     ]
    },
    {
     "name": "stderr",
     "output_type": "stream",
     "text": [
      "[Parallel(n_jobs=1)]: Done  40 tasks       | elapsed:    5.8s\n"
     ]
    },
    {
     "name": "stdout",
     "output_type": "stream",
     "text": [
      "building tree 41 of 100\n",
      "building tree 49 of 100\n",
      "building tree 40 of 100\n",
      "building tree 42 of 100\n"
     ]
    },
    {
     "name": "stderr",
     "output_type": "stream",
     "text": [
      "[Parallel(n_jobs=1)]: Done  49 tasks       | elapsed:    6.3s\n"
     ]
    },
    {
     "name": "stdout",
     "output_type": "stream",
     "text": [
      "building tree 50 of 100\n",
      "building tree 43 of 100\n"
     ]
    },
    {
     "name": "stderr",
     "output_type": "stream",
     "text": [
      "[Parallel(n_jobs=1)]: Done  40 tasks       | elapsed:    6.0s\n"
     ]
    },
    {
     "name": "stdout",
     "output_type": "stream",
     "text": [
      "building tree 51 of 100\n",
      "building tree 41 of 100\n",
      "building tree 44 of 100\n",
      "building tree 42 of 100\n",
      "building tree 52 of 100\n",
      "building tree 45 of 100\n",
      "building tree 43 of 100\n",
      "building tree 53 of 100\n",
      "building tree 46 of 100\n",
      "building tree 44 of 100\n",
      "building tree 54 of 100\n",
      "building tree 45 of 100\n",
      "building tree 47 of 100\n",
      "building tree 55 of 100\n",
      "building tree 48 of 100\n",
      "building tree 46 of 100\n",
      "building tree 56 of 100\n",
      "building tree 47 of 100\n",
      "building tree 49 of 100\n",
      "building tree 57 of 100\n"
     ]
    },
    {
     "name": "stderr",
     "output_type": "stream",
     "text": [
      "[Parallel(n_jobs=1)]: Done  49 tasks       | elapsed:    7.1s\n"
     ]
    },
    {
     "name": "stdout",
     "output_type": "stream",
     "text": [
      "building tree 50 of 100\n",
      "building tree 48 of 100\n",
      "building tree 58 of 100\n",
      "building tree 51 of 100\n",
      "building tree 59 of 100\n",
      "building tree 49 of 100\n",
      "building tree 60 of 100\n",
      "building tree 52 of 100\n"
     ]
    },
    {
     "name": "stderr",
     "output_type": "stream",
     "text": [
      "[Parallel(n_jobs=1)]: Done  49 tasks       | elapsed:    7.3s\n"
     ]
    },
    {
     "name": "stdout",
     "output_type": "stream",
     "text": [
      "building tree 50 of 100\n",
      "building tree 53 of 100\n"
     ]
    },
    {
     "name": "stderr",
     "output_type": "stream",
     "text": [
      "[Parallel(n_jobs=1)]: Done  60 tasks       | elapsed:    7.9s\n"
     ]
    },
    {
     "name": "stdout",
     "output_type": "stream",
     "text": [
      "building tree 61 of 100\n",
      "building tree 51 of 100\n",
      "building tree 62 of 100\n",
      "building tree 54 of 100\n",
      "building tree 52 of 100\n",
      "building tree 63 of 100\n",
      "building tree 55 of 100\n",
      "building tree 53 of 100\n",
      "building tree 54 of 100\n",
      "building tree 64 of 100\n",
      "building tree 56 of 100\n",
      "building tree 55 of 100\n",
      "building tree 65 of 100\n",
      "building tree 57 of 100\n",
      "building tree 56 of 100\n",
      "building tree 58 of 100\n",
      "building tree 66 of 100\n",
      "building tree 57 of 100\n",
      "building tree 59 of 100\n",
      "building tree 67 of 100\n",
      "building tree 60 of 100\n",
      "building tree 58 of 100\n",
      "building tree 68 of 100\n"
     ]
    },
    {
     "name": "stderr",
     "output_type": "stream",
     "text": [
      "[Parallel(n_jobs=1)]: Done  60 tasks       | elapsed:    8.6s\n"
     ]
    },
    {
     "name": "stdout",
     "output_type": "stream",
     "text": [
      "building tree 59 of 100\n",
      "building tree 61 of 100\n",
      "building tree 69 of 100\n",
      "building tree 62 of 100\n",
      "building tree 60 of 100\n",
      "building tree 70 of 100\n",
      "building tree 63 of 100\n",
      "building tree 71 of 100\n"
     ]
    },
    {
     "name": "stderr",
     "output_type": "stream",
     "text": [
      "[Parallel(n_jobs=1)]: Done  60 tasks       | elapsed:    8.8s\n"
     ]
    },
    {
     "name": "stdout",
     "output_type": "stream",
     "text": [
      "building tree 61 of 100\n",
      "building tree 64 of 100\n"
     ]
    },
    {
     "name": "stderr",
     "output_type": "stream",
     "text": [
      "[Parallel(n_jobs=1)]: Done  71 tasks       | elapsed:    9.4s\n"
     ]
    },
    {
     "name": "stdout",
     "output_type": "stream",
     "text": [
      "building tree 72 of 100\n",
      "building tree 65 of 100\n",
      "building tree 62 of 100\n",
      "building tree 73 of 100\n",
      "building tree 63 of 100\n",
      "building tree 66 of 100\n",
      "building tree 74 of 100\n",
      "building tree 64 of 100\n",
      "building tree 67 of 100\n",
      "building tree 75 of 100\n",
      "building tree 65 of 100\n",
      "building tree 68 of 100\n",
      "building tree 66 of 100\n",
      "building tree 76 of 100\n",
      "building tree 69 of 100\n",
      "building tree 67 of 100\n",
      "building tree 77 of 100\n",
      "building tree 70 of 100\n",
      "building tree 68 of 100\n",
      "building tree 78 of 100\n",
      "building tree 69 of 100\n",
      "building tree 71 of 100\n"
     ]
    },
    {
     "name": "stderr",
     "output_type": "stream",
     "text": [
      "[Parallel(n_jobs=1)]: Done  71 tasks       | elapsed:   10.0s\n"
     ]
    },
    {
     "name": "stdout",
     "output_type": "stream",
     "text": [
      "building tree 79 of 100\n",
      "building tree 72 of 100\n",
      "building tree 70 of 100\n",
      "building tree 80 of 100\n",
      "building tree 73 of 100\n",
      "building tree 71 of 100\n",
      "building tree 81 of 100\n",
      "building tree 74 of 100\n"
     ]
    },
    {
     "name": "stderr",
     "output_type": "stream",
     "text": [
      "[Parallel(n_jobs=1)]: Done  71 tasks       | elapsed:   10.2s\n"
     ]
    },
    {
     "name": "stdout",
     "output_type": "stream",
     "text": [
      "building tree 72 of 100\n",
      "building tree 82 of 100\n",
      "building tree 75 of 100\n",
      "building tree 73 of 100\n",
      "building tree 83 of 100\n",
      "building tree 76 of 100\n",
      "building tree 74 of 100\n",
      "building tree 84 of 100\n",
      "building tree 77 of 100\n",
      "building tree 75 of 100\n"
     ]
    },
    {
     "name": "stderr",
     "output_type": "stream",
     "text": [
      "[Parallel(n_jobs=1)]: Done  84 tasks       | elapsed:   11.2s\n"
     ]
    },
    {
     "name": "stdout",
     "output_type": "stream",
     "text": [
      "building tree 85 of 100\n",
      "building tree 76 of 100\n",
      "building tree 78 of 100\n",
      "building tree 86 of 100\n",
      "building tree 77 of 100\n",
      "building tree 79 of 100\n",
      "building tree 80 of 100\n",
      "building tree 78 of 100\n",
      "building tree 87 of 100\n",
      "building tree 81 of 100\n",
      "building tree 79 of 100\n",
      "building tree 88 of 100\n",
      "building tree 82 of 100\n",
      "building tree 80 of 100\n",
      "building tree 89 of 100\n",
      "building tree 83 of 100\n",
      "building tree 84 of 100\n",
      "building tree 81 of 100\n",
      "building tree 90 of 100\n"
     ]
    },
    {
     "name": "stderr",
     "output_type": "stream",
     "text": [
      "[Parallel(n_jobs=1)]: Done  84 tasks       | elapsed:   11.7s\n"
     ]
    },
    {
     "name": "stdout",
     "output_type": "stream",
     "text": [
      "building tree 85 of 100\n",
      "building tree 82 of 100\n",
      "building tree 91 of 100\n",
      "building tree 86 of 100\n",
      "building tree 92 of 100\n",
      "building tree 83 of 100\n",
      "building tree 87 of 100\n",
      "building tree 93 of 100\n",
      "building tree 84 of 100\n",
      "building tree 88 of 100\n",
      "building tree 94 of 100\n"
     ]
    },
    {
     "name": "stderr",
     "output_type": "stream",
     "text": [
      "[Parallel(n_jobs=1)]: Done  84 tasks       | elapsed:   12.1s\n"
     ]
    },
    {
     "name": "stdout",
     "output_type": "stream",
     "text": [
      "building tree 85 of 100\n",
      "building tree 89 of 100\n",
      "building tree 95 of 100\n",
      "building tree 86 of 100\n",
      "building tree 90 of 100\n",
      "building tree 96 of 100\n",
      "building tree 87 of 100\n",
      "building tree 97 of 100\n",
      "building tree 91 of 100\n"
     ]
    },
    {
     "name": "stderr",
     "output_type": "stream",
     "text": [
      "[Parallel(n_jobs=1)]: Done  97 tasks       | elapsed:   12.9s\n"
     ]
    },
    {
     "name": "stdout",
     "output_type": "stream",
     "text": [
      "building tree 98 of 100\n",
      "building tree 88 of 100\n",
      "building tree 92 of 100\n",
      "building tree 99 of 100\n",
      "building tree 89 of 100\n",
      "building tree 93 of 100\n",
      "building tree 100 of 100\n",
      "building tree 90 of 100\n",
      "building tree 94 of 100\n"
     ]
    },
    {
     "name": "stderr",
     "output_type": "stream",
     "text": [
      "[Parallel(n_jobs=1)]: Done 100 out of 100 | elapsed:   13.3s finished\n"
     ]
    },
    {
     "name": "stdout",
     "output_type": "stream",
     "text": [
      "building tree 91 of 100\n"
     ]
    },
    {
     "name": "stderr",
     "output_type": "stream",
     "text": [
      "[Parallel(n_jobs=1)]: Done   1 tasks       | elapsed:    0.0s\n",
      "[Parallel(n_jobs=1)]: Done   4 tasks       | elapsed:    0.0s\n"
     ]
    },
    {
     "name": "stdout",
     "output_type": "stream",
     "text": [
      "building tree 95 of 100\n"
     ]
    },
    {
     "name": "stderr",
     "output_type": "stream",
     "text": [
      "[Parallel(n_jobs=1)]: Done   7 tasks       | elapsed:    0.1s\n"
     ]
    },
    {
     "name": "stdout",
     "output_type": "stream",
     "text": [
      "building tree 92 of 100\n"
     ]
    },
    {
     "name": "stderr",
     "output_type": "stream",
     "text": [
      "[Parallel(n_jobs=1)]: Done  12 tasks       | elapsed:    0.1s\n"
     ]
    },
    {
     "name": "stdout",
     "output_type": "stream",
     "text": [
      "building tree 96 of 100\n"
     ]
    },
    {
     "name": "stderr",
     "output_type": "stream",
     "text": [
      "[Parallel(n_jobs=1)]: Done  17 tasks       | elapsed:    0.2s\n",
      "[Parallel(n_jobs=1)]: Done  24 tasks       | elapsed:    0.2s\n"
     ]
    },
    {
     "name": "stdout",
     "output_type": "stream",
     "text": [
      "building tree 93 of 100\n"
     ]
    },
    {
     "name": "stderr",
     "output_type": "stream",
     "text": [
      "[Parallel(n_jobs=1)]: Done  31 tasks       | elapsed:    0.3s\n"
     ]
    },
    {
     "name": "stdout",
     "output_type": "stream",
     "text": [
      "building tree 97 of 100\n"
     ]
    },
    {
     "name": "stderr",
     "output_type": "stream",
     "text": [
      "[Parallel(n_jobs=1)]: Done  40 tasks       | elapsed:    0.4s\n"
     ]
    },
    {
     "name": "stdout",
     "output_type": "stream",
     "text": [
      "building tree 94 of 100\n"
     ]
    },
    {
     "name": "stderr",
     "output_type": "stream",
     "text": [
      "[Parallel(n_jobs=1)]: Done  49 tasks       | elapsed:    0.5s\n",
      "[Parallel(n_jobs=1)]: Done  97 tasks       | elapsed:   13.5s\n"
     ]
    },
    {
     "name": "stdout",
     "output_type": "stream",
     "text": [
      "building tree 98 of 100\n",
      "building tree 95 of 100\n"
     ]
    },
    {
     "name": "stderr",
     "output_type": "stream",
     "text": [
      "[Parallel(n_jobs=1)]: Done  60 tasks       | elapsed:    0.6s\n"
     ]
    },
    {
     "name": "stdout",
     "output_type": "stream",
     "text": [
      "building tree 96 of 100\n",
      "building tree 99 of 100\n"
     ]
    },
    {
     "name": "stderr",
     "output_type": "stream",
     "text": [
      "[Parallel(n_jobs=1)]: Done  71 tasks       | elapsed:    0.7s\n"
     ]
    },
    {
     "name": "stdout",
     "output_type": "stream",
     "text": [
      "building tree 100 of 100\n",
      "building tree 97 of 100\n"
     ]
    },
    {
     "name": "stderr",
     "output_type": "stream",
     "text": [
      "[Parallel(n_jobs=1)]: Done  84 tasks       | elapsed:    0.9s\n",
      "[Parallel(n_jobs=1)]: Done 100 out of 100 | elapsed:   14.0s finished\n",
      "[Parallel(n_jobs=1)]: Done   1 tasks       | elapsed:    0.0s\n",
      "[Parallel(n_jobs=1)]: Done  97 tasks       | elapsed:   13.9s\n"
     ]
    },
    {
     "name": "stdout",
     "output_type": "stream",
     "text": [
      "building tree 98 of 100\n"
     ]
    },
    {
     "name": "stderr",
     "output_type": "stream",
     "text": [
      "[Parallel(n_jobs=1)]: Done   4 tasks       | elapsed:    0.0s\n",
      "[Parallel(n_jobs=1)]: Done   7 tasks       | elapsed:    0.1s\n",
      "[Parallel(n_jobs=1)]: Done  97 tasks       | elapsed:    1.0s\n",
      "[Parallel(n_jobs=1)]: Done  12 tasks       | elapsed:    0.1s\n",
      "[Parallel(n_jobs=1)]: Done 100 out of 100 | elapsed:    1.1s finished\n",
      "[Parallel(n_jobs=1)]: Done  17 tasks       | elapsed:    0.2s\n"
     ]
    },
    {
     "name": "stdout",
     "output_type": "stream",
     "text": [
      "building tree 99 of 100\n"
     ]
    },
    {
     "name": "stderr",
     "output_type": "stream",
     "text": [
      "[Parallel(n_jobs=1)]: Done  24 tasks       | elapsed:    0.3s\n"
     ]
    },
    {
     "name": "stdout",
     "output_type": "stream",
     "text": [
      "building tree 100 of 100\n"
     ]
    },
    {
     "name": "stderr",
     "output_type": "stream",
     "text": [
      "[Parallel(n_jobs=1)]: Done  31 tasks       | elapsed:    0.4s\n",
      "[Parallel(n_jobs=1)]: Done  40 tasks       | elapsed:    0.5s\n",
      "[Parallel(n_jobs=1)]: Done 100 out of 100 | elapsed:   14.4s finished\n",
      "[Parallel(n_jobs=1)]: Done  49 tasks       | elapsed:    0.6s\n",
      "[Parallel(n_jobs=1)]: Done   1 tasks       | elapsed:    0.0s\n",
      "[Parallel(n_jobs=1)]: Done   4 tasks       | elapsed:    0.0s\n"
     ]
    },
    {
     "name": "stdout",
     "output_type": "stream",
     "text": [
      "building tree 1 of 100\n"
     ]
    },
    {
     "name": "stderr",
     "output_type": "stream",
     "text": [
      "[Parallel(n_jobs=1)]: Done   7 tasks       | elapsed:    0.1s\n",
      "[Parallel(n_jobs=1)]: Done  60 tasks       | elapsed:    0.7s\n",
      "[Parallel(n_jobs=1)]: Done  12 tasks       | elapsed:    0.2s\n",
      "[Parallel(n_jobs=1)]: Done   1 tasks       | elapsed:    0.1s\n"
     ]
    },
    {
     "name": "stdout",
     "output_type": "stream",
     "text": [
      "building tree 2 of 100\n"
     ]
    },
    {
     "name": "stderr",
     "output_type": "stream",
     "text": [
      "[Parallel(n_jobs=1)]: Done  17 tasks       | elapsed:    0.2s\n",
      "[Parallel(n_jobs=1)]: Done  71 tasks       | elapsed:    0.8s\n",
      "[Parallel(n_jobs=1)]: Done  24 tasks       | elapsed:    0.3s\n"
     ]
    },
    {
     "name": "stdout",
     "output_type": "stream",
     "text": [
      "building tree 3 of 100\n"
     ]
    },
    {
     "name": "stderr",
     "output_type": "stream",
     "text": [
      "[Parallel(n_jobs=1)]: Done  31 tasks       | elapsed:    0.4s\n",
      "[Parallel(n_jobs=1)]: Done  84 tasks       | elapsed:    1.0s\n"
     ]
    },
    {
     "name": "stdout",
     "output_type": "stream",
     "text": [
      "building tree 4 of 100\n"
     ]
    },
    {
     "name": "stderr",
     "output_type": "stream",
     "text": [
      "[Parallel(n_jobs=1)]: Done  40 tasks       | elapsed:    0.5s\n",
      "[Parallel(n_jobs=1)]: Done   4 tasks       | elapsed:    0.5s\n"
     ]
    },
    {
     "name": "stdout",
     "output_type": "stream",
     "text": [
      "building tree 5 of 100\n"
     ]
    },
    {
     "name": "stderr",
     "output_type": "stream",
     "text": [
      "[Parallel(n_jobs=1)]: Done  97 tasks       | elapsed:    1.1s\n",
      "[Parallel(n_jobs=1)]: Done  49 tasks       | elapsed:    0.6s\n",
      "[Parallel(n_jobs=1)]: Done 100 out of 100 | elapsed:    1.2s finished\n"
     ]
    },
    {
     "name": "stdout",
     "output_type": "stream",
     "text": [
      "building tree 6 of 100\n"
     ]
    },
    {
     "name": "stderr",
     "output_type": "stream",
     "text": [
      "[Parallel(n_jobs=1)]: Done  60 tasks       | elapsed:    0.8s\n"
     ]
    },
    {
     "name": "stdout",
     "output_type": "stream",
     "text": [
      "building tree 7 of 100\n"
     ]
    },
    {
     "name": "stderr",
     "output_type": "stream",
     "text": [
      "[Parallel(n_jobs=1)]: Done  71 tasks       | elapsed:    0.9s\n",
      "[Parallel(n_jobs=1)]: Done   7 tasks       | elapsed:    0.9s\n"
     ]
    },
    {
     "name": "stdout",
     "output_type": "stream",
     "text": [
      "building tree 8 of 100\n"
     ]
    },
    {
     "name": "stderr",
     "output_type": "stream",
     "text": [
      "[Parallel(n_jobs=1)]: Done  84 tasks       | elapsed:    1.0s\n"
     ]
    },
    {
     "name": "stdout",
     "output_type": "stream",
     "text": [
      "building tree 1 of 100\n",
      "building tree 9 of 100\n"
     ]
    },
    {
     "name": "stderr",
     "output_type": "stream",
     "text": [
      "[Parallel(n_jobs=1)]: Done  97 tasks       | elapsed:    1.1s\n",
      "[Parallel(n_jobs=1)]: Done 100 out of 100 | elapsed:    1.1s finished\n",
      "[Parallel(n_jobs=1)]: Done   1 tasks       | elapsed:    0.1s\n"
     ]
    },
    {
     "name": "stdout",
     "output_type": "stream",
     "text": [
      "building tree 2 of 100\n",
      "building tree 10 of 100\n",
      "building tree 3 of 100\n",
      "building tree 11 of 100\n",
      "building tree 4 of 100\n",
      "building tree 12 of 100\n"
     ]
    },
    {
     "name": "stderr",
     "output_type": "stream",
     "text": [
      "[Parallel(n_jobs=1)]: Done   4 tasks       | elapsed:    0.5s\n"
     ]
    },
    {
     "name": "stdout",
     "output_type": "stream",
     "text": [
      "building tree 5 of 100\n"
     ]
    },
    {
     "name": "stderr",
     "output_type": "stream",
     "text": [
      "[Parallel(n_jobs=1)]: Done  12 tasks       | elapsed:    1.5s\n"
     ]
    },
    {
     "name": "stdout",
     "output_type": "stream",
     "text": [
      "building tree 13 of 100\n",
      "building tree 6 of 100\n",
      "building tree 1 of 100\n",
      "building tree 7 of 100\n",
      "building tree 14 of 100\n"
     ]
    },
    {
     "name": "stderr",
     "output_type": "stream",
     "text": [
      "[Parallel(n_jobs=1)]: Done   1 tasks       | elapsed:    0.1s\n"
     ]
    },
    {
     "name": "stdout",
     "output_type": "stream",
     "text": [
      "building tree 2 of 100\n",
      "building tree 3 of 100\n",
      "building tree 15 of 100\n"
     ]
    },
    {
     "name": "stderr",
     "output_type": "stream",
     "text": [
      "[Parallel(n_jobs=1)]: Done   7 tasks       | elapsed:    0.8s\n"
     ]
    },
    {
     "name": "stdout",
     "output_type": "stream",
     "text": [
      "building tree 8 of 100\n",
      "building tree 16 of 100\n",
      "building tree 4 of 100\n",
      "building tree 9 of 100\n"
     ]
    },
    {
     "name": "stderr",
     "output_type": "stream",
     "text": [
      "[Parallel(n_jobs=1)]: Done   4 tasks       | elapsed:    0.4s\n"
     ]
    },
    {
     "name": "stdout",
     "output_type": "stream",
     "text": [
      "building tree 5 of 100\n",
      "building tree 10 of 100\n",
      "building tree 17 of 100\n",
      "building tree 6 of 100\n",
      "building tree 11 of 100\n"
     ]
    },
    {
     "name": "stderr",
     "output_type": "stream",
     "text": [
      "[Parallel(n_jobs=1)]: Done  17 tasks       | elapsed:    2.2s\n"
     ]
    },
    {
     "name": "stdout",
     "output_type": "stream",
     "text": [
      "building tree 18 of 100\n",
      "building tree 7 of 100\n",
      "building tree 12 of 100\n"
     ]
    },
    {
     "name": "stderr",
     "output_type": "stream",
     "text": [
      "[Parallel(n_jobs=1)]: Done   7 tasks       | elapsed:    0.8s\n"
     ]
    },
    {
     "name": "stdout",
     "output_type": "stream",
     "text": [
      "building tree 8 of 100\n",
      "building tree 19 of 100\n"
     ]
    },
    {
     "name": "stderr",
     "output_type": "stream",
     "text": [
      "[Parallel(n_jobs=1)]: Done  12 tasks       | elapsed:    1.4s\n"
     ]
    },
    {
     "name": "stdout",
     "output_type": "stream",
     "text": [
      "building tree 13 of 100\n",
      "building tree 9 of 100\n",
      "building tree 20 of 100\n",
      "building tree 10 of 100\n",
      "building tree 14 of 100\n",
      "building tree 21 of 100\n",
      "building tree 11 of 100\n",
      "building tree 15 of 100\n",
      "building tree 22 of 100\n",
      "building tree 16 of 100\n",
      "building tree 12 of 100\n",
      "building tree 23 of 100\n",
      "building tree 17 of 100\n"
     ]
    },
    {
     "name": "stderr",
     "output_type": "stream",
     "text": [
      "[Parallel(n_jobs=1)]: Done  12 tasks       | elapsed:    1.4s\n"
     ]
    },
    {
     "name": "stdout",
     "output_type": "stream",
     "text": [
      "building tree 13 of 100\n"
     ]
    },
    {
     "name": "stderr",
     "output_type": "stream",
     "text": [
      "[Parallel(n_jobs=1)]: Done  17 tasks       | elapsed:    2.1s\n"
     ]
    },
    {
     "name": "stdout",
     "output_type": "stream",
     "text": [
      "building tree 18 of 100\n",
      "building tree 24 of 100\n",
      "building tree 14 of 100\n",
      "building tree 19 of 100\n"
     ]
    },
    {
     "name": "stderr",
     "output_type": "stream",
     "text": [
      "[Parallel(n_jobs=1)]: Done  24 tasks       | elapsed:    3.3s\n"
     ]
    },
    {
     "name": "stdout",
     "output_type": "stream",
     "text": [
      "building tree 25 of 100\n",
      "building tree 15 of 100\n",
      "building tree 20 of 100\n",
      "building tree 26 of 100\n",
      "building tree 16 of 100\n",
      "building tree 21 of 100\n",
      "building tree 27 of 100\n",
      "building tree 17 of 100\n",
      "building tree 28 of 100\n",
      "building tree 22 of 100\n",
      "building tree 23 of 100\n"
     ]
    },
    {
     "name": "stderr",
     "output_type": "stream",
     "text": [
      "[Parallel(n_jobs=1)]: Done  17 tasks       | elapsed:    2.2s\n"
     ]
    },
    {
     "name": "stdout",
     "output_type": "stream",
     "text": [
      "building tree 29 of 100\n",
      "building tree 18 of 100\n",
      "building tree 24 of 100\n",
      "building tree 19 of 100\n",
      "building tree 30 of 100\n"
     ]
    },
    {
     "name": "stderr",
     "output_type": "stream",
     "text": [
      "[Parallel(n_jobs=1)]: Done  24 tasks       | elapsed:    2.9s\n"
     ]
    },
    {
     "name": "stdout",
     "output_type": "stream",
     "text": [
      "building tree 25 of 100\n",
      "building tree 20 of 100\n",
      "building tree 31 of 100\n",
      "building tree 26 of 100\n",
      "building tree 21 of 100\n",
      "building tree 27 of 100\n"
     ]
    },
    {
     "name": "stderr",
     "output_type": "stream",
     "text": [
      "[Parallel(n_jobs=1)]: Done  31 tasks       | elapsed:    4.2s\n"
     ]
    },
    {
     "name": "stdout",
     "output_type": "stream",
     "text": [
      "building tree 32 of 100\n",
      "building tree 33 of 100\n",
      "building tree 22 of 100\n",
      "building tree 28 of 100\n",
      "building tree 34 of 100\n",
      "building tree 29 of 100\n",
      "building tree 23 of 100\n",
      "building tree 35 of 100\n",
      "building tree 30 of 100\n",
      "building tree 36 of 100\n",
      "building tree 24 of 100\n",
      "building tree 31 of 100\n"
     ]
    },
    {
     "name": "stderr",
     "output_type": "stream",
     "text": [
      "[Parallel(n_jobs=1)]: Done  24 tasks       | elapsed:    3.1s\n"
     ]
    },
    {
     "name": "stdout",
     "output_type": "stream",
     "text": [
      "building tree 25 of 100\n",
      "building tree 37 of 100\n"
     ]
    },
    {
     "name": "stderr",
     "output_type": "stream",
     "text": [
      "[Parallel(n_jobs=1)]: Done  31 tasks       | elapsed:    3.8s\n"
     ]
    },
    {
     "name": "stdout",
     "output_type": "stream",
     "text": [
      "building tree 32 of 100\n",
      "building tree 26 of 100\n",
      "building tree 38 of 100\n",
      "building tree 33 of 100\n",
      "building tree 39 of 100\n",
      "building tree 27 of 100\n",
      "building tree 34 of 100\n",
      "building tree 40 of 100\n",
      "building tree 35 of 100\n",
      "building tree 28 of 100\n",
      "building tree 36 of 100\n"
     ]
    },
    {
     "name": "stderr",
     "output_type": "stream",
     "text": [
      "[Parallel(n_jobs=1)]: Done  40 tasks       | elapsed:    5.3s\n"
     ]
    },
    {
     "name": "stdout",
     "output_type": "stream",
     "text": [
      "building tree 41 of 100\n",
      "building tree 29 of 100\n",
      "building tree 42 of 100\n",
      "building tree 37 of 100\n",
      "building tree 30 of 100\n",
      "building tree 43 of 100\n",
      "building tree 38 of 100\n",
      "building tree 31 of 100\n",
      "building tree 44 of 100\n",
      "building tree 39 of 100\n"
     ]
    },
    {
     "name": "stderr",
     "output_type": "stream",
     "text": [
      "[Parallel(n_jobs=1)]: Done  31 tasks       | elapsed:    4.1s\n"
     ]
    },
    {
     "name": "stdout",
     "output_type": "stream",
     "text": [
      "building tree 32 of 100\n",
      "building tree 45 of 100\n",
      "building tree 40 of 100\n",
      "building tree 33 of 100\n",
      "building tree 46 of 100\n"
     ]
    },
    {
     "name": "stderr",
     "output_type": "stream",
     "text": [
      "[Parallel(n_jobs=1)]: Done  40 tasks       | elapsed:    5.0s\n"
     ]
    },
    {
     "name": "stdout",
     "output_type": "stream",
     "text": [
      "building tree 41 of 100\n",
      "building tree 34 of 100\n",
      "building tree 42 of 100\n",
      "building tree 47 of 100\n",
      "building tree 43 of 100\n",
      "building tree 35 of 100\n",
      "building tree 48 of 100\n",
      "building tree 44 of 100\n",
      "building tree 36 of 100\n",
      "building tree 45 of 100\n",
      "building tree 49 of 100\n",
      "building tree 37 of 100\n",
      "building tree 46 of 100\n"
     ]
    },
    {
     "name": "stderr",
     "output_type": "stream",
     "text": [
      "[Parallel(n_jobs=1)]: Done  49 tasks       | elapsed:    6.6s\n"
     ]
    },
    {
     "name": "stdout",
     "output_type": "stream",
     "text": [
      "building tree 50 of 100\n",
      "building tree 38 of 100\n",
      "building tree 51 of 100\n",
      "building tree 47 of 100\n",
      "building tree 39 of 100\n",
      "building tree 40 of 100\n",
      "building tree 48 of 100\n",
      "building tree 52 of 100\n",
      "building tree 53 of 100\n"
     ]
    },
    {
     "name": "stderr",
     "output_type": "stream",
     "text": [
      "[Parallel(n_jobs=1)]: Done  40 tasks       | elapsed:    5.4s\n"
     ]
    },
    {
     "name": "stdout",
     "output_type": "stream",
     "text": [
      "building tree 41 of 100\n",
      "building tree 49 of 100\n",
      "building tree 54 of 100\n",
      "building tree 42 of 100\n"
     ]
    },
    {
     "name": "stderr",
     "output_type": "stream",
     "text": [
      "[Parallel(n_jobs=1)]: Done  49 tasks       | elapsed:    6.2s\n"
     ]
    },
    {
     "name": "stdout",
     "output_type": "stream",
     "text": [
      "building tree 50 of 100\n",
      "building tree 55 of 100\n",
      "building tree 43 of 100\n",
      "building tree 51 of 100\n",
      "building tree 44 of 100\n",
      "building tree 56 of 100\n",
      "building tree 52 of 100\n",
      "building tree 45 of 100\n",
      "building tree 57 of 100\n",
      "building tree 53 of 100\n",
      "building tree 46 of 100\n",
      "building tree 58 of 100\n",
      "building tree 47 of 100\n",
      "building tree 54 of 100\n",
      "building tree 59 of 100\n",
      "building tree 48 of 100\n",
      "building tree 55 of 100\n",
      "building tree 60 of 100\n",
      "building tree 49 of 100\n",
      "building tree 56 of 100\n"
     ]
    },
    {
     "name": "stderr",
     "output_type": "stream",
     "text": [
      "[Parallel(n_jobs=1)]: Done  60 tasks       | elapsed:    8.0s\n"
     ]
    },
    {
     "name": "stdout",
     "output_type": "stream",
     "text": [
      "building tree 61 of 100\n"
     ]
    },
    {
     "name": "stderr",
     "output_type": "stream",
     "text": [
      "[Parallel(n_jobs=1)]: Done  49 tasks       | elapsed:    6.4s\n"
     ]
    },
    {
     "name": "stdout",
     "output_type": "stream",
     "text": [
      "building tree 50 of 100\n",
      "building tree 57 of 100\n",
      "building tree 62 of 100\n",
      "building tree 51 of 100\n",
      "building tree 58 of 100\n",
      "building tree 52 of 100\n",
      "building tree 63 of 100\n",
      "building tree 59 of 100\n",
      "building tree 53 of 100\n",
      "building tree 64 of 100\n",
      "building tree 54 of 100\n",
      "building tree 60 of 100\n",
      "building tree 65 of 100\n",
      "building tree 55 of 100\n"
     ]
    },
    {
     "name": "stderr",
     "output_type": "stream",
     "text": [
      "[Parallel(n_jobs=1)]: Done  60 tasks       | elapsed:    7.6s\n"
     ]
    },
    {
     "name": "stdout",
     "output_type": "stream",
     "text": [
      "building tree 61 of 100\n",
      "building tree 66 of 100\n",
      "building tree 56 of 100\n",
      "building tree 62 of 100\n",
      "building tree 67 of 100\n",
      "building tree 57 of 100\n",
      "building tree 68 of 100\n",
      "building tree 63 of 100\n",
      "building tree 58 of 100\n",
      "building tree 69 of 100\n",
      "building tree 64 of 100\n",
      "building tree 59 of 100\n",
      "building tree 70 of 100\n",
      "building tree 65 of 100\n",
      "building tree 60 of 100\n",
      "building tree 71 of 100\n",
      "building tree 66 of 100\n"
     ]
    },
    {
     "name": "stderr",
     "output_type": "stream",
     "text": [
      "[Parallel(n_jobs=1)]: Done  60 tasks       | elapsed:    7.6s\n"
     ]
    },
    {
     "name": "stdout",
     "output_type": "stream",
     "text": [
      "building tree 61 of 100\n"
     ]
    },
    {
     "name": "stderr",
     "output_type": "stream",
     "text": [
      "[Parallel(n_jobs=1)]: Done  71 tasks       | elapsed:    9.3s\n"
     ]
    },
    {
     "name": "stdout",
     "output_type": "stream",
     "text": [
      "building tree 72 of 100\n",
      "building tree 62 of 100\n",
      "building tree 67 of 100\n",
      "building tree 73 of 100\n",
      "building tree 68 of 100\n",
      "building tree 63 of 100\n",
      "building tree 74 of 100\n",
      "building tree 69 of 100\n",
      "building tree 64 of 100\n",
      "building tree 65 of 100\n",
      "building tree 75 of 100\n",
      "building tree 70 of 100\n",
      "building tree 76 of 100\n",
      "building tree 71 of 100\n",
      "building tree 66 of 100\n",
      "building tree 77 of 100\n"
     ]
    },
    {
     "name": "stderr",
     "output_type": "stream",
     "text": [
      "[Parallel(n_jobs=1)]: Done  71 tasks       | elapsed:    9.0s\n"
     ]
    },
    {
     "name": "stdout",
     "output_type": "stream",
     "text": [
      "building tree 72 of 100\n",
      "building tree 67 of 100\n",
      "building tree 78 of 100\n",
      "building tree 73 of 100\n",
      "building tree 68 of 100\n",
      "building tree 79 of 100\n",
      "building tree 69 of 100\n",
      "building tree 80 of 100\n",
      "building tree 74 of 100\n",
      "building tree 81 of 100\n",
      "building tree 70 of 100\n",
      "building tree 75 of 100\n",
      "building tree 82 of 100\n",
      "building tree 71 of 100\n",
      "building tree 76 of 100\n",
      "building tree 83 of 100\n"
     ]
    },
    {
     "name": "stderr",
     "output_type": "stream",
     "text": [
      "[Parallel(n_jobs=1)]: Done  71 tasks       | elapsed:    9.1s\n"
     ]
    },
    {
     "name": "stdout",
     "output_type": "stream",
     "text": [
      "building tree 72 of 100\n",
      "building tree 77 of 100\n",
      "building tree 84 of 100\n",
      "building tree 78 of 100\n",
      "building tree 73 of 100\n",
      "building tree 79 of 100\n",
      "building tree 74 of 100\n"
     ]
    },
    {
     "name": "stderr",
     "output_type": "stream",
     "text": [
      "[Parallel(n_jobs=1)]: Done  84 tasks       | elapsed:   11.0s\n"
     ]
    },
    {
     "name": "stdout",
     "output_type": "stream",
     "text": [
      "building tree 85 of 100\n",
      "building tree 75 of 100\n",
      "building tree 86 of 100\n",
      "building tree 80 of 100\n",
      "building tree 76 of 100\n",
      "building tree 87 of 100\n",
      "building tree 81 of 100\n",
      "building tree 88 of 100\n",
      "building tree 77 of 100\n",
      "building tree 82 of 100\n",
      "building tree 78 of 100\n",
      "building tree 83 of 100\n",
      "building tree 89 of 100\n",
      "building tree 84 of 100\n",
      "building tree 90 of 100\n",
      "building tree 79 of 100\n"
     ]
    },
    {
     "name": "stderr",
     "output_type": "stream",
     "text": [
      "[Parallel(n_jobs=1)]: Done  84 tasks       | elapsed:   10.8s\n"
     ]
    },
    {
     "name": "stdout",
     "output_type": "stream",
     "text": [
      "building tree 85 of 100\n",
      "building tree 91 of 100\n",
      "building tree 80 of 100\n",
      "building tree 86 of 100\n",
      "building tree 92 of 100\n",
      "building tree 87 of 100\n",
      "building tree 81 of 100\n",
      "building tree 82 of 100\n",
      "building tree 88 of 100\n",
      "building tree 93 of 100\n",
      "building tree 83 of 100\n",
      "building tree 89 of 100\n",
      "building tree 84 of 100\n",
      "building tree 94 of 100\n",
      "building tree 90 of 100\n"
     ]
    },
    {
     "name": "stderr",
     "output_type": "stream",
     "text": [
      "[Parallel(n_jobs=1)]: Done  84 tasks       | elapsed:   10.8s\n"
     ]
    },
    {
     "name": "stdout",
     "output_type": "stream",
     "text": [
      "building tree 85 of 100\n",
      "building tree 95 of 100\n",
      "building tree 91 of 100\n",
      "building tree 86 of 100\n",
      "building tree 92 of 100\n",
      "building tree 96 of 100\n",
      "building tree 87 of 100\n",
      "building tree 88 of 100\n",
      "building tree 93 of 100\n",
      "building tree 97 of 100\n",
      "building tree 89 of 100\n",
      "building tree 94 of 100\n",
      "building tree 90 of 100\n"
     ]
    },
    {
     "name": "stderr",
     "output_type": "stream",
     "text": [
      "[Parallel(n_jobs=1)]: Done  97 tasks       | elapsed:   12.9s\n"
     ]
    },
    {
     "name": "stdout",
     "output_type": "stream",
     "text": [
      "building tree 98 of 100\n",
      "building tree 95 of 100\n",
      "building tree 91 of 100\n",
      "building tree 99 of 100\n",
      "building tree 96 of 100\n",
      "building tree 97 of 100\n",
      "building tree 92 of 100\n",
      "building tree 100 of 100\n"
     ]
    },
    {
     "name": "stderr",
     "output_type": "stream",
     "text": [
      "[Parallel(n_jobs=1)]: Done  97 tasks       | elapsed:   12.2s\n"
     ]
    },
    {
     "name": "stdout",
     "output_type": "stream",
     "text": [
      "building tree 98 of 100\n",
      "building tree 93 of 100\n"
     ]
    },
    {
     "name": "stderr",
     "output_type": "stream",
     "text": [
      "[Parallel(n_jobs=1)]: Done 100 out of 100 | elapsed:   13.3s finished\n"
     ]
    },
    {
     "name": "stdout",
     "output_type": "stream",
     "text": [
      "building tree 94 of 100\n",
      "building tree 99 of 100\n"
     ]
    },
    {
     "name": "stderr",
     "output_type": "stream",
     "text": [
      "[Parallel(n_jobs=1)]: Done   1 tasks       | elapsed:    0.0s\n",
      "[Parallel(n_jobs=1)]: Done   4 tasks       | elapsed:    0.0s\n",
      "[Parallel(n_jobs=1)]: Done   7 tasks       | elapsed:    0.1s\n"
     ]
    },
    {
     "name": "stdout",
     "output_type": "stream",
     "text": [
      "building tree 95 of 100\n"
     ]
    },
    {
     "name": "stderr",
     "output_type": "stream",
     "text": [
      "[Parallel(n_jobs=1)]: Done  12 tasks       | elapsed:    0.1s\n"
     ]
    },
    {
     "name": "stdout",
     "output_type": "stream",
     "text": [
      "building tree 100 of 100\n"
     ]
    },
    {
     "name": "stderr",
     "output_type": "stream",
     "text": [
      "[Parallel(n_jobs=1)]: Done  17 tasks       | elapsed:    0.2s\n"
     ]
    },
    {
     "name": "stdout",
     "output_type": "stream",
     "text": [
      "building tree 96 of 100\n"
     ]
    },
    {
     "name": "stderr",
     "output_type": "stream",
     "text": [
      "[Parallel(n_jobs=1)]: Done  24 tasks       | elapsed:    0.2s\n",
      "[Parallel(n_jobs=1)]: Done 100 out of 100 | elapsed:   12.6s finished\n"
     ]
    },
    {
     "name": "stdout",
     "output_type": "stream",
     "text": [
      "building tree 97 of 100\n"
     ]
    },
    {
     "name": "stderr",
     "output_type": "stream",
     "text": [
      "[Parallel(n_jobs=1)]: Done  31 tasks       | elapsed:    0.3s\n",
      "[Parallel(n_jobs=1)]: Done   1 tasks       | elapsed:    0.0s\n",
      "[Parallel(n_jobs=1)]: Done   4 tasks       | elapsed:    0.0s\n",
      "[Parallel(n_jobs=1)]: Done   7 tasks       | elapsed:    0.1s\n",
      "[Parallel(n_jobs=1)]: Done  97 tasks       | elapsed:   12.2s\n"
     ]
    },
    {
     "name": "stdout",
     "output_type": "stream",
     "text": [
      "building tree 98 of 100\n"
     ]
    },
    {
     "name": "stderr",
     "output_type": "stream",
     "text": [
      "[Parallel(n_jobs=1)]: Done  12 tasks       | elapsed:    0.1s\n",
      "[Parallel(n_jobs=1)]: Done  40 tasks       | elapsed:    0.4s\n",
      "[Parallel(n_jobs=1)]: Done  17 tasks       | elapsed:    0.2s\n",
      "[Parallel(n_jobs=1)]: Done  49 tasks       | elapsed:    0.5s\n"
     ]
    },
    {
     "name": "stdout",
     "output_type": "stream",
     "text": [
      "building tree 99 of 100\n"
     ]
    },
    {
     "name": "stderr",
     "output_type": "stream",
     "text": [
      "[Parallel(n_jobs=1)]: Done  24 tasks       | elapsed:    0.2s\n",
      "[Parallel(n_jobs=1)]: Done  31 tasks       | elapsed:    0.3s\n",
      "[Parallel(n_jobs=1)]: Done  60 tasks       | elapsed:    0.6s\n"
     ]
    },
    {
     "name": "stdout",
     "output_type": "stream",
     "text": [
      "building tree 100 of 100\n"
     ]
    },
    {
     "name": "stderr",
     "output_type": "stream",
     "text": [
      "[Parallel(n_jobs=1)]: Done  40 tasks       | elapsed:    0.4s\n",
      "[Parallel(n_jobs=1)]: Done  71 tasks       | elapsed:    0.8s\n",
      "[Parallel(n_jobs=1)]: Done 100 out of 100 | elapsed:   12.6s finished\n",
      "[Parallel(n_jobs=1)]: Done   1 tasks       | elapsed:    0.0s\n",
      "[Parallel(n_jobs=1)]: Done  49 tasks       | elapsed:    0.5s\n",
      "[Parallel(n_jobs=1)]: Done   4 tasks       | elapsed:    0.0s\n",
      "[Parallel(n_jobs=1)]: Done   7 tasks       | elapsed:    0.1s\n",
      "[Parallel(n_jobs=1)]: Done  84 tasks       | elapsed:    0.9s\n",
      "[Parallel(n_jobs=1)]: Done  12 tasks       | elapsed:    0.1s\n",
      "[Parallel(n_jobs=1)]: Done  60 tasks       | elapsed:    0.7s\n",
      "[Parallel(n_jobs=1)]: Done  17 tasks       | elapsed:    0.2s\n",
      "[Parallel(n_jobs=1)]: Done  71 tasks       | elapsed:    0.7s\n",
      "[Parallel(n_jobs=1)]: Done  97 tasks       | elapsed:    1.1s\n",
      "[Parallel(n_jobs=1)]: Done  24 tasks       | elapsed:    0.2s\n",
      "[Parallel(n_jobs=1)]: Done 100 out of 100 | elapsed:    1.1s finished\n",
      "[Parallel(n_jobs=1)]: Done  31 tasks       | elapsed:    0.3s\n",
      "[Parallel(n_jobs=1)]: Done  84 tasks       | elapsed:    0.9s\n",
      "[Parallel(n_jobs=1)]: Done  40 tasks       | elapsed:    0.4s\n",
      "[Parallel(n_jobs=1)]: Done  97 tasks       | elapsed:    1.0s\n",
      "[Parallel(n_jobs=1)]: Done 100 out of 100 | elapsed:    1.0s finished\n",
      "[Parallel(n_jobs=1)]: Done  49 tasks       | elapsed:    0.5s\n",
      "[Parallel(n_jobs=1)]: Done  60 tasks       | elapsed:    0.6s\n",
      "[Parallel(n_jobs=1)]: Done  71 tasks       | elapsed:    0.7s\n"
     ]
    },
    {
     "name": "stdout",
     "output_type": "stream",
     "text": [
      "building tree 1 of 100\n"
     ]
    },
    {
     "name": "stderr",
     "output_type": "stream",
     "text": [
      "[Parallel(n_jobs=1)]: Done  84 tasks       | elapsed:    0.8s\n",
      "[Parallel(n_jobs=1)]: Done   1 tasks       | elapsed:    0.1s\n"
     ]
    },
    {
     "name": "stdout",
     "output_type": "stream",
     "text": [
      "building tree 2 of 100\n",
      "building tree 3 of 100\n",
      "building tree 1 of 100\n"
     ]
    },
    {
     "name": "stderr",
     "output_type": "stream",
     "text": [
      "[Parallel(n_jobs=1)]: Done  97 tasks       | elapsed:    1.0s\n",
      "[Parallel(n_jobs=1)]: Done 100 out of 100 | elapsed:    1.0s finished\n"
     ]
    },
    {
     "name": "stdout",
     "output_type": "stream",
     "text": [
      "building tree 4 of 100\n"
     ]
    },
    {
     "name": "stderr",
     "output_type": "stream",
     "text": [
      "[Parallel(n_jobs=1)]: Done   1 tasks       | elapsed:    0.1s\n"
     ]
    },
    {
     "name": "stdout",
     "output_type": "stream",
     "text": [
      "building tree 2 of 100\n",
      "building tree 3 of 100\n"
     ]
    },
    {
     "name": "stderr",
     "output_type": "stream",
     "text": [
      "[Parallel(n_jobs=1)]: Done   4 tasks       | elapsed:    0.5s\n"
     ]
    },
    {
     "name": "stdout",
     "output_type": "stream",
     "text": [
      "building tree 5 of 100\n",
      "building tree 6 of 100\n",
      "building tree 4 of 100\n",
      "building tree 1 of 100\n"
     ]
    },
    {
     "name": "stderr",
     "output_type": "stream",
     "text": [
      "[Parallel(n_jobs=1)]: Done   4 tasks       | elapsed:    0.6s\n"
     ]
    },
    {
     "name": "stdout",
     "output_type": "stream",
     "text": [
      "building tree 5 of 100\n",
      "building tree 7 of 100\n"
     ]
    },
    {
     "name": "stderr",
     "output_type": "stream",
     "text": [
      "[Parallel(n_jobs=1)]: Done   1 tasks       | elapsed:    0.1s\n"
     ]
    },
    {
     "name": "stdout",
     "output_type": "stream",
     "text": [
      "building tree 2 of 100\n",
      "building tree 6 of 100\n",
      "building tree 3 of 100\n"
     ]
    },
    {
     "name": "stderr",
     "output_type": "stream",
     "text": [
      "[Parallel(n_jobs=1)]: Done   7 tasks       | elapsed:    1.0s\n"
     ]
    },
    {
     "name": "stdout",
     "output_type": "stream",
     "text": [
      "building tree 8 of 100\n",
      "building tree 7 of 100\n",
      "building tree 9 of 100\n",
      "building tree 4 of 100\n"
     ]
    },
    {
     "name": "stderr",
     "output_type": "stream",
     "text": [
      "[Parallel(n_jobs=1)]: Done   7 tasks       | elapsed:    0.9s\n"
     ]
    },
    {
     "name": "stdout",
     "output_type": "stream",
     "text": [
      "building tree 8 of 100\n",
      "building tree 9 of 100\n",
      "building tree 10 of 100\n"
     ]
    },
    {
     "name": "stderr",
     "output_type": "stream",
     "text": [
      "[Parallel(n_jobs=1)]: Done   4 tasks       | elapsed:    0.5s\n"
     ]
    },
    {
     "name": "stdout",
     "output_type": "stream",
     "text": [
      "building tree 5 of 100\n",
      "building tree 10 of 100\n",
      "building tree 6 of 100\n",
      "building tree 11 of 100\n",
      "building tree 7 of 100\n",
      "building tree 11 of 100\n",
      "building tree 12 of 100\n"
     ]
    },
    {
     "name": "stderr",
     "output_type": "stream",
     "text": [
      "[Parallel(n_jobs=1)]: Done   7 tasks       | elapsed:    0.8s\n"
     ]
    },
    {
     "name": "stdout",
     "output_type": "stream",
     "text": [
      "building tree 8 of 100\n",
      "building tree 12 of 100\n",
      "building tree 9 of 100\n"
     ]
    },
    {
     "name": "stderr",
     "output_type": "stream",
     "text": [
      "[Parallel(n_jobs=1)]: Done  12 tasks       | elapsed:    1.7s\n"
     ]
    },
    {
     "name": "stdout",
     "output_type": "stream",
     "text": [
      "building tree 13 of 100\n"
     ]
    },
    {
     "name": "stderr",
     "output_type": "stream",
     "text": [
      "[Parallel(n_jobs=1)]: Done  12 tasks       | elapsed:    1.6s\n"
     ]
    },
    {
     "name": "stdout",
     "output_type": "stream",
     "text": [
      "building tree 13 of 100\n",
      "building tree 10 of 100\n",
      "building tree 14 of 100\n",
      "building tree 11 of 100\n",
      "building tree 15 of 100\n",
      "building tree 14 of 100\n",
      "building tree 12 of 100\n",
      "building tree 16 of 100\n",
      "building tree 15 of 100\n"
     ]
    },
    {
     "name": "stderr",
     "output_type": "stream",
     "text": [
      "[Parallel(n_jobs=1)]: Done  12 tasks       | elapsed:    1.4s\n"
     ]
    },
    {
     "name": "stdout",
     "output_type": "stream",
     "text": [
      "building tree 13 of 100\n",
      "building tree 17 of 100\n",
      "building tree 16 of 100\n"
     ]
    },
    {
     "name": "stderr",
     "output_type": "stream",
     "text": [
      "[Parallel(n_jobs=1)]: Done  17 tasks       | elapsed:    2.3s\n"
     ]
    },
    {
     "name": "stdout",
     "output_type": "stream",
     "text": [
      "building tree 18 of 100\n",
      "building tree 14 of 100\n",
      "building tree 19 of 100\n",
      "building tree 15 of 100\n",
      "building tree 17 of 100\n",
      "building tree 20 of 100\n",
      "building tree 16 of 100\n",
      "building tree 21 of 100\n"
     ]
    },
    {
     "name": "stderr",
     "output_type": "stream",
     "text": [
      "[Parallel(n_jobs=1)]: Done  17 tasks       | elapsed:    2.4s\n"
     ]
    },
    {
     "name": "stdout",
     "output_type": "stream",
     "text": [
      "building tree 18 of 100\n",
      "building tree 17 of 100\n",
      "building tree 22 of 100\n"
     ]
    },
    {
     "name": "stderr",
     "output_type": "stream",
     "text": [
      "[Parallel(n_jobs=1)]: Done  17 tasks       | elapsed:    2.0s\n"
     ]
    },
    {
     "name": "stdout",
     "output_type": "stream",
     "text": [
      "building tree 18 of 100\n",
      "building tree 19 of 100\n",
      "building tree 19 of 100\n",
      "building tree 23 of 100\n",
      "building tree 20 of 100\n",
      "building tree 20 of 100\n",
      "building tree 24 of 100\n",
      "building tree 21 of 100\n",
      "building tree 21 of 100\n"
     ]
    },
    {
     "name": "stderr",
     "output_type": "stream",
     "text": [
      "[Parallel(n_jobs=1)]: Done  24 tasks       | elapsed:    3.1s\n"
     ]
    },
    {
     "name": "stdout",
     "output_type": "stream",
     "text": [
      "building tree 25 of 100\n",
      "building tree 22 of 100\n",
      "building tree 22 of 100\n",
      "building tree 26 of 100\n",
      "building tree 27 of 100\n",
      "building tree 23 of 100\n",
      "building tree 23 of 100\n",
      "building tree 28 of 100\n",
      "building tree 24 of 100\n",
      "building tree 24 of 100\n",
      "building tree 29 of 100\n"
     ]
    },
    {
     "name": "stderr",
     "output_type": "stream",
     "text": [
      "[Parallel(n_jobs=1)]: Done  24 tasks       | elapsed:    2.9s\n",
      "[Parallel(n_jobs=1)]: Done  24 tasks       | elapsed:    3.4s\n"
     ]
    },
    {
     "name": "stdout",
     "output_type": "stream",
     "text": [
      "building tree 25 of 100\n",
      "building tree 25 of 100\n",
      "building tree 30 of 100\n",
      "building tree 26 of 100\n",
      "building tree 31 of 100\n",
      "building tree 26 of 100\n",
      "building tree 27 of 100\n"
     ]
    },
    {
     "name": "stderr",
     "output_type": "stream",
     "text": [
      "[Parallel(n_jobs=1)]: Done  31 tasks       | elapsed:    3.9s\n"
     ]
    },
    {
     "name": "stdout",
     "output_type": "stream",
     "text": [
      "building tree 27 of 100\n",
      "building tree 32 of 100\n",
      "building tree 28 of 100\n",
      "building tree 33 of 100\n",
      "building tree 28 of 100\n",
      "building tree 29 of 100\n",
      "building tree 30 of 100\n",
      "building tree 29 of 100\n",
      "building tree 34 of 100\n",
      "building tree 35 of 100\n",
      "building tree 30 of 100\n",
      "building tree 31 of 100\n",
      "building tree 31 of 100\n",
      "building tree 36 of 100\n"
     ]
    },
    {
     "name": "stderr",
     "output_type": "stream",
     "text": [
      "[Parallel(n_jobs=1)]: Done  31 tasks       | elapsed:    3.7s\n"
     ]
    },
    {
     "name": "stdout",
     "output_type": "stream",
     "text": [
      "building tree 32 of 100\n"
     ]
    },
    {
     "name": "stderr",
     "output_type": "stream",
     "text": [
      "[Parallel(n_jobs=1)]: Done  31 tasks       | elapsed:    4.3s\n"
     ]
    },
    {
     "name": "stdout",
     "output_type": "stream",
     "text": [
      "building tree 32 of 100\n",
      "building tree 33 of 100\n",
      "building tree 37 of 100\n",
      "building tree 33 of 100\n",
      "building tree 34 of 100\n",
      "building tree 38 of 100\n",
      "building tree 35 of 100\n",
      "building tree 34 of 100\n",
      "building tree 39 of 100\n",
      "building tree 36 of 100\n",
      "building tree 35 of 100\n",
      "building tree 40 of 100\n",
      "building tree 37 of 100\n",
      "building tree 36 of 100\n"
     ]
    },
    {
     "name": "stderr",
     "output_type": "stream",
     "text": [
      "[Parallel(n_jobs=1)]: Done  40 tasks       | elapsed:    5.2s\n"
     ]
    },
    {
     "name": "stdout",
     "output_type": "stream",
     "text": [
      "building tree 41 of 100\n",
      "building tree 38 of 100\n",
      "building tree 39 of 100\n",
      "building tree 37 of 100\n",
      "building tree 42 of 100\n",
      "building tree 40 of 100\n",
      "building tree 43 of 100\n",
      "building tree 38 of 100\n"
     ]
    },
    {
     "name": "stderr",
     "output_type": "stream",
     "text": [
      "[Parallel(n_jobs=1)]: Done  40 tasks       | elapsed:    4.7s\n"
     ]
    },
    {
     "name": "stdout",
     "output_type": "stream",
     "text": [
      "building tree 41 of 100\n",
      "building tree 44 of 100\n",
      "building tree 39 of 100\n",
      "building tree 42 of 100\n",
      "building tree 40 of 100\n",
      "building tree 45 of 100\n",
      "building tree 43 of 100\n"
     ]
    },
    {
     "name": "stderr",
     "output_type": "stream",
     "text": [
      "[Parallel(n_jobs=1)]: Done  40 tasks       | elapsed:    5.6s\n"
     ]
    },
    {
     "name": "stdout",
     "output_type": "stream",
     "text": [
      "building tree 41 of 100\n",
      "building tree 46 of 100\n",
      "building tree 42 of 100\n",
      "building tree 44 of 100\n",
      "building tree 47 of 100\n",
      "building tree 43 of 100\n",
      "building tree 44 of 100\n",
      "building tree 45 of 100\n",
      "building tree 48 of 100\n",
      "building tree 49 of 100\n",
      "building tree 45 of 100\n",
      "building tree 46 of 100\n"
     ]
    },
    {
     "name": "stderr",
     "output_type": "stream",
     "text": [
      "[Parallel(n_jobs=1)]: Done  49 tasks       | elapsed:    6.3s\n"
     ]
    },
    {
     "name": "stdout",
     "output_type": "stream",
     "text": [
      "building tree 50 of 100\n",
      "building tree 46 of 100\n",
      "building tree 47 of 100\n",
      "building tree 51 of 100\n",
      "building tree 52 of 100\n",
      "building tree 47 of 100\n",
      "building tree 48 of 100\n",
      "building tree 49 of 100\n",
      "building tree 48 of 100\n",
      "building tree 53 of 100\n"
     ]
    },
    {
     "name": "stderr",
     "output_type": "stream",
     "text": [
      "[Parallel(n_jobs=1)]: Done  49 tasks       | elapsed:    5.9s\n"
     ]
    },
    {
     "name": "stdout",
     "output_type": "stream",
     "text": [
      "building tree 50 of 100\n",
      "building tree 49 of 100\n",
      "building tree 54 of 100\n"
     ]
    },
    {
     "name": "stderr",
     "output_type": "stream",
     "text": [
      "[Parallel(n_jobs=1)]: Done  49 tasks       | elapsed:    6.6s\n"
     ]
    },
    {
     "name": "stdout",
     "output_type": "stream",
     "text": [
      "building tree 50 of 100\n",
      "building tree 51 of 100\n",
      "building tree 55 of 100\n",
      "building tree 51 of 100\n",
      "building tree 56 of 100\n",
      "building tree 52 of 100\n",
      "building tree 52 of 100\n",
      "building tree 53 of 100\n",
      "building tree 57 of 100\n",
      "building tree 53 of 100\n",
      "building tree 54 of 100\n",
      "building tree 54 of 100\n",
      "building tree 58 of 100\n",
      "building tree 55 of 100\n",
      "building tree 55 of 100\n",
      "building tree 59 of 100\n",
      "building tree 56 of 100\n",
      "building tree 56 of 100\n",
      "building tree 60 of 100\n",
      "building tree 57 of 100\n",
      "building tree 57 of 100\n",
      "building tree 58 of 100\n"
     ]
    },
    {
     "name": "stderr",
     "output_type": "stream",
     "text": [
      "[Parallel(n_jobs=1)]: Done  60 tasks       | elapsed:    7.6s\n"
     ]
    },
    {
     "name": "stdout",
     "output_type": "stream",
     "text": [
      "building tree 58 of 100\n",
      "building tree 61 of 100\n",
      "building tree 59 of 100\n",
      "building tree 59 of 100\n",
      "building tree 60 of 100\n",
      "building tree 62 of 100\n",
      "building tree 60 of 100\n"
     ]
    },
    {
     "name": "stderr",
     "output_type": "stream",
     "text": [
      "[Parallel(n_jobs=1)]: Done  60 tasks       | elapsed:    7.7s\n"
     ]
    },
    {
     "name": "stdout",
     "output_type": "stream",
     "text": [
      "building tree 61 of 100\n",
      "building tree 63 of 100\n",
      "building tree 62 of 100\n"
     ]
    },
    {
     "name": "stderr",
     "output_type": "stream",
     "text": [
      "[Parallel(n_jobs=1)]: Done  60 tasks       | elapsed:    7.3s\n"
     ]
    },
    {
     "name": "stdout",
     "output_type": "stream",
     "text": [
      "building tree 61 of 100\n",
      "building tree 64 of 100\n",
      "building tree 63 of 100\n",
      "building tree 62 of 100\n",
      "building tree 65 of 100\n",
      "building tree 64 of 100\n",
      "building tree 63 of 100\n",
      "building tree 66 of 100\n",
      "building tree 65 of 100\n",
      "building tree 64 of 100\n",
      "building tree 67 of 100\n",
      "building tree 66 of 100\n",
      "building tree 67 of 100\n",
      "building tree 68 of 100\n",
      "building tree 65 of 100\n",
      "building tree 68 of 100\n",
      "building tree 69 of 100\n",
      "building tree 66 of 100\n",
      "building tree 69 of 100\n",
      "building tree 70 of 100\n",
      "building tree 67 of 100\n",
      "building tree 70 of 100\n",
      "building tree 71 of 100\n",
      "building tree 68 of 100\n",
      "building tree 71 of 100\n"
     ]
    },
    {
     "name": "stderr",
     "output_type": "stream",
     "text": [
      "[Parallel(n_jobs=1)]: Done  71 tasks       | elapsed:    9.0s\n"
     ]
    },
    {
     "name": "stdout",
     "output_type": "stream",
     "text": [
      "building tree 72 of 100\n",
      "building tree 69 of 100\n"
     ]
    },
    {
     "name": "stderr",
     "output_type": "stream",
     "text": [
      "[Parallel(n_jobs=1)]: Done  71 tasks       | elapsed:    8.9s\n"
     ]
    },
    {
     "name": "stdout",
     "output_type": "stream",
     "text": [
      "building tree 72 of 100\n",
      "building tree 73 of 100\n",
      "building tree 70 of 100\n",
      "building tree 73 of 100\n",
      "building tree 74 of 100\n",
      "building tree 71 of 100\n",
      "building tree 74 of 100\n",
      "building tree 75 of 100\n"
     ]
    },
    {
     "name": "stderr",
     "output_type": "stream",
     "text": [
      "[Parallel(n_jobs=1)]: Done  71 tasks       | elapsed:    8.7s\n"
     ]
    },
    {
     "name": "stdout",
     "output_type": "stream",
     "text": [
      "building tree 72 of 100\n",
      "building tree 76 of 100\n",
      "building tree 75 of 100\n",
      "building tree 73 of 100\n",
      "building tree 77 of 100\n",
      "building tree 74 of 100\n",
      "building tree 76 of 100\n",
      "building tree 78 of 100\n",
      "building tree 75 of 100\n",
      "building tree 79 of 100\n",
      "building tree 77 of 100\n",
      "building tree 76 of 100\n",
      "building tree 80 of 100\n",
      "building tree 78 of 100\n",
      "building tree 77 of 100\n",
      "building tree 79 of 100\n",
      "building tree 81 of 100\n",
      "building tree 82 of 100\n",
      "building tree 80 of 100\n",
      "building tree 78 of 100\n",
      "building tree 81 of 100\n",
      "building tree 79 of 100\n",
      "building tree 83 of 100\n",
      "building tree 82 of 100\n",
      "building tree 80 of 100\n",
      "building tree 84 of 100\n",
      "building tree 83 of 100\n",
      "building tree 81 of 100\n",
      "building tree 84 of 100\n"
     ]
    },
    {
     "name": "stderr",
     "output_type": "stream",
     "text": [
      "[Parallel(n_jobs=1)]: Done  84 tasks       | elapsed:   10.7s\n"
     ]
    },
    {
     "name": "stdout",
     "output_type": "stream",
     "text": [
      "building tree 85 of 100\n",
      "building tree 82 of 100\n"
     ]
    },
    {
     "name": "stderr",
     "output_type": "stream",
     "text": [
      "[Parallel(n_jobs=1)]: Done  84 tasks       | elapsed:   10.6s\n"
     ]
    },
    {
     "name": "stdout",
     "output_type": "stream",
     "text": [
      "building tree 85 of 100\n",
      "building tree 86 of 100\n",
      "building tree 83 of 100\n",
      "building tree 86 of 100\n",
      "building tree 87 of 100\n",
      "building tree 84 of 100\n",
      "building tree 87 of 100\n",
      "building tree 88 of 100\n",
      "building tree 88 of 100\n"
     ]
    },
    {
     "name": "stderr",
     "output_type": "stream",
     "text": [
      "[Parallel(n_jobs=1)]: Done  84 tasks       | elapsed:   10.5s\n"
     ]
    },
    {
     "name": "stdout",
     "output_type": "stream",
     "text": [
      "building tree 85 of 100\n",
      "building tree 89 of 100\n",
      "building tree 86 of 100\n",
      "building tree 89 of 100\n",
      "building tree 90 of 100\n",
      "building tree 87 of 100\n",
      "building tree 90 of 100\n",
      "building tree 91 of 100\n",
      "building tree 88 of 100\n",
      "building tree 91 of 100\n",
      "building tree 92 of 100\n",
      "building tree 92 of 100\n",
      "building tree 89 of 100\n",
      "building tree 93 of 100\n",
      "building tree 93 of 100\n",
      "building tree 90 of 100\n",
      "building tree 94 of 100\n",
      "building tree 94 of 100\n",
      "building tree 91 of 100\n",
      "building tree 95 of 100\n",
      "building tree 95 of 100\n",
      "building tree 92 of 100\n",
      "building tree 96 of 100\n",
      "building tree 96 of 100\n",
      "building tree 93 of 100\n",
      "building tree 97 of 100\n",
      "building tree 97 of 100\n",
      "building tree 94 of 100\n"
     ]
    },
    {
     "name": "stderr",
     "output_type": "stream",
     "text": [
      "[Parallel(n_jobs=1)]: Done  97 tasks       | elapsed:   12.4s\n"
     ]
    },
    {
     "name": "stdout",
     "output_type": "stream",
     "text": [
      "building tree 98 of 100\n"
     ]
    },
    {
     "name": "stderr",
     "output_type": "stream",
     "text": [
      "[Parallel(n_jobs=1)]: Done  97 tasks       | elapsed:   12.6s\n"
     ]
    },
    {
     "name": "stdout",
     "output_type": "stream",
     "text": [
      "building tree 98 of 100\n",
      "building tree 95 of 100\n",
      "building tree 99 of 100\n",
      "building tree 99 of 100\n",
      "building tree 96 of 100\n",
      "building tree 97 of 100\n",
      "building tree 100 of 100\n",
      "building tree 100 of 100\n"
     ]
    },
    {
     "name": "stderr",
     "output_type": "stream",
     "text": [
      "[Parallel(n_jobs=1)]: Done  97 tasks       | elapsed:   12.2s\n"
     ]
    },
    {
     "name": "stdout",
     "output_type": "stream",
     "text": [
      "building tree 98 of 100\n"
     ]
    },
    {
     "name": "stderr",
     "output_type": "stream",
     "text": [
      "[Parallel(n_jobs=1)]: Done 100 out of 100 | elapsed:   13.0s finished\n",
      "[Parallel(n_jobs=1)]: Done 100 out of 100 | elapsed:   12.9s finished\n",
      "[Parallel(n_jobs=1)]: Done   1 tasks       | elapsed:    0.0s\n",
      "[Parallel(n_jobs=1)]: Done   1 tasks       | elapsed:    0.0s\n",
      "[Parallel(n_jobs=1)]: Done   4 tasks       | elapsed:    0.1s\n",
      "[Parallel(n_jobs=1)]: Done   4 tasks       | elapsed:    0.0s\n",
      "[Parallel(n_jobs=1)]: Done   7 tasks       | elapsed:    0.1s\n",
      "[Parallel(n_jobs=1)]: Done   7 tasks       | elapsed:    0.1s\n"
     ]
    },
    {
     "name": "stdout",
     "output_type": "stream",
     "text": [
      "building tree 99 of 100\n"
     ]
    },
    {
     "name": "stderr",
     "output_type": "stream",
     "text": [
      "[Parallel(n_jobs=1)]: Done  12 tasks       | elapsed:    0.1s\n",
      "[Parallel(n_jobs=1)]: Done  12 tasks       | elapsed:    0.2s\n",
      "[Parallel(n_jobs=1)]: Done  17 tasks       | elapsed:    0.2s\n",
      "[Parallel(n_jobs=1)]: Done  17 tasks       | elapsed:    0.2s\n"
     ]
    },
    {
     "name": "stdout",
     "output_type": "stream",
     "text": [
      "building tree 100 of 100\n"
     ]
    },
    {
     "name": "stderr",
     "output_type": "stream",
     "text": [
      "[Parallel(n_jobs=1)]: Done  24 tasks       | elapsed:    0.3s\n",
      "[Parallel(n_jobs=1)]: Done  24 tasks       | elapsed:    0.3s\n",
      "[Parallel(n_jobs=1)]: Done 100 out of 100 | elapsed:   12.6s finished\n",
      "[Parallel(n_jobs=1)]: Done  31 tasks       | elapsed:    0.3s\n",
      "[Parallel(n_jobs=1)]: Done   1 tasks       | elapsed:    0.0s\n",
      "[Parallel(n_jobs=1)]: Done   4 tasks       | elapsed:    0.0s\n",
      "[Parallel(n_jobs=1)]: Done  31 tasks       | elapsed:    0.4s\n",
      "[Parallel(n_jobs=1)]: Done   7 tasks       | elapsed:    0.1s\n",
      "[Parallel(n_jobs=1)]: Done  40 tasks       | elapsed:    0.4s\n",
      "[Parallel(n_jobs=1)]: Done  12 tasks       | elapsed:    0.1s\n",
      "[Parallel(n_jobs=1)]: Done  40 tasks       | elapsed:    0.5s\n",
      "[Parallel(n_jobs=1)]: Done  17 tasks       | elapsed:    0.2s\n",
      "[Parallel(n_jobs=1)]: Done  49 tasks       | elapsed:    0.5s\n",
      "[Parallel(n_jobs=1)]: Done  49 tasks       | elapsed:    0.6s\n",
      "[Parallel(n_jobs=1)]: Done  24 tasks       | elapsed:    0.2s\n",
      "[Parallel(n_jobs=1)]: Done  60 tasks       | elapsed:    0.6s\n",
      "[Parallel(n_jobs=1)]: Done  31 tasks       | elapsed:    0.3s\n",
      "[Parallel(n_jobs=1)]: Done  60 tasks       | elapsed:    0.7s\n",
      "[Parallel(n_jobs=1)]: Done  71 tasks       | elapsed:    0.7s\n",
      "[Parallel(n_jobs=1)]: Done  40 tasks       | elapsed:    0.4s\n",
      "[Parallel(n_jobs=1)]: Done  84 tasks       | elapsed:    0.8s\n",
      "[Parallel(n_jobs=1)]: Done  71 tasks       | elapsed:    0.8s\n",
      "[Parallel(n_jobs=1)]: Done  49 tasks       | elapsed:    0.5s\n",
      "[Parallel(n_jobs=1)]: Done  97 tasks       | elapsed:    0.9s\n",
      "[Parallel(n_jobs=1)]: Done  84 tasks       | elapsed:    0.9s\n",
      "[Parallel(n_jobs=1)]: Done 100 out of 100 | elapsed:    0.9s finished\n",
      "[Parallel(n_jobs=1)]: Done  60 tasks       | elapsed:    0.6s\n",
      "[Parallel(n_jobs=1)]: Done  97 tasks       | elapsed:    1.0s\n",
      "[Parallel(n_jobs=1)]: Done  71 tasks       | elapsed:    0.7s\n",
      "[Parallel(n_jobs=1)]: Done 100 out of 100 | elapsed:    1.1s finished\n",
      "[Parallel(n_jobs=1)]: Done  84 tasks       | elapsed:    0.8s\n",
      "[Parallel(n_jobs=1)]: Done  97 tasks       | elapsed:    1.0s\n",
      "[Parallel(n_jobs=1)]: Done 100 out of 100 | elapsed:    1.0s finished\n"
     ]
    },
    {
     "name": "stdout",
     "output_type": "stream",
     "text": [
      "building tree 1 of 100\n"
     ]
    },
    {
     "name": "stderr",
     "output_type": "stream",
     "text": [
      "[Parallel(n_jobs=1)]: Done   1 tasks       | elapsed:    0.1s\n"
     ]
    },
    {
     "name": "stdout",
     "output_type": "stream",
     "text": [
      "building tree 2 of 100\n",
      "building tree 1 of 100\n",
      "building tree 3 of 100\n"
     ]
    },
    {
     "name": "stderr",
     "output_type": "stream",
     "text": [
      "[Parallel(n_jobs=1)]: Done   1 tasks       | elapsed:    0.1s\n"
     ]
    },
    {
     "name": "stdout",
     "output_type": "stream",
     "text": [
      "building tree 2 of 100\n",
      "building tree 1 of 100\n",
      "building tree 4 of 100\n",
      "building tree 3 of 100\n"
     ]
    },
    {
     "name": "stderr",
     "output_type": "stream",
     "text": [
      "[Parallel(n_jobs=1)]: Done   1 tasks       | elapsed:    0.1s\n"
     ]
    },
    {
     "name": "stdout",
     "output_type": "stream",
     "text": [
      "building tree 2 of 100\n",
      "building tree 4 of 100\n"
     ]
    },
    {
     "name": "stderr",
     "output_type": "stream",
     "text": [
      "[Parallel(n_jobs=1)]: Done   4 tasks       | elapsed:    0.5s\n"
     ]
    },
    {
     "name": "stdout",
     "output_type": "stream",
     "text": [
      "building tree 5 of 100\n",
      "building tree 3 of 100\n",
      "building tree 6 of 100\n"
     ]
    },
    {
     "name": "stderr",
     "output_type": "stream",
     "text": [
      "[Parallel(n_jobs=1)]: Done   4 tasks       | elapsed:    0.5s\n"
     ]
    },
    {
     "name": "stdout",
     "output_type": "stream",
     "text": [
      "building tree 5 of 100\n",
      "building tree 7 of 100\n",
      "building tree 6 of 100\n",
      "building tree 4 of 100\n"
     ]
    },
    {
     "name": "stderr",
     "output_type": "stream",
     "text": [
      "[Parallel(n_jobs=1)]: Done   7 tasks       | elapsed:    0.8s\n"
     ]
    },
    {
     "name": "stdout",
     "output_type": "stream",
     "text": [
      "building tree 8 of 100\n",
      "building tree 7 of 100\n",
      "building tree 9 of 100\n"
     ]
    },
    {
     "name": "stderr",
     "output_type": "stream",
     "text": [
      "[Parallel(n_jobs=1)]: Done   4 tasks       | elapsed:    0.7s\n"
     ]
    },
    {
     "name": "stdout",
     "output_type": "stream",
     "text": [
      "building tree 5 of 100\n"
     ]
    },
    {
     "name": "stderr",
     "output_type": "stream",
     "text": [
      "[Parallel(n_jobs=1)]: Done   7 tasks       | elapsed:    0.9s\n"
     ]
    },
    {
     "name": "stdout",
     "output_type": "stream",
     "text": [
      "building tree 8 of 100\n",
      "building tree 6 of 100\n",
      "building tree 10 of 100\n",
      "building tree 7 of 100\n",
      "building tree 9 of 100\n",
      "building tree 11 of 100\n"
     ]
    },
    {
     "name": "stderr",
     "output_type": "stream",
     "text": [
      "[Parallel(n_jobs=1)]: Done   7 tasks       | elapsed:    1.0s\n"
     ]
    },
    {
     "name": "stdout",
     "output_type": "stream",
     "text": [
      "building tree 8 of 100\n",
      "building tree 10 of 100\n",
      "building tree 9 of 100\n",
      "building tree 12 of 100\n",
      "building tree 11 of 100\n",
      "building tree 10 of 100\n"
     ]
    },
    {
     "name": "stderr",
     "output_type": "stream",
     "text": [
      "[Parallel(n_jobs=1)]: Done  12 tasks       | elapsed:    1.6s\n"
     ]
    },
    {
     "name": "stdout",
     "output_type": "stream",
     "text": [
      "building tree 13 of 100\n",
      "building tree 12 of 100\n",
      "building tree 11 of 100\n",
      "building tree 14 of 100\n"
     ]
    },
    {
     "name": "stderr",
     "output_type": "stream",
     "text": [
      "[Parallel(n_jobs=1)]: Done  12 tasks       | elapsed:    1.7s\n"
     ]
    },
    {
     "name": "stdout",
     "output_type": "stream",
     "text": [
      "building tree 13 of 100\n",
      "building tree 12 of 100\n",
      "building tree 14 of 100\n",
      "building tree 15 of 100\n"
     ]
    },
    {
     "name": "stderr",
     "output_type": "stream",
     "text": [
      "[Parallel(n_jobs=1)]: Done  12 tasks       | elapsed:    1.6s\n"
     ]
    },
    {
     "name": "stdout",
     "output_type": "stream",
     "text": [
      "building tree 13 of 100\n",
      "building tree 15 of 100\n",
      "building tree 16 of 100\n",
      "building tree 14 of 100\n",
      "building tree 16 of 100\n",
      "building tree 17 of 100\n",
      "building tree 17 of 100\n",
      "building tree 15 of 100\n"
     ]
    },
    {
     "name": "stderr",
     "output_type": "stream",
     "text": [
      "[Parallel(n_jobs=1)]: Done  17 tasks       | elapsed:    2.2s\n"
     ]
    },
    {
     "name": "stdout",
     "output_type": "stream",
     "text": [
      "building tree 18 of 100\n"
     ]
    },
    {
     "name": "stderr",
     "output_type": "stream",
     "text": [
      "[Parallel(n_jobs=1)]: Done  17 tasks       | elapsed:    2.4s\n"
     ]
    },
    {
     "name": "stdout",
     "output_type": "stream",
     "text": [
      "building tree 16 of 100\n",
      "building tree 18 of 100\n",
      "building tree 19 of 100\n",
      "building tree 19 of 100\n",
      "building tree 20 of 100\n",
      "building tree 17 of 100\n",
      "building tree 21 of 100\n",
      "building tree 20 of 100\n"
     ]
    },
    {
     "name": "stderr",
     "output_type": "stream",
     "text": [
      "[Parallel(n_jobs=1)]: Done  17 tasks       | elapsed:    2.5s\n"
     ]
    },
    {
     "name": "stdout",
     "output_type": "stream",
     "text": [
      "building tree 18 of 100\n",
      "building tree 22 of 100\n",
      "building tree 21 of 100\n",
      "building tree 19 of 100\n",
      "building tree 23 of 100\n",
      "building tree 22 of 100\n",
      "building tree 24 of 100\n",
      "building tree 20 of 100\n"
     ]
    },
    {
     "name": "stderr",
     "output_type": "stream",
     "text": [
      "[Parallel(n_jobs=1)]: Done  24 tasks       | elapsed:    3.0s\n"
     ]
    },
    {
     "name": "stdout",
     "output_type": "stream",
     "text": [
      "building tree 25 of 100\n",
      "building tree 23 of 100\n",
      "building tree 21 of 100\n",
      "building tree 26 of 100\n",
      "building tree 24 of 100\n",
      "building tree 27 of 100\n",
      "building tree 22 of 100\n"
     ]
    },
    {
     "name": "stderr",
     "output_type": "stream",
     "text": [
      "[Parallel(n_jobs=1)]: Done  24 tasks       | elapsed:    3.4s\n"
     ]
    },
    {
     "name": "stdout",
     "output_type": "stream",
     "text": [
      "building tree 25 of 100\n",
      "building tree 28 of 100\n",
      "building tree 26 of 100\n",
      "building tree 23 of 100\n",
      "building tree 29 of 100\n",
      "building tree 27 of 100\n",
      "building tree 24 of 100\n",
      "building tree 30 of 100\n"
     ]
    },
    {
     "name": "stderr",
     "output_type": "stream",
     "text": [
      "[Parallel(n_jobs=1)]: Done  24 tasks       | elapsed:    3.6s\n"
     ]
    },
    {
     "name": "stdout",
     "output_type": "stream",
     "text": [
      "building tree 25 of 100\n",
      "building tree 28 of 100\n",
      "building tree 31 of 100\n",
      "building tree 29 of 100\n",
      "building tree 26 of 100\n"
     ]
    },
    {
     "name": "stderr",
     "output_type": "stream",
     "text": [
      "[Parallel(n_jobs=1)]: Done  31 tasks       | elapsed:    4.1s\n"
     ]
    },
    {
     "name": "stdout",
     "output_type": "stream",
     "text": [
      "building tree 32 of 100\n",
      "building tree 30 of 100\n",
      "building tree 27 of 100\n",
      "building tree 31 of 100\n",
      "building tree 33 of 100\n",
      "building tree 28 of 100\n"
     ]
    },
    {
     "name": "stderr",
     "output_type": "stream",
     "text": [
      "[Parallel(n_jobs=1)]: Done  31 tasks       | elapsed:    4.5s\n"
     ]
    },
    {
     "name": "stdout",
     "output_type": "stream",
     "text": [
      "building tree 32 of 100\n",
      "building tree 29 of 100\n",
      "building tree 34 of 100\n",
      "building tree 35 of 100\n",
      "building tree 33 of 100\n",
      "building tree 30 of 100\n",
      "building tree 31 of 100\n",
      "building tree 36 of 100\n",
      "building tree 34 of 100\n",
      "building tree 35 of 100\n"
     ]
    },
    {
     "name": "stderr",
     "output_type": "stream",
     "text": [
      "[Parallel(n_jobs=1)]: Done  31 tasks       | elapsed:    4.7s\n"
     ]
    },
    {
     "name": "stdout",
     "output_type": "stream",
     "text": [
      "building tree 32 of 100\n",
      "building tree 37 of 100\n",
      "building tree 36 of 100\n",
      "building tree 33 of 100\n",
      "building tree 38 of 100\n",
      "building tree 34 of 100\n",
      "building tree 37 of 100\n",
      "building tree 39 of 100\n",
      "building tree 40 of 100\n",
      "building tree 35 of 100\n",
      "building tree 38 of 100\n",
      "building tree 36 of 100\n"
     ]
    },
    {
     "name": "stderr",
     "output_type": "stream",
     "text": [
      "[Parallel(n_jobs=1)]: Done  40 tasks       | elapsed:    5.6s\n"
     ]
    },
    {
     "name": "stdout",
     "output_type": "stream",
     "text": [
      "building tree 41 of 100\n",
      "building tree 39 of 100\n",
      "building tree 40 of 100\n",
      "building tree 37 of 100\n",
      "building tree 42 of 100\n"
     ]
    },
    {
     "name": "stderr",
     "output_type": "stream",
     "text": [
      "[Parallel(n_jobs=1)]: Done  40 tasks       | elapsed:    6.0s\n"
     ]
    },
    {
     "name": "stdout",
     "output_type": "stream",
     "text": [
      "building tree 41 of 100\n",
      "building tree 38 of 100\n",
      "building tree 43 of 100\n",
      "building tree 42 of 100\n",
      "building tree 39 of 100\n",
      "building tree 44 of 100\n",
      "building tree 43 of 100\n",
      "building tree 40 of 100\n",
      "building tree 45 of 100\n",
      "building tree 44 of 100\n",
      "building tree 46 of 100\n"
     ]
    },
    {
     "name": "stderr",
     "output_type": "stream",
     "text": [
      "[Parallel(n_jobs=1)]: Done  40 tasks       | elapsed:    6.3s\n"
     ]
    },
    {
     "name": "stdout",
     "output_type": "stream",
     "text": [
      "building tree 41 of 100\n",
      "building tree 47 of 100\n",
      "building tree 42 of 100\n",
      "building tree 45 of 100\n",
      "building tree 43 of 100\n",
      "building tree 48 of 100\n",
      "building tree 46 of 100\n",
      "building tree 44 of 100\n",
      "building tree 47 of 100\n",
      "building tree 45 of 100\n",
      "building tree 49 of 100\n",
      "building tree 46 of 100\n",
      "building tree 48 of 100\n"
     ]
    },
    {
     "name": "stderr",
     "output_type": "stream",
     "text": [
      "[Parallel(n_jobs=1)]: Done  49 tasks       | elapsed:    7.1s\n"
     ]
    },
    {
     "name": "stdout",
     "output_type": "stream",
     "text": [
      "building tree 50 of 100\n",
      "building tree 47 of 100\n",
      "building tree 49 of 100\n",
      "building tree 51 of 100\n"
     ]
    },
    {
     "name": "stderr",
     "output_type": "stream",
     "text": [
      "[Parallel(n_jobs=1)]: Done  49 tasks       | elapsed:    7.5s\n"
     ]
    },
    {
     "name": "stdout",
     "output_type": "stream",
     "text": [
      "building tree 50 of 100\n",
      "building tree 48 of 100\n",
      "building tree 52 of 100\n",
      "building tree 51 of 100\n",
      "building tree 49 of 100\n",
      "building tree 52 of 100\n",
      "building tree 53 of 100\n"
     ]
    },
    {
     "name": "stderr",
     "output_type": "stream",
     "text": [
      "[Parallel(n_jobs=1)]: Done  49 tasks       | elapsed:    7.5s\n"
     ]
    },
    {
     "name": "stdout",
     "output_type": "stream",
     "text": [
      "building tree 50 of 100\n",
      "building tree 53 of 100\n",
      "building tree 54 of 100\n",
      "building tree 51 of 100\n",
      "building tree 54 of 100\n",
      "building tree 55 of 100\n",
      "building tree 52 of 100\n",
      "building tree 55 of 100\n",
      "building tree 56 of 100\n",
      "building tree 57 of 100\n",
      "building tree 53 of 100\n",
      "building tree 56 of 100\n",
      "building tree 57 of 100\n",
      "building tree 58 of 100\n",
      "building tree 54 of 100\n",
      "building tree 55 of 100\n",
      "building tree 59 of 100\n",
      "building tree 58 of 100\n",
      "building tree 60 of 100\n",
      "building tree 56 of 100\n",
      "building tree 59 of 100\n"
     ]
    },
    {
     "name": "stderr",
     "output_type": "stream",
     "text": [
      "[Parallel(n_jobs=1)]: Done  60 tasks       | elapsed:    8.6s\n"
     ]
    },
    {
     "name": "stdout",
     "output_type": "stream",
     "text": [
      "building tree 61 of 100\n",
      "building tree 57 of 100\n",
      "building tree 60 of 100\n",
      "building tree 62 of 100\n"
     ]
    },
    {
     "name": "stderr",
     "output_type": "stream",
     "text": [
      "[Parallel(n_jobs=1)]: Done  60 tasks       | elapsed:    9.0s\n"
     ]
    },
    {
     "name": "stdout",
     "output_type": "stream",
     "text": [
      "building tree 61 of 100\n",
      "building tree 58 of 100\n",
      "building tree 62 of 100\n",
      "building tree 63 of 100\n",
      "building tree 59 of 100\n",
      "building tree 64 of 100\n",
      "building tree 63 of 100\n",
      "building tree 60 of 100\n",
      "building tree 65 of 100\n",
      "building tree 64 of 100\n"
     ]
    },
    {
     "name": "stderr",
     "output_type": "stream",
     "text": [
      "[Parallel(n_jobs=1)]: Done  60 tasks       | elapsed:    9.1s\n"
     ]
    },
    {
     "name": "stdout",
     "output_type": "stream",
     "text": [
      "building tree 61 of 100\n",
      "building tree 66 of 100\n",
      "building tree 65 of 100\n",
      "building tree 62 of 100\n",
      "building tree 67 of 100\n",
      "building tree 66 of 100\n",
      "building tree 63 of 100\n",
      "building tree 68 of 100\n",
      "building tree 67 of 100\n",
      "building tree 64 of 100\n",
      "building tree 65 of 100\n",
      "building tree 68 of 100\n",
      "building tree 69 of 100\n",
      "building tree 69 of 100\n",
      "building tree 66 of 100\n",
      "building tree 70 of 100\n",
      "building tree 71 of 100\n",
      "building tree 67 of 100\n",
      "building tree 70 of 100\n",
      "building tree 68 of 100\n"
     ]
    },
    {
     "name": "stderr",
     "output_type": "stream",
     "text": [
      "[Parallel(n_jobs=1)]: Done  71 tasks       | elapsed:   10.2s\n"
     ]
    },
    {
     "name": "stdout",
     "output_type": "stream",
     "text": [
      "building tree 72 of 100\n",
      "building tree 71 of 100\n",
      "building tree 69 of 100\n"
     ]
    },
    {
     "name": "stderr",
     "output_type": "stream",
     "text": [
      "[Parallel(n_jobs=1)]: Done  71 tasks       | elapsed:   10.5s\n"
     ]
    },
    {
     "name": "stdout",
     "output_type": "stream",
     "text": [
      "building tree 72 of 100\n",
      "building tree 73 of 100\n",
      "building tree 70 of 100\n",
      "building tree 73 of 100\n",
      "building tree 74 of 100\n",
      "building tree 71 of 100\n",
      "building tree 74 of 100\n",
      "building tree 75 of 100\n",
      "building tree 75 of 100\n"
     ]
    },
    {
     "name": "stderr",
     "output_type": "stream",
     "text": [
      "[Parallel(n_jobs=1)]: Done  71 tasks       | elapsed:   10.6s\n"
     ]
    },
    {
     "name": "stdout",
     "output_type": "stream",
     "text": [
      "building tree 72 of 100\n",
      "building tree 76 of 100\n",
      "building tree 73 of 100\n",
      "building tree 76 of 100\n",
      "building tree 77 of 100\n",
      "building tree 74 of 100\n",
      "building tree 77 of 100\n",
      "building tree 78 of 100\n",
      "building tree 79 of 100\n",
      "building tree 78 of 100\n",
      "building tree 75 of 100\n",
      "building tree 80 of 100\n",
      "building tree 79 of 100\n",
      "building tree 81 of 100\n",
      "building tree 76 of 100\n",
      "building tree 82 of 100\n",
      "building tree 80 of 100\n",
      "building tree 77 of 100\n",
      "building tree 83 of 100\n",
      "building tree 81 of 100\n",
      "building tree 78 of 100\n",
      "building tree 82 of 100\n",
      "building tree 84 of 100\n",
      "building tree 79 of 100\n",
      "building tree 83 of 100\n"
     ]
    },
    {
     "name": "stderr",
     "output_type": "stream",
     "text": [
      "[Parallel(n_jobs=1)]: Done  84 tasks       | elapsed:   12.0s\n"
     ]
    },
    {
     "name": "stdout",
     "output_type": "stream",
     "text": [
      "building tree 85 of 100\n",
      "building tree 80 of 100\n",
      "building tree 84 of 100\n",
      "building tree 81 of 100\n",
      "building tree 86 of 100\n"
     ]
    },
    {
     "name": "stderr",
     "output_type": "stream",
     "text": [
      "[Parallel(n_jobs=1)]: Done  84 tasks       | elapsed:   12.4s\n"
     ]
    },
    {
     "name": "stdout",
     "output_type": "stream",
     "text": [
      "building tree 85 of 100\n",
      "building tree 87 of 100\n",
      "building tree 82 of 100\n",
      "building tree 86 of 100\n",
      "building tree 88 of 100\n",
      "building tree 83 of 100\n",
      "building tree 87 of 100\n",
      "building tree 89 of 100\n",
      "building tree 84 of 100\n",
      "building tree 88 of 100\n",
      "building tree 90 of 100\n"
     ]
    },
    {
     "name": "stderr",
     "output_type": "stream",
     "text": [
      "[Parallel(n_jobs=1)]: Done  84 tasks       | elapsed:   12.6s\n"
     ]
    },
    {
     "name": "stdout",
     "output_type": "stream",
     "text": [
      "building tree 85 of 100\n",
      "building tree 91 of 100\n",
      "building tree 89 of 100\n",
      "building tree 86 of 100\n",
      "building tree 92 of 100\n",
      "building tree 90 of 100\n",
      "building tree 87 of 100\n",
      "building tree 93 of 100\n",
      "building tree 91 of 100\n",
      "building tree 88 of 100\n",
      "building tree 94 of 100\n",
      "building tree 92 of 100\n",
      "building tree 89 of 100\n",
      "building tree 95 of 100\n",
      "building tree 93 of 100\n",
      "building tree 90 of 100\n",
      "building tree 96 of 100\n",
      "building tree 94 of 100\n",
      "building tree 91 of 100\n",
      "building tree 97 of 100\n",
      "building tree 95 of 100\n",
      "building tree 92 of 100\n"
     ]
    },
    {
     "name": "stderr",
     "output_type": "stream",
     "text": [
      "[Parallel(n_jobs=1)]: Done  97 tasks       | elapsed:   13.9s\n"
     ]
    },
    {
     "name": "stdout",
     "output_type": "stream",
     "text": [
      "building tree 98 of 100\n",
      "building tree 96 of 100\n",
      "building tree 93 of 100\n",
      "building tree 99 of 100\n",
      "building tree 97 of 100\n",
      "building tree 100 of 100\n",
      "building tree 94 of 100\n"
     ]
    },
    {
     "name": "stderr",
     "output_type": "stream",
     "text": [
      "[Parallel(n_jobs=1)]: Done  97 tasks       | elapsed:   14.3s\n"
     ]
    },
    {
     "name": "stdout",
     "output_type": "stream",
     "text": [
      "building tree 98 of 100\n"
     ]
    },
    {
     "name": "stderr",
     "output_type": "stream",
     "text": [
      "[Parallel(n_jobs=1)]: Done 100 out of 100 | elapsed:   14.3s finished\n",
      "[Parallel(n_jobs=1)]: Done   1 tasks       | elapsed:    0.0s\n"
     ]
    },
    {
     "name": "stdout",
     "output_type": "stream",
     "text": [
      "building tree 95 of 100\n",
      "building tree 99 of 100\n"
     ]
    },
    {
     "name": "stderr",
     "output_type": "stream",
     "text": [
      "[Parallel(n_jobs=1)]: Done   4 tasks       | elapsed:    0.1s\n",
      "[Parallel(n_jobs=1)]: Done   7 tasks       | elapsed:    0.1s\n",
      "[Parallel(n_jobs=1)]: Done  12 tasks       | elapsed:    0.2s\n"
     ]
    },
    {
     "name": "stdout",
     "output_type": "stream",
     "text": [
      "building tree 100 of 100\n"
     ]
    },
    {
     "name": "stderr",
     "output_type": "stream",
     "text": [
      "[Parallel(n_jobs=1)]: Done  17 tasks       | elapsed:    0.2s\n"
     ]
    },
    {
     "name": "stdout",
     "output_type": "stream",
     "text": [
      "building tree 96 of 100\n"
     ]
    },
    {
     "name": "stderr",
     "output_type": "stream",
     "text": [
      "[Parallel(n_jobs=1)]: Done  24 tasks       | elapsed:    0.3s\n",
      "[Parallel(n_jobs=1)]: Done 100 out of 100 | elapsed:   14.8s finished\n",
      "[Parallel(n_jobs=1)]: Done   1 tasks       | elapsed:    0.0s\n"
     ]
    },
    {
     "name": "stdout",
     "output_type": "stream",
     "text": [
      "building tree 97 of 100\n"
     ]
    },
    {
     "name": "stderr",
     "output_type": "stream",
     "text": [
      "[Parallel(n_jobs=1)]: Done   4 tasks       | elapsed:    0.0s\n",
      "[Parallel(n_jobs=1)]: Done  31 tasks       | elapsed:    0.5s\n",
      "[Parallel(n_jobs=1)]: Done   7 tasks       | elapsed:    0.1s\n",
      "[Parallel(n_jobs=1)]: Done  12 tasks       | elapsed:    0.1s\n",
      "[Parallel(n_jobs=1)]: Done  97 tasks       | elapsed:   14.7s\n"
     ]
    },
    {
     "name": "stdout",
     "output_type": "stream",
     "text": [
      "building tree 98 of 100\n"
     ]
    },
    {
     "name": "stderr",
     "output_type": "stream",
     "text": [
      "[Parallel(n_jobs=1)]: Done  40 tasks       | elapsed:    0.6s\n",
      "[Parallel(n_jobs=1)]: Done  17 tasks       | elapsed:    0.2s\n",
      "[Parallel(n_jobs=1)]: Done  49 tasks       | elapsed:    0.6s\n",
      "[Parallel(n_jobs=1)]: Done  24 tasks       | elapsed:    0.3s\n"
     ]
    },
    {
     "name": "stdout",
     "output_type": "stream",
     "text": [
      "building tree 99 of 100\n"
     ]
    },
    {
     "name": "stderr",
     "output_type": "stream",
     "text": [
      "[Parallel(n_jobs=1)]: Done  31 tasks       | elapsed:    0.3s\n",
      "[Parallel(n_jobs=1)]: Done  60 tasks       | elapsed:    0.8s\n"
     ]
    },
    {
     "name": "stdout",
     "output_type": "stream",
     "text": [
      "building tree 100 of 100\n"
     ]
    },
    {
     "name": "stderr",
     "output_type": "stream",
     "text": [
      "[Parallel(n_jobs=1)]: Done  40 tasks       | elapsed:    0.5s\n",
      "[Parallel(n_jobs=1)]: Done  71 tasks       | elapsed:    0.9s\n",
      "[Parallel(n_jobs=1)]: Done 100 out of 100 | elapsed:   15.1s finished\n",
      "[Parallel(n_jobs=1)]: Done  49 tasks       | elapsed:    0.6s\n",
      "[Parallel(n_jobs=1)]: Done   1 tasks       | elapsed:    0.0s\n",
      "[Parallel(n_jobs=1)]: Done   4 tasks       | elapsed:    0.0s\n",
      "[Parallel(n_jobs=1)]: Done  84 tasks       | elapsed:    1.0s\n",
      "[Parallel(n_jobs=1)]: Done   7 tasks       | elapsed:    0.1s\n",
      "[Parallel(n_jobs=1)]: Done  60 tasks       | elapsed:    0.7s\n",
      "[Parallel(n_jobs=1)]: Done  12 tasks       | elapsed:    0.1s\n",
      "[Parallel(n_jobs=1)]: Done  97 tasks       | elapsed:    1.1s\n",
      "[Parallel(n_jobs=1)]: Done  17 tasks       | elapsed:    0.2s\n",
      "[Parallel(n_jobs=1)]: Done 100 out of 100 | elapsed:    1.2s finished\n",
      "[Parallel(n_jobs=1)]: Done  71 tasks       | elapsed:    0.8s\n",
      "[Parallel(n_jobs=1)]: Done  24 tasks       | elapsed:    0.3s\n",
      "[Parallel(n_jobs=1)]: Done  84 tasks       | elapsed:    1.0s\n",
      "[Parallel(n_jobs=1)]: Done  31 tasks       | elapsed:    0.4s\n",
      "[Parallel(n_jobs=1)]: Done  40 tasks       | elapsed:    0.5s\n",
      "[Parallel(n_jobs=1)]: Done  97 tasks       | elapsed:    1.1s\n",
      "[Parallel(n_jobs=1)]: Done 100 out of 100 | elapsed:    1.2s finished\n"
     ]
    },
    {
     "name": "stdout",
     "output_type": "stream",
     "text": [
      "building tree 1 of 100\n"
     ]
    },
    {
     "name": "stderr",
     "output_type": "stream",
     "text": [
      "[Parallel(n_jobs=1)]: Done  49 tasks       | elapsed:    0.6s\n",
      "[Parallel(n_jobs=1)]: Done   1 tasks       | elapsed:    0.1s\n"
     ]
    },
    {
     "name": "stdout",
     "output_type": "stream",
     "text": [
      "building tree 2 of 100\n"
     ]
    },
    {
     "name": "stderr",
     "output_type": "stream",
     "text": [
      "[Parallel(n_jobs=1)]: Done  60 tasks       | elapsed:    0.8s\n"
     ]
    },
    {
     "name": "stdout",
     "output_type": "stream",
     "text": [
      "building tree 3 of 100\n"
     ]
    },
    {
     "name": "stderr",
     "output_type": "stream",
     "text": [
      "[Parallel(n_jobs=1)]: Done  71 tasks       | elapsed:    1.0s\n"
     ]
    },
    {
     "name": "stdout",
     "output_type": "stream",
     "text": [
      "building tree 4 of 100\n",
      "building tree 1 of 100\n"
     ]
    },
    {
     "name": "stderr",
     "output_type": "stream",
     "text": [
      "[Parallel(n_jobs=1)]: Done  84 tasks       | elapsed:    1.1s\n",
      "[Parallel(n_jobs=1)]: Done   4 tasks       | elapsed:    0.5s\n"
     ]
    },
    {
     "name": "stdout",
     "output_type": "stream",
     "text": [
      "building tree 5 of 100\n"
     ]
    },
    {
     "name": "stderr",
     "output_type": "stream",
     "text": [
      "[Parallel(n_jobs=1)]: Done   1 tasks       | elapsed:    0.2s\n"
     ]
    },
    {
     "name": "stdout",
     "output_type": "stream",
     "text": [
      "building tree 2 of 100\n",
      "building tree 6 of 100\n"
     ]
    },
    {
     "name": "stderr",
     "output_type": "stream",
     "text": [
      "[Parallel(n_jobs=1)]: Done  97 tasks       | elapsed:    1.3s\n",
      "[Parallel(n_jobs=1)]: Done 100 out of 100 | elapsed:    1.4s finished\n"
     ]
    },
    {
     "name": "stdout",
     "output_type": "stream",
     "text": [
      "building tree 7 of 100\n",
      "building tree 3 of 100\n"
     ]
    },
    {
     "name": "stderr",
     "output_type": "stream",
     "text": [
      "[Parallel(n_jobs=1)]: Done   7 tasks       | elapsed:    1.0s\n"
     ]
    },
    {
     "name": "stdout",
     "output_type": "stream",
     "text": [
      "building tree 8 of 100\n",
      "building tree 4 of 100\n",
      "building tree 9 of 100\n"
     ]
    },
    {
     "name": "stderr",
     "output_type": "stream",
     "text": [
      "[Parallel(n_jobs=1)]: Done   4 tasks       | elapsed:    0.7s\n"
     ]
    },
    {
     "name": "stdout",
     "output_type": "stream",
     "text": [
      "building tree 5 of 100\n",
      "building tree 10 of 100\n",
      "building tree 1 of 100\n",
      "building tree 11 of 100\n"
     ]
    },
    {
     "name": "stderr",
     "output_type": "stream",
     "text": [
      "[Parallel(n_jobs=1)]: Done   1 tasks       | elapsed:    0.1s\n"
     ]
    },
    {
     "name": "stdout",
     "output_type": "stream",
     "text": [
      "building tree 6 of 100\n",
      "building tree 2 of 100\n",
      "building tree 3 of 100\n",
      "building tree 7 of 100\n",
      "building tree 12 of 100\n"
     ]
    },
    {
     "name": "stderr",
     "output_type": "stream",
     "text": [
      "[Parallel(n_jobs=1)]: Done  12 tasks       | elapsed:    1.7s\n"
     ]
    },
    {
     "name": "stdout",
     "output_type": "stream",
     "text": [
      "building tree 13 of 100\n"
     ]
    },
    {
     "name": "stderr",
     "output_type": "stream",
     "text": [
      "[Parallel(n_jobs=1)]: Done   7 tasks       | elapsed:    1.2s\n"
     ]
    },
    {
     "name": "stdout",
     "output_type": "stream",
     "text": [
      "building tree 8 of 100\n",
      "building tree 4 of 100\n"
     ]
    },
    {
     "name": "stderr",
     "output_type": "stream",
     "text": [
      "[Parallel(n_jobs=1)]: Done   4 tasks       | elapsed:    0.6s\n"
     ]
    },
    {
     "name": "stdout",
     "output_type": "stream",
     "text": [
      "building tree 5 of 100\n",
      "building tree 9 of 100\n",
      "building tree 14 of 100\n",
      "building tree 6 of 100\n",
      "building tree 10 of 100\n",
      "building tree 15 of 100\n",
      "building tree 7 of 100\n",
      "building tree 16 of 100\n",
      "building tree 11 of 100\n"
     ]
    },
    {
     "name": "stderr",
     "output_type": "stream",
     "text": [
      "[Parallel(n_jobs=1)]: Done   7 tasks       | elapsed:    1.0s\n"
     ]
    },
    {
     "name": "stdout",
     "output_type": "stream",
     "text": [
      "building tree 8 of 100\n",
      "building tree 12 of 100\n",
      "building tree 17 of 100\n",
      "building tree 9 of 100\n"
     ]
    },
    {
     "name": "stderr",
     "output_type": "stream",
     "text": [
      "[Parallel(n_jobs=1)]: Done  17 tasks       | elapsed:    2.4s\n"
     ]
    },
    {
     "name": "stdout",
     "output_type": "stream",
     "text": [
      "building tree 18 of 100\n"
     ]
    },
    {
     "name": "stderr",
     "output_type": "stream",
     "text": [
      "[Parallel(n_jobs=1)]: Done  12 tasks       | elapsed:    2.0s\n"
     ]
    },
    {
     "name": "stdout",
     "output_type": "stream",
     "text": [
      "building tree 13 of 100\n",
      "building tree 10 of 100\n",
      "building tree 19 of 100\n",
      "building tree 20 of 100\n",
      "building tree 14 of 100\n",
      "building tree 11 of 100\n",
      "building tree 21 of 100\n",
      "building tree 15 of 100\n",
      "building tree 12 of 100\n",
      "building tree 22 of 100\n",
      "building tree 16 of 100\n"
     ]
    },
    {
     "name": "stderr",
     "output_type": "stream",
     "text": [
      "[Parallel(n_jobs=1)]: Done  12 tasks       | elapsed:    1.7s\n"
     ]
    },
    {
     "name": "stdout",
     "output_type": "stream",
     "text": [
      "building tree 13 of 100\n",
      "building tree 23 of 100\n",
      "building tree 17 of 100\n",
      "building tree 14 of 100\n",
      "building tree 24 of 100\n"
     ]
    },
    {
     "name": "stderr",
     "output_type": "stream",
     "text": [
      "[Parallel(n_jobs=1)]: Done  17 tasks       | elapsed:    2.7s\n"
     ]
    },
    {
     "name": "stdout",
     "output_type": "stream",
     "text": [
      "building tree 18 of 100\n"
     ]
    },
    {
     "name": "stderr",
     "output_type": "stream",
     "text": [
      "[Parallel(n_jobs=1)]: Done  24 tasks       | elapsed:    3.2s\n"
     ]
    },
    {
     "name": "stdout",
     "output_type": "stream",
     "text": [
      "building tree 25 of 100\n",
      "building tree 15 of 100\n",
      "building tree 19 of 100\n",
      "building tree 26 of 100\n",
      "building tree 16 of 100\n",
      "building tree 27 of 100\n",
      "building tree 20 of 100\n",
      "building tree 28 of 100\n",
      "building tree 17 of 100\n",
      "building tree 21 of 100\n",
      "building tree 29 of 100\n"
     ]
    },
    {
     "name": "stderr",
     "output_type": "stream",
     "text": [
      "[Parallel(n_jobs=1)]: Done  17 tasks       | elapsed:    2.6s\n"
     ]
    },
    {
     "name": "stdout",
     "output_type": "stream",
     "text": [
      "building tree 18 of 100\n",
      "building tree 22 of 100\n",
      "building tree 30 of 100\n",
      "building tree 23 of 100\n",
      "building tree 19 of 100\n",
      "building tree 20 of 100\n",
      "building tree 31 of 100\n",
      "building tree 24 of 100\n",
      "building tree 21 of 100\n"
     ]
    },
    {
     "name": "stderr",
     "output_type": "stream",
     "text": [
      "[Parallel(n_jobs=1)]: Done  31 tasks       | elapsed:    4.3s\n"
     ]
    },
    {
     "name": "stdout",
     "output_type": "stream",
     "text": [
      "building tree 32 of 100\n"
     ]
    },
    {
     "name": "stderr",
     "output_type": "stream",
     "text": [
      "[Parallel(n_jobs=1)]: Done  24 tasks       | elapsed:    3.8s\n"
     ]
    },
    {
     "name": "stdout",
     "output_type": "stream",
     "text": [
      "building tree 25 of 100\n",
      "building tree 22 of 100\n",
      "building tree 33 of 100\n",
      "building tree 26 of 100\n",
      "building tree 34 of 100\n",
      "building tree 23 of 100\n",
      "building tree 27 of 100\n",
      "building tree 35 of 100\n",
      "building tree 24 of 100\n",
      "building tree 28 of 100\n",
      "building tree 36 of 100\n"
     ]
    },
    {
     "name": "stderr",
     "output_type": "stream",
     "text": [
      "[Parallel(n_jobs=1)]: Done  24 tasks       | elapsed:    3.6s\n"
     ]
    },
    {
     "name": "stdout",
     "output_type": "stream",
     "text": [
      "building tree 25 of 100\n",
      "building tree 29 of 100\n",
      "building tree 37 of 100\n",
      "building tree 26 of 100\n",
      "building tree 30 of 100\n",
      "building tree 38 of 100\n",
      "building tree 27 of 100\n",
      "building tree 31 of 100\n",
      "building tree 39 of 100\n",
      "building tree 28 of 100\n",
      "building tree 40 of 100\n"
     ]
    },
    {
     "name": "stderr",
     "output_type": "stream",
     "text": [
      "[Parallel(n_jobs=1)]: Done  31 tasks       | elapsed:    4.8s\n"
     ]
    },
    {
     "name": "stdout",
     "output_type": "stream",
     "text": [
      "building tree 32 of 100\n",
      "building tree 29 of 100\n",
      "building tree 30 of 100\n"
     ]
    },
    {
     "name": "stderr",
     "output_type": "stream",
     "text": [
      "[Parallel(n_jobs=1)]: Done  40 tasks       | elapsed:    5.4s\n"
     ]
    },
    {
     "name": "stdout",
     "output_type": "stream",
     "text": [
      "building tree 41 of 100\n",
      "building tree 33 of 100\n",
      "building tree 31 of 100\n",
      "building tree 34 of 100\n",
      "building tree 42 of 100\n"
     ]
    },
    {
     "name": "stderr",
     "output_type": "stream",
     "text": [
      "[Parallel(n_jobs=1)]: Done  31 tasks       | elapsed:    4.4s\n"
     ]
    },
    {
     "name": "stdout",
     "output_type": "stream",
     "text": [
      "building tree 32 of 100\n",
      "building tree 35 of 100\n",
      "building tree 43 of 100\n",
      "building tree 33 of 100\n",
      "building tree 36 of 100\n",
      "building tree 44 of 100\n",
      "building tree 34 of 100\n",
      "building tree 37 of 100\n",
      "building tree 35 of 100\n",
      "building tree 45 of 100\n",
      "building tree 38 of 100\n",
      "building tree 36 of 100\n",
      "building tree 39 of 100\n",
      "building tree 46 of 100\n",
      "building tree 37 of 100\n",
      "building tree 40 of 100\n",
      "building tree 47 of 100\n",
      "building tree 38 of 100\n",
      "building tree 48 of 100\n"
     ]
    },
    {
     "name": "stderr",
     "output_type": "stream",
     "text": [
      "[Parallel(n_jobs=1)]: Done  40 tasks       | elapsed:    6.1s\n"
     ]
    },
    {
     "name": "stdout",
     "output_type": "stream",
     "text": [
      "building tree 41 of 100\n",
      "building tree 39 of 100\n",
      "building tree 49 of 100\n",
      "building tree 42 of 100\n",
      "building tree 40 of 100\n"
     ]
    },
    {
     "name": "stderr",
     "output_type": "stream",
     "text": [
      "[Parallel(n_jobs=1)]: Done  49 tasks       | elapsed:    6.8s\n"
     ]
    },
    {
     "name": "stdout",
     "output_type": "stream",
     "text": [
      "building tree 50 of 100\n",
      "building tree 43 of 100\n"
     ]
    },
    {
     "name": "stderr",
     "output_type": "stream",
     "text": [
      "[Parallel(n_jobs=1)]: Done  40 tasks       | elapsed:    5.7s\n"
     ]
    },
    {
     "name": "stdout",
     "output_type": "stream",
     "text": [
      "building tree 41 of 100\n",
      "building tree 51 of 100\n",
      "building tree 44 of 100\n",
      "building tree 42 of 100\n",
      "building tree 45 of 100\n",
      "building tree 52 of 100\n",
      "building tree 43 of 100\n",
      "building tree 46 of 100\n",
      "building tree 53 of 100\n",
      "building tree 44 of 100\n",
      "building tree 47 of 100\n",
      "building tree 54 of 100\n",
      "building tree 45 of 100\n",
      "building tree 55 of 100\n",
      "building tree 48 of 100\n",
      "building tree 46 of 100\n",
      "building tree 56 of 100\n",
      "building tree 49 of 100\n",
      "building tree 57 of 100\n",
      "building tree 47 of 100\n",
      "building tree 48 of 100\n",
      "building tree 58 of 100\n"
     ]
    },
    {
     "name": "stderr",
     "output_type": "stream",
     "text": [
      "[Parallel(n_jobs=1)]: Done  49 tasks       | elapsed:    7.4s\n"
     ]
    },
    {
     "name": "stdout",
     "output_type": "stream",
     "text": [
      "building tree 50 of 100\n",
      "building tree 49 of 100\n",
      "building tree 59 of 100\n",
      "building tree 51 of 100\n"
     ]
    },
    {
     "name": "stderr",
     "output_type": "stream",
     "text": [
      "[Parallel(n_jobs=1)]: Done  49 tasks       | elapsed:    6.9s\n"
     ]
    },
    {
     "name": "stdout",
     "output_type": "stream",
     "text": [
      "building tree 50 of 100\n",
      "building tree 60 of 100\n",
      "building tree 52 of 100\n"
     ]
    },
    {
     "name": "stderr",
     "output_type": "stream",
     "text": [
      "[Parallel(n_jobs=1)]: Done  60 tasks       | elapsed:    8.3s\n"
     ]
    },
    {
     "name": "stdout",
     "output_type": "stream",
     "text": [
      "building tree 61 of 100\n",
      "building tree 51 of 100\n",
      "building tree 53 of 100\n",
      "building tree 52 of 100\n",
      "building tree 62 of 100\n",
      "building tree 54 of 100\n",
      "building tree 53 of 100\n",
      "building tree 63 of 100\n",
      "building tree 55 of 100\n",
      "building tree 54 of 100\n",
      "building tree 64 of 100\n",
      "building tree 55 of 100\n",
      "building tree 65 of 100\n",
      "building tree 56 of 100\n",
      "building tree 56 of 100\n",
      "building tree 57 of 100\n",
      "building tree 66 of 100\n",
      "building tree 57 of 100\n",
      "building tree 67 of 100\n",
      "building tree 58 of 100\n",
      "building tree 58 of 100\n",
      "building tree 68 of 100\n",
      "building tree 59 of 100\n",
      "building tree 59 of 100\n",
      "building tree 69 of 100\n",
      "building tree 60 of 100\n",
      "building tree 60 of 100\n",
      "building tree 70 of 100\n"
     ]
    },
    {
     "name": "stderr",
     "output_type": "stream",
     "text": [
      "[Parallel(n_jobs=1)]: Done  60 tasks       | elapsed:    9.1s\n"
     ]
    },
    {
     "name": "stdout",
     "output_type": "stream",
     "text": [
      "building tree 61 of 100\n"
     ]
    },
    {
     "name": "stderr",
     "output_type": "stream",
     "text": [
      "[Parallel(n_jobs=1)]: Done  60 tasks       | elapsed:    8.4s\n"
     ]
    },
    {
     "name": "stdout",
     "output_type": "stream",
     "text": [
      "building tree 61 of 100\n",
      "building tree 71 of 100\n",
      "building tree 62 of 100\n",
      "building tree 62 of 100\n"
     ]
    },
    {
     "name": "stderr",
     "output_type": "stream",
     "text": [
      "[Parallel(n_jobs=1)]: Done  71 tasks       | elapsed:    9.7s\n"
     ]
    },
    {
     "name": "stdout",
     "output_type": "stream",
     "text": [
      "building tree 72 of 100\n",
      "building tree 63 of 100\n",
      "building tree 63 of 100\n",
      "building tree 73 of 100\n",
      "building tree 64 of 100\n",
      "building tree 74 of 100\n",
      "building tree 64 of 100\n",
      "building tree 65 of 100\n",
      "building tree 66 of 100\n",
      "building tree 75 of 100\n",
      "building tree 65 of 100\n",
      "building tree 67 of 100\n",
      "building tree 76 of 100\n",
      "building tree 66 of 100\n",
      "building tree 68 of 100\n",
      "building tree 77 of 100\n",
      "building tree 67 of 100\n",
      "building tree 69 of 100\n",
      "building tree 78 of 100\n",
      "building tree 68 of 100\n",
      "building tree 70 of 100\n",
      "building tree 79 of 100\n",
      "building tree 71 of 100\n",
      "building tree 69 of 100\n",
      "building tree 80 of 100\n"
     ]
    },
    {
     "name": "stderr",
     "output_type": "stream",
     "text": [
      "[Parallel(n_jobs=1)]: Done  71 tasks       | elapsed:    9.8s\n"
     ]
    },
    {
     "name": "stdout",
     "output_type": "stream",
     "text": [
      "building tree 72 of 100\n",
      "building tree 70 of 100\n",
      "building tree 81 of 100\n",
      "building tree 73 of 100\n",
      "building tree 74 of 100\n",
      "building tree 71 of 100\n",
      "building tree 82 of 100\n",
      "building tree 75 of 100\n"
     ]
    },
    {
     "name": "stderr",
     "output_type": "stream",
     "text": [
      "[Parallel(n_jobs=1)]: Done  71 tasks       | elapsed:   10.9s\n"
     ]
    },
    {
     "name": "stdout",
     "output_type": "stream",
     "text": [
      "building tree 72 of 100\n",
      "building tree 83 of 100\n",
      "building tree 76 of 100\n",
      "building tree 73 of 100\n",
      "building tree 84 of 100\n",
      "building tree 77 of 100\n"
     ]
    },
    {
     "name": "stderr",
     "output_type": "stream",
     "text": [
      "[Parallel(n_jobs=1)]: Done  84 tasks       | elapsed:   11.7s\n"
     ]
    },
    {
     "name": "stdout",
     "output_type": "stream",
     "text": [
      "building tree 85 of 100\n",
      "building tree 74 of 100\n",
      "building tree 78 of 100\n",
      "building tree 86 of 100\n",
      "building tree 75 of 100\n",
      "building tree 79 of 100\n",
      "building tree 87 of 100\n",
      "building tree 88 of 100\n",
      "building tree 76 of 100\n",
      "building tree 80 of 100\n",
      "building tree 89 of 100\n",
      "building tree 77 of 100\n",
      "building tree 81 of 100\n",
      "building tree 90 of 100\n",
      "building tree 78 of 100\n",
      "building tree 82 of 100\n",
      "building tree 79 of 100\n",
      "building tree 91 of 100\n",
      "building tree 83 of 100\n",
      "building tree 80 of 100\n",
      "building tree 92 of 100\n",
      "building tree 81 of 100\n",
      "building tree 84 of 100\n",
      "building tree 93 of 100\n",
      "building tree 82 of 100\n"
     ]
    },
    {
     "name": "stderr",
     "output_type": "stream",
     "text": [
      "[Parallel(n_jobs=1)]: Done  84 tasks       | elapsed:   11.7s\n"
     ]
    },
    {
     "name": "stdout",
     "output_type": "stream",
     "text": [
      "building tree 85 of 100\n",
      "building tree 94 of 100\n",
      "building tree 83 of 100\n",
      "building tree 86 of 100\n",
      "building tree 95 of 100\n",
      "building tree 84 of 100\n",
      "building tree 87 of 100\n",
      "building tree 96 of 100\n"
     ]
    },
    {
     "name": "stderr",
     "output_type": "stream",
     "text": [
      "[Parallel(n_jobs=1)]: Done  84 tasks       | elapsed:   12.9s\n"
     ]
    },
    {
     "name": "stdout",
     "output_type": "stream",
     "text": [
      "building tree 85 of 100\n",
      "building tree 88 of 100\n",
      "building tree 86 of 100\n",
      "building tree 97 of 100\n",
      "building tree 87 of 100\n",
      "building tree 89 of 100\n"
     ]
    },
    {
     "name": "stderr",
     "output_type": "stream",
     "text": [
      "[Parallel(n_jobs=1)]: Done  97 tasks       | elapsed:   13.6s\n"
     ]
    },
    {
     "name": "stdout",
     "output_type": "stream",
     "text": [
      "building tree 98 of 100\n",
      "building tree 90 of 100\n",
      "building tree 88 of 100\n",
      "building tree 99 of 100\n",
      "building tree 89 of 100\n",
      "building tree 100 of 100\n",
      "building tree 91 of 100\n",
      "building tree 90 of 100\n"
     ]
    },
    {
     "name": "stderr",
     "output_type": "stream",
     "text": [
      "[Parallel(n_jobs=1)]: Done 100 out of 100 | elapsed:   14.0s finished\n"
     ]
    },
    {
     "name": "stdout",
     "output_type": "stream",
     "text": [
      "building tree 92 of 100\n"
     ]
    },
    {
     "name": "stderr",
     "output_type": "stream",
     "text": [
      "[Parallel(n_jobs=1)]: Done   1 tasks       | elapsed:    0.0s\n",
      "[Parallel(n_jobs=1)]: Done   4 tasks       | elapsed:    0.1s\n",
      "[Parallel(n_jobs=1)]: Done   7 tasks       | elapsed:    0.1s\n"
     ]
    },
    {
     "name": "stdout",
     "output_type": "stream",
     "text": [
      "building tree 91 of 100\n"
     ]
    },
    {
     "name": "stderr",
     "output_type": "stream",
     "text": [
      "[Parallel(n_jobs=1)]: Done  12 tasks       | elapsed:    0.2s\n"
     ]
    },
    {
     "name": "stdout",
     "output_type": "stream",
     "text": [
      "building tree 93 of 100\n"
     ]
    },
    {
     "name": "stderr",
     "output_type": "stream",
     "text": [
      "[Parallel(n_jobs=1)]: Done  17 tasks       | elapsed:    0.2s\n"
     ]
    },
    {
     "name": "stdout",
     "output_type": "stream",
     "text": [
      "building tree 92 of 100\n"
     ]
    },
    {
     "name": "stderr",
     "output_type": "stream",
     "text": [
      "[Parallel(n_jobs=1)]: Done  24 tasks       | elapsed:    0.3s\n"
     ]
    },
    {
     "name": "stdout",
     "output_type": "stream",
     "text": [
      "building tree 94 of 100\n"
     ]
    },
    {
     "name": "stderr",
     "output_type": "stream",
     "text": [
      "[Parallel(n_jobs=1)]: Done  31 tasks       | elapsed:    0.4s\n"
     ]
    },
    {
     "name": "stdout",
     "output_type": "stream",
     "text": [
      "building tree 93 of 100\n",
      "building tree 95 of 100\n"
     ]
    },
    {
     "name": "stderr",
     "output_type": "stream",
     "text": [
      "[Parallel(n_jobs=1)]: Done  40 tasks       | elapsed:    0.5s\n"
     ]
    },
    {
     "name": "stdout",
     "output_type": "stream",
     "text": [
      "building tree 94 of 100\n"
     ]
    },
    {
     "name": "stderr",
     "output_type": "stream",
     "text": [
      "[Parallel(n_jobs=1)]: Done  49 tasks       | elapsed:    0.6s\n"
     ]
    },
    {
     "name": "stdout",
     "output_type": "stream",
     "text": [
      "building tree 96 of 100\n",
      "building tree 95 of 100\n"
     ]
    },
    {
     "name": "stderr",
     "output_type": "stream",
     "text": [
      "[Parallel(n_jobs=1)]: Done  60 tasks       | elapsed:    0.7s\n"
     ]
    },
    {
     "name": "stdout",
     "output_type": "stream",
     "text": [
      "building tree 97 of 100\n",
      "building tree 96 of 100\n"
     ]
    },
    {
     "name": "stderr",
     "output_type": "stream",
     "text": [
      "[Parallel(n_jobs=1)]: Done  71 tasks       | elapsed:    0.9s\n"
     ]
    },
    {
     "name": "stdout",
     "output_type": "stream",
     "text": [
      "building tree 97 of 100\n"
     ]
    },
    {
     "name": "stderr",
     "output_type": "stream",
     "text": [
      "[Parallel(n_jobs=1)]: Done  97 tasks       | elapsed:   13.8s\n"
     ]
    },
    {
     "name": "stdout",
     "output_type": "stream",
     "text": [
      "building tree 98 of 100\n"
     ]
    },
    {
     "name": "stderr",
     "output_type": "stream",
     "text": [
      "[Parallel(n_jobs=1)]: Done  84 tasks       | elapsed:    1.0s\n",
      "[Parallel(n_jobs=1)]: Done  97 tasks       | elapsed:   14.7s\n"
     ]
    },
    {
     "name": "stdout",
     "output_type": "stream",
     "text": [
      "building tree 98 of 100\n",
      "building tree 99 of 100\n"
     ]
    },
    {
     "name": "stderr",
     "output_type": "stream",
     "text": [
      "[Parallel(n_jobs=1)]: Done  97 tasks       | elapsed:    1.2s\n",
      "[Parallel(n_jobs=1)]: Done 100 out of 100 | elapsed:    1.2s finished\n"
     ]
    },
    {
     "name": "stdout",
     "output_type": "stream",
     "text": [
      "building tree 100 of 100\n",
      "building tree 99 of 100\n"
     ]
    },
    {
     "name": "stderr",
     "output_type": "stream",
     "text": [
      "[Parallel(n_jobs=1)]: Done 100 out of 100 | elapsed:   14.3s finished\n"
     ]
    },
    {
     "name": "stdout",
     "output_type": "stream",
     "text": [
      "building tree 100 of 100\n"
     ]
    },
    {
     "name": "stderr",
     "output_type": "stream",
     "text": [
      "[Parallel(n_jobs=1)]: Done   1 tasks       | elapsed:    0.0s\n",
      "[Parallel(n_jobs=1)]: Done   4 tasks       | elapsed:    0.1s\n",
      "[Parallel(n_jobs=1)]: Done   7 tasks       | elapsed:    0.1s\n",
      "[Parallel(n_jobs=1)]: Done 100 out of 100 | elapsed:   15.3s finished\n",
      "[Parallel(n_jobs=1)]: Done  12 tasks       | elapsed:    0.2s\n",
      "[Parallel(n_jobs=1)]: Done   1 tasks       | elapsed:    0.0s\n",
      "[Parallel(n_jobs=1)]: Done   4 tasks       | elapsed:    0.1s\n",
      "[Parallel(n_jobs=1)]: Done  17 tasks       | elapsed:    0.2s\n",
      "[Parallel(n_jobs=1)]: Done   7 tasks       | elapsed:    0.1s\n"
     ]
    },
    {
     "name": "stdout",
     "output_type": "stream",
     "text": [
      "building tree 1 of 100\n"
     ]
    },
    {
     "name": "stderr",
     "output_type": "stream",
     "text": [
      "[Parallel(n_jobs=1)]: Done  24 tasks       | elapsed:    0.3s\n",
      "[Parallel(n_jobs=1)]: Done  12 tasks       | elapsed:    0.2s\n",
      "[Parallel(n_jobs=1)]: Done  17 tasks       | elapsed:    0.2s\n",
      "[Parallel(n_jobs=1)]: Done  31 tasks       | elapsed:    0.4s\n",
      "[Parallel(n_jobs=1)]: Done   1 tasks       | elapsed:    0.2s\n"
     ]
    },
    {
     "name": "stdout",
     "output_type": "stream",
     "text": [
      "building tree 2 of 100\n"
     ]
    },
    {
     "name": "stderr",
     "output_type": "stream",
     "text": [
      "[Parallel(n_jobs=1)]: Done  24 tasks       | elapsed:    0.3s\n",
      "[Parallel(n_jobs=1)]: Done  40 tasks       | elapsed:    0.5s\n",
      "[Parallel(n_jobs=1)]: Done  31 tasks       | elapsed:    0.4s\n"
     ]
    },
    {
     "name": "stdout",
     "output_type": "stream",
     "text": [
      "building tree 3 of 100\n"
     ]
    },
    {
     "name": "stderr",
     "output_type": "stream",
     "text": [
      "[Parallel(n_jobs=1)]: Done  49 tasks       | elapsed:    0.7s\n",
      "[Parallel(n_jobs=1)]: Done  40 tasks       | elapsed:    0.6s\n"
     ]
    },
    {
     "name": "stdout",
     "output_type": "stream",
     "text": [
      "building tree 4 of 100\n"
     ]
    },
    {
     "name": "stderr",
     "output_type": "stream",
     "text": [
      "[Parallel(n_jobs=1)]: Done  60 tasks       | elapsed:    0.8s\n",
      "[Parallel(n_jobs=1)]: Done  49 tasks       | elapsed:    0.7s\n",
      "[Parallel(n_jobs=1)]: Done   4 tasks       | elapsed:    0.6s\n"
     ]
    },
    {
     "name": "stdout",
     "output_type": "stream",
     "text": [
      "building tree 5 of 100\n"
     ]
    },
    {
     "name": "stderr",
     "output_type": "stream",
     "text": [
      "[Parallel(n_jobs=1)]: Done  71 tasks       | elapsed:    0.9s\n",
      "[Parallel(n_jobs=1)]: Done  60 tasks       | elapsed:    0.8s\n"
     ]
    },
    {
     "name": "stdout",
     "output_type": "stream",
     "text": [
      "building tree 6 of 100\n"
     ]
    },
    {
     "name": "stderr",
     "output_type": "stream",
     "text": [
      "[Parallel(n_jobs=1)]: Done  71 tasks       | elapsed:    0.9s\n",
      "[Parallel(n_jobs=1)]: Done  84 tasks       | elapsed:    1.1s\n"
     ]
    },
    {
     "name": "stdout",
     "output_type": "stream",
     "text": [
      "building tree 7 of 100\n"
     ]
    },
    {
     "name": "stderr",
     "output_type": "stream",
     "text": [
      "[Parallel(n_jobs=1)]: Done  84 tasks       | elapsed:    1.0s\n",
      "[Parallel(n_jobs=1)]: Done   7 tasks       | elapsed:    0.9s\n"
     ]
    },
    {
     "name": "stdout",
     "output_type": "stream",
     "text": [
      "building tree 8 of 100\n"
     ]
    },
    {
     "name": "stderr",
     "output_type": "stream",
     "text": [
      "[Parallel(n_jobs=1)]: Done  97 tasks       | elapsed:    1.3s\n",
      "[Parallel(n_jobs=1)]: Done 100 out of 100 | elapsed:    1.3s finished\n"
     ]
    },
    {
     "name": "stdout",
     "output_type": "stream",
     "text": [
      "building tree 9 of 100\n"
     ]
    },
    {
     "name": "stderr",
     "output_type": "stream",
     "text": [
      "[Parallel(n_jobs=1)]: Done  97 tasks       | elapsed:    1.2s\n",
      "[Parallel(n_jobs=1)]: Done 100 out of 100 | elapsed:    1.3s finished\n"
     ]
    },
    {
     "name": "stdout",
     "output_type": "stream",
     "text": [
      "building tree 10 of 100\n",
      "building tree 11 of 100\n",
      "building tree 1 of 100\n",
      "building tree 12 of 100\n"
     ]
    },
    {
     "name": "stderr",
     "output_type": "stream",
     "text": [
      "[Parallel(n_jobs=1)]: Done   1 tasks       | elapsed:    0.1s\n"
     ]
    },
    {
     "name": "stdout",
     "output_type": "stream",
     "text": [
      "building tree 2 of 100\n",
      "building tree 1 of 100\n"
     ]
    },
    {
     "name": "stderr",
     "output_type": "stream",
     "text": [
      "[Parallel(n_jobs=1)]: Done  12 tasks       | elapsed:    1.7s\n"
     ]
    },
    {
     "name": "stdout",
     "output_type": "stream",
     "text": [
      "building tree 13 of 100\n",
      "building tree 3 of 100\n"
     ]
    },
    {
     "name": "stderr",
     "output_type": "stream",
     "text": [
      "[Parallel(n_jobs=1)]: Done   1 tasks       | elapsed:    0.1s\n"
     ]
    },
    {
     "name": "stdout",
     "output_type": "stream",
     "text": [
      "building tree 2 of 100\n",
      "building tree 14 of 100\n",
      "building tree 4 of 100\n",
      "building tree 3 of 100\n",
      "building tree 15 of 100\n"
     ]
    },
    {
     "name": "stderr",
     "output_type": "stream",
     "text": [
      "[Parallel(n_jobs=1)]: Done   4 tasks       | elapsed:    0.6s\n"
     ]
    },
    {
     "name": "stdout",
     "output_type": "stream",
     "text": [
      "building tree 5 of 100\n",
      "building tree 4 of 100\n",
      "building tree 16 of 100\n"
     ]
    },
    {
     "name": "stderr",
     "output_type": "stream",
     "text": [
      "[Parallel(n_jobs=1)]: Done   4 tasks       | elapsed:    0.6s\n"
     ]
    },
    {
     "name": "stdout",
     "output_type": "stream",
     "text": [
      "building tree 5 of 100\n",
      "building tree 6 of 100\n",
      "building tree 17 of 100\n",
      "building tree 6 of 100\n",
      "building tree 7 of 100\n"
     ]
    },
    {
     "name": "stderr",
     "output_type": "stream",
     "text": [
      "[Parallel(n_jobs=1)]: Done  17 tasks       | elapsed:    2.5s\n"
     ]
    },
    {
     "name": "stdout",
     "output_type": "stream",
     "text": [
      "building tree 18 of 100\n",
      "building tree 7 of 100\n"
     ]
    },
    {
     "name": "stderr",
     "output_type": "stream",
     "text": [
      "[Parallel(n_jobs=1)]: Done   7 tasks       | elapsed:    1.1s\n"
     ]
    },
    {
     "name": "stdout",
     "output_type": "stream",
     "text": [
      "building tree 8 of 100\n",
      "building tree 19 of 100\n"
     ]
    },
    {
     "name": "stderr",
     "output_type": "stream",
     "text": [
      "[Parallel(n_jobs=1)]: Done   7 tasks       | elapsed:    1.1s\n"
     ]
    },
    {
     "name": "stdout",
     "output_type": "stream",
     "text": [
      "building tree 8 of 100\n",
      "building tree 9 of 100\n",
      "building tree 20 of 100\n",
      "building tree 9 of 100\n",
      "building tree 10 of 100\n",
      "building tree 21 of 100\n",
      "building tree 10 of 100\n",
      "building tree 22 of 100\n",
      "building tree 11 of 100\n",
      "building tree 11 of 100\n",
      "building tree 23 of 100\n",
      "building tree 12 of 100\n",
      "building tree 12 of 100\n",
      "building tree 24 of 100\n"
     ]
    },
    {
     "name": "stderr",
     "output_type": "stream",
     "text": [
      "[Parallel(n_jobs=1)]: Done  12 tasks       | elapsed:    1.9s\n"
     ]
    },
    {
     "name": "stdout",
     "output_type": "stream",
     "text": [
      "building tree 13 of 100\n"
     ]
    },
    {
     "name": "stderr",
     "output_type": "stream",
     "text": [
      "[Parallel(n_jobs=1)]: Done  12 tasks       | elapsed:    1.8s\n"
     ]
    },
    {
     "name": "stdout",
     "output_type": "stream",
     "text": [
      "building tree 13 of 100\n"
     ]
    },
    {
     "name": "stderr",
     "output_type": "stream",
     "text": [
      "[Parallel(n_jobs=1)]: Done  24 tasks       | elapsed:    3.5s\n"
     ]
    },
    {
     "name": "stdout",
     "output_type": "stream",
     "text": [
      "building tree 25 of 100\n",
      "building tree 14 of 100\n",
      "building tree 26 of 100\n",
      "building tree 14 of 100\n",
      "building tree 15 of 100\n",
      "building tree 27 of 100\n",
      "building tree 15 of 100\n",
      "building tree 16 of 100\n",
      "building tree 28 of 100\n",
      "building tree 16 of 100\n",
      "building tree 17 of 100\n",
      "building tree 29 of 100\n",
      "building tree 17 of 100\n",
      "building tree 30 of 100\n"
     ]
    },
    {
     "name": "stderr",
     "output_type": "stream",
     "text": [
      "[Parallel(n_jobs=1)]: Done  17 tasks       | elapsed:    2.7s\n"
     ]
    },
    {
     "name": "stdout",
     "output_type": "stream",
     "text": [
      "building tree 18 of 100\n"
     ]
    },
    {
     "name": "stderr",
     "output_type": "stream",
     "text": [
      "[Parallel(n_jobs=1)]: Done  17 tasks       | elapsed:    2.7s\n"
     ]
    },
    {
     "name": "stdout",
     "output_type": "stream",
     "text": [
      "building tree 18 of 100\n",
      "building tree 31 of 100\n",
      "building tree 19 of 100\n",
      "building tree 19 of 100\n"
     ]
    },
    {
     "name": "stderr",
     "output_type": "stream",
     "text": [
      "[Parallel(n_jobs=1)]: Done  31 tasks       | elapsed:    4.5s\n"
     ]
    },
    {
     "name": "stdout",
     "output_type": "stream",
     "text": [
      "building tree 32 of 100\n",
      "building tree 20 of 100\n",
      "building tree 33 of 100\n",
      "building tree 20 of 100\n",
      "building tree 21 of 100\n",
      "building tree 34 of 100\n",
      "building tree 21 of 100\n",
      "building tree 22 of 100\n",
      "building tree 35 of 100\n",
      "building tree 22 of 100\n",
      "building tree 23 of 100\n",
      "building tree 36 of 100\n",
      "building tree 23 of 100\n",
      "building tree 24 of 100\n",
      "building tree 24 of 100\n",
      "building tree 37 of 100\n"
     ]
    },
    {
     "name": "stderr",
     "output_type": "stream",
     "text": [
      "[Parallel(n_jobs=1)]: Done  24 tasks       | elapsed:    3.8s\n"
     ]
    },
    {
     "name": "stdout",
     "output_type": "stream",
     "text": [
      "building tree 25 of 100\n"
     ]
    },
    {
     "name": "stderr",
     "output_type": "stream",
     "text": [
      "[Parallel(n_jobs=1)]: Done  24 tasks       | elapsed:    3.7s\n"
     ]
    },
    {
     "name": "stdout",
     "output_type": "stream",
     "text": [
      "building tree 25 of 100\n",
      "building tree 26 of 100\n",
      "building tree 38 of 100\n",
      "building tree 26 of 100\n",
      "building tree 27 of 100\n",
      "building tree 39 of 100\n",
      "building tree 27 of 100\n",
      "building tree 28 of 100\n",
      "building tree 40 of 100\n",
      "building tree 29 of 100\n",
      "building tree 28 of 100\n"
     ]
    },
    {
     "name": "stderr",
     "output_type": "stream",
     "text": [
      "[Parallel(n_jobs=1)]: Done  40 tasks       | elapsed:    5.9s\n"
     ]
    },
    {
     "name": "stdout",
     "output_type": "stream",
     "text": [
      "building tree 41 of 100\n",
      "building tree 30 of 100\n",
      "building tree 29 of 100\n",
      "building tree 42 of 100\n",
      "building tree 31 of 100\n",
      "building tree 30 of 100\n",
      "building tree 31 of 100\n",
      "building tree 43 of 100\n"
     ]
    },
    {
     "name": "stderr",
     "output_type": "stream",
     "text": [
      "[Parallel(n_jobs=1)]: Done  31 tasks       | elapsed:    4.7s\n"
     ]
    },
    {
     "name": "stdout",
     "output_type": "stream",
     "text": [
      "building tree 32 of 100\n",
      "building tree 33 of 100\n",
      "building tree 44 of 100\n"
     ]
    },
    {
     "name": "stderr",
     "output_type": "stream",
     "text": [
      "[Parallel(n_jobs=1)]: Done  31 tasks       | elapsed:    4.6s\n"
     ]
    },
    {
     "name": "stdout",
     "output_type": "stream",
     "text": [
      "building tree 32 of 100\n",
      "building tree 34 of 100\n",
      "building tree 45 of 100\n",
      "building tree 33 of 100\n",
      "building tree 35 of 100\n",
      "building tree 46 of 100\n",
      "building tree 34 of 100\n",
      "building tree 36 of 100\n",
      "building tree 47 of 100\n",
      "building tree 35 of 100\n",
      "building tree 37 of 100\n",
      "building tree 36 of 100\n",
      "building tree 48 of 100\n",
      "building tree 38 of 100\n",
      "building tree 37 of 100\n",
      "building tree 49 of 100\n",
      "building tree 39 of 100\n",
      "building tree 38 of 100\n"
     ]
    },
    {
     "name": "stderr",
     "output_type": "stream",
     "text": [
      "[Parallel(n_jobs=1)]: Done  49 tasks       | elapsed:    7.2s\n"
     ]
    },
    {
     "name": "stdout",
     "output_type": "stream",
     "text": [
      "building tree 50 of 100\n",
      "building tree 40 of 100\n",
      "building tree 39 of 100\n",
      "building tree 51 of 100\n"
     ]
    },
    {
     "name": "stderr",
     "output_type": "stream",
     "text": [
      "[Parallel(n_jobs=1)]: Done  40 tasks       | elapsed:    6.0s\n"
     ]
    },
    {
     "name": "stdout",
     "output_type": "stream",
     "text": [
      "building tree 41 of 100\n",
      "building tree 40 of 100\n",
      "building tree 52 of 100\n",
      "building tree 53 of 100\n"
     ]
    },
    {
     "name": "stderr",
     "output_type": "stream",
     "text": [
      "[Parallel(n_jobs=1)]: Done  40 tasks       | elapsed:    6.0s\n"
     ]
    },
    {
     "name": "stdout",
     "output_type": "stream",
     "text": [
      "building tree 41 of 100\n",
      "building tree 42 of 100\n",
      "building tree 54 of 100\n",
      "building tree 43 of 100\n",
      "building tree 42 of 100\n",
      "building tree 44 of 100\n",
      "building tree 55 of 100\n",
      "building tree 43 of 100\n",
      "building tree 45 of 100\n",
      "building tree 56 of 100\n",
      "building tree 46 of 100\n",
      "building tree 44 of 100\n",
      "building tree 57 of 100\n",
      "building tree 47 of 100\n",
      "building tree 45 of 100\n",
      "building tree 58 of 100\n",
      "building tree 46 of 100\n",
      "building tree 48 of 100\n",
      "building tree 59 of 100\n",
      "building tree 49 of 100\n",
      "building tree 47 of 100\n",
      "building tree 60 of 100\n"
     ]
    },
    {
     "name": "stderr",
     "output_type": "stream",
     "text": [
      "[Parallel(n_jobs=1)]: Done  49 tasks       | elapsed:    7.2s\n"
     ]
    },
    {
     "name": "stdout",
     "output_type": "stream",
     "text": [
      "building tree 50 of 100\n",
      "building tree 48 of 100\n"
     ]
    },
    {
     "name": "stderr",
     "output_type": "stream",
     "text": [
      "[Parallel(n_jobs=1)]: Done  60 tasks       | elapsed:    8.8s\n"
     ]
    },
    {
     "name": "stdout",
     "output_type": "stream",
     "text": [
      "building tree 61 of 100\n",
      "building tree 51 of 100\n",
      "building tree 49 of 100\n",
      "building tree 62 of 100\n"
     ]
    },
    {
     "name": "stderr",
     "output_type": "stream",
     "text": [
      "[Parallel(n_jobs=1)]: Done  49 tasks       | elapsed:    7.3s\n"
     ]
    },
    {
     "name": "stdout",
     "output_type": "stream",
     "text": [
      "building tree 50 of 100\n",
      "building tree 52 of 100\n",
      "building tree 63 of 100\n",
      "building tree 53 of 100\n",
      "building tree 51 of 100\n",
      "building tree 64 of 100\n",
      "building tree 54 of 100\n",
      "building tree 52 of 100\n",
      "building tree 65 of 100\n",
      "building tree 55 of 100\n",
      "building tree 53 of 100\n",
      "building tree 66 of 100\n",
      "building tree 56 of 100\n",
      "building tree 54 of 100\n",
      "building tree 57 of 100\n",
      "building tree 55 of 100\n",
      "building tree 67 of 100\n",
      "building tree 58 of 100\n",
      "building tree 56 of 100\n",
      "building tree 68 of 100\n",
      "building tree 57 of 100\n",
      "building tree 59 of 100\n",
      "building tree 69 of 100\n",
      "building tree 58 of 100\n",
      "building tree 60 of 100\n",
      "building tree 59 of 100\n",
      "building tree 70 of 100\n"
     ]
    },
    {
     "name": "stderr",
     "output_type": "stream",
     "text": [
      "[Parallel(n_jobs=1)]: Done  60 tasks       | elapsed:    8.6s\n"
     ]
    },
    {
     "name": "stdout",
     "output_type": "stream",
     "text": [
      "building tree 61 of 100\n",
      "building tree 62 of 100\n",
      "building tree 71 of 100\n",
      "building tree 60 of 100\n",
      "building tree 63 of 100\n"
     ]
    },
    {
     "name": "stderr",
     "output_type": "stream",
     "text": [
      "[Parallel(n_jobs=1)]: Done  71 tasks       | elapsed:   10.5s\n"
     ]
    },
    {
     "name": "stdout",
     "output_type": "stream",
     "text": [
      "building tree 72 of 100\n"
     ]
    },
    {
     "name": "stderr",
     "output_type": "stream",
     "text": [
      "[Parallel(n_jobs=1)]: Done  60 tasks       | elapsed:    8.8s\n"
     ]
    },
    {
     "name": "stdout",
     "output_type": "stream",
     "text": [
      "building tree 61 of 100\n",
      "building tree 64 of 100\n",
      "building tree 73 of 100\n",
      "building tree 62 of 100\n",
      "building tree 65 of 100\n",
      "building tree 74 of 100\n",
      "building tree 63 of 100\n",
      "building tree 66 of 100\n",
      "building tree 75 of 100\n",
      "building tree 64 of 100\n",
      "building tree 67 of 100\n",
      "building tree 76 of 100\n",
      "building tree 65 of 100\n",
      "building tree 68 of 100\n",
      "building tree 77 of 100\n",
      "building tree 69 of 100\n",
      "building tree 66 of 100\n",
      "building tree 67 of 100\n",
      "building tree 78 of 100\n",
      "building tree 70 of 100\n",
      "building tree 68 of 100\n",
      "building tree 79 of 100\n",
      "building tree 71 of 100\n",
      "building tree 69 of 100\n",
      "building tree 70 of 100\n",
      "building tree 80 of 100\n"
     ]
    },
    {
     "name": "stderr",
     "output_type": "stream",
     "text": [
      "[Parallel(n_jobs=1)]: Done  71 tasks       | elapsed:   10.2s\n"
     ]
    },
    {
     "name": "stdout",
     "output_type": "stream",
     "text": [
      "building tree 72 of 100\n",
      "building tree 73 of 100\n",
      "building tree 81 of 100\n",
      "building tree 71 of 100\n",
      "building tree 74 of 100\n",
      "building tree 82 of 100\n"
     ]
    },
    {
     "name": "stderr",
     "output_type": "stream",
     "text": [
      "[Parallel(n_jobs=1)]: Done  71 tasks       | elapsed:   10.3s\n"
     ]
    },
    {
     "name": "stdout",
     "output_type": "stream",
     "text": [
      "building tree 72 of 100\n",
      "building tree 75 of 100\n",
      "building tree 83 of 100\n",
      "building tree 73 of 100\n",
      "building tree 76 of 100\n",
      "building tree 84 of 100\n",
      "building tree 77 of 100\n",
      "building tree 74 of 100\n",
      "building tree 75 of 100\n"
     ]
    },
    {
     "name": "stderr",
     "output_type": "stream",
     "text": [
      "[Parallel(n_jobs=1)]: Done  84 tasks       | elapsed:   12.4s\n"
     ]
    },
    {
     "name": "stdout",
     "output_type": "stream",
     "text": [
      "building tree 85 of 100\n",
      "building tree 78 of 100\n",
      "building tree 76 of 100\n",
      "building tree 86 of 100\n",
      "building tree 79 of 100\n",
      "building tree 77 of 100\n",
      "building tree 87 of 100\n",
      "building tree 80 of 100\n",
      "building tree 78 of 100\n",
      "building tree 88 of 100\n",
      "building tree 79 of 100\n",
      "building tree 81 of 100\n",
      "building tree 89 of 100\n",
      "building tree 80 of 100\n",
      "building tree 82 of 100\n",
      "building tree 90 of 100\n",
      "building tree 81 of 100\n",
      "building tree 83 of 100\n",
      "building tree 91 of 100\n",
      "building tree 82 of 100\n",
      "building tree 84 of 100\n",
      "building tree 92 of 100\n",
      "building tree 83 of 100\n",
      "building tree 93 of 100\n"
     ]
    },
    {
     "name": "stderr",
     "output_type": "stream",
     "text": [
      "[Parallel(n_jobs=1)]: Done  84 tasks       | elapsed:   12.0s\n"
     ]
    },
    {
     "name": "stdout",
     "output_type": "stream",
     "text": [
      "building tree 85 of 100\n",
      "building tree 84 of 100\n",
      "building tree 94 of 100\n",
      "building tree 86 of 100\n",
      "building tree 95 of 100\n",
      "building tree 87 of 100\n"
     ]
    },
    {
     "name": "stderr",
     "output_type": "stream",
     "text": [
      "[Parallel(n_jobs=1)]: Done  84 tasks       | elapsed:   12.1s\n"
     ]
    },
    {
     "name": "stdout",
     "output_type": "stream",
     "text": [
      "building tree 85 of 100\n",
      "building tree 96 of 100\n",
      "building tree 88 of 100\n",
      "building tree 86 of 100\n",
      "building tree 97 of 100\n",
      "building tree 89 of 100\n",
      "building tree 90 of 100\n"
     ]
    },
    {
     "name": "stderr",
     "output_type": "stream",
     "text": [
      "[Parallel(n_jobs=1)]: Done  97 tasks       | elapsed:   14.1s\n"
     ]
    },
    {
     "name": "stdout",
     "output_type": "stream",
     "text": [
      "building tree 98 of 100\n",
      "building tree 87 of 100\n",
      "building tree 99 of 100\n",
      "building tree 91 of 100\n",
      "building tree 88 of 100\n",
      "building tree 100 of 100\n",
      "building tree 92 of 100\n",
      "building tree 89 of 100\n"
     ]
    },
    {
     "name": "stderr",
     "output_type": "stream",
     "text": [
      "[Parallel(n_jobs=1)]: Done 100 out of 100 | elapsed:   14.5s finished\n",
      "[Parallel(n_jobs=1)]: Done   1 tasks       | elapsed:    0.0s\n"
     ]
    },
    {
     "name": "stdout",
     "output_type": "stream",
     "text": [
      "building tree 93 of 100\n"
     ]
    },
    {
     "name": "stderr",
     "output_type": "stream",
     "text": [
      "[Parallel(n_jobs=1)]: Done   4 tasks       | elapsed:    0.1s\n",
      "[Parallel(n_jobs=1)]: Done   7 tasks       | elapsed:    0.1s\n"
     ]
    },
    {
     "name": "stdout",
     "output_type": "stream",
     "text": [
      "building tree 90 of 100\n"
     ]
    },
    {
     "name": "stderr",
     "output_type": "stream",
     "text": [
      "[Parallel(n_jobs=1)]: Done  12 tasks       | elapsed:    0.1s\n"
     ]
    },
    {
     "name": "stdout",
     "output_type": "stream",
     "text": [
      "building tree 94 of 100\n"
     ]
    },
    {
     "name": "stderr",
     "output_type": "stream",
     "text": [
      "[Parallel(n_jobs=1)]: Done  17 tasks       | elapsed:    0.2s\n"
     ]
    },
    {
     "name": "stdout",
     "output_type": "stream",
     "text": [
      "building tree 91 of 100\n",
      "building tree 95 of 100\n"
     ]
    },
    {
     "name": "stderr",
     "output_type": "stream",
     "text": [
      "[Parallel(n_jobs=1)]: Done  24 tasks       | elapsed:    0.3s\n",
      "[Parallel(n_jobs=1)]: Done  31 tasks       | elapsed:    0.4s\n"
     ]
    },
    {
     "name": "stdout",
     "output_type": "stream",
     "text": [
      "building tree 96 of 100\n",
      "building tree 92 of 100\n",
      "building tree 97 of 100\n"
     ]
    },
    {
     "name": "stderr",
     "output_type": "stream",
     "text": [
      "[Parallel(n_jobs=1)]: Done  40 tasks       | elapsed:    0.5s\n"
     ]
    },
    {
     "name": "stdout",
     "output_type": "stream",
     "text": [
      "building tree 93 of 100\n"
     ]
    },
    {
     "name": "stderr",
     "output_type": "stream",
     "text": [
      "[Parallel(n_jobs=1)]: Done  49 tasks       | elapsed:    0.6s\n",
      "[Parallel(n_jobs=1)]: Done  97 tasks       | elapsed:   13.7s\n"
     ]
    },
    {
     "name": "stdout",
     "output_type": "stream",
     "text": [
      "building tree 98 of 100\n",
      "building tree 94 of 100\n"
     ]
    },
    {
     "name": "stderr",
     "output_type": "stream",
     "text": [
      "[Parallel(n_jobs=1)]: Done  60 tasks       | elapsed:    0.7s\n"
     ]
    },
    {
     "name": "stdout",
     "output_type": "stream",
     "text": [
      "building tree 99 of 100\n"
     ]
    },
    {
     "name": "stderr",
     "output_type": "stream",
     "text": [
      "[Parallel(n_jobs=1)]: Done  71 tasks       | elapsed:    0.8s\n"
     ]
    },
    {
     "name": "stdout",
     "output_type": "stream",
     "text": [
      "building tree 95 of 100\n",
      "building tree 100 of 100\n"
     ]
    },
    {
     "name": "stderr",
     "output_type": "stream",
     "text": [
      "[Parallel(n_jobs=1)]: Done  84 tasks       | elapsed:    1.0s\n",
      "[Parallel(n_jobs=1)]: Done 100 out of 100 | elapsed:   14.0s finished\n"
     ]
    },
    {
     "name": "stdout",
     "output_type": "stream",
     "text": [
      "building tree 96 of 100\n"
     ]
    },
    {
     "name": "stderr",
     "output_type": "stream",
     "text": [
      "[Parallel(n_jobs=1)]: Done   1 tasks       | elapsed:    0.0s\n",
      "[Parallel(n_jobs=1)]: Done   4 tasks       | elapsed:    0.1s\n",
      "[Parallel(n_jobs=1)]: Done   7 tasks       | elapsed:    0.1s\n",
      "[Parallel(n_jobs=1)]: Done  97 tasks       | elapsed:    1.1s\n",
      "[Parallel(n_jobs=1)]: Done  12 tasks       | elapsed:    0.1s\n"
     ]
    },
    {
     "name": "stdout",
     "output_type": "stream",
     "text": [
      "building tree 97 of 100\n"
     ]
    },
    {
     "name": "stderr",
     "output_type": "stream",
     "text": [
      "[Parallel(n_jobs=1)]: Done 100 out of 100 | elapsed:    1.1s finished\n",
      "[Parallel(n_jobs=1)]: Done  17 tasks       | elapsed:    0.2s\n",
      "[Parallel(n_jobs=1)]: Done  24 tasks       | elapsed:    0.3s\n",
      "[Parallel(n_jobs=1)]: Done  97 tasks       | elapsed:   14.1s\n"
     ]
    },
    {
     "name": "stdout",
     "output_type": "stream",
     "text": [
      "building tree 98 of 100\n"
     ]
    },
    {
     "name": "stderr",
     "output_type": "stream",
     "text": [
      "[Parallel(n_jobs=1)]: Done  31 tasks       | elapsed:    0.4s\n"
     ]
    },
    {
     "name": "stdout",
     "output_type": "stream",
     "text": [
      "building tree 99 of 100\n"
     ]
    },
    {
     "name": "stderr",
     "output_type": "stream",
     "text": [
      "[Parallel(n_jobs=1)]: Done  40 tasks       | elapsed:    0.5s\n",
      "[Parallel(n_jobs=1)]: Done  49 tasks       | elapsed:    0.6s\n"
     ]
    },
    {
     "name": "stdout",
     "output_type": "stream",
     "text": [
      "building tree 1 of 100\n",
      "building tree 100 of 100\n"
     ]
    },
    {
     "name": "stderr",
     "output_type": "stream",
     "text": [
      "[Parallel(n_jobs=1)]: Done  60 tasks       | elapsed:    0.7s\n",
      "[Parallel(n_jobs=1)]: Done 100 out of 100 | elapsed:   14.6s finished\n",
      "[Parallel(n_jobs=1)]: Done   1 tasks       | elapsed:    0.2s\n"
     ]
    },
    {
     "name": "stdout",
     "output_type": "stream",
     "text": [
      "building tree 2 of 100\n"
     ]
    },
    {
     "name": "stderr",
     "output_type": "stream",
     "text": [
      "[Parallel(n_jobs=1)]: Done   1 tasks       | elapsed:    0.0s\n",
      "[Parallel(n_jobs=1)]: Done  71 tasks       | elapsed:    0.8s\n",
      "[Parallel(n_jobs=1)]: Done   4 tasks       | elapsed:    0.1s\n",
      "[Parallel(n_jobs=1)]: Done   7 tasks       | elapsed:    0.1s\n"
     ]
    },
    {
     "name": "stdout",
     "output_type": "stream",
     "text": [
      "building tree 3 of 100\n"
     ]
    },
    {
     "name": "stderr",
     "output_type": "stream",
     "text": [
      "[Parallel(n_jobs=1)]: Done  12 tasks       | elapsed:    0.1s\n",
      "[Parallel(n_jobs=1)]: Done  84 tasks       | elapsed:    1.0s\n",
      "[Parallel(n_jobs=1)]: Done  17 tasks       | elapsed:    0.2s\n"
     ]
    },
    {
     "name": "stdout",
     "output_type": "stream",
     "text": [
      "building tree 4 of 100\n"
     ]
    },
    {
     "name": "stderr",
     "output_type": "stream",
     "text": [
      "[Parallel(n_jobs=1)]: Done  24 tasks       | elapsed:    0.3s\n",
      "[Parallel(n_jobs=1)]: Done  97 tasks       | elapsed:    1.1s\n",
      "[Parallel(n_jobs=1)]: Done 100 out of 100 | elapsed:    1.2s finished\n",
      "[Parallel(n_jobs=1)]: Done  31 tasks       | elapsed:    0.4s\n",
      "[Parallel(n_jobs=1)]: Done   4 tasks       | elapsed:    0.6s\n"
     ]
    },
    {
     "name": "stdout",
     "output_type": "stream",
     "text": [
      "building tree 5 of 100\n"
     ]
    },
    {
     "name": "stderr",
     "output_type": "stream",
     "text": [
      "[Parallel(n_jobs=1)]: Done  40 tasks       | elapsed:    0.5s\n"
     ]
    },
    {
     "name": "stdout",
     "output_type": "stream",
     "text": [
      "building tree 6 of 100\n"
     ]
    },
    {
     "name": "stderr",
     "output_type": "stream",
     "text": [
      "[Parallel(n_jobs=1)]: Done  49 tasks       | elapsed:    0.6s\n"
     ]
    },
    {
     "name": "stdout",
     "output_type": "stream",
     "text": [
      "building tree 7 of 100\n"
     ]
    },
    {
     "name": "stderr",
     "output_type": "stream",
     "text": [
      "[Parallel(n_jobs=1)]: Done  60 tasks       | elapsed:    0.8s\n",
      "[Parallel(n_jobs=1)]: Done   7 tasks       | elapsed:    1.0s\n"
     ]
    },
    {
     "name": "stdout",
     "output_type": "stream",
     "text": [
      "building tree 8 of 100\n",
      "building tree 1 of 100\n"
     ]
    },
    {
     "name": "stderr",
     "output_type": "stream",
     "text": [
      "[Parallel(n_jobs=1)]: Done  71 tasks       | elapsed:    0.9s\n"
     ]
    },
    {
     "name": "stdout",
     "output_type": "stream",
     "text": [
      "building tree 9 of 100\n"
     ]
    },
    {
     "name": "stderr",
     "output_type": "stream",
     "text": [
      "[Parallel(n_jobs=1)]: Done   1 tasks       | elapsed:    0.1s\n"
     ]
    },
    {
     "name": "stdout",
     "output_type": "stream",
     "text": [
      "building tree 2 of 100\n"
     ]
    },
    {
     "name": "stderr",
     "output_type": "stream",
     "text": [
      "[Parallel(n_jobs=1)]: Done  84 tasks       | elapsed:    1.1s\n"
     ]
    },
    {
     "name": "stdout",
     "output_type": "stream",
     "text": [
      "building tree 10 of 100\n",
      "building tree 3 of 100\n"
     ]
    },
    {
     "name": "stderr",
     "output_type": "stream",
     "text": [
      "[Parallel(n_jobs=1)]: Done  97 tasks       | elapsed:    1.3s\n"
     ]
    },
    {
     "name": "stdout",
     "output_type": "stream",
     "text": [
      "building tree 11 of 100\n",
      "building tree 4 of 100\n"
     ]
    },
    {
     "name": "stderr",
     "output_type": "stream",
     "text": [
      "[Parallel(n_jobs=1)]: Done 100 out of 100 | elapsed:    1.3s finished\n"
     ]
    },
    {
     "name": "stdout",
     "output_type": "stream",
     "text": [
      "building tree 12 of 100\n"
     ]
    },
    {
     "name": "stderr",
     "output_type": "stream",
     "text": [
      "[Parallel(n_jobs=1)]: Done   4 tasks       | elapsed:    0.6s\n"
     ]
    },
    {
     "name": "stdout",
     "output_type": "stream",
     "text": [
      "building tree 5 of 100\n"
     ]
    },
    {
     "name": "stderr",
     "output_type": "stream",
     "text": [
      "[Parallel(n_jobs=1)]: Done  12 tasks       | elapsed:    1.8s\n"
     ]
    },
    {
     "name": "stdout",
     "output_type": "stream",
     "text": [
      "building tree 13 of 100\n",
      "building tree 6 of 100\n",
      "building tree 14 of 100\n",
      "building tree 7 of 100\n",
      "building tree 1 of 100\n",
      "building tree 15 of 100\n"
     ]
    },
    {
     "name": "stderr",
     "output_type": "stream",
     "text": [
      "[Parallel(n_jobs=1)]: Done   1 tasks       | elapsed:    0.1s\n"
     ]
    },
    {
     "name": "stdout",
     "output_type": "stream",
     "text": [
      "building tree 2 of 100\n"
     ]
    },
    {
     "name": "stderr",
     "output_type": "stream",
     "text": [
      "[Parallel(n_jobs=1)]: Done   7 tasks       | elapsed:    1.1s\n"
     ]
    },
    {
     "name": "stdout",
     "output_type": "stream",
     "text": [
      "building tree 8 of 100\n",
      "building tree 9 of 100\n",
      "building tree 16 of 100\n",
      "building tree 3 of 100\n",
      "building tree 10 of 100\n",
      "building tree 4 of 100\n",
      "building tree 17 of 100\n",
      "building tree 11 of 100\n"
     ]
    },
    {
     "name": "stderr",
     "output_type": "stream",
     "text": [
      "[Parallel(n_jobs=1)]: Done   4 tasks       | elapsed:    0.6s\n"
     ]
    },
    {
     "name": "stdout",
     "output_type": "stream",
     "text": [
      "building tree 5 of 100\n"
     ]
    },
    {
     "name": "stderr",
     "output_type": "stream",
     "text": [
      "[Parallel(n_jobs=1)]: Done  17 tasks       | elapsed:    2.6s\n"
     ]
    },
    {
     "name": "stdout",
     "output_type": "stream",
     "text": [
      "building tree 18 of 100\n",
      "building tree 12 of 100\n",
      "building tree 19 of 100\n",
      "building tree 6 of 100\n"
     ]
    },
    {
     "name": "stderr",
     "output_type": "stream",
     "text": [
      "[Parallel(n_jobs=1)]: Done  12 tasks       | elapsed:    1.8s\n"
     ]
    },
    {
     "name": "stdout",
     "output_type": "stream",
     "text": [
      "building tree 13 of 100\n",
      "building tree 20 of 100\n",
      "building tree 21 of 100\n",
      "building tree 7 of 100\n",
      "building tree 14 of 100\n",
      "building tree 15 of 100\n",
      "building tree 22 of 100\n"
     ]
    },
    {
     "name": "stderr",
     "output_type": "stream",
     "text": [
      "[Parallel(n_jobs=1)]: Done   7 tasks       | elapsed:    1.1s\n"
     ]
    },
    {
     "name": "stdout",
     "output_type": "stream",
     "text": [
      "building tree 8 of 100\n",
      "building tree 23 of 100\n",
      "building tree 16 of 100\n",
      "building tree 9 of 100\n",
      "building tree 17 of 100\n",
      "building tree 24 of 100\n",
      "building tree 10 of 100\n"
     ]
    },
    {
     "name": "stderr",
     "output_type": "stream",
     "text": [
      "[Parallel(n_jobs=1)]: Done  17 tasks       | elapsed:    2.4s\n"
     ]
    },
    {
     "name": "stdout",
     "output_type": "stream",
     "text": [
      "building tree 18 of 100\n"
     ]
    },
    {
     "name": "stderr",
     "output_type": "stream",
     "text": [
      "[Parallel(n_jobs=1)]: Done  24 tasks       | elapsed:    3.5s\n"
     ]
    },
    {
     "name": "stdout",
     "output_type": "stream",
     "text": [
      "building tree 25 of 100\n",
      "building tree 11 of 100\n",
      "building tree 19 of 100\n",
      "building tree 26 of 100\n",
      "building tree 12 of 100\n",
      "building tree 20 of 100\n",
      "building tree 27 of 100\n",
      "building tree 21 of 100\n"
     ]
    },
    {
     "name": "stderr",
     "output_type": "stream",
     "text": [
      "[Parallel(n_jobs=1)]: Done  12 tasks       | elapsed:    1.9s\n"
     ]
    },
    {
     "name": "stdout",
     "output_type": "stream",
     "text": [
      "building tree 13 of 100\n",
      "building tree 28 of 100\n",
      "building tree 29 of 100\n",
      "building tree 22 of 100\n",
      "building tree 14 of 100\n",
      "building tree 23 of 100\n",
      "building tree 30 of 100\n",
      "building tree 15 of 100\n",
      "building tree 24 of 100\n",
      "building tree 31 of 100\n"
     ]
    },
    {
     "name": "stderr",
     "output_type": "stream",
     "text": [
      "[Parallel(n_jobs=1)]: Done  24 tasks       | elapsed:    3.3s\n"
     ]
    },
    {
     "name": "stdout",
     "output_type": "stream",
     "text": [
      "building tree 25 of 100\n",
      "building tree 16 of 100\n",
      "building tree 26 of 100\n"
     ]
    },
    {
     "name": "stderr",
     "output_type": "stream",
     "text": [
      "[Parallel(n_jobs=1)]: Done  31 tasks       | elapsed:    4.5s\n"
     ]
    },
    {
     "name": "stdout",
     "output_type": "stream",
     "text": [
      "building tree 32 of 100\n",
      "building tree 27 of 100\n",
      "building tree 17 of 100\n",
      "building tree 33 of 100\n",
      "building tree 28 of 100\n"
     ]
    },
    {
     "name": "stderr",
     "output_type": "stream",
     "text": [
      "[Parallel(n_jobs=1)]: Done  17 tasks       | elapsed:    2.8s\n"
     ]
    },
    {
     "name": "stdout",
     "output_type": "stream",
     "text": [
      "building tree 18 of 100\n",
      "building tree 29 of 100\n",
      "building tree 34 of 100\n",
      "building tree 30 of 100\n",
      "building tree 19 of 100\n",
      "building tree 35 of 100\n",
      "building tree 31 of 100\n",
      "building tree 20 of 100\n",
      "building tree 36 of 100\n"
     ]
    },
    {
     "name": "stderr",
     "output_type": "stream",
     "text": [
      "[Parallel(n_jobs=1)]: Done  31 tasks       | elapsed:    4.1s\n"
     ]
    },
    {
     "name": "stdout",
     "output_type": "stream",
     "text": [
      "building tree 32 of 100\n",
      "building tree 21 of 100\n",
      "building tree 33 of 100\n",
      "building tree 37 of 100\n",
      "building tree 38 of 100\n",
      "building tree 22 of 100\n",
      "building tree 34 of 100\n",
      "building tree 39 of 100\n",
      "building tree 35 of 100\n",
      "building tree 40 of 100\n",
      "building tree 23 of 100\n",
      "building tree 36 of 100\n"
     ]
    },
    {
     "name": "stderr",
     "output_type": "stream",
     "text": [
      "[Parallel(n_jobs=1)]: Done  40 tasks       | elapsed:    5.7s\n"
     ]
    },
    {
     "name": "stdout",
     "output_type": "stream",
     "text": [
      "building tree 41 of 100\n",
      "building tree 24 of 100\n",
      "building tree 37 of 100\n",
      "building tree 38 of 100\n",
      "building tree 42 of 100\n"
     ]
    },
    {
     "name": "stderr",
     "output_type": "stream",
     "text": [
      "[Parallel(n_jobs=1)]: Done  24 tasks       | elapsed:    3.9s\n"
     ]
    },
    {
     "name": "stdout",
     "output_type": "stream",
     "text": [
      "building tree 25 of 100\n",
      "building tree 26 of 100\n",
      "building tree 39 of 100\n",
      "building tree 43 of 100\n",
      "building tree 27 of 100\n",
      "building tree 40 of 100\n",
      "building tree 44 of 100\n",
      "building tree 28 of 100\n",
      "building tree 29 of 100\n"
     ]
    },
    {
     "name": "stderr",
     "output_type": "stream",
     "text": [
      "[Parallel(n_jobs=1)]: Done  40 tasks       | elapsed:    5.3s\n"
     ]
    },
    {
     "name": "stdout",
     "output_type": "stream",
     "text": [
      "building tree 45 of 100\n",
      "building tree 41 of 100\n",
      "building tree 30 of 100\n",
      "building tree 31 of 100\n",
      "building tree 46 of 100\n",
      "building tree 42 of 100\n"
     ]
    },
    {
     "name": "stderr",
     "output_type": "stream",
     "text": [
      "[Parallel(n_jobs=1)]: Done  31 tasks       | elapsed:    4.6s\n"
     ]
    },
    {
     "name": "stdout",
     "output_type": "stream",
     "text": [
      "building tree 32 of 100\n",
      "building tree 43 of 100\n",
      "building tree 47 of 100\n",
      "building tree 33 of 100\n",
      "building tree 44 of 100\n",
      "building tree 48 of 100\n",
      "building tree 45 of 100\n",
      "building tree 34 of 100\n",
      "building tree 49 of 100\n",
      "building tree 46 of 100\n",
      "building tree 35 of 100\n",
      "building tree 47 of 100\n"
     ]
    },
    {
     "name": "stderr",
     "output_type": "stream",
     "text": [
      "[Parallel(n_jobs=1)]: Done  49 tasks       | elapsed:    7.1s\n"
     ]
    },
    {
     "name": "stdout",
     "output_type": "stream",
     "text": [
      "building tree 50 of 100\n",
      "building tree 48 of 100\n",
      "building tree 36 of 100\n",
      "building tree 51 of 100\n",
      "building tree 49 of 100\n",
      "building tree 52 of 100\n",
      "building tree 37 of 100\n",
      "building tree 53 of 100\n"
     ]
    },
    {
     "name": "stderr",
     "output_type": "stream",
     "text": [
      "[Parallel(n_jobs=1)]: Done  49 tasks       | elapsed:    6.5s\n"
     ]
    },
    {
     "name": "stdout",
     "output_type": "stream",
     "text": [
      "building tree 50 of 100\n",
      "building tree 54 of 100\n",
      "building tree 38 of 100\n",
      "building tree 51 of 100\n",
      "building tree 55 of 100\n",
      "building tree 39 of 100\n",
      "building tree 52 of 100\n",
      "building tree 40 of 100\n",
      "building tree 56 of 100\n",
      "building tree 53 of 100\n",
      "building tree 57 of 100\n",
      "building tree 54 of 100\n"
     ]
    },
    {
     "name": "stderr",
     "output_type": "stream",
     "text": [
      "[Parallel(n_jobs=1)]: Done  40 tasks       | elapsed:    6.2s\n"
     ]
    },
    {
     "name": "stdout",
     "output_type": "stream",
     "text": [
      "building tree 41 of 100\n",
      "building tree 58 of 100\n",
      "building tree 55 of 100\n",
      "building tree 42 of 100\n",
      "building tree 59 of 100\n",
      "building tree 56 of 100\n",
      "building tree 60 of 100\n",
      "building tree 43 of 100\n",
      "building tree 57 of 100\n",
      "building tree 44 of 100\n"
     ]
    },
    {
     "name": "stderr",
     "output_type": "stream",
     "text": [
      "[Parallel(n_jobs=1)]: Done  60 tasks       | elapsed:    8.7s\n"
     ]
    },
    {
     "name": "stdout",
     "output_type": "stream",
     "text": [
      "building tree 61 of 100\n",
      "building tree 58 of 100\n",
      "building tree 45 of 100\n",
      "building tree 62 of 100\n",
      "building tree 59 of 100\n",
      "building tree 63 of 100\n",
      "building tree 46 of 100\n",
      "building tree 60 of 100\n",
      "building tree 64 of 100\n"
     ]
    },
    {
     "name": "stderr",
     "output_type": "stream",
     "text": [
      "[Parallel(n_jobs=1)]: Done  60 tasks       | elapsed:    8.2s\n"
     ]
    },
    {
     "name": "stdout",
     "output_type": "stream",
     "text": [
      "building tree 61 of 100\n",
      "building tree 65 of 100\n",
      "building tree 47 of 100\n",
      "building tree 62 of 100\n",
      "building tree 66 of 100\n",
      "building tree 48 of 100\n",
      "building tree 63 of 100\n",
      "building tree 49 of 100\n",
      "building tree 67 of 100\n",
      "building tree 64 of 100\n"
     ]
    },
    {
     "name": "stderr",
     "output_type": "stream",
     "text": [
      "[Parallel(n_jobs=1)]: Done  49 tasks       | elapsed:    7.9s\n"
     ]
    },
    {
     "name": "stdout",
     "output_type": "stream",
     "text": [
      "building tree 50 of 100\n",
      "building tree 65 of 100\n",
      "building tree 68 of 100\n",
      "building tree 51 of 100\n",
      "building tree 69 of 100\n",
      "building tree 66 of 100\n",
      "building tree 70 of 100\n",
      "building tree 52 of 100\n",
      "building tree 67 of 100\n",
      "building tree 71 of 100\n",
      "building tree 68 of 100\n",
      "building tree 53 of 100\n",
      "building tree 54 of 100\n"
     ]
    },
    {
     "name": "stderr",
     "output_type": "stream",
     "text": [
      "[Parallel(n_jobs=1)]: Done  71 tasks       | elapsed:   10.8s\n"
     ]
    },
    {
     "name": "stdout",
     "output_type": "stream",
     "text": [
      "building tree 72 of 100\n",
      "building tree 69 of 100\n",
      "building tree 55 of 100\n",
      "building tree 73 of 100\n",
      "building tree 70 of 100\n",
      "building tree 74 of 100\n",
      "building tree 56 of 100\n",
      "building tree 71 of 100\n",
      "building tree 75 of 100\n"
     ]
    },
    {
     "name": "stderr",
     "output_type": "stream",
     "text": [
      "[Parallel(n_jobs=1)]: Done  71 tasks       | elapsed:   10.2s\n"
     ]
    },
    {
     "name": "stdout",
     "output_type": "stream",
     "text": [
      "building tree 72 of 100\n",
      "building tree 57 of 100\n",
      "building tree 76 of 100\n",
      "building tree 73 of 100\n",
      "building tree 58 of 100\n",
      "building tree 77 of 100\n",
      "building tree 74 of 100\n",
      "building tree 59 of 100\n",
      "building tree 78 of 100\n",
      "building tree 75 of 100\n",
      "building tree 60 of 100\n",
      "building tree 79 of 100\n",
      "building tree 76 of 100\n"
     ]
    },
    {
     "name": "stderr",
     "output_type": "stream",
     "text": [
      "[Parallel(n_jobs=1)]: Done  60 tasks       | elapsed:   10.0s\n"
     ]
    },
    {
     "name": "stdout",
     "output_type": "stream",
     "text": [
      "building tree 80 of 100\n",
      "building tree 61 of 100\n",
      "building tree 81 of 100\n",
      "building tree 62 of 100\n",
      "building tree 77 of 100\n",
      "building tree 82 of 100\n",
      "building tree 78 of 100\n",
      "building tree 63 of 100\n",
      "building tree 83 of 100\n",
      "building tree 79 of 100\n",
      "building tree 64 of 100\n",
      "building tree 80 of 100\n",
      "building tree 84 of 100\n",
      "building tree 65 of 100\n",
      "building tree 66 of 100\n",
      "building tree 81 of 100\n"
     ]
    },
    {
     "name": "stderr",
     "output_type": "stream",
     "text": [
      "[Parallel(n_jobs=1)]: Done  84 tasks       | elapsed:   12.8s\n"
     ]
    },
    {
     "name": "stdout",
     "output_type": "stream",
     "text": [
      "building tree 85 of 100\n",
      "building tree 67 of 100\n",
      "building tree 86 of 100\n",
      "building tree 82 of 100\n",
      "building tree 68 of 100\n",
      "building tree 83 of 100\n",
      "building tree 87 of 100\n",
      "building tree 69 of 100\n",
      "building tree 88 of 100\n",
      "building tree 84 of 100\n",
      "building tree 89 of 100\n",
      "building tree 70 of 100\n"
     ]
    },
    {
     "name": "stderr",
     "output_type": "stream",
     "text": [
      "[Parallel(n_jobs=1)]: Done  84 tasks       | elapsed:   12.6s\n"
     ]
    },
    {
     "name": "stdout",
     "output_type": "stream",
     "text": [
      "building tree 85 of 100\n",
      "building tree 90 of 100\n",
      "building tree 71 of 100\n",
      "building tree 86 of 100\n",
      "building tree 91 of 100\n"
     ]
    },
    {
     "name": "stderr",
     "output_type": "stream",
     "text": [
      "[Parallel(n_jobs=1)]: Done  71 tasks       | elapsed:   11.9s\n"
     ]
    },
    {
     "name": "stdout",
     "output_type": "stream",
     "text": [
      "building tree 72 of 100\n",
      "building tree 87 of 100\n",
      "building tree 92 of 100\n",
      "building tree 88 of 100\n",
      "building tree 73 of 100\n",
      "building tree 89 of 100\n",
      "building tree 93 of 100\n",
      "building tree 74 of 100\n",
      "building tree 90 of 100\n",
      "building tree 94 of 100\n",
      "building tree 75 of 100\n",
      "building tree 95 of 100\n",
      "building tree 91 of 100\n",
      "building tree 96 of 100\n",
      "building tree 76 of 100\n",
      "building tree 97 of 100\n",
      "building tree 92 of 100\n",
      "building tree 77 of 100\n"
     ]
    },
    {
     "name": "stderr",
     "output_type": "stream",
     "text": [
      "[Parallel(n_jobs=1)]: Done  97 tasks       | elapsed:   14.8s\n"
     ]
    },
    {
     "name": "stdout",
     "output_type": "stream",
     "text": [
      "building tree 98 of 100\n",
      "building tree 99 of 100\n",
      "building tree 93 of 100\n",
      "building tree 78 of 100\n",
      "building tree 100 of 100\n",
      "building tree 79 of 100\n",
      "building tree 94 of 100\n",
      "building tree 95 of 100\n"
     ]
    },
    {
     "name": "stderr",
     "output_type": "stream",
     "text": [
      "[Parallel(n_jobs=1)]: Done 100 out of 100 | elapsed:   15.2s finished\n",
      "[Parallel(n_jobs=1)]: Done   1 tasks       | elapsed:    0.0s\n"
     ]
    },
    {
     "name": "stdout",
     "output_type": "stream",
     "text": [
      "building tree 80 of 100\n"
     ]
    },
    {
     "name": "stderr",
     "output_type": "stream",
     "text": [
      "[Parallel(n_jobs=1)]: Done   4 tasks       | elapsed:    0.0s\n",
      "[Parallel(n_jobs=1)]: Done   7 tasks       | elapsed:    0.1s\n"
     ]
    },
    {
     "name": "stdout",
     "output_type": "stream",
     "text": [
      "building tree 96 of 100\n"
     ]
    },
    {
     "name": "stderr",
     "output_type": "stream",
     "text": [
      "[Parallel(n_jobs=1)]: Done  12 tasks       | elapsed:    0.1s\n",
      "[Parallel(n_jobs=1)]: Done  17 tasks       | elapsed:    0.2s\n"
     ]
    },
    {
     "name": "stdout",
     "output_type": "stream",
     "text": [
      "building tree 81 of 100\n",
      "building tree 97 of 100\n"
     ]
    },
    {
     "name": "stderr",
     "output_type": "stream",
     "text": [
      "[Parallel(n_jobs=1)]: Done  24 tasks       | elapsed:    0.3s\n",
      "[Parallel(n_jobs=1)]: Done  31 tasks       | elapsed:    0.4s\n"
     ]
    },
    {
     "name": "stdout",
     "output_type": "stream",
     "text": [
      "building tree 82 of 100\n"
     ]
    },
    {
     "name": "stderr",
     "output_type": "stream",
     "text": [
      "[Parallel(n_jobs=1)]: Done  97 tasks       | elapsed:   14.6s\n"
     ]
    },
    {
     "name": "stdout",
     "output_type": "stream",
     "text": [
      "building tree 98 of 100\n"
     ]
    },
    {
     "name": "stderr",
     "output_type": "stream",
     "text": [
      "[Parallel(n_jobs=1)]: Done  40 tasks       | elapsed:    0.5s\n"
     ]
    },
    {
     "name": "stdout",
     "output_type": "stream",
     "text": [
      "building tree 83 of 100\n",
      "building tree 99 of 100\n"
     ]
    },
    {
     "name": "stderr",
     "output_type": "stream",
     "text": [
      "[Parallel(n_jobs=1)]: Done  49 tasks       | elapsed:    0.6s\n"
     ]
    },
    {
     "name": "stdout",
     "output_type": "stream",
     "text": [
      "building tree 84 of 100\n"
     ]
    },
    {
     "name": "stderr",
     "output_type": "stream",
     "text": [
      "[Parallel(n_jobs=1)]: Done  60 tasks       | elapsed:    0.7s\n"
     ]
    },
    {
     "name": "stdout",
     "output_type": "stream",
     "text": [
      "building tree 100 of 100\n"
     ]
    },
    {
     "name": "stderr",
     "output_type": "stream",
     "text": [
      "[Parallel(n_jobs=1)]: Done  84 tasks       | elapsed:   14.0s\n"
     ]
    },
    {
     "name": "stdout",
     "output_type": "stream",
     "text": [
      "building tree 85 of 100\n"
     ]
    },
    {
     "name": "stderr",
     "output_type": "stream",
     "text": [
      "[Parallel(n_jobs=1)]: Done  71 tasks       | elapsed:    0.8s\n",
      "[Parallel(n_jobs=1)]: Done 100 out of 100 | elapsed:   15.0s finished\n",
      "[Parallel(n_jobs=1)]: Done   1 tasks       | elapsed:    0.0s\n"
     ]
    },
    {
     "name": "stdout",
     "output_type": "stream",
     "text": [
      "building tree 86 of 100\n"
     ]
    },
    {
     "name": "stderr",
     "output_type": "stream",
     "text": [
      "[Parallel(n_jobs=1)]: Done   4 tasks       | elapsed:    0.0s\n",
      "[Parallel(n_jobs=1)]: Done   7 tasks       | elapsed:    0.1s\n",
      "[Parallel(n_jobs=1)]: Done  12 tasks       | elapsed:    0.1s\n",
      "[Parallel(n_jobs=1)]: Done  84 tasks       | elapsed:    1.0s\n"
     ]
    },
    {
     "name": "stdout",
     "output_type": "stream",
     "text": [
      "building tree 87 of 100\n"
     ]
    },
    {
     "name": "stderr",
     "output_type": "stream",
     "text": [
      "[Parallel(n_jobs=1)]: Done  17 tasks       | elapsed:    0.2s\n",
      "[Parallel(n_jobs=1)]: Done  24 tasks       | elapsed:    0.3s\n"
     ]
    },
    {
     "name": "stdout",
     "output_type": "stream",
     "text": [
      "building tree 88 of 100\n"
     ]
    },
    {
     "name": "stderr",
     "output_type": "stream",
     "text": [
      "[Parallel(n_jobs=1)]: Done  97 tasks       | elapsed:    1.2s\n",
      "[Parallel(n_jobs=1)]: Done 100 out of 100 | elapsed:    1.3s finished\n",
      "[Parallel(n_jobs=1)]: Done  31 tasks       | elapsed:    0.4s\n"
     ]
    },
    {
     "name": "stdout",
     "output_type": "stream",
     "text": [
      "building tree 89 of 100\n"
     ]
    },
    {
     "name": "stderr",
     "output_type": "stream",
     "text": [
      "[Parallel(n_jobs=1)]: Done  40 tasks       | elapsed:    0.5s\n"
     ]
    },
    {
     "name": "stdout",
     "output_type": "stream",
     "text": [
      "building tree 90 of 100\n"
     ]
    },
    {
     "name": "stderr",
     "output_type": "stream",
     "text": [
      "[Parallel(n_jobs=1)]: Done  49 tasks       | elapsed:    0.7s\n"
     ]
    },
    {
     "name": "stdout",
     "output_type": "stream",
     "text": [
      "building tree 91 of 100\n"
     ]
    },
    {
     "name": "stderr",
     "output_type": "stream",
     "text": [
      "[Parallel(n_jobs=1)]: Done  60 tasks       | elapsed:    0.8s\n"
     ]
    },
    {
     "name": "stdout",
     "output_type": "stream",
     "text": [
      "building tree 1 of 100\n",
      "building tree 92 of 100\n"
     ]
    },
    {
     "name": "stderr",
     "output_type": "stream",
     "text": [
      "[Parallel(n_jobs=1)]: Done  71 tasks       | elapsed:    0.9s\n",
      "[Parallel(n_jobs=1)]: Done   1 tasks       | elapsed:    0.1s\n"
     ]
    },
    {
     "name": "stdout",
     "output_type": "stream",
     "text": [
      "building tree 2 of 100\n",
      "building tree 93 of 100\n"
     ]
    },
    {
     "name": "stderr",
     "output_type": "stream",
     "text": [
      "[Parallel(n_jobs=1)]: Done  84 tasks       | elapsed:    1.1s\n"
     ]
    },
    {
     "name": "stdout",
     "output_type": "stream",
     "text": [
      "building tree 3 of 100\n",
      "building tree 94 of 100\n",
      "building tree 4 of 100\n"
     ]
    },
    {
     "name": "stderr",
     "output_type": "stream",
     "text": [
      "[Parallel(n_jobs=1)]: Done  97 tasks       | elapsed:    1.3s\n",
      "[Parallel(n_jobs=1)]: Done 100 out of 100 | elapsed:    1.4s finished\n"
     ]
    },
    {
     "name": "stdout",
     "output_type": "stream",
     "text": [
      "building tree 95 of 100\n"
     ]
    },
    {
     "name": "stderr",
     "output_type": "stream",
     "text": [
      "[Parallel(n_jobs=1)]: Done   4 tasks       | elapsed:    0.7s\n"
     ]
    },
    {
     "name": "stdout",
     "output_type": "stream",
     "text": [
      "building tree 5 of 100\n",
      "building tree 96 of 100\n",
      "building tree 6 of 100\n",
      "building tree 97 of 100\n",
      "building tree 1 of 100\n",
      "building tree 7 of 100\n"
     ]
    },
    {
     "name": "stderr",
     "output_type": "stream",
     "text": [
      "[Parallel(n_jobs=1)]: Done   1 tasks       | elapsed:    0.1s\n"
     ]
    },
    {
     "name": "stdout",
     "output_type": "stream",
     "text": [
      "building tree 2 of 100\n"
     ]
    },
    {
     "name": "stderr",
     "output_type": "stream",
     "text": [
      "[Parallel(n_jobs=1)]: Done  97 tasks       | elapsed:   16.1s\n"
     ]
    },
    {
     "name": "stdout",
     "output_type": "stream",
     "text": [
      "building tree 98 of 100\n"
     ]
    },
    {
     "name": "stderr",
     "output_type": "stream",
     "text": [
      "[Parallel(n_jobs=1)]: Done   7 tasks       | elapsed:    1.1s\n"
     ]
    },
    {
     "name": "stdout",
     "output_type": "stream",
     "text": [
      "building tree 8 of 100\n",
      "building tree 3 of 100\n",
      "building tree 99 of 100\n",
      "building tree 9 of 100\n",
      "building tree 4 of 100\n",
      "building tree 100 of 100\n",
      "building tree 10 of 100\n"
     ]
    },
    {
     "name": "stderr",
     "output_type": "stream",
     "text": [
      "[Parallel(n_jobs=1)]: Done   4 tasks       | elapsed:    0.6s\n"
     ]
    },
    {
     "name": "stdout",
     "output_type": "stream",
     "text": [
      "building tree 5 of 100\n"
     ]
    },
    {
     "name": "stderr",
     "output_type": "stream",
     "text": [
      "[Parallel(n_jobs=1)]: Done 100 out of 100 | elapsed:   16.6s finished\n"
     ]
    },
    {
     "name": "stdout",
     "output_type": "stream",
     "text": [
      "building tree 11 of 100\n"
     ]
    },
    {
     "name": "stderr",
     "output_type": "stream",
     "text": [
      "[Parallel(n_jobs=1)]: Done   1 tasks       | elapsed:    0.0s\n"
     ]
    },
    {
     "name": "stdout",
     "output_type": "stream",
     "text": [
      "building tree 6 of 100\n"
     ]
    },
    {
     "name": "stderr",
     "output_type": "stream",
     "text": [
      "[Parallel(n_jobs=1)]: Done   4 tasks       | elapsed:    0.0s\n",
      "[Parallel(n_jobs=1)]: Done   7 tasks       | elapsed:    0.1s\n"
     ]
    },
    {
     "name": "stdout",
     "output_type": "stream",
     "text": [
      "building tree 12 of 100\n"
     ]
    },
    {
     "name": "stderr",
     "output_type": "stream",
     "text": [
      "[Parallel(n_jobs=1)]: Done  12 tasks       | elapsed:    0.2s\n"
     ]
    },
    {
     "name": "stdout",
     "output_type": "stream",
     "text": [
      "building tree 7 of 100\n"
     ]
    },
    {
     "name": "stderr",
     "output_type": "stream",
     "text": [
      "[Parallel(n_jobs=1)]: Done  17 tasks       | elapsed:    0.2s\n",
      "[Parallel(n_jobs=1)]: Done  12 tasks       | elapsed:    2.0s\n"
     ]
    },
    {
     "name": "stdout",
     "output_type": "stream",
     "text": [
      "building tree 13 of 100\n"
     ]
    },
    {
     "name": "stderr",
     "output_type": "stream",
     "text": [
      "[Parallel(n_jobs=1)]: Done   7 tasks       | elapsed:    1.1s\n",
      "[Parallel(n_jobs=1)]: Done  24 tasks       | elapsed:    0.4s\n"
     ]
    },
    {
     "name": "stdout",
     "output_type": "stream",
     "text": [
      "building tree 8 of 100\n",
      "building tree 14 of 100\n"
     ]
    },
    {
     "name": "stderr",
     "output_type": "stream",
     "text": [
      "[Parallel(n_jobs=1)]: Done  31 tasks       | elapsed:    0.5s\n"
     ]
    },
    {
     "name": "stdout",
     "output_type": "stream",
     "text": [
      "building tree 9 of 100\n",
      "building tree 15 of 100\n"
     ]
    },
    {
     "name": "stderr",
     "output_type": "stream",
     "text": [
      "[Parallel(n_jobs=1)]: Done  40 tasks       | elapsed:    0.6s\n"
     ]
    },
    {
     "name": "stdout",
     "output_type": "stream",
     "text": [
      "building tree 10 of 100\n"
     ]
    },
    {
     "name": "stderr",
     "output_type": "stream",
     "text": [
      "[Parallel(n_jobs=1)]: Done  49 tasks       | elapsed:    0.7s\n"
     ]
    },
    {
     "name": "stdout",
     "output_type": "stream",
     "text": [
      "building tree 16 of 100\n",
      "building tree 11 of 100\n"
     ]
    },
    {
     "name": "stderr",
     "output_type": "stream",
     "text": [
      "[Parallel(n_jobs=1)]: Done  60 tasks       | elapsed:    0.9s\n"
     ]
    },
    {
     "name": "stdout",
     "output_type": "stream",
     "text": [
      "building tree 12 of 100\n",
      "building tree 17 of 100\n"
     ]
    },
    {
     "name": "stderr",
     "output_type": "stream",
     "text": [
      "[Parallel(n_jobs=1)]: Done  71 tasks       | elapsed:    1.0s\n",
      "[Parallel(n_jobs=1)]: Done  12 tasks       | elapsed:    1.8s\n"
     ]
    },
    {
     "name": "stdout",
     "output_type": "stream",
     "text": [
      "building tree 13 of 100\n"
     ]
    },
    {
     "name": "stderr",
     "output_type": "stream",
     "text": [
      "[Parallel(n_jobs=1)]: Done  17 tasks       | elapsed:    2.8s\n"
     ]
    },
    {
     "name": "stdout",
     "output_type": "stream",
     "text": [
      "building tree 18 of 100\n"
     ]
    },
    {
     "name": "stderr",
     "output_type": "stream",
     "text": [
      "[Parallel(n_jobs=1)]: Done  84 tasks       | elapsed:    1.2s\n"
     ]
    },
    {
     "name": "stdout",
     "output_type": "stream",
     "text": [
      "building tree 14 of 100\n",
      "building tree 19 of 100\n"
     ]
    },
    {
     "name": "stderr",
     "output_type": "stream",
     "text": [
      "[Parallel(n_jobs=1)]: Done  97 tasks       | elapsed:    1.4s\n"
     ]
    },
    {
     "name": "stdout",
     "output_type": "stream",
     "text": [
      "building tree 20 of 100\n",
      "building tree 15 of 100\n"
     ]
    },
    {
     "name": "stderr",
     "output_type": "stream",
     "text": [
      "[Parallel(n_jobs=1)]: Done 100 out of 100 | elapsed:    1.4s finished\n"
     ]
    },
    {
     "name": "stdout",
     "output_type": "stream",
     "text": [
      "building tree 21 of 100\n",
      "building tree 16 of 100\n",
      "building tree 22 of 100\n",
      "building tree 17 of 100\n",
      "building tree 23 of 100\n",
      "building tree 1 of 100\n"
     ]
    },
    {
     "name": "stderr",
     "output_type": "stream",
     "text": [
      "[Parallel(n_jobs=1)]: Done  17 tasks       | elapsed:    2.7s\n"
     ]
    },
    {
     "name": "stdout",
     "output_type": "stream",
     "text": [
      "building tree 18 of 100\n",
      "building tree 24 of 100\n"
     ]
    },
    {
     "name": "stderr",
     "output_type": "stream",
     "text": [
      "[Parallel(n_jobs=1)]: Done   1 tasks       | elapsed:    0.2s\n"
     ]
    },
    {
     "name": "stdout",
     "output_type": "stream",
     "text": [
      "building tree 2 of 100\n"
     ]
    },
    {
     "name": "stderr",
     "output_type": "stream",
     "text": [
      "[Parallel(n_jobs=1)]: Done  24 tasks       | elapsed:    3.8s\n"
     ]
    },
    {
     "name": "stdout",
     "output_type": "stream",
     "text": [
      "building tree 25 of 100\n",
      "building tree 19 of 100\n",
      "building tree 20 of 100\n",
      "building tree 3 of 100\n",
      "building tree 26 of 100\n",
      "building tree 21 of 100\n",
      "building tree 27 of 100\n",
      "building tree 4 of 100\n",
      "building tree 22 of 100\n",
      "building tree 28 of 100\n",
      "building tree 23 of 100\n"
     ]
    },
    {
     "name": "stderr",
     "output_type": "stream",
     "text": [
      "[Parallel(n_jobs=1)]: Done   4 tasks       | elapsed:    0.8s\n"
     ]
    },
    {
     "name": "stdout",
     "output_type": "stream",
     "text": [
      "building tree 5 of 100\n",
      "building tree 24 of 100\n",
      "building tree 29 of 100\n",
      "building tree 6 of 100\n"
     ]
    },
    {
     "name": "stderr",
     "output_type": "stream",
     "text": [
      "[Parallel(n_jobs=1)]: Done  24 tasks       | elapsed:    3.7s\n"
     ]
    },
    {
     "name": "stdout",
     "output_type": "stream",
     "text": [
      "building tree 25 of 100\n",
      "building tree 30 of 100\n",
      "building tree 7 of 100\n",
      "building tree 26 of 100\n",
      "building tree 31 of 100\n",
      "building tree 27 of 100\n"
     ]
    },
    {
     "name": "stderr",
     "output_type": "stream",
     "text": [
      "[Parallel(n_jobs=1)]: Done   7 tasks       | elapsed:    1.4s\n"
     ]
    },
    {
     "name": "stdout",
     "output_type": "stream",
     "text": [
      "building tree 8 of 100\n"
     ]
    },
    {
     "name": "stderr",
     "output_type": "stream",
     "text": [
      "[Parallel(n_jobs=1)]: Done  31 tasks       | elapsed:    5.0s\n"
     ]
    },
    {
     "name": "stdout",
     "output_type": "stream",
     "text": [
      "building tree 32 of 100\n",
      "building tree 28 of 100\n",
      "building tree 33 of 100\n",
      "building tree 9 of 100\n",
      "building tree 29 of 100\n",
      "building tree 34 of 100\n",
      "building tree 10 of 100\n",
      "building tree 30 of 100\n",
      "building tree 35 of 100\n",
      "building tree 31 of 100\n",
      "building tree 11 of 100\n",
      "building tree 36 of 100\n"
     ]
    },
    {
     "name": "stderr",
     "output_type": "stream",
     "text": [
      "[Parallel(n_jobs=1)]: Done  31 tasks       | elapsed:    4.8s\n"
     ]
    },
    {
     "name": "stdout",
     "output_type": "stream",
     "text": [
      "building tree 32 of 100\n",
      "building tree 12 of 100\n",
      "building tree 37 of 100\n"
     ]
    },
    {
     "name": "stderr",
     "output_type": "stream",
     "text": [
      "[Parallel(n_jobs=1)]: Done  12 tasks       | elapsed:    2.4s\n"
     ]
    },
    {
     "name": "stdout",
     "output_type": "stream",
     "text": [
      "building tree 13 of 100\n",
      "building tree 33 of 100\n",
      "building tree 38 of 100\n",
      "building tree 34 of 100\n",
      "building tree 14 of 100\n",
      "building tree 39 of 100\n",
      "building tree 35 of 100\n",
      "building tree 15 of 100\n",
      "building tree 40 of 100\n",
      "building tree 36 of 100\n",
      "building tree 16 of 100\n"
     ]
    },
    {
     "name": "stderr",
     "output_type": "stream",
     "text": [
      "[Parallel(n_jobs=1)]: Done  40 tasks       | elapsed:    6.6s\n"
     ]
    },
    {
     "name": "stdout",
     "output_type": "stream",
     "text": [
      "building tree 41 of 100\n",
      "building tree 37 of 100\n",
      "building tree 17 of 100\n",
      "building tree 42 of 100\n"
     ]
    },
    {
     "name": "stderr",
     "output_type": "stream",
     "text": [
      "[Parallel(n_jobs=1)]: Done  17 tasks       | elapsed:    3.3s\n"
     ]
    },
    {
     "name": "stdout",
     "output_type": "stream",
     "text": [
      "building tree 18 of 100\n",
      "building tree 38 of 100\n",
      "building tree 43 of 100\n",
      "building tree 19 of 100\n",
      "building tree 39 of 100\n",
      "building tree 44 of 100\n",
      "building tree 20 of 100\n",
      "building tree 45 of 100\n",
      "building tree 40 of 100\n",
      "building tree 21 of 100\n",
      "building tree 46 of 100\n"
     ]
    },
    {
     "name": "stderr",
     "output_type": "stream",
     "text": [
      "[Parallel(n_jobs=1)]: Done  40 tasks       | elapsed:    6.6s\n"
     ]
    },
    {
     "name": "stdout",
     "output_type": "stream",
     "text": [
      "building tree 41 of 100\n",
      "building tree 22 of 100\n",
      "building tree 42 of 100\n",
      "building tree 47 of 100\n",
      "building tree 23 of 100\n",
      "building tree 43 of 100\n",
      "building tree 48 of 100\n",
      "building tree 24 of 100\n",
      "building tree 49 of 100\n",
      "building tree 44 of 100\n"
     ]
    },
    {
     "name": "stderr",
     "output_type": "stream",
     "text": [
      "[Parallel(n_jobs=1)]: Done  24 tasks       | elapsed:    4.5s\n"
     ]
    },
    {
     "name": "stdout",
     "output_type": "stream",
     "text": [
      "building tree 25 of 100\n"
     ]
    },
    {
     "name": "stderr",
     "output_type": "stream",
     "text": [
      "[Parallel(n_jobs=1)]: Done  49 tasks       | elapsed:    8.0s\n"
     ]
    },
    {
     "name": "stdout",
     "output_type": "stream",
     "text": [
      "building tree 50 of 100\n",
      "building tree 45 of 100\n",
      "building tree 26 of 100\n",
      "building tree 51 of 100\n",
      "building tree 46 of 100\n",
      "building tree 27 of 100\n",
      "building tree 52 of 100\n",
      "building tree 47 of 100\n",
      "building tree 28 of 100\n",
      "building tree 53 of 100\n",
      "building tree 48 of 100\n",
      "building tree 29 of 100\n",
      "building tree 54 of 100\n",
      "building tree 49 of 100\n",
      "building tree 30 of 100\n",
      "building tree 55 of 100\n"
     ]
    },
    {
     "name": "stderr",
     "output_type": "stream",
     "text": [
      "[Parallel(n_jobs=1)]: Done  49 tasks       | elapsed:    8.0s\n"
     ]
    },
    {
     "name": "stdout",
     "output_type": "stream",
     "text": [
      "building tree 50 of 100\n",
      "building tree 56 of 100\n",
      "building tree 31 of 100\n",
      "building tree 51 of 100\n",
      "building tree 57 of 100\n"
     ]
    },
    {
     "name": "stderr",
     "output_type": "stream",
     "text": [
      "[Parallel(n_jobs=1)]: Done  31 tasks       | elapsed:    5.7s\n"
     ]
    },
    {
     "name": "stdout",
     "output_type": "stream",
     "text": [
      "building tree 32 of 100\n",
      "building tree 52 of 100\n",
      "building tree 58 of 100\n",
      "building tree 33 of 100\n",
      "building tree 59 of 100\n",
      "building tree 53 of 100\n",
      "building tree 34 of 100\n",
      "building tree 54 of 100\n",
      "building tree 60 of 100\n",
      "building tree 35 of 100\n",
      "building tree 55 of 100\n"
     ]
    },
    {
     "name": "stderr",
     "output_type": "stream",
     "text": [
      "[Parallel(n_jobs=1)]: Done  60 tasks       | elapsed:    9.7s\n"
     ]
    },
    {
     "name": "stdout",
     "output_type": "stream",
     "text": [
      "building tree 61 of 100\n",
      "building tree 36 of 100\n",
      "building tree 62 of 100\n",
      "building tree 56 of 100\n",
      "building tree 57 of 100\n",
      "building tree 63 of 100\n",
      "building tree 37 of 100\n",
      "building tree 64 of 100\n",
      "building tree 38 of 100\n",
      "building tree 58 of 100\n",
      "building tree 39 of 100\n",
      "building tree 59 of 100\n",
      "building tree 65 of 100\n",
      "building tree 40 of 100\n",
      "building tree 60 of 100\n",
      "building tree 66 of 100\n"
     ]
    },
    {
     "name": "stderr",
     "output_type": "stream",
     "text": [
      "[Parallel(n_jobs=1)]: Done  40 tasks       | elapsed:    7.1s\n"
     ]
    },
    {
     "name": "stdout",
     "output_type": "stream",
     "text": [
      "building tree 41 of 100\n"
     ]
    },
    {
     "name": "stderr",
     "output_type": "stream",
     "text": [
      "[Parallel(n_jobs=1)]: Done  60 tasks       | elapsed:    9.8s\n"
     ]
    },
    {
     "name": "stdout",
     "output_type": "stream",
     "text": [
      "building tree 61 of 100\n",
      "building tree 67 of 100\n",
      "building tree 42 of 100\n",
      "building tree 62 of 100\n",
      "building tree 68 of 100\n",
      "building tree 43 of 100\n",
      "building tree 63 of 100\n",
      "building tree 69 of 100\n",
      "building tree 44 of 100\n",
      "building tree 64 of 100\n",
      "building tree 70 of 100\n",
      "building tree 45 of 100\n",
      "building tree 65 of 100\n",
      "building tree 71 of 100\n",
      "building tree 46 of 100\n",
      "building tree 66 of 100\n"
     ]
    },
    {
     "name": "stderr",
     "output_type": "stream",
     "text": [
      "[Parallel(n_jobs=1)]: Done  71 tasks       | elapsed:   11.6s\n"
     ]
    },
    {
     "name": "stdout",
     "output_type": "stream",
     "text": [
      "building tree 72 of 100\n",
      "building tree 47 of 100\n",
      "building tree 67 of 100\n",
      "building tree 73 of 100\n",
      "building tree 48 of 100\n",
      "building tree 68 of 100\n",
      "building tree 74 of 100\n",
      "building tree 49 of 100\n",
      "building tree 69 of 100\n",
      "building tree 75 of 100\n"
     ]
    },
    {
     "name": "stderr",
     "output_type": "stream",
     "text": [
      "[Parallel(n_jobs=1)]: Done  49 tasks       | elapsed:    8.7s\n"
     ]
    },
    {
     "name": "stdout",
     "output_type": "stream",
     "text": [
      "building tree 50 of 100\n",
      "building tree 76 of 100\n",
      "building tree 70 of 100\n",
      "building tree 51 of 100\n",
      "building tree 77 of 100\n",
      "building tree 71 of 100\n",
      "building tree 52 of 100\n"
     ]
    },
    {
     "name": "stderr",
     "output_type": "stream",
     "text": [
      "[Parallel(n_jobs=1)]: Done  71 tasks       | elapsed:   11.7s\n"
     ]
    },
    {
     "name": "stdout",
     "output_type": "stream",
     "text": [
      "building tree 72 of 100\n",
      "building tree 78 of 100\n",
      "building tree 53 of 100\n",
      "building tree 79 of 100\n",
      "building tree 73 of 100\n",
      "building tree 54 of 100\n",
      "building tree 80 of 100\n",
      "building tree 74 of 100\n",
      "building tree 55 of 100\n",
      "building tree 81 of 100\n",
      "building tree 75 of 100\n",
      "building tree 82 of 100\n",
      "building tree 56 of 100\n",
      "building tree 76 of 100\n",
      "building tree 83 of 100\n",
      "building tree 57 of 100\n",
      "building tree 77 of 100\n",
      "building tree 84 of 100\n",
      "building tree 58 of 100\n"
     ]
    },
    {
     "name": "stderr",
     "output_type": "stream",
     "text": [
      "[Parallel(n_jobs=1)]: Done  84 tasks       | elapsed:   13.6s\n"
     ]
    },
    {
     "name": "stdout",
     "output_type": "stream",
     "text": [
      "building tree 85 of 100\n",
      "building tree 78 of 100\n",
      "building tree 86 of 100\n",
      "building tree 59 of 100\n",
      "building tree 79 of 100\n",
      "building tree 87 of 100\n",
      "building tree 60 of 100\n",
      "building tree 80 of 100\n",
      "building tree 88 of 100\n"
     ]
    },
    {
     "name": "stderr",
     "output_type": "stream",
     "text": [
      "[Parallel(n_jobs=1)]: Done  60 tasks       | elapsed:   10.6s\n"
     ]
    },
    {
     "name": "stdout",
     "output_type": "stream",
     "text": [
      "building tree 61 of 100\n",
      "building tree 81 of 100\n",
      "building tree 62 of 100\n",
      "building tree 89 of 100\n",
      "building tree 82 of 100\n",
      "building tree 63 of 100\n",
      "building tree 90 of 100\n",
      "building tree 64 of 100\n",
      "building tree 83 of 100\n",
      "building tree 91 of 100\n",
      "building tree 65 of 100\n",
      "building tree 84 of 100\n",
      "building tree 92 of 100\n",
      "building tree 66 of 100\n"
     ]
    },
    {
     "name": "stderr",
     "output_type": "stream",
     "text": [
      "[Parallel(n_jobs=1)]: Done  84 tasks       | elapsed:   13.9s\n"
     ]
    },
    {
     "name": "stdout",
     "output_type": "stream",
     "text": [
      "building tree 85 of 100\n",
      "building tree 93 of 100\n",
      "building tree 67 of 100\n",
      "building tree 94 of 100\n",
      "building tree 86 of 100\n",
      "building tree 68 of 100\n",
      "building tree 95 of 100\n",
      "building tree 87 of 100\n",
      "building tree 96 of 100\n",
      "building tree 69 of 100\n",
      "building tree 88 of 100\n",
      "building tree 97 of 100\n",
      "building tree 70 of 100\n",
      "building tree 89 of 100\n"
     ]
    },
    {
     "name": "stderr",
     "output_type": "stream",
     "text": [
      "[Parallel(n_jobs=1)]: Done  97 tasks       | elapsed:   15.5s\n"
     ]
    },
    {
     "name": "stdout",
     "output_type": "stream",
     "text": [
      "building tree 98 of 100\n",
      "building tree 99 of 100\n",
      "building tree 90 of 100\n",
      "building tree 71 of 100\n",
      "building tree 100 of 100\n"
     ]
    },
    {
     "name": "stderr",
     "output_type": "stream",
     "text": [
      "[Parallel(n_jobs=1)]: Done  71 tasks       | elapsed:   12.2s\n"
     ]
    },
    {
     "name": "stdout",
     "output_type": "stream",
     "text": [
      "building tree 91 of 100\n",
      "building tree 72 of 100\n"
     ]
    },
    {
     "name": "stderr",
     "output_type": "stream",
     "text": [
      "[Parallel(n_jobs=1)]: Done 100 out of 100 | elapsed:   15.9s finished\n",
      "[Parallel(n_jobs=1)]: Done   1 tasks       | elapsed:    0.0s\n",
      "[Parallel(n_jobs=1)]: Done   4 tasks       | elapsed:    0.1s\n"
     ]
    },
    {
     "name": "stdout",
     "output_type": "stream",
     "text": [
      "building tree 73 of 100\n",
      "building tree 92 of 100\n"
     ]
    },
    {
     "name": "stderr",
     "output_type": "stream",
     "text": [
      "[Parallel(n_jobs=1)]: Done   7 tasks       | elapsed:    0.1s\n",
      "[Parallel(n_jobs=1)]: Done  12 tasks       | elapsed:    0.2s\n"
     ]
    },
    {
     "name": "stdout",
     "output_type": "stream",
     "text": [
      "building tree 74 of 100\n",
      "building tree 93 of 100\n"
     ]
    },
    {
     "name": "stderr",
     "output_type": "stream",
     "text": [
      "[Parallel(n_jobs=1)]: Done  17 tasks       | elapsed:    0.3s\n"
     ]
    },
    {
     "name": "stdout",
     "output_type": "stream",
     "text": [
      "building tree 75 of 100\n"
     ]
    },
    {
     "name": "stderr",
     "output_type": "stream",
     "text": [
      "[Parallel(n_jobs=1)]: Done  24 tasks       | elapsed:    0.3s\n",
      "[Parallel(n_jobs=1)]: Done  31 tasks       | elapsed:    0.4s\n"
     ]
    },
    {
     "name": "stdout",
     "output_type": "stream",
     "text": [
      "building tree 94 of 100\n",
      "building tree 76 of 100\n"
     ]
    },
    {
     "name": "stderr",
     "output_type": "stream",
     "text": [
      "[Parallel(n_jobs=1)]: Done  40 tasks       | elapsed:    0.5s\n"
     ]
    },
    {
     "name": "stdout",
     "output_type": "stream",
     "text": [
      "building tree 95 of 100\n"
     ]
    },
    {
     "name": "stderr",
     "output_type": "stream",
     "text": [
      "[Parallel(n_jobs=1)]: Done  49 tasks       | elapsed:    0.6s\n"
     ]
    },
    {
     "name": "stdout",
     "output_type": "stream",
     "text": [
      "building tree 77 of 100\n",
      "building tree 96 of 100\n"
     ]
    },
    {
     "name": "stderr",
     "output_type": "stream",
     "text": [
      "[Parallel(n_jobs=1)]: Done  60 tasks       | elapsed:    0.7s\n"
     ]
    },
    {
     "name": "stdout",
     "output_type": "stream",
     "text": [
      "building tree 78 of 100\n",
      "building tree 97 of 100\n"
     ]
    },
    {
     "name": "stderr",
     "output_type": "stream",
     "text": [
      "[Parallel(n_jobs=1)]: Done  71 tasks       | elapsed:    0.9s\n"
     ]
    },
    {
     "name": "stdout",
     "output_type": "stream",
     "text": [
      "building tree 79 of 100\n"
     ]
    },
    {
     "name": "stderr",
     "output_type": "stream",
     "text": [
      "[Parallel(n_jobs=1)]: Done  97 tasks       | elapsed:   16.0s\n"
     ]
    },
    {
     "name": "stdout",
     "output_type": "stream",
     "text": [
      "building tree 98 of 100\n"
     ]
    },
    {
     "name": "stderr",
     "output_type": "stream",
     "text": [
      "[Parallel(n_jobs=1)]: Done  84 tasks       | elapsed:    1.0s\n"
     ]
    },
    {
     "name": "stdout",
     "output_type": "stream",
     "text": [
      "building tree 80 of 100\n",
      "building tree 99 of 100\n",
      "building tree 81 of 100\n"
     ]
    },
    {
     "name": "stderr",
     "output_type": "stream",
     "text": [
      "[Parallel(n_jobs=1)]: Done  97 tasks       | elapsed:    1.2s\n",
      "[Parallel(n_jobs=1)]: Done 100 out of 100 | elapsed:    1.2s finished\n"
     ]
    },
    {
     "name": "stdout",
     "output_type": "stream",
     "text": [
      "building tree 100 of 100\n",
      "building tree 82 of 100\n"
     ]
    },
    {
     "name": "stderr",
     "output_type": "stream",
     "text": [
      "[Parallel(n_jobs=1)]: Done 100 out of 100 | elapsed:   16.4s finished\n",
      "[Parallel(n_jobs=1)]: Done   1 tasks       | elapsed:    0.0s\n"
     ]
    },
    {
     "name": "stdout",
     "output_type": "stream",
     "text": [
      "building tree 83 of 100\n"
     ]
    },
    {
     "name": "stderr",
     "output_type": "stream",
     "text": [
      "[Parallel(n_jobs=1)]: Done   4 tasks       | elapsed:    0.1s\n",
      "[Parallel(n_jobs=1)]: Done   7 tasks       | elapsed:    0.1s\n",
      "[Parallel(n_jobs=1)]: Done  12 tasks       | elapsed:    0.2s\n"
     ]
    },
    {
     "name": "stdout",
     "output_type": "stream",
     "text": [
      "building tree 84 of 100\n",
      "building tree 1 of 100\n"
     ]
    },
    {
     "name": "stderr",
     "output_type": "stream",
     "text": [
      "[Parallel(n_jobs=1)]: Done  17 tasks       | elapsed:    0.2s\n",
      "[Parallel(n_jobs=1)]: Done  24 tasks       | elapsed:    0.3s\n",
      "[Parallel(n_jobs=1)]: Done  84 tasks       | elapsed:   14.2s\n"
     ]
    },
    {
     "name": "stdout",
     "output_type": "stream",
     "text": [
      "building tree 85 of 100\n"
     ]
    },
    {
     "name": "stderr",
     "output_type": "stream",
     "text": [
      "[Parallel(n_jobs=1)]: Done   1 tasks       | elapsed:    0.1s\n"
     ]
    },
    {
     "name": "stdout",
     "output_type": "stream",
     "text": [
      "building tree 2 of 100\n"
     ]
    },
    {
     "name": "stderr",
     "output_type": "stream",
     "text": [
      "[Parallel(n_jobs=1)]: Done  31 tasks       | elapsed:    0.4s\n"
     ]
    },
    {
     "name": "stdout",
     "output_type": "stream",
     "text": [
      "building tree 86 of 100\n",
      "building tree 3 of 100\n"
     ]
    },
    {
     "name": "stderr",
     "output_type": "stream",
     "text": [
      "[Parallel(n_jobs=1)]: Done  40 tasks       | elapsed:    0.5s\n",
      "[Parallel(n_jobs=1)]: Done  49 tasks       | elapsed:    0.6s\n"
     ]
    },
    {
     "name": "stdout",
     "output_type": "stream",
     "text": [
      "building tree 4 of 100\n",
      "building tree 87 of 100\n"
     ]
    },
    {
     "name": "stderr",
     "output_type": "stream",
     "text": [
      "[Parallel(n_jobs=1)]: Done   4 tasks       | elapsed:    0.6s\n"
     ]
    },
    {
     "name": "stdout",
     "output_type": "stream",
     "text": [
      "building tree 5 of 100\n"
     ]
    },
    {
     "name": "stderr",
     "output_type": "stream",
     "text": [
      "[Parallel(n_jobs=1)]: Done  60 tasks       | elapsed:    0.8s\n"
     ]
    },
    {
     "name": "stdout",
     "output_type": "stream",
     "text": [
      "building tree 88 of 100\n",
      "building tree 89 of 100\n",
      "building tree 6 of 100\n"
     ]
    },
    {
     "name": "stderr",
     "output_type": "stream",
     "text": [
      "[Parallel(n_jobs=1)]: Done  71 tasks       | elapsed:    0.9s\n"
     ]
    },
    {
     "name": "stdout",
     "output_type": "stream",
     "text": [
      "building tree 90 of 100\n",
      "building tree 7 of 100\n"
     ]
    },
    {
     "name": "stderr",
     "output_type": "stream",
     "text": [
      "[Parallel(n_jobs=1)]: Done  84 tasks       | elapsed:    1.1s\n"
     ]
    },
    {
     "name": "stdout",
     "output_type": "stream",
     "text": [
      "building tree 91 of 100\n"
     ]
    },
    {
     "name": "stderr",
     "output_type": "stream",
     "text": [
      "[Parallel(n_jobs=1)]: Done   7 tasks       | elapsed:    1.0s\n"
     ]
    },
    {
     "name": "stdout",
     "output_type": "stream",
     "text": [
      "building tree 8 of 100\n"
     ]
    },
    {
     "name": "stderr",
     "output_type": "stream",
     "text": [
      "[Parallel(n_jobs=1)]: Done  97 tasks       | elapsed:    1.3s\n"
     ]
    },
    {
     "name": "stdout",
     "output_type": "stream",
     "text": [
      "building tree 92 of 100\n"
     ]
    },
    {
     "name": "stderr",
     "output_type": "stream",
     "text": [
      "[Parallel(n_jobs=1)]: Done 100 out of 100 | elapsed:    1.3s finished\n"
     ]
    },
    {
     "name": "stdout",
     "output_type": "stream",
     "text": [
      "building tree 9 of 100\n",
      "building tree 93 of 100\n",
      "building tree 10 of 100\n",
      "building tree 94 of 100\n",
      "building tree 11 of 100\n",
      "building tree 95 of 100\n",
      "building tree 1 of 100\n",
      "building tree 12 of 100\n"
     ]
    },
    {
     "name": "stderr",
     "output_type": "stream",
     "text": [
      "[Parallel(n_jobs=1)]: Done   1 tasks       | elapsed:    0.2s\n"
     ]
    },
    {
     "name": "stdout",
     "output_type": "stream",
     "text": [
      "building tree 2 of 100\n",
      "building tree 96 of 100\n"
     ]
    },
    {
     "name": "stderr",
     "output_type": "stream",
     "text": [
      "[Parallel(n_jobs=1)]: Done  12 tasks       | elapsed:    1.8s\n"
     ]
    },
    {
     "name": "stdout",
     "output_type": "stream",
     "text": [
      "building tree 13 of 100\n",
      "building tree 97 of 100\n",
      "building tree 3 of 100\n",
      "building tree 4 of 100\n",
      "building tree 14 of 100\n"
     ]
    },
    {
     "name": "stderr",
     "output_type": "stream",
     "text": [
      "[Parallel(n_jobs=1)]: Done  97 tasks       | elapsed:   16.1s\n"
     ]
    },
    {
     "name": "stdout",
     "output_type": "stream",
     "text": [
      "building tree 98 of 100\n"
     ]
    },
    {
     "name": "stderr",
     "output_type": "stream",
     "text": [
      "[Parallel(n_jobs=1)]: Done   4 tasks       | elapsed:    0.6s\n"
     ]
    },
    {
     "name": "stdout",
     "output_type": "stream",
     "text": [
      "building tree 99 of 100\n",
      "building tree 5 of 100\n",
      "building tree 15 of 100\n",
      "building tree 16 of 100\n",
      "building tree 100 of 100\n",
      "building tree 6 of 100\n",
      "building tree 17 of 100\n",
      "building tree 7 of 100\n"
     ]
    },
    {
     "name": "stderr",
     "output_type": "stream",
     "text": [
      "[Parallel(n_jobs=1)]: Done 100 out of 100 | elapsed:   16.5s finished\n",
      "[Parallel(n_jobs=1)]: Done   1 tasks       | elapsed:    0.0s\n",
      "[Parallel(n_jobs=1)]: Done   4 tasks       | elapsed:    0.1s\n",
      "[Parallel(n_jobs=1)]: Done   7 tasks       | elapsed:    0.1s\n",
      "[Parallel(n_jobs=1)]: Done   7 tasks       | elapsed:    1.1s\n"
     ]
    },
    {
     "name": "stdout",
     "output_type": "stream",
     "text": [
      "building tree 8 of 100\n"
     ]
    },
    {
     "name": "stderr",
     "output_type": "stream",
     "text": [
      "[Parallel(n_jobs=1)]: Done  17 tasks       | elapsed:    2.7s\n"
     ]
    },
    {
     "name": "stdout",
     "output_type": "stream",
     "text": [
      "building tree 18 of 100\n"
     ]
    },
    {
     "name": "stderr",
     "output_type": "stream",
     "text": [
      "[Parallel(n_jobs=1)]: Done  12 tasks       | elapsed:    0.2s\n"
     ]
    },
    {
     "name": "stdout",
     "output_type": "stream",
     "text": [
      "building tree 9 of 100\n"
     ]
    },
    {
     "name": "stderr",
     "output_type": "stream",
     "text": [
      "[Parallel(n_jobs=1)]: Done  17 tasks       | elapsed:    0.2s\n"
     ]
    },
    {
     "name": "stdout",
     "output_type": "stream",
     "text": [
      "building tree 19 of 100\n"
     ]
    },
    {
     "name": "stderr",
     "output_type": "stream",
     "text": [
      "[Parallel(n_jobs=1)]: Done  24 tasks       | elapsed:    0.3s\n"
     ]
    },
    {
     "name": "stdout",
     "output_type": "stream",
     "text": [
      "building tree 10 of 100\n",
      "building tree 20 of 100\n"
     ]
    },
    {
     "name": "stderr",
     "output_type": "stream",
     "text": [
      "[Parallel(n_jobs=1)]: Done  31 tasks       | elapsed:    0.4s\n"
     ]
    },
    {
     "name": "stdout",
     "output_type": "stream",
     "text": [
      "building tree 11 of 100\n"
     ]
    },
    {
     "name": "stderr",
     "output_type": "stream",
     "text": [
      "[Parallel(n_jobs=1)]: Done  40 tasks       | elapsed:    0.5s\n"
     ]
    },
    {
     "name": "stdout",
     "output_type": "stream",
     "text": [
      "building tree 21 of 100\n",
      "building tree 12 of 100\n"
     ]
    },
    {
     "name": "stderr",
     "output_type": "stream",
     "text": [
      "[Parallel(n_jobs=1)]: Done  49 tasks       | elapsed:    0.7s\n"
     ]
    },
    {
     "name": "stdout",
     "output_type": "stream",
     "text": [
      "building tree 22 of 100\n"
     ]
    },
    {
     "name": "stderr",
     "output_type": "stream",
     "text": [
      "[Parallel(n_jobs=1)]: Done  12 tasks       | elapsed:    1.7s\n"
     ]
    },
    {
     "name": "stdout",
     "output_type": "stream",
     "text": [
      "building tree 13 of 100\n"
     ]
    },
    {
     "name": "stderr",
     "output_type": "stream",
     "text": [
      "[Parallel(n_jobs=1)]: Done  60 tasks       | elapsed:    0.8s\n"
     ]
    },
    {
     "name": "stdout",
     "output_type": "stream",
     "text": [
      "building tree 23 of 100\n",
      "building tree 14 of 100\n"
     ]
    },
    {
     "name": "stderr",
     "output_type": "stream",
     "text": [
      "[Parallel(n_jobs=1)]: Done  71 tasks       | elapsed:    1.0s\n"
     ]
    },
    {
     "name": "stdout",
     "output_type": "stream",
     "text": [
      "building tree 24 of 100\n",
      "building tree 15 of 100\n"
     ]
    },
    {
     "name": "stderr",
     "output_type": "stream",
     "text": [
      "[Parallel(n_jobs=1)]: Done  84 tasks       | elapsed:    1.1s\n",
      "[Parallel(n_jobs=1)]: Done  24 tasks       | elapsed:    3.7s\n"
     ]
    },
    {
     "name": "stdout",
     "output_type": "stream",
     "text": [
      "building tree 25 of 100\n",
      "building tree 16 of 100\n",
      "building tree 17 of 100\n",
      "building tree 26 of 100\n"
     ]
    },
    {
     "name": "stderr",
     "output_type": "stream",
     "text": [
      "[Parallel(n_jobs=1)]: Done  97 tasks       | elapsed:    1.3s\n",
      "[Parallel(n_jobs=1)]: Done 100 out of 100 | elapsed:    1.3s finished\n",
      "[Parallel(n_jobs=1)]: Done  17 tasks       | elapsed:    2.4s\n"
     ]
    },
    {
     "name": "stdout",
     "output_type": "stream",
     "text": [
      "building tree 18 of 100\n",
      "building tree 27 of 100\n",
      "building tree 19 of 100\n",
      "building tree 28 of 100\n",
      "building tree 20 of 100\n",
      "building tree 29 of 100\n",
      "building tree 21 of 100\n",
      "building tree 1 of 100\n",
      "building tree 30 of 100\n",
      "building tree 31 of 100\n",
      "building tree 22 of 100\n"
     ]
    },
    {
     "name": "stderr",
     "output_type": "stream",
     "text": [
      "[Parallel(n_jobs=1)]: Done   1 tasks       | elapsed:    0.2s\n"
     ]
    },
    {
     "name": "stdout",
     "output_type": "stream",
     "text": [
      "building tree 2 of 100\n",
      "building tree 3 of 100\n",
      "building tree 23 of 100\n"
     ]
    },
    {
     "name": "stderr",
     "output_type": "stream",
     "text": [
      "[Parallel(n_jobs=1)]: Done  31 tasks       | elapsed:    4.7s\n"
     ]
    },
    {
     "name": "stdout",
     "output_type": "stream",
     "text": [
      "building tree 32 of 100\n",
      "building tree 33 of 100\n",
      "building tree 4 of 100\n",
      "building tree 24 of 100\n",
      "building tree 34 of 100\n"
     ]
    },
    {
     "name": "stderr",
     "output_type": "stream",
     "text": [
      "[Parallel(n_jobs=1)]: Done   4 tasks       | elapsed:    0.6s\n"
     ]
    },
    {
     "name": "stdout",
     "output_type": "stream",
     "text": [
      "building tree 5 of 100\n"
     ]
    },
    {
     "name": "stderr",
     "output_type": "stream",
     "text": [
      "[Parallel(n_jobs=1)]: Done  24 tasks       | elapsed:    3.5s\n"
     ]
    },
    {
     "name": "stdout",
     "output_type": "stream",
     "text": [
      "building tree 25 of 100\n",
      "building tree 6 of 100\n",
      "building tree 35 of 100\n",
      "building tree 26 of 100\n",
      "building tree 7 of 100\n",
      "building tree 27 of 100\n",
      "building tree 36 of 100\n",
      "building tree 37 of 100\n",
      "building tree 28 of 100\n"
     ]
    },
    {
     "name": "stderr",
     "output_type": "stream",
     "text": [
      "[Parallel(n_jobs=1)]: Done   7 tasks       | elapsed:    1.1s\n"
     ]
    },
    {
     "name": "stdout",
     "output_type": "stream",
     "text": [
      "building tree 8 of 100\n",
      "building tree 29 of 100\n",
      "building tree 38 of 100\n",
      "building tree 9 of 100\n",
      "building tree 30 of 100\n",
      "building tree 10 of 100\n",
      "building tree 39 of 100\n",
      "building tree 31 of 100\n",
      "building tree 11 of 100\n"
     ]
    },
    {
     "name": "stderr",
     "output_type": "stream",
     "text": [
      "[Parallel(n_jobs=1)]: Done  31 tasks       | elapsed:    4.4s\n"
     ]
    },
    {
     "name": "stdout",
     "output_type": "stream",
     "text": [
      "building tree 32 of 100\n",
      "building tree 40 of 100\n"
     ]
    },
    {
     "name": "stderr",
     "output_type": "stream",
     "text": [
      "[Parallel(n_jobs=1)]: Done  40 tasks       | elapsed:    6.1s\n"
     ]
    },
    {
     "name": "stdout",
     "output_type": "stream",
     "text": [
      "building tree 41 of 100\n",
      "building tree 12 of 100\n",
      "building tree 33 of 100\n"
     ]
    },
    {
     "name": "stderr",
     "output_type": "stream",
     "text": [
      "[Parallel(n_jobs=1)]: Done  12 tasks       | elapsed:    1.9s\n"
     ]
    },
    {
     "name": "stdout",
     "output_type": "stream",
     "text": [
      "building tree 13 of 100\n",
      "building tree 42 of 100\n",
      "building tree 34 of 100\n",
      "building tree 14 of 100\n",
      "building tree 43 of 100\n",
      "building tree 35 of 100\n",
      "building tree 36 of 100\n",
      "building tree 44 of 100\n",
      "building tree 15 of 100\n",
      "building tree 37 of 100\n",
      "building tree 16 of 100\n",
      "building tree 45 of 100\n",
      "building tree 38 of 100\n",
      "building tree 46 of 100\n",
      "building tree 17 of 100\n",
      "building tree 39 of 100\n",
      "building tree 40 of 100\n"
     ]
    },
    {
     "name": "stderr",
     "output_type": "stream",
     "text": [
      "[Parallel(n_jobs=1)]: Done  17 tasks       | elapsed:    2.7s\n"
     ]
    },
    {
     "name": "stdout",
     "output_type": "stream",
     "text": [
      "building tree 18 of 100\n",
      "building tree 47 of 100\n",
      "building tree 19 of 100\n"
     ]
    },
    {
     "name": "stderr",
     "output_type": "stream",
     "text": [
      "[Parallel(n_jobs=1)]: Done  40 tasks       | elapsed:    5.7s\n"
     ]
    },
    {
     "name": "stdout",
     "output_type": "stream",
     "text": [
      "building tree 41 of 100\n",
      "building tree 48 of 100\n",
      "building tree 20 of 100\n",
      "building tree 42 of 100\n",
      "building tree 49 of 100\n",
      "building tree 43 of 100\n",
      "building tree 21 of 100\n"
     ]
    },
    {
     "name": "stderr",
     "output_type": "stream",
     "text": [
      "[Parallel(n_jobs=1)]: Done  49 tasks       | elapsed:    7.6s\n"
     ]
    },
    {
     "name": "stdout",
     "output_type": "stream",
     "text": [
      "building tree 50 of 100\n",
      "building tree 44 of 100\n",
      "building tree 22 of 100\n",
      "building tree 51 of 100\n",
      "building tree 45 of 100\n",
      "building tree 23 of 100\n",
      "building tree 52 of 100\n",
      "building tree 46 of 100\n",
      "building tree 24 of 100\n",
      "building tree 47 of 100\n",
      "building tree 53 of 100\n"
     ]
    },
    {
     "name": "stderr",
     "output_type": "stream",
     "text": [
      "[Parallel(n_jobs=1)]: Done  24 tasks       | elapsed:    3.9s\n"
     ]
    },
    {
     "name": "stdout",
     "output_type": "stream",
     "text": [
      "building tree 25 of 100\n",
      "building tree 48 of 100\n",
      "building tree 54 of 100\n",
      "building tree 26 of 100\n",
      "building tree 49 of 100\n",
      "building tree 55 of 100\n"
     ]
    },
    {
     "name": "stderr",
     "output_type": "stream",
     "text": [
      "[Parallel(n_jobs=1)]: Done  49 tasks       | elapsed:    7.0s\n"
     ]
    },
    {
     "name": "stdout",
     "output_type": "stream",
     "text": [
      "building tree 27 of 100\n",
      "building tree 50 of 100\n",
      "building tree 56 of 100\n",
      "building tree 28 of 100\n",
      "building tree 51 of 100\n",
      "building tree 57 of 100\n",
      "building tree 29 of 100\n",
      "building tree 52 of 100\n",
      "building tree 30 of 100\n",
      "building tree 58 of 100\n",
      "building tree 53 of 100\n",
      "building tree 31 of 100\n",
      "building tree 54 of 100\n",
      "building tree 59 of 100\n"
     ]
    },
    {
     "name": "stderr",
     "output_type": "stream",
     "text": [
      "[Parallel(n_jobs=1)]: Done  31 tasks       | elapsed:    4.8s\n"
     ]
    },
    {
     "name": "stdout",
     "output_type": "stream",
     "text": [
      "building tree 32 of 100\n",
      "building tree 55 of 100\n",
      "building tree 33 of 100\n",
      "building tree 60 of 100\n",
      "building tree 34 of 100\n",
      "building tree 56 of 100\n"
     ]
    },
    {
     "name": "stderr",
     "output_type": "stream",
     "text": [
      "[Parallel(n_jobs=1)]: Done  60 tasks       | elapsed:    9.5s\n"
     ]
    },
    {
     "name": "stdout",
     "output_type": "stream",
     "text": [
      "building tree 61 of 100\n",
      "building tree 57 of 100\n",
      "building tree 35 of 100\n",
      "building tree 62 of 100\n",
      "building tree 36 of 100\n",
      "building tree 58 of 100\n",
      "building tree 63 of 100\n",
      "building tree 37 of 100\n",
      "building tree 59 of 100\n",
      "building tree 38 of 100\n",
      "building tree 64 of 100\n",
      "building tree 39 of 100\n",
      "building tree 60 of 100\n",
      "building tree 65 of 100\n",
      "building tree 40 of 100\n",
      "building tree 66 of 100\n"
     ]
    },
    {
     "name": "stderr",
     "output_type": "stream",
     "text": [
      "[Parallel(n_jobs=1)]: Done  60 tasks       | elapsed:    8.8s\n"
     ]
    },
    {
     "name": "stdout",
     "output_type": "stream",
     "text": [
      "building tree 61 of 100\n",
      "building tree 67 of 100\n"
     ]
    },
    {
     "name": "stderr",
     "output_type": "stream",
     "text": [
      "[Parallel(n_jobs=1)]: Done  40 tasks       | elapsed:    6.1s\n"
     ]
    },
    {
     "name": "stdout",
     "output_type": "stream",
     "text": [
      "building tree 41 of 100\n",
      "building tree 62 of 100\n",
      "building tree 68 of 100\n",
      "building tree 42 of 100\n",
      "building tree 63 of 100\n",
      "building tree 69 of 100\n",
      "building tree 64 of 100\n",
      "building tree 43 of 100\n",
      "building tree 70 of 100\n",
      "building tree 71 of 100\n",
      "building tree 65 of 100\n",
      "building tree 44 of 100\n"
     ]
    },
    {
     "name": "stderr",
     "output_type": "stream",
     "text": [
      "[Parallel(n_jobs=1)]: Done  71 tasks       | elapsed:   11.1s\n"
     ]
    },
    {
     "name": "stdout",
     "output_type": "stream",
     "text": [
      "building tree 72 of 100\n",
      "building tree 66 of 100\n",
      "building tree 45 of 100\n",
      "building tree 73 of 100\n",
      "building tree 67 of 100\n",
      "building tree 74 of 100\n",
      "building tree 46 of 100\n",
      "building tree 75 of 100\n",
      "building tree 68 of 100\n",
      "building tree 76 of 100\n",
      "building tree 47 of 100\n",
      "building tree 69 of 100\n",
      "building tree 77 of 100\n",
      "building tree 48 of 100\n",
      "building tree 70 of 100\n",
      "building tree 78 of 100\n",
      "building tree 49 of 100\n",
      "building tree 79 of 100\n",
      "building tree 71 of 100\n"
     ]
    },
    {
     "name": "stderr",
     "output_type": "stream",
     "text": [
      "[Parallel(n_jobs=1)]: Done  49 tasks       | elapsed:    7.6s\n"
     ]
    },
    {
     "name": "stdout",
     "output_type": "stream",
     "text": [
      "building tree 50 of 100\n",
      "building tree 80 of 100\n"
     ]
    },
    {
     "name": "stderr",
     "output_type": "stream",
     "text": [
      "[Parallel(n_jobs=1)]: Done  71 tasks       | elapsed:   10.5s\n"
     ]
    },
    {
     "name": "stdout",
     "output_type": "stream",
     "text": [
      "building tree 72 of 100\n",
      "building tree 51 of 100\n",
      "building tree 81 of 100\n",
      "building tree 73 of 100\n",
      "building tree 82 of 100\n",
      "building tree 52 of 100\n",
      "building tree 74 of 100\n",
      "building tree 53 of 100\n",
      "building tree 83 of 100\n",
      "building tree 54 of 100\n",
      "building tree 75 of 100\n",
      "building tree 84 of 100\n",
      "building tree 76 of 100\n",
      "building tree 55 of 100\n",
      "building tree 56 of 100\n"
     ]
    },
    {
     "name": "stderr",
     "output_type": "stream",
     "text": [
      "[Parallel(n_jobs=1)]: Done  84 tasks       | elapsed:   12.9s\n"
     ]
    },
    {
     "name": "stdout",
     "output_type": "stream",
     "text": [
      "building tree 77 of 100\n",
      "building tree 85 of 100\n",
      "building tree 57 of 100\n",
      "building tree 86 of 100\n",
      "building tree 78 of 100\n",
      "building tree 87 of 100\n",
      "building tree 58 of 100\n",
      "building tree 79 of 100\n",
      "building tree 88 of 100\n",
      "building tree 59 of 100\n",
      "building tree 89 of 100\n",
      "building tree 80 of 100\n",
      "building tree 60 of 100\n",
      "building tree 90 of 100\n",
      "building tree 81 of 100\n"
     ]
    },
    {
     "name": "stderr",
     "output_type": "stream",
     "text": [
      "[Parallel(n_jobs=1)]: Done  60 tasks       | elapsed:    9.3s\n"
     ]
    },
    {
     "name": "stdout",
     "output_type": "stream",
     "text": [
      "building tree 61 of 100\n",
      "building tree 91 of 100\n",
      "building tree 62 of 100\n",
      "building tree 82 of 100\n",
      "building tree 63 of 100\n",
      "building tree 92 of 100\n",
      "building tree 83 of 100\n",
      "building tree 93 of 100\n",
      "building tree 64 of 100\n",
      "building tree 84 of 100\n",
      "building tree 94 of 100\n"
     ]
    },
    {
     "name": "stderr",
     "output_type": "stream",
     "text": [
      "[Parallel(n_jobs=1)]: Done  84 tasks       | elapsed:   12.7s\n"
     ]
    },
    {
     "name": "stdout",
     "output_type": "stream",
     "text": [
      "building tree 85 of 100\n",
      "building tree 65 of 100\n",
      "building tree 95 of 100\n",
      "building tree 86 of 100\n",
      "building tree 66 of 100\n",
      "building tree 96 of 100\n",
      "building tree 87 of 100\n",
      "building tree 97 of 100\n",
      "building tree 67 of 100\n"
     ]
    },
    {
     "name": "stderr",
     "output_type": "stream",
     "text": [
      "[Parallel(n_jobs=1)]: Done  97 tasks       | elapsed:   14.7s\n"
     ]
    },
    {
     "name": "stdout",
     "output_type": "stream",
     "text": [
      "building tree 88 of 100\n",
      "building tree 98 of 100\n",
      "building tree 68 of 100\n",
      "building tree 89 of 100\n",
      "building tree 99 of 100\n",
      "building tree 90 of 100\n",
      "building tree 69 of 100\n",
      "building tree 91 of 100\n",
      "building tree 100 of 100\n",
      "building tree 70 of 100\n",
      "building tree 92 of 100\n"
     ]
    },
    {
     "name": "stderr",
     "output_type": "stream",
     "text": [
      "[Parallel(n_jobs=1)]: Done 100 out of 100 | elapsed:   15.2s finished\n",
      "[Parallel(n_jobs=1)]: Done   1 tasks       | elapsed:    0.0s\n"
     ]
    },
    {
     "name": "stdout",
     "output_type": "stream",
     "text": [
      "building tree 71 of 100\n"
     ]
    },
    {
     "name": "stderr",
     "output_type": "stream",
     "text": [
      "[Parallel(n_jobs=1)]: Done   4 tasks       | elapsed:    0.0s\n",
      "[Parallel(n_jobs=1)]: Done   7 tasks       | elapsed:    0.1s\n"
     ]
    },
    {
     "name": "stdout",
     "output_type": "stream",
     "text": [
      "building tree 93 of 100\n"
     ]
    },
    {
     "name": "stderr",
     "output_type": "stream",
     "text": [
      "[Parallel(n_jobs=1)]: Done  12 tasks       | elapsed:    0.1s\n",
      "[Parallel(n_jobs=1)]: Done  71 tasks       | elapsed:   11.0s\n"
     ]
    },
    {
     "name": "stdout",
     "output_type": "stream",
     "text": [
      "building tree 72 of 100\n"
     ]
    },
    {
     "name": "stderr",
     "output_type": "stream",
     "text": [
      "[Parallel(n_jobs=1)]: Done  17 tasks       | elapsed:    0.2s\n"
     ]
    },
    {
     "name": "stdout",
     "output_type": "stream",
     "text": [
      "building tree 94 of 100\n"
     ]
    },
    {
     "name": "stderr",
     "output_type": "stream",
     "text": [
      "[Parallel(n_jobs=1)]: Done  24 tasks       | elapsed:    0.3s\n"
     ]
    },
    {
     "name": "stdout",
     "output_type": "stream",
     "text": [
      "building tree 73 of 100\n"
     ]
    },
    {
     "name": "stderr",
     "output_type": "stream",
     "text": [
      "[Parallel(n_jobs=1)]: Done  31 tasks       | elapsed:    0.4s\n"
     ]
    },
    {
     "name": "stdout",
     "output_type": "stream",
     "text": [
      "building tree 74 of 100\n",
      "building tree 95 of 100\n"
     ]
    },
    {
     "name": "stderr",
     "output_type": "stream",
     "text": [
      "[Parallel(n_jobs=1)]: Done  40 tasks       | elapsed:    0.5s\n",
      "[Parallel(n_jobs=1)]: Done  49 tasks       | elapsed:    0.6s\n"
     ]
    },
    {
     "name": "stdout",
     "output_type": "stream",
     "text": [
      "building tree 75 of 100\n",
      "building tree 96 of 100\n",
      "building tree 76 of 100\n"
     ]
    },
    {
     "name": "stderr",
     "output_type": "stream",
     "text": [
      "[Parallel(n_jobs=1)]: Done  60 tasks       | elapsed:    0.7s\n"
     ]
    },
    {
     "name": "stdout",
     "output_type": "stream",
     "text": [
      "building tree 97 of 100\n",
      "building tree 77 of 100\n"
     ]
    },
    {
     "name": "stderr",
     "output_type": "stream",
     "text": [
      "[Parallel(n_jobs=1)]: Done  71 tasks       | elapsed:    0.9s\n",
      "[Parallel(n_jobs=1)]: Done  97 tasks       | elapsed:   14.5s\n"
     ]
    },
    {
     "name": "stdout",
     "output_type": "stream",
     "text": [
      "building tree 98 of 100\n",
      "building tree 99 of 100\n"
     ]
    },
    {
     "name": "stderr",
     "output_type": "stream",
     "text": [
      "[Parallel(n_jobs=1)]: Done  84 tasks       | elapsed:    1.0s\n"
     ]
    },
    {
     "name": "stdout",
     "output_type": "stream",
     "text": [
      "building tree 78 of 100\n",
      "building tree 100 of 100\n",
      "building tree 79 of 100\n"
     ]
    },
    {
     "name": "stderr",
     "output_type": "stream",
     "text": [
      "[Parallel(n_jobs=1)]: Done  97 tasks       | elapsed:    1.2s\n",
      "[Parallel(n_jobs=1)]: Done 100 out of 100 | elapsed:    1.2s finished\n",
      "[Parallel(n_jobs=1)]: Done 100 out of 100 | elapsed:   14.9s finished\n",
      "[Parallel(n_jobs=1)]: Done   1 tasks       | elapsed:    0.0s\n"
     ]
    },
    {
     "name": "stdout",
     "output_type": "stream",
     "text": [
      "building tree 80 of 100\n"
     ]
    },
    {
     "name": "stderr",
     "output_type": "stream",
     "text": [
      "[Parallel(n_jobs=1)]: Done   4 tasks       | elapsed:    0.1s\n",
      "[Parallel(n_jobs=1)]: Done   7 tasks       | elapsed:    0.1s\n",
      "[Parallel(n_jobs=1)]: Done  12 tasks       | elapsed:    0.2s\n"
     ]
    },
    {
     "name": "stdout",
     "output_type": "stream",
     "text": [
      "building tree 81 of 100\n"
     ]
    },
    {
     "name": "stderr",
     "output_type": "stream",
     "text": [
      "[Parallel(n_jobs=1)]: Done  17 tasks       | elapsed:    0.3s\n"
     ]
    },
    {
     "name": "stdout",
     "output_type": "stream",
     "text": [
      "building tree 82 of 100\n"
     ]
    },
    {
     "name": "stderr",
     "output_type": "stream",
     "text": [
      "[Parallel(n_jobs=1)]: Done  24 tasks       | elapsed:    0.3s\n"
     ]
    },
    {
     "name": "stdout",
     "output_type": "stream",
     "text": [
      "building tree 1 of 100\n"
     ]
    },
    {
     "name": "stderr",
     "output_type": "stream",
     "text": [
      "[Parallel(n_jobs=1)]: Done  31 tasks       | elapsed:    0.4s\n"
     ]
    },
    {
     "name": "stdout",
     "output_type": "stream",
     "text": [
      "building tree 83 of 100\n"
     ]
    },
    {
     "name": "stderr",
     "output_type": "stream",
     "text": [
      "[Parallel(n_jobs=1)]: Done  40 tasks       | elapsed:    0.5s\n"
     ]
    },
    {
     "name": "stdout",
     "output_type": "stream",
     "text": [
      "building tree 84 of 100\n"
     ]
    },
    {
     "name": "stderr",
     "output_type": "stream",
     "text": [
      "[Parallel(n_jobs=1)]: Done   1 tasks       | elapsed:    0.2s\n"
     ]
    },
    {
     "name": "stdout",
     "output_type": "stream",
     "text": [
      "building tree 2 of 100\n"
     ]
    },
    {
     "name": "stderr",
     "output_type": "stream",
     "text": [
      "[Parallel(n_jobs=1)]: Done  49 tasks       | elapsed:    0.6s\n",
      "[Parallel(n_jobs=1)]: Done  84 tasks       | elapsed:   12.8s\n"
     ]
    },
    {
     "name": "stdout",
     "output_type": "stream",
     "text": [
      "building tree 85 of 100\n",
      "building tree 3 of 100\n"
     ]
    },
    {
     "name": "stderr",
     "output_type": "stream",
     "text": [
      "[Parallel(n_jobs=1)]: Done  60 tasks       | elapsed:    0.8s\n"
     ]
    },
    {
     "name": "stdout",
     "output_type": "stream",
     "text": [
      "building tree 86 of 100\n",
      "building tree 87 of 100\n",
      "building tree 4 of 100\n"
     ]
    },
    {
     "name": "stderr",
     "output_type": "stream",
     "text": [
      "[Parallel(n_jobs=1)]: Done  71 tasks       | elapsed:    1.0s\n",
      "[Parallel(n_jobs=1)]: Done   4 tasks       | elapsed:    0.7s\n"
     ]
    },
    {
     "name": "stdout",
     "output_type": "stream",
     "text": [
      "building tree 5 of 100\n",
      "building tree 88 of 100\n"
     ]
    },
    {
     "name": "stderr",
     "output_type": "stream",
     "text": [
      "[Parallel(n_jobs=1)]: Done  84 tasks       | elapsed:    1.1s\n"
     ]
    },
    {
     "name": "stdout",
     "output_type": "stream",
     "text": [
      "building tree 6 of 100\n",
      "building tree 89 of 100\n"
     ]
    },
    {
     "name": "stderr",
     "output_type": "stream",
     "text": [
      "[Parallel(n_jobs=1)]: Done  97 tasks       | elapsed:    1.3s\n"
     ]
    },
    {
     "name": "stdout",
     "output_type": "stream",
     "text": [
      "building tree 7 of 100\n"
     ]
    },
    {
     "name": "stderr",
     "output_type": "stream",
     "text": [
      "[Parallel(n_jobs=1)]: Done 100 out of 100 | elapsed:    1.3s finished\n"
     ]
    },
    {
     "name": "stdout",
     "output_type": "stream",
     "text": [
      "building tree 90 of 100\n",
      "building tree 91 of 100\n"
     ]
    },
    {
     "name": "stderr",
     "output_type": "stream",
     "text": [
      "[Parallel(n_jobs=1)]: Done   7 tasks       | elapsed:    1.2s\n"
     ]
    },
    {
     "name": "stdout",
     "output_type": "stream",
     "text": [
      "building tree 8 of 100\n",
      "building tree 9 of 100\n",
      "building tree 92 of 100\n",
      "building tree 10 of 100\n",
      "building tree 93 of 100\n",
      "building tree 1 of 100\n"
     ]
    },
    {
     "name": "stderr",
     "output_type": "stream",
     "text": [
      "[Parallel(n_jobs=1)]: Done   1 tasks       | elapsed:    0.1s\n"
     ]
    },
    {
     "name": "stdout",
     "output_type": "stream",
     "text": [
      "building tree 2 of 100\n",
      "building tree 94 of 100\n",
      "building tree 11 of 100\n",
      "building tree 95 of 100\n",
      "building tree 3 of 100\n",
      "building tree 96 of 100\n",
      "building tree 12 of 100\n",
      "building tree 97 of 100\n",
      "building tree 4 of 100\n"
     ]
    },
    {
     "name": "stderr",
     "output_type": "stream",
     "text": [
      "[Parallel(n_jobs=1)]: Done  12 tasks       | elapsed:    2.0s\n"
     ]
    },
    {
     "name": "stdout",
     "output_type": "stream",
     "text": [
      "building tree 13 of 100\n"
     ]
    },
    {
     "name": "stderr",
     "output_type": "stream",
     "text": [
      "[Parallel(n_jobs=1)]: Done  97 tasks       | elapsed:   14.5s\n"
     ]
    },
    {
     "name": "stdout",
     "output_type": "stream",
     "text": [
      "building tree 98 of 100\n"
     ]
    },
    {
     "name": "stderr",
     "output_type": "stream",
     "text": [
      "[Parallel(n_jobs=1)]: Done   4 tasks       | elapsed:    0.7s\n"
     ]
    },
    {
     "name": "stdout",
     "output_type": "stream",
     "text": [
      "building tree 5 of 100\n",
      "building tree 99 of 100\n",
      "building tree 14 of 100\n",
      "building tree 100 of 100\n",
      "building tree 6 of 100\n",
      "building tree 15 of 100\n"
     ]
    },
    {
     "name": "stderr",
     "output_type": "stream",
     "text": [
      "[Parallel(n_jobs=1)]: Done 100 out of 100 | elapsed:   14.9s finished\n",
      "[Parallel(n_jobs=1)]: Done   1 tasks       | elapsed:    0.0s\n",
      "[Parallel(n_jobs=1)]: Done   4 tasks       | elapsed:    0.0s\n",
      "[Parallel(n_jobs=1)]: Done   7 tasks       | elapsed:    0.1s\n"
     ]
    },
    {
     "name": "stdout",
     "output_type": "stream",
     "text": [
      "building tree 7 of 100\n",
      "building tree 16 of 100\n"
     ]
    },
    {
     "name": "stderr",
     "output_type": "stream",
     "text": [
      "[Parallel(n_jobs=1)]: Done  12 tasks       | elapsed:    0.2s\n",
      "[Parallel(n_jobs=1)]: Done   7 tasks       | elapsed:    1.2s\n"
     ]
    },
    {
     "name": "stdout",
     "output_type": "stream",
     "text": [
      "building tree 8 of 100\n"
     ]
    },
    {
     "name": "stderr",
     "output_type": "stream",
     "text": [
      "[Parallel(n_jobs=1)]: Done  17 tasks       | elapsed:    0.2s\n"
     ]
    },
    {
     "name": "stdout",
     "output_type": "stream",
     "text": [
      "building tree 17 of 100\n"
     ]
    },
    {
     "name": "stderr",
     "output_type": "stream",
     "text": [
      "[Parallel(n_jobs=1)]: Done  24 tasks       | elapsed:    0.3s\n"
     ]
    },
    {
     "name": "stdout",
     "output_type": "stream",
     "text": [
      "building tree 9 of 100\n"
     ]
    },
    {
     "name": "stderr",
     "output_type": "stream",
     "text": [
      "[Parallel(n_jobs=1)]: Done  31 tasks       | elapsed:    0.4s\n",
      "[Parallel(n_jobs=1)]: Done  17 tasks       | elapsed:    2.9s\n"
     ]
    },
    {
     "name": "stdout",
     "output_type": "stream",
     "text": [
      "building tree 18 of 100\n",
      "building tree 10 of 100\n"
     ]
    },
    {
     "name": "stderr",
     "output_type": "stream",
     "text": [
      "[Parallel(n_jobs=1)]: Done  40 tasks       | elapsed:    0.5s\n"
     ]
    },
    {
     "name": "stdout",
     "output_type": "stream",
     "text": [
      "building tree 19 of 100\n"
     ]
    },
    {
     "name": "stderr",
     "output_type": "stream",
     "text": [
      "[Parallel(n_jobs=1)]: Done  49 tasks       | elapsed:    0.7s\n"
     ]
    },
    {
     "name": "stdout",
     "output_type": "stream",
     "text": [
      "building tree 11 of 100\n",
      "building tree 20 of 100\n",
      "building tree 12 of 100\n"
     ]
    },
    {
     "name": "stderr",
     "output_type": "stream",
     "text": [
      "[Parallel(n_jobs=1)]: Done  60 tasks       | elapsed:    0.8s\n"
     ]
    },
    {
     "name": "stdout",
     "output_type": "stream",
     "text": [
      "building tree 21 of 100\n"
     ]
    },
    {
     "name": "stderr",
     "output_type": "stream",
     "text": [
      "[Parallel(n_jobs=1)]: Done  12 tasks       | elapsed:    1.9s\n"
     ]
    },
    {
     "name": "stdout",
     "output_type": "stream",
     "text": [
      "building tree 13 of 100\n"
     ]
    },
    {
     "name": "stderr",
     "output_type": "stream",
     "text": [
      "[Parallel(n_jobs=1)]: Done  71 tasks       | elapsed:    1.0s\n"
     ]
    },
    {
     "name": "stdout",
     "output_type": "stream",
     "text": [
      "building tree 14 of 100\n",
      "building tree 22 of 100\n"
     ]
    },
    {
     "name": "stderr",
     "output_type": "stream",
     "text": [
      "[Parallel(n_jobs=1)]: Done  84 tasks       | elapsed:    1.1s\n"
     ]
    },
    {
     "name": "stdout",
     "output_type": "stream",
     "text": [
      "building tree 15 of 100\n",
      "building tree 23 of 100\n"
     ]
    },
    {
     "name": "stderr",
     "output_type": "stream",
     "text": [
      "[Parallel(n_jobs=1)]: Done  97 tasks       | elapsed:    1.3s\n",
      "[Parallel(n_jobs=1)]: Done 100 out of 100 | elapsed:    1.3s finished\n"
     ]
    },
    {
     "name": "stdout",
     "output_type": "stream",
     "text": [
      "building tree 16 of 100\n",
      "building tree 24 of 100\n",
      "building tree 17 of 100\n"
     ]
    },
    {
     "name": "stderr",
     "output_type": "stream",
     "text": [
      "[Parallel(n_jobs=1)]: Done  24 tasks       | elapsed:    4.1s\n"
     ]
    },
    {
     "name": "stdout",
     "output_type": "stream",
     "text": [
      "building tree 25 of 100\n"
     ]
    },
    {
     "name": "stderr",
     "output_type": "stream",
     "text": [
      "[Parallel(n_jobs=1)]: Done  17 tasks       | elapsed:    2.7s\n"
     ]
    },
    {
     "name": "stdout",
     "output_type": "stream",
     "text": [
      "building tree 18 of 100\n",
      "building tree 1 of 100\n",
      "building tree 26 of 100\n",
      "building tree 19 of 100\n"
     ]
    },
    {
     "name": "stderr",
     "output_type": "stream",
     "text": [
      "[Parallel(n_jobs=1)]: Done   1 tasks       | elapsed:    0.1s\n"
     ]
    },
    {
     "name": "stdout",
     "output_type": "stream",
     "text": [
      "building tree 2 of 100\n",
      "building tree 27 of 100\n",
      "building tree 20 of 100\n",
      "building tree 3 of 100\n",
      "building tree 4 of 100\n",
      "building tree 28 of 100\n",
      "building tree 21 of 100\n"
     ]
    },
    {
     "name": "stderr",
     "output_type": "stream",
     "text": [
      "[Parallel(n_jobs=1)]: Done   4 tasks       | elapsed:    0.6s\n"
     ]
    },
    {
     "name": "stdout",
     "output_type": "stream",
     "text": [
      "building tree 5 of 100\n",
      "building tree 22 of 100\n",
      "building tree 29 of 100\n",
      "building tree 23 of 100\n",
      "building tree 6 of 100\n",
      "building tree 30 of 100\n",
      "building tree 24 of 100\n",
      "building tree 7 of 100\n",
      "building tree 31 of 100\n"
     ]
    },
    {
     "name": "stderr",
     "output_type": "stream",
     "text": [
      "[Parallel(n_jobs=1)]: Done  24 tasks       | elapsed:    3.8s\n"
     ]
    },
    {
     "name": "stdout",
     "output_type": "stream",
     "text": [
      "building tree 25 of 100\n"
     ]
    },
    {
     "name": "stderr",
     "output_type": "stream",
     "text": [
      "[Parallel(n_jobs=1)]: Done   7 tasks       | elapsed:    1.2s\n"
     ]
    },
    {
     "name": "stdout",
     "output_type": "stream",
     "text": [
      "building tree 8 of 100\n"
     ]
    },
    {
     "name": "stderr",
     "output_type": "stream",
     "text": [
      "[Parallel(n_jobs=1)]: Done  31 tasks       | elapsed:    5.4s\n"
     ]
    },
    {
     "name": "stdout",
     "output_type": "stream",
     "text": [
      "building tree 32 of 100\n",
      "building tree 26 of 100\n",
      "building tree 27 of 100\n",
      "building tree 9 of 100\n",
      "building tree 33 of 100\n",
      "building tree 34 of 100\n",
      "building tree 28 of 100\n",
      "building tree 10 of 100\n",
      "building tree 35 of 100\n",
      "building tree 11 of 100\n",
      "building tree 29 of 100\n",
      "building tree 36 of 100\n",
      "building tree 12 of 100\n",
      "building tree 30 of 100\n",
      "building tree 37 of 100\n",
      "building tree 31 of 100\n"
     ]
    },
    {
     "name": "stderr",
     "output_type": "stream",
     "text": [
      "[Parallel(n_jobs=1)]: Done  12 tasks       | elapsed:    2.1s\n"
     ]
    },
    {
     "name": "stdout",
     "output_type": "stream",
     "text": [
      "building tree 13 of 100\n",
      "building tree 38 of 100\n"
     ]
    },
    {
     "name": "stderr",
     "output_type": "stream",
     "text": [
      "[Parallel(n_jobs=1)]: Done  31 tasks       | elapsed:    5.0s\n"
     ]
    },
    {
     "name": "stdout",
     "output_type": "stream",
     "text": [
      "building tree 32 of 100\n",
      "building tree 39 of 100\n",
      "building tree 14 of 100\n",
      "building tree 40 of 100\n",
      "building tree 33 of 100\n",
      "building tree 15 of 100\n"
     ]
    },
    {
     "name": "stderr",
     "output_type": "stream",
     "text": [
      "[Parallel(n_jobs=1)]: Done  40 tasks       | elapsed:    6.8s\n"
     ]
    },
    {
     "name": "stdout",
     "output_type": "stream",
     "text": [
      "building tree 41 of 100\n",
      "building tree 16 of 100\n",
      "building tree 34 of 100\n",
      "building tree 42 of 100\n",
      "building tree 35 of 100\n",
      "building tree 17 of 100\n",
      "building tree 36 of 100\n",
      "building tree 43 of 100\n"
     ]
    },
    {
     "name": "stderr",
     "output_type": "stream",
     "text": [
      "[Parallel(n_jobs=1)]: Done  17 tasks       | elapsed:    3.0s\n"
     ]
    },
    {
     "name": "stdout",
     "output_type": "stream",
     "text": [
      "building tree 18 of 100\n",
      "building tree 37 of 100\n",
      "building tree 19 of 100\n",
      "building tree 44 of 100\n",
      "building tree 38 of 100\n",
      "building tree 20 of 100\n",
      "building tree 39 of 100\n",
      "building tree 45 of 100\n",
      "building tree 40 of 100\n",
      "building tree 21 of 100\n",
      "building tree 46 of 100\n"
     ]
    },
    {
     "name": "stderr",
     "output_type": "stream",
     "text": [
      "[Parallel(n_jobs=1)]: Done  40 tasks       | elapsed:    6.4s\n"
     ]
    },
    {
     "name": "stdout",
     "output_type": "stream",
     "text": [
      "building tree 41 of 100\n",
      "building tree 47 of 100\n",
      "building tree 22 of 100\n",
      "building tree 42 of 100\n",
      "building tree 48 of 100\n",
      "building tree 43 of 100\n",
      "building tree 23 of 100\n",
      "building tree 44 of 100\n",
      "building tree 49 of 100\n",
      "building tree 24 of 100\n",
      "building tree 45 of 100\n"
     ]
    },
    {
     "name": "stderr",
     "output_type": "stream",
     "text": [
      "[Parallel(n_jobs=1)]: Done  49 tasks       | elapsed:    8.5s\n"
     ]
    },
    {
     "name": "stdout",
     "output_type": "stream",
     "text": [
      "building tree 50 of 100\n"
     ]
    },
    {
     "name": "stderr",
     "output_type": "stream",
     "text": [
      "[Parallel(n_jobs=1)]: Done  24 tasks       | elapsed:    4.4s\n"
     ]
    },
    {
     "name": "stdout",
     "output_type": "stream",
     "text": [
      "building tree 25 of 100\n",
      "building tree 46 of 100\n",
      "building tree 51 of 100\n",
      "building tree 26 of 100\n",
      "building tree 47 of 100\n",
      "building tree 52 of 100\n",
      "building tree 27 of 100\n",
      "building tree 28 of 100\n",
      "building tree 53 of 100\n",
      "building tree 48 of 100\n",
      "building tree 29 of 100\n",
      "building tree 54 of 100\n",
      "building tree 30 of 100\n",
      "building tree 49 of 100\n",
      "building tree 55 of 100\n"
     ]
    },
    {
     "name": "stderr",
     "output_type": "stream",
     "text": [
      "[Parallel(n_jobs=1)]: Done  49 tasks       | elapsed:    8.0s\n"
     ]
    },
    {
     "name": "stdout",
     "output_type": "stream",
     "text": [
      "building tree 50 of 100\n",
      "building tree 31 of 100\n",
      "building tree 56 of 100\n",
      "building tree 51 of 100\n"
     ]
    },
    {
     "name": "stderr",
     "output_type": "stream",
     "text": [
      "[Parallel(n_jobs=1)]: Done  31 tasks       | elapsed:    5.4s\n"
     ]
    },
    {
     "name": "stdout",
     "output_type": "stream",
     "text": [
      "building tree 32 of 100\n",
      "building tree 57 of 100\n",
      "building tree 52 of 100\n",
      "building tree 33 of 100\n",
      "building tree 58 of 100\n",
      "building tree 59 of 100\n",
      "building tree 34 of 100\n",
      "building tree 53 of 100\n",
      "building tree 35 of 100\n",
      "building tree 60 of 100\n",
      "building tree 54 of 100\n"
     ]
    },
    {
     "name": "stderr",
     "output_type": "stream",
     "text": [
      "[Parallel(n_jobs=1)]: Done  60 tasks       | elapsed:   10.3s\n"
     ]
    },
    {
     "name": "stdout",
     "output_type": "stream",
     "text": [
      "building tree 61 of 100\n",
      "building tree 36 of 100\n",
      "building tree 55 of 100\n",
      "building tree 62 of 100\n",
      "building tree 37 of 100\n",
      "building tree 56 of 100\n",
      "building tree 63 of 100\n",
      "building tree 38 of 100\n",
      "building tree 57 of 100\n",
      "building tree 64 of 100\n",
      "building tree 39 of 100\n",
      "building tree 65 of 100\n",
      "building tree 58 of 100\n",
      "building tree 40 of 100\n",
      "building tree 66 of 100\n",
      "building tree 59 of 100\n"
     ]
    },
    {
     "name": "stderr",
     "output_type": "stream",
     "text": [
      "[Parallel(n_jobs=1)]: Done  40 tasks       | elapsed:    6.9s\n"
     ]
    },
    {
     "name": "stdout",
     "output_type": "stream",
     "text": [
      "building tree 41 of 100\n",
      "building tree 67 of 100\n",
      "building tree 60 of 100\n",
      "building tree 42 of 100\n",
      "building tree 68 of 100\n"
     ]
    },
    {
     "name": "stderr",
     "output_type": "stream",
     "text": [
      "[Parallel(n_jobs=1)]: Done  60 tasks       | elapsed:   10.0s\n"
     ]
    },
    {
     "name": "stdout",
     "output_type": "stream",
     "text": [
      "building tree 61 of 100\n",
      "building tree 43 of 100\n",
      "building tree 69 of 100\n",
      "building tree 70 of 100\n",
      "building tree 62 of 100\n",
      "building tree 44 of 100\n",
      "building tree 71 of 100\n",
      "building tree 63 of 100\n",
      "building tree 45 of 100\n"
     ]
    },
    {
     "name": "stderr",
     "output_type": "stream",
     "text": [
      "[Parallel(n_jobs=1)]: Done  71 tasks       | elapsed:   11.9s\n"
     ]
    },
    {
     "name": "stdout",
     "output_type": "stream",
     "text": [
      "building tree 72 of 100\n",
      "building tree 46 of 100\n",
      "building tree 64 of 100\n",
      "building tree 73 of 100\n",
      "building tree 65 of 100\n",
      "building tree 47 of 100\n",
      "building tree 66 of 100\n",
      "building tree 74 of 100\n",
      "building tree 48 of 100\n",
      "building tree 67 of 100\n",
      "building tree 75 of 100\n",
      "building tree 49 of 100\n",
      "building tree 68 of 100\n",
      "building tree 76 of 100\n"
     ]
    },
    {
     "name": "stderr",
     "output_type": "stream",
     "text": [
      "[Parallel(n_jobs=1)]: Done  49 tasks       | elapsed:    8.5s\n"
     ]
    },
    {
     "name": "stdout",
     "output_type": "stream",
     "text": [
      "building tree 50 of 100\n",
      "building tree 51 of 100\n",
      "building tree 69 of 100\n",
      "building tree 77 of 100\n",
      "building tree 52 of 100\n",
      "building tree 70 of 100\n",
      "building tree 78 of 100\n",
      "building tree 71 of 100\n",
      "building tree 53 of 100\n",
      "building tree 79 of 100\n"
     ]
    },
    {
     "name": "stderr",
     "output_type": "stream",
     "text": [
      "[Parallel(n_jobs=1)]: Done  71 tasks       | elapsed:   11.8s\n"
     ]
    },
    {
     "name": "stdout",
     "output_type": "stream",
     "text": [
      "building tree 72 of 100\n",
      "building tree 54 of 100\n",
      "building tree 80 of 100\n",
      "building tree 73 of 100\n",
      "building tree 55 of 100\n",
      "building tree 74 of 100\n",
      "building tree 81 of 100\n",
      "building tree 56 of 100\n",
      "building tree 82 of 100\n",
      "building tree 75 of 100\n",
      "building tree 57 of 100\n",
      "building tree 76 of 100\n",
      "building tree 83 of 100\n",
      "building tree 77 of 100\n",
      "building tree 58 of 100\n",
      "building tree 84 of 100\n",
      "building tree 78 of 100\n",
      "building tree 59 of 100\n"
     ]
    },
    {
     "name": "stderr",
     "output_type": "stream",
     "text": [
      "[Parallel(n_jobs=1)]: Done  84 tasks       | elapsed:   14.3s\n"
     ]
    },
    {
     "name": "stdout",
     "output_type": "stream",
     "text": [
      "building tree 85 of 100\n",
      "building tree 79 of 100\n",
      "building tree 86 of 100\n",
      "building tree 60 of 100\n",
      "building tree 80 of 100\n"
     ]
    },
    {
     "name": "stderr",
     "output_type": "stream",
     "text": [
      "[Parallel(n_jobs=1)]: Done  60 tasks       | elapsed:   10.4s\n"
     ]
    },
    {
     "name": "stdout",
     "output_type": "stream",
     "text": [
      "building tree 61 of 100\n",
      "building tree 87 of 100\n",
      "building tree 62 of 100\n",
      "building tree 81 of 100\n",
      "building tree 88 of 100\n",
      "building tree 63 of 100\n",
      "building tree 82 of 100\n",
      "building tree 89 of 100\n",
      "building tree 64 of 100\n",
      "building tree 90 of 100\n",
      "building tree 83 of 100\n",
      "building tree 65 of 100\n",
      "building tree 91 of 100\n",
      "building tree 84 of 100\n",
      "building tree 92 of 100\n",
      "building tree 66 of 100\n",
      "building tree 93 of 100\n"
     ]
    },
    {
     "name": "stderr",
     "output_type": "stream",
     "text": [
      "[Parallel(n_jobs=1)]: Done  84 tasks       | elapsed:   14.1s\n"
     ]
    },
    {
     "name": "stdout",
     "output_type": "stream",
     "text": [
      "building tree 85 of 100\n",
      "building tree 67 of 100\n",
      "building tree 86 of 100\n",
      "building tree 94 of 100\n",
      "building tree 68 of 100\n",
      "building tree 95 of 100\n",
      "building tree 87 of 100\n",
      "building tree 69 of 100\n",
      "building tree 96 of 100\n",
      "building tree 88 of 100\n",
      "building tree 70 of 100\n",
      "building tree 97 of 100\n",
      "building tree 89 of 100\n",
      "building tree 71 of 100\n"
     ]
    },
    {
     "name": "stderr",
     "output_type": "stream",
     "text": [
      "[Parallel(n_jobs=1)]: Done  97 tasks       | elapsed:   16.3s\n"
     ]
    },
    {
     "name": "stdout",
     "output_type": "stream",
     "text": [
      "building tree 98 of 100\n",
      "building tree 99 of 100\n",
      "building tree 90 of 100\n"
     ]
    },
    {
     "name": "stderr",
     "output_type": "stream",
     "text": [
      "[Parallel(n_jobs=1)]: Done  71 tasks       | elapsed:   12.2s\n"
     ]
    },
    {
     "name": "stdout",
     "output_type": "stream",
     "text": [
      "building tree 72 of 100\n",
      "building tree 91 of 100\n",
      "building tree 100 of 100\n",
      "building tree 73 of 100\n",
      "building tree 92 of 100\n",
      "building tree 74 of 100\n"
     ]
    },
    {
     "name": "stderr",
     "output_type": "stream",
     "text": [
      "[Parallel(n_jobs=1)]: Done 100 out of 100 | elapsed:   16.8s finished\n",
      "[Parallel(n_jobs=1)]: Done   1 tasks       | elapsed:    0.0s\n",
      "[Parallel(n_jobs=1)]: Done   4 tasks       | elapsed:    0.1s\n",
      "[Parallel(n_jobs=1)]: Done   7 tasks       | elapsed:    0.1s\n"
     ]
    },
    {
     "name": "stdout",
     "output_type": "stream",
     "text": [
      "building tree 93 of 100\n",
      "building tree 75 of 100\n"
     ]
    },
    {
     "name": "stderr",
     "output_type": "stream",
     "text": [
      "[Parallel(n_jobs=1)]: Done  12 tasks       | elapsed:    0.2s\n",
      "[Parallel(n_jobs=1)]: Done  17 tasks       | elapsed:    0.2s\n"
     ]
    },
    {
     "name": "stdout",
     "output_type": "stream",
     "text": [
      "building tree 76 of 100\n",
      "building tree 94 of 100\n"
     ]
    },
    {
     "name": "stderr",
     "output_type": "stream",
     "text": [
      "[Parallel(n_jobs=1)]: Done  24 tasks       | elapsed:    0.3s\n",
      "[Parallel(n_jobs=1)]: Done  31 tasks       | elapsed:    0.4s\n"
     ]
    },
    {
     "name": "stdout",
     "output_type": "stream",
     "text": [
      "building tree 77 of 100\n",
      "building tree 95 of 100\n"
     ]
    },
    {
     "name": "stderr",
     "output_type": "stream",
     "text": [
      "[Parallel(n_jobs=1)]: Done  40 tasks       | elapsed:    0.5s\n"
     ]
    },
    {
     "name": "stdout",
     "output_type": "stream",
     "text": [
      "building tree 96 of 100\n"
     ]
    },
    {
     "name": "stderr",
     "output_type": "stream",
     "text": [
      "[Parallel(n_jobs=1)]: Done  49 tasks       | elapsed:    0.6s\n"
     ]
    },
    {
     "name": "stdout",
     "output_type": "stream",
     "text": [
      "building tree 78 of 100\n"
     ]
    },
    {
     "name": "stderr",
     "output_type": "stream",
     "text": [
      "[Parallel(n_jobs=1)]: Done  60 tasks       | elapsed:    0.8s\n"
     ]
    },
    {
     "name": "stdout",
     "output_type": "stream",
     "text": [
      "building tree 79 of 100\n",
      "building tree 97 of 100\n"
     ]
    },
    {
     "name": "stderr",
     "output_type": "stream",
     "text": [
      "[Parallel(n_jobs=1)]: Done  71 tasks       | elapsed:    0.9s\n"
     ]
    },
    {
     "name": "stdout",
     "output_type": "stream",
     "text": [
      "building tree 80 of 100\n"
     ]
    },
    {
     "name": "stderr",
     "output_type": "stream",
     "text": [
      "[Parallel(n_jobs=1)]: Done  97 tasks       | elapsed:   16.3s\n"
     ]
    },
    {
     "name": "stdout",
     "output_type": "stream",
     "text": [
      "building tree 98 of 100\n"
     ]
    },
    {
     "name": "stderr",
     "output_type": "stream",
     "text": [
      "[Parallel(n_jobs=1)]: Done  84 tasks       | elapsed:    1.1s\n"
     ]
    },
    {
     "name": "stdout",
     "output_type": "stream",
     "text": [
      "building tree 81 of 100\n",
      "building tree 99 of 100\n"
     ]
    },
    {
     "name": "stderr",
     "output_type": "stream",
     "text": [
      "[Parallel(n_jobs=1)]: Done  97 tasks       | elapsed:    1.2s\n"
     ]
    },
    {
     "name": "stdout",
     "output_type": "stream",
     "text": [
      "building tree 82 of 100\n"
     ]
    },
    {
     "name": "stderr",
     "output_type": "stream",
     "text": [
      "[Parallel(n_jobs=1)]: Done 100 out of 100 | elapsed:    1.3s finished\n"
     ]
    },
    {
     "name": "stdout",
     "output_type": "stream",
     "text": [
      "building tree 100 of 100\n",
      "building tree 83 of 100\n"
     ]
    },
    {
     "name": "stderr",
     "output_type": "stream",
     "text": [
      "[Parallel(n_jobs=1)]: Done 100 out of 100 | elapsed:   16.9s finished\n",
      "[Parallel(n_jobs=1)]: Done   1 tasks       | elapsed:    0.0s\n",
      "[Parallel(n_jobs=1)]: Done   4 tasks       | elapsed:    0.1s\n"
     ]
    },
    {
     "name": "stdout",
     "output_type": "stream",
     "text": [
      "building tree 84 of 100\n"
     ]
    },
    {
     "name": "stderr",
     "output_type": "stream",
     "text": [
      "[Parallel(n_jobs=1)]: Done   7 tasks       | elapsed:    0.1s\n"
     ]
    },
    {
     "name": "stdout",
     "output_type": "stream",
     "text": [
      "building tree 1 of 100\n"
     ]
    },
    {
     "name": "stderr",
     "output_type": "stream",
     "text": [
      "[Parallel(n_jobs=1)]: Done  12 tasks       | elapsed:    0.2s\n",
      "[Parallel(n_jobs=1)]: Done  84 tasks       | elapsed:   14.4s\n"
     ]
    },
    {
     "name": "stdout",
     "output_type": "stream",
     "text": [
      "building tree 85 of 100\n"
     ]
    },
    {
     "name": "stderr",
     "output_type": "stream",
     "text": [
      "[Parallel(n_jobs=1)]: Done  17 tasks       | elapsed:    0.2s\n",
      "[Parallel(n_jobs=1)]: Done   1 tasks       | elapsed:    0.2s\n"
     ]
    },
    {
     "name": "stdout",
     "output_type": "stream",
     "text": [
      "building tree 2 of 100\n"
     ]
    },
    {
     "name": "stderr",
     "output_type": "stream",
     "text": [
      "[Parallel(n_jobs=1)]: Done  24 tasks       | elapsed:    0.3s\n"
     ]
    },
    {
     "name": "stdout",
     "output_type": "stream",
     "text": [
      "building tree 86 of 100\n",
      "building tree 3 of 100\n"
     ]
    },
    {
     "name": "stderr",
     "output_type": "stream",
     "text": [
      "[Parallel(n_jobs=1)]: Done  31 tasks       | elapsed:    0.5s\n"
     ]
    },
    {
     "name": "stdout",
     "output_type": "stream",
     "text": [
      "building tree 87 of 100\n"
     ]
    },
    {
     "name": "stderr",
     "output_type": "stream",
     "text": [
      "[Parallel(n_jobs=1)]: Done  40 tasks       | elapsed:    0.6s\n"
     ]
    },
    {
     "name": "stdout",
     "output_type": "stream",
     "text": [
      "building tree 4 of 100\n",
      "building tree 88 of 100\n"
     ]
    },
    {
     "name": "stderr",
     "output_type": "stream",
     "text": [
      "[Parallel(n_jobs=1)]: Done  49 tasks       | elapsed:    0.7s\n",
      "[Parallel(n_jobs=1)]: Done   4 tasks       | elapsed:    0.6s\n"
     ]
    },
    {
     "name": "stdout",
     "output_type": "stream",
     "text": [
      "building tree 5 of 100\n",
      "building tree 89 of 100\n"
     ]
    },
    {
     "name": "stderr",
     "output_type": "stream",
     "text": [
      "[Parallel(n_jobs=1)]: Done  60 tasks       | elapsed:    0.9s\n"
     ]
    },
    {
     "name": "stdout",
     "output_type": "stream",
     "text": [
      "building tree 6 of 100\n",
      "building tree 90 of 100\n",
      "building tree 91 of 100\n",
      "building tree 7 of 100\n"
     ]
    },
    {
     "name": "stderr",
     "output_type": "stream",
     "text": [
      "[Parallel(n_jobs=1)]: Done  71 tasks       | elapsed:    1.1s\n",
      "[Parallel(n_jobs=1)]: Done  84 tasks       | elapsed:    1.2s\n"
     ]
    },
    {
     "name": "stdout",
     "output_type": "stream",
     "text": [
      "building tree 92 of 100\n"
     ]
    },
    {
     "name": "stderr",
     "output_type": "stream",
     "text": [
      "[Parallel(n_jobs=1)]: Done   7 tasks       | elapsed:    1.2s\n"
     ]
    },
    {
     "name": "stdout",
     "output_type": "stream",
     "text": [
      "building tree 8 of 100\n",
      "building tree 93 of 100\n"
     ]
    },
    {
     "name": "stderr",
     "output_type": "stream",
     "text": [
      "[Parallel(n_jobs=1)]: Done  97 tasks       | elapsed:    1.4s\n",
      "[Parallel(n_jobs=1)]: Done 100 out of 100 | elapsed:    1.4s finished\n"
     ]
    },
    {
     "name": "stdout",
     "output_type": "stream",
     "text": [
      "building tree 9 of 100\n",
      "building tree 94 of 100\n",
      "building tree 10 of 100\n",
      "building tree 95 of 100\n",
      "building tree 11 of 100\n",
      "building tree 1 of 100\n",
      "building tree 96 of 100\n"
     ]
    },
    {
     "name": "stderr",
     "output_type": "stream",
     "text": [
      "[Parallel(n_jobs=1)]: Done   1 tasks       | elapsed:    0.1s\n"
     ]
    },
    {
     "name": "stdout",
     "output_type": "stream",
     "text": [
      "building tree 2 of 100\n",
      "building tree 12 of 100\n",
      "building tree 97 of 100\n",
      "building tree 3 of 100\n"
     ]
    },
    {
     "name": "stderr",
     "output_type": "stream",
     "text": [
      "[Parallel(n_jobs=1)]: Done  12 tasks       | elapsed:    2.1s\n"
     ]
    },
    {
     "name": "stdout",
     "output_type": "stream",
     "text": [
      "building tree 13 of 100\n",
      "building tree 4 of 100\n"
     ]
    },
    {
     "name": "stderr",
     "output_type": "stream",
     "text": [
      "[Parallel(n_jobs=1)]: Done  97 tasks       | elapsed:   16.4s\n"
     ]
    },
    {
     "name": "stdout",
     "output_type": "stream",
     "text": [
      "building tree 98 of 100\n"
     ]
    },
    {
     "name": "stderr",
     "output_type": "stream",
     "text": [
      "[Parallel(n_jobs=1)]: Done   4 tasks       | elapsed:    0.6s\n"
     ]
    },
    {
     "name": "stdout",
     "output_type": "stream",
     "text": [
      "building tree 5 of 100\n",
      "building tree 14 of 100\n",
      "building tree 99 of 100\n",
      "building tree 100 of 100\n",
      "building tree 15 of 100\n",
      "building tree 6 of 100\n"
     ]
    },
    {
     "name": "stderr",
     "output_type": "stream",
     "text": [
      "[Parallel(n_jobs=1)]: Done 100 out of 100 | elapsed:   16.9s finished\n",
      "[Parallel(n_jobs=1)]: Done   1 tasks       | elapsed:    0.0s\n",
      "[Parallel(n_jobs=1)]: Done   4 tasks       | elapsed:    0.1s\n"
     ]
    },
    {
     "name": "stdout",
     "output_type": "stream",
     "text": [
      "building tree 16 of 100\n",
      "building tree 7 of 100\n"
     ]
    },
    {
     "name": "stderr",
     "output_type": "stream",
     "text": [
      "[Parallel(n_jobs=1)]: Done   7 tasks       | elapsed:    0.1s\n",
      "[Parallel(n_jobs=1)]: Done  12 tasks       | elapsed:    0.2s\n",
      "[Parallel(n_jobs=1)]: Done  17 tasks       | elapsed:    0.2s\n",
      "[Parallel(n_jobs=1)]: Done   7 tasks       | elapsed:    1.1s\n"
     ]
    },
    {
     "name": "stdout",
     "output_type": "stream",
     "text": [
      "building tree 8 of 100\n",
      "building tree 17 of 100\n"
     ]
    },
    {
     "name": "stderr",
     "output_type": "stream",
     "text": [
      "[Parallel(n_jobs=1)]: Done  24 tasks       | elapsed:    0.3s\n",
      "[Parallel(n_jobs=1)]: Done  31 tasks       | elapsed:    0.4s\n"
     ]
    },
    {
     "name": "stdout",
     "output_type": "stream",
     "text": [
      "building tree 9 of 100\n"
     ]
    },
    {
     "name": "stderr",
     "output_type": "stream",
     "text": [
      "[Parallel(n_jobs=1)]: Done  17 tasks       | elapsed:    3.1s\n"
     ]
    },
    {
     "name": "stdout",
     "output_type": "stream",
     "text": [
      "building tree 18 of 100\n"
     ]
    },
    {
     "name": "stderr",
     "output_type": "stream",
     "text": [
      "[Parallel(n_jobs=1)]: Done  40 tasks       | elapsed:    0.5s\n"
     ]
    },
    {
     "name": "stdout",
     "output_type": "stream",
     "text": [
      "building tree 10 of 100\n",
      "building tree 19 of 100\n"
     ]
    },
    {
     "name": "stderr",
     "output_type": "stream",
     "text": [
      "[Parallel(n_jobs=1)]: Done  49 tasks       | elapsed:    0.7s\n"
     ]
    },
    {
     "name": "stdout",
     "output_type": "stream",
     "text": [
      "building tree 11 of 100\n",
      "building tree 20 of 100\n"
     ]
    },
    {
     "name": "stderr",
     "output_type": "stream",
     "text": [
      "[Parallel(n_jobs=1)]: Done  60 tasks       | elapsed:    0.9s\n"
     ]
    },
    {
     "name": "stdout",
     "output_type": "stream",
     "text": [
      "building tree 21 of 100\n",
      "building tree 12 of 100\n"
     ]
    },
    {
     "name": "stderr",
     "output_type": "stream",
     "text": [
      "[Parallel(n_jobs=1)]: Done  71 tasks       | elapsed:    1.0s\n"
     ]
    },
    {
     "name": "stdout",
     "output_type": "stream",
     "text": [
      "building tree 22 of 100\n"
     ]
    },
    {
     "name": "stderr",
     "output_type": "stream",
     "text": [
      "[Parallel(n_jobs=1)]: Done  12 tasks       | elapsed:    2.0s\n"
     ]
    },
    {
     "name": "stdout",
     "output_type": "stream",
     "text": [
      "building tree 13 of 100\n"
     ]
    },
    {
     "name": "stderr",
     "output_type": "stream",
     "text": [
      "[Parallel(n_jobs=1)]: Done  84 tasks       | elapsed:    1.2s\n"
     ]
    },
    {
     "name": "stdout",
     "output_type": "stream",
     "text": [
      "building tree 14 of 100\n",
      "building tree 23 of 100\n",
      "building tree 15 of 100\n"
     ]
    },
    {
     "name": "stderr",
     "output_type": "stream",
     "text": [
      "[Parallel(n_jobs=1)]: Done  97 tasks       | elapsed:    1.4s\n",
      "[Parallel(n_jobs=1)]: Done 100 out of 100 | elapsed:    1.4s finished\n"
     ]
    },
    {
     "name": "stdout",
     "output_type": "stream",
     "text": [
      "building tree 24 of 100\n",
      "building tree 16 of 100\n"
     ]
    },
    {
     "name": "stderr",
     "output_type": "stream",
     "text": [
      "[Parallel(n_jobs=1)]: Done  24 tasks       | elapsed:    4.2s\n"
     ]
    },
    {
     "name": "stdout",
     "output_type": "stream",
     "text": [
      "building tree 25 of 100\n",
      "building tree 17 of 100\n",
      "building tree 26 of 100\n",
      "building tree 1 of 100\n"
     ]
    },
    {
     "name": "stderr",
     "output_type": "stream",
     "text": [
      "[Parallel(n_jobs=1)]: Done  17 tasks       | elapsed:    2.8s\n"
     ]
    },
    {
     "name": "stdout",
     "output_type": "stream",
     "text": [
      "building tree 18 of 100\n"
     ]
    },
    {
     "name": "stderr",
     "output_type": "stream",
     "text": [
      "[Parallel(n_jobs=1)]: Done   1 tasks       | elapsed:    0.1s\n"
     ]
    },
    {
     "name": "stdout",
     "output_type": "stream",
     "text": [
      "building tree 2 of 100\n",
      "building tree 27 of 100\n",
      "building tree 19 of 100\n",
      "building tree 28 of 100\n",
      "building tree 3 of 100\n",
      "building tree 20 of 100\n",
      "building tree 21 of 100\n",
      "building tree 29 of 100\n",
      "building tree 4 of 100\n"
     ]
    },
    {
     "name": "stderr",
     "output_type": "stream",
     "text": [
      "[Parallel(n_jobs=1)]: Done   4 tasks       | elapsed:    0.7s\n"
     ]
    },
    {
     "name": "stdout",
     "output_type": "stream",
     "text": [
      "building tree 5 of 100\n",
      "building tree 22 of 100\n",
      "building tree 30 of 100\n",
      "building tree 31 of 100\n",
      "building tree 6 of 100\n",
      "building tree 23 of 100\n",
      "building tree 7 of 100\n"
     ]
    },
    {
     "name": "stderr",
     "output_type": "stream",
     "text": [
      "[Parallel(n_jobs=1)]: Done  31 tasks       | elapsed:    5.5s\n"
     ]
    },
    {
     "name": "stdout",
     "output_type": "stream",
     "text": [
      "building tree 32 of 100\n",
      "building tree 24 of 100\n"
     ]
    },
    {
     "name": "stderr",
     "output_type": "stream",
     "text": [
      "[Parallel(n_jobs=1)]: Done   7 tasks       | elapsed:    1.2s\n"
     ]
    },
    {
     "name": "stdout",
     "output_type": "stream",
     "text": [
      "building tree 8 of 100\n"
     ]
    },
    {
     "name": "stderr",
     "output_type": "stream",
     "text": [
      "[Parallel(n_jobs=1)]: Done  24 tasks       | elapsed:    3.9s\n"
     ]
    },
    {
     "name": "stdout",
     "output_type": "stream",
     "text": [
      "building tree 25 of 100\n",
      "building tree 33 of 100\n",
      "building tree 9 of 100\n",
      "building tree 26 of 100\n",
      "building tree 34 of 100\n",
      "building tree 10 of 100\n",
      "building tree 27 of 100\n",
      "building tree 35 of 100\n",
      "building tree 28 of 100\n",
      "building tree 11 of 100\n",
      "building tree 36 of 100\n",
      "building tree 29 of 100\n",
      "building tree 12 of 100\n",
      "building tree 30 of 100\n",
      "building tree 37 of 100\n"
     ]
    },
    {
     "name": "stderr",
     "output_type": "stream",
     "text": [
      "[Parallel(n_jobs=1)]: Done  12 tasks       | elapsed:    2.1s\n"
     ]
    },
    {
     "name": "stdout",
     "output_type": "stream",
     "text": [
      "building tree 13 of 100\n",
      "building tree 31 of 100\n",
      "building tree 38 of 100\n"
     ]
    },
    {
     "name": "stderr",
     "output_type": "stream",
     "text": [
      "[Parallel(n_jobs=1)]: Done  31 tasks       | elapsed:    5.0s\n"
     ]
    },
    {
     "name": "stdout",
     "output_type": "stream",
     "text": [
      "building tree 32 of 100\n",
      "building tree 14 of 100\n",
      "building tree 39 of 100\n",
      "building tree 33 of 100\n",
      "building tree 15 of 100\n",
      "building tree 34 of 100\n",
      "building tree 40 of 100\n",
      "building tree 16 of 100\n",
      "building tree 35 of 100\n"
     ]
    },
    {
     "name": "stderr",
     "output_type": "stream",
     "text": [
      "[Parallel(n_jobs=1)]: Done  40 tasks       | elapsed:    7.3s\n"
     ]
    },
    {
     "name": "stdout",
     "output_type": "stream",
     "text": [
      "building tree 41 of 100\n",
      "building tree 17 of 100\n",
      "building tree 36 of 100\n",
      "building tree 37 of 100\n",
      "building tree 42 of 100\n"
     ]
    },
    {
     "name": "stderr",
     "output_type": "stream",
     "text": [
      "[Parallel(n_jobs=1)]: Done  17 tasks       | elapsed:    3.0s\n"
     ]
    },
    {
     "name": "stdout",
     "output_type": "stream",
     "text": [
      "building tree 18 of 100\n",
      "building tree 38 of 100\n",
      "building tree 43 of 100\n",
      "building tree 19 of 100\n",
      "building tree 39 of 100\n",
      "building tree 44 of 100\n",
      "building tree 20 of 100\n",
      "building tree 40 of 100\n",
      "building tree 21 of 100\n",
      "building tree 45 of 100\n"
     ]
    },
    {
     "name": "stderr",
     "output_type": "stream",
     "text": [
      "[Parallel(n_jobs=1)]: Done  40 tasks       | elapsed:    6.4s\n"
     ]
    },
    {
     "name": "stdout",
     "output_type": "stream",
     "text": [
      "building tree 41 of 100\n",
      "building tree 22 of 100\n",
      "building tree 46 of 100\n",
      "building tree 23 of 100\n",
      "building tree 42 of 100\n",
      "building tree 43 of 100\n",
      "building tree 47 of 100\n",
      "building tree 24 of 100\n",
      "building tree 44 of 100\n",
      "building tree 48 of 100\n"
     ]
    },
    {
     "name": "stderr",
     "output_type": "stream",
     "text": [
      "[Parallel(n_jobs=1)]: Done  24 tasks       | elapsed:    4.2s\n"
     ]
    },
    {
     "name": "stdout",
     "output_type": "stream",
     "text": [
      "building tree 25 of 100\n",
      "building tree 45 of 100\n",
      "building tree 26 of 100\n",
      "building tree 49 of 100\n",
      "building tree 46 of 100\n",
      "building tree 27 of 100\n"
     ]
    },
    {
     "name": "stderr",
     "output_type": "stream",
     "text": [
      "[Parallel(n_jobs=1)]: Done  49 tasks       | elapsed:    9.1s\n"
     ]
    },
    {
     "name": "stdout",
     "output_type": "stream",
     "text": [
      "building tree 50 of 100\n",
      "building tree 47 of 100\n",
      "building tree 28 of 100\n",
      "building tree 48 of 100\n",
      "building tree 51 of 100\n",
      "building tree 29 of 100\n",
      "building tree 52 of 100\n",
      "building tree 49 of 100\n",
      "building tree 30 of 100\n"
     ]
    },
    {
     "name": "stderr",
     "output_type": "stream",
     "text": [
      "[Parallel(n_jobs=1)]: Done  49 tasks       | elapsed:    7.9s\n"
     ]
    },
    {
     "name": "stdout",
     "output_type": "stream",
     "text": [
      "building tree 50 of 100\n",
      "building tree 53 of 100\n",
      "building tree 31 of 100\n",
      "building tree 51 of 100\n",
      "building tree 54 of 100\n"
     ]
    },
    {
     "name": "stderr",
     "output_type": "stream",
     "text": [
      "[Parallel(n_jobs=1)]: Done  31 tasks       | elapsed:    5.4s\n"
     ]
    },
    {
     "name": "stdout",
     "output_type": "stream",
     "text": [
      "building tree 32 of 100\n",
      "building tree 52 of 100\n",
      "building tree 55 of 100\n",
      "building tree 33 of 100\n",
      "building tree 53 of 100\n",
      "building tree 34 of 100\n",
      "building tree 54 of 100\n",
      "building tree 56 of 100\n",
      "building tree 35 of 100\n",
      "building tree 55 of 100\n",
      "building tree 57 of 100\n",
      "building tree 56 of 100\n",
      "building tree 36 of 100\n",
      "building tree 58 of 100\n",
      "building tree 57 of 100\n",
      "building tree 37 of 100\n",
      "building tree 59 of 100\n",
      "building tree 38 of 100\n",
      "building tree 60 of 100\n",
      "building tree 58 of 100\n"
     ]
    },
    {
     "name": "stderr",
     "output_type": "stream",
     "text": [
      "[Parallel(n_jobs=1)]: Done  60 tasks       | elapsed:   11.0s\n"
     ]
    },
    {
     "name": "stdout",
     "output_type": "stream",
     "text": [
      "building tree 61 of 100\n",
      "building tree 39 of 100\n",
      "building tree 59 of 100\n",
      "building tree 62 of 100\n",
      "building tree 40 of 100\n",
      "building tree 60 of 100\n"
     ]
    },
    {
     "name": "stderr",
     "output_type": "stream",
     "text": [
      "[Parallel(n_jobs=1)]: Done  40 tasks       | elapsed:    6.9s\n"
     ]
    },
    {
     "name": "stdout",
     "output_type": "stream",
     "text": [
      "building tree 41 of 100\n",
      "building tree 63 of 100\n"
     ]
    },
    {
     "name": "stderr",
     "output_type": "stream",
     "text": [
      "[Parallel(n_jobs=1)]: Done  60 tasks       | elapsed:    9.8s\n"
     ]
    },
    {
     "name": "stdout",
     "output_type": "stream",
     "text": [
      "building tree 61 of 100\n",
      "building tree 42 of 100\n",
      "building tree 64 of 100\n",
      "building tree 62 of 100\n",
      "building tree 43 of 100\n",
      "building tree 63 of 100\n",
      "building tree 65 of 100\n",
      "building tree 44 of 100\n",
      "building tree 45 of 100\n",
      "building tree 64 of 100\n",
      "building tree 66 of 100\n",
      "building tree 46 of 100\n",
      "building tree 65 of 100\n",
      "building tree 67 of 100\n",
      "building tree 47 of 100\n",
      "building tree 66 of 100\n",
      "building tree 48 of 100\n",
      "building tree 68 of 100\n",
      "building tree 49 of 100\n",
      "building tree 67 of 100\n",
      "building tree 69 of 100\n"
     ]
    },
    {
     "name": "stderr",
     "output_type": "stream",
     "text": [
      "[Parallel(n_jobs=1)]: Done  49 tasks       | elapsed:    8.2s\n"
     ]
    },
    {
     "name": "stdout",
     "output_type": "stream",
     "text": [
      "building tree 50 of 100\n",
      "building tree 68 of 100\n",
      "building tree 70 of 100\n",
      "building tree 51 of 100\n",
      "building tree 69 of 100\n",
      "building tree 71 of 100\n",
      "building tree 52 of 100\n",
      "building tree 70 of 100\n"
     ]
    },
    {
     "name": "stderr",
     "output_type": "stream",
     "text": [
      "[Parallel(n_jobs=1)]: Done  71 tasks       | elapsed:   13.1s\n"
     ]
    },
    {
     "name": "stdout",
     "output_type": "stream",
     "text": [
      "building tree 72 of 100\n",
      "building tree 53 of 100\n",
      "building tree 71 of 100\n",
      "building tree 73 of 100\n",
      "building tree 54 of 100\n"
     ]
    },
    {
     "name": "stderr",
     "output_type": "stream",
     "text": [
      "[Parallel(n_jobs=1)]: Done  71 tasks       | elapsed:   11.7s\n"
     ]
    },
    {
     "name": "stdout",
     "output_type": "stream",
     "text": [
      "building tree 72 of 100\n",
      "building tree 55 of 100\n",
      "building tree 74 of 100\n",
      "building tree 56 of 100\n",
      "building tree 73 of 100\n",
      "building tree 75 of 100\n",
      "building tree 57 of 100\n",
      "building tree 74 of 100\n",
      "building tree 76 of 100\n",
      "building tree 58 of 100\n",
      "building tree 77 of 100\n",
      "building tree 75 of 100\n",
      "building tree 59 of 100\n",
      "building tree 60 of 100\n",
      "building tree 78 of 100\n",
      "building tree 76 of 100\n"
     ]
    },
    {
     "name": "stderr",
     "output_type": "stream",
     "text": [
      "[Parallel(n_jobs=1)]: Done  60 tasks       | elapsed:    9.8s\n"
     ]
    },
    {
     "name": "stdout",
     "output_type": "stream",
     "text": [
      "building tree 61 of 100\n",
      "building tree 79 of 100\n",
      "building tree 62 of 100\n",
      "building tree 77 of 100\n",
      "building tree 63 of 100\n",
      "building tree 80 of 100\n",
      "building tree 78 of 100\n",
      "building tree 64 of 100\n",
      "building tree 81 of 100\n",
      "building tree 65 of 100\n",
      "building tree 79 of 100\n",
      "building tree 66 of 100\n",
      "building tree 82 of 100\n",
      "building tree 80 of 100\n",
      "building tree 67 of 100\n",
      "building tree 83 of 100\n",
      "building tree 81 of 100\n",
      "building tree 68 of 100\n",
      "building tree 84 of 100\n",
      "building tree 82 of 100\n",
      "building tree 69 of 100\n"
     ]
    },
    {
     "name": "stderr",
     "output_type": "stream",
     "text": [
      "[Parallel(n_jobs=1)]: Done  84 tasks       | elapsed:   15.6s\n"
     ]
    },
    {
     "name": "stdout",
     "output_type": "stream",
     "text": [
      "building tree 85 of 100\n",
      "building tree 70 of 100\n",
      "building tree 83 of 100\n",
      "building tree 71 of 100\n",
      "building tree 86 of 100\n",
      "building tree 84 of 100\n"
     ]
    },
    {
     "name": "stderr",
     "output_type": "stream",
     "text": [
      "[Parallel(n_jobs=1)]: Done  71 tasks       | elapsed:   11.4s\n"
     ]
    },
    {
     "name": "stdout",
     "output_type": "stream",
     "text": [
      "building tree 72 of 100\n",
      "building tree 87 of 100\n",
      "building tree 73 of 100\n"
     ]
    },
    {
     "name": "stderr",
     "output_type": "stream",
     "text": [
      "[Parallel(n_jobs=1)]: Done  84 tasks       | elapsed:   14.3s\n"
     ]
    },
    {
     "name": "stdout",
     "output_type": "stream",
     "text": [
      "building tree 85 of 100\n",
      "building tree 74 of 100\n",
      "building tree 88 of 100\n",
      "building tree 86 of 100\n",
      "building tree 75 of 100\n",
      "building tree 89 of 100\n",
      "building tree 87 of 100\n",
      "building tree 76 of 100\n",
      "building tree 90 of 100\n",
      "building tree 88 of 100\n",
      "building tree 77 of 100\n",
      "building tree 89 of 100\n",
      "building tree 91 of 100\n",
      "building tree 78 of 100\n",
      "building tree 90 of 100\n",
      "building tree 92 of 100\n",
      "building tree 91 of 100\n",
      "building tree 79 of 100\n",
      "building tree 80 of 100\n",
      "building tree 93 of 100\n",
      "building tree 92 of 100\n",
      "building tree 81 of 100\n",
      "building tree 82 of 100\n",
      "building tree 94 of 100\n",
      "building tree 93 of 100\n",
      "building tree 83 of 100\n",
      "building tree 95 of 100\n",
      "building tree 94 of 100\n",
      "building tree 84 of 100\n",
      "building tree 96 of 100\n",
      "building tree 95 of 100\n"
     ]
    },
    {
     "name": "stderr",
     "output_type": "stream",
     "text": [
      "[Parallel(n_jobs=1)]: Done  84 tasks       | elapsed:   13.3s\n"
     ]
    },
    {
     "name": "stdout",
     "output_type": "stream",
     "text": [
      "building tree 85 of 100\n",
      "building tree 97 of 100\n",
      "building tree 96 of 100\n",
      "building tree 86 of 100\n"
     ]
    },
    {
     "name": "stderr",
     "output_type": "stream",
     "text": [
      "[Parallel(n_jobs=1)]: Done  97 tasks       | elapsed:   18.0s\n"
     ]
    },
    {
     "name": "stdout",
     "output_type": "stream",
     "text": [
      "building tree 98 of 100\n",
      "building tree 97 of 100\n",
      "building tree 99 of 100\n",
      "building tree 87 of 100\n"
     ]
    },
    {
     "name": "stderr",
     "output_type": "stream",
     "text": [
      "[Parallel(n_jobs=1)]: Done  97 tasks       | elapsed:   16.5s\n"
     ]
    },
    {
     "name": "stdout",
     "output_type": "stream",
     "text": [
      "building tree 98 of 100\n",
      "building tree 99 of 100\n",
      "building tree 88 of 100\n",
      "building tree 100 of 100\n"
     ]
    },
    {
     "name": "stderr",
     "output_type": "stream",
     "text": [
      "[Parallel(n_jobs=1)]: Done 100 out of 100 | elapsed:   18.5s finished\n"
     ]
    },
    {
     "name": "stdout",
     "output_type": "stream",
     "text": [
      "building tree 100 of 100\n"
     ]
    },
    {
     "name": "stderr",
     "output_type": "stream",
     "text": [
      "[Parallel(n_jobs=1)]: Done   1 tasks       | elapsed:    0.0s\n",
      "[Parallel(n_jobs=1)]: Done   4 tasks       | elapsed:    0.1s\n"
     ]
    },
    {
     "name": "stdout",
     "output_type": "stream",
     "text": [
      "building tree 89 of 100\n"
     ]
    },
    {
     "name": "stderr",
     "output_type": "stream",
     "text": [
      "[Parallel(n_jobs=1)]: Done   7 tasks       | elapsed:    0.1s\n",
      "[Parallel(n_jobs=1)]: Done  12 tasks       | elapsed:    0.2s\n",
      "[Parallel(n_jobs=1)]: Done 100 out of 100 | elapsed:   17.0s finished\n",
      "[Parallel(n_jobs=1)]: Done   1 tasks       | elapsed:    0.0s\n",
      "[Parallel(n_jobs=1)]: Done  17 tasks       | elapsed:    0.2s\n"
     ]
    },
    {
     "name": "stdout",
     "output_type": "stream",
     "text": [
      "building tree 90 of 100\n"
     ]
    },
    {
     "name": "stderr",
     "output_type": "stream",
     "text": [
      "[Parallel(n_jobs=1)]: Done   4 tasks       | elapsed:    0.1s\n",
      "[Parallel(n_jobs=1)]: Done   7 tasks       | elapsed:    0.1s\n",
      "[Parallel(n_jobs=1)]: Done  24 tasks       | elapsed:    0.3s\n",
      "[Parallel(n_jobs=1)]: Done  12 tasks       | elapsed:    0.2s\n",
      "[Parallel(n_jobs=1)]: Done  31 tasks       | elapsed:    0.4s\n"
     ]
    },
    {
     "name": "stdout",
     "output_type": "stream",
     "text": [
      "building tree 91 of 100\n"
     ]
    },
    {
     "name": "stderr",
     "output_type": "stream",
     "text": [
      "[Parallel(n_jobs=1)]: Done  17 tasks       | elapsed:    0.2s\n",
      "[Parallel(n_jobs=1)]: Done  40 tasks       | elapsed:    0.5s\n",
      "[Parallel(n_jobs=1)]: Done  24 tasks       | elapsed:    0.3s\n"
     ]
    },
    {
     "name": "stdout",
     "output_type": "stream",
     "text": [
      "building tree 92 of 100\n"
     ]
    },
    {
     "name": "stderr",
     "output_type": "stream",
     "text": [
      "[Parallel(n_jobs=1)]: Done  49 tasks       | elapsed:    0.6s\n",
      "[Parallel(n_jobs=1)]: Done  31 tasks       | elapsed:    0.4s\n"
     ]
    },
    {
     "name": "stdout",
     "output_type": "stream",
     "text": [
      "building tree 93 of 100\n"
     ]
    },
    {
     "name": "stderr",
     "output_type": "stream",
     "text": [
      "[Parallel(n_jobs=1)]: Done  60 tasks       | elapsed:    0.7s\n",
      "[Parallel(n_jobs=1)]: Done  40 tasks       | elapsed:    0.6s\n",
      "[Parallel(n_jobs=1)]: Done  71 tasks       | elapsed:    0.9s\n"
     ]
    },
    {
     "name": "stdout",
     "output_type": "stream",
     "text": [
      "building tree 94 of 100\n"
     ]
    },
    {
     "name": "stderr",
     "output_type": "stream",
     "text": [
      "[Parallel(n_jobs=1)]: Done  49 tasks       | elapsed:    0.7s\n"
     ]
    },
    {
     "name": "stdout",
     "output_type": "stream",
     "text": [
      "building tree 95 of 100\n"
     ]
    },
    {
     "name": "stderr",
     "output_type": "stream",
     "text": [
      "[Parallel(n_jobs=1)]: Done  60 tasks       | elapsed:    0.8s\n",
      "[Parallel(n_jobs=1)]: Done  84 tasks       | elapsed:    1.0s\n"
     ]
    },
    {
     "name": "stdout",
     "output_type": "stream",
     "text": [
      "building tree 96 of 100\n"
     ]
    },
    {
     "name": "stderr",
     "output_type": "stream",
     "text": [
      "[Parallel(n_jobs=1)]: Done  71 tasks       | elapsed:    1.0s\n"
     ]
    },
    {
     "name": "stdout",
     "output_type": "stream",
     "text": [
      "building tree 97 of 100\n"
     ]
    },
    {
     "name": "stderr",
     "output_type": "stream",
     "text": [
      "[Parallel(n_jobs=1)]: Done  97 tasks       | elapsed:    1.2s\n",
      "[Parallel(n_jobs=1)]: Done 100 out of 100 | elapsed:    1.3s finished\n",
      "[Parallel(n_jobs=1)]: Done  84 tasks       | elapsed:    1.2s\n",
      "[Parallel(n_jobs=1)]: Done  97 tasks       | elapsed:   15.5s\n"
     ]
    },
    {
     "name": "stdout",
     "output_type": "stream",
     "text": [
      "building tree 98 of 100\n"
     ]
    },
    {
     "name": "stderr",
     "output_type": "stream",
     "text": [
      "[Parallel(n_jobs=1)]: Done  97 tasks       | elapsed:    1.4s\n"
     ]
    },
    {
     "name": "stdout",
     "output_type": "stream",
     "text": [
      "building tree 99 of 100\n"
     ]
    },
    {
     "name": "stderr",
     "output_type": "stream",
     "text": [
      "[Parallel(n_jobs=1)]: Done 100 out of 100 | elapsed:    1.4s finished\n"
     ]
    },
    {
     "name": "stdout",
     "output_type": "stream",
     "text": [
      "building tree 1 of 100\n"
     ]
    },
    {
     "name": "stderr",
     "output_type": "stream",
     "text": [
      "[Parallel(n_jobs=1)]: Done   1 tasks       | elapsed:    0.2s\n"
     ]
    },
    {
     "name": "stdout",
     "output_type": "stream",
     "text": [
      "building tree 100 of 100\n",
      "building tree 2 of 100\n"
     ]
    },
    {
     "name": "stderr",
     "output_type": "stream",
     "text": [
      "[Parallel(n_jobs=1)]: Done 100 out of 100 | elapsed:   16.0s finished\n"
     ]
    },
    {
     "name": "stdout",
     "output_type": "stream",
     "text": [
      "building tree 3 of 100\n"
     ]
    },
    {
     "name": "stderr",
     "output_type": "stream",
     "text": [
      "[Parallel(n_jobs=1)]: Done   1 tasks       | elapsed:    0.0s\n",
      "[Parallel(n_jobs=1)]: Done   4 tasks       | elapsed:    0.1s\n"
     ]
    },
    {
     "name": "stdout",
     "output_type": "stream",
     "text": [
      "building tree 1 of 100\n"
     ]
    },
    {
     "name": "stderr",
     "output_type": "stream",
     "text": [
      "[Parallel(n_jobs=1)]: Done   7 tasks       | elapsed:    0.1s\n"
     ]
    },
    {
     "name": "stdout",
     "output_type": "stream",
     "text": [
      "building tree 4 of 100\n"
     ]
    },
    {
     "name": "stderr",
     "output_type": "stream",
     "text": [
      "[Parallel(n_jobs=1)]: Done  12 tasks       | elapsed:    0.2s\n",
      "[Parallel(n_jobs=1)]: Done   1 tasks       | elapsed:    0.2s\n"
     ]
    },
    {
     "name": "stdout",
     "output_type": "stream",
     "text": [
      "building tree 2 of 100\n"
     ]
    },
    {
     "name": "stderr",
     "output_type": "stream",
     "text": [
      "[Parallel(n_jobs=1)]: Done  17 tasks       | elapsed:    0.3s\n",
      "[Parallel(n_jobs=1)]: Done   4 tasks       | elapsed:    0.6s\n"
     ]
    },
    {
     "name": "stdout",
     "output_type": "stream",
     "text": [
      "building tree 5 of 100\n"
     ]
    },
    {
     "name": "stderr",
     "output_type": "stream",
     "text": [
      "[Parallel(n_jobs=1)]: Done  24 tasks       | elapsed:    0.4s\n"
     ]
    },
    {
     "name": "stdout",
     "output_type": "stream",
     "text": [
      "building tree 3 of 100\n",
      "building tree 6 of 100\n"
     ]
    },
    {
     "name": "stderr",
     "output_type": "stream",
     "text": [
      "[Parallel(n_jobs=1)]: Done  31 tasks       | elapsed:    0.5s\n"
     ]
    },
    {
     "name": "stdout",
     "output_type": "stream",
     "text": [
      "building tree 7 of 100\n",
      "building tree 4 of 100\n"
     ]
    },
    {
     "name": "stderr",
     "output_type": "stream",
     "text": [
      "[Parallel(n_jobs=1)]: Done  40 tasks       | elapsed:    0.6s\n",
      "[Parallel(n_jobs=1)]: Done   4 tasks       | elapsed:    0.7s\n"
     ]
    },
    {
     "name": "stdout",
     "output_type": "stream",
     "text": [
      "building tree 5 of 100\n"
     ]
    },
    {
     "name": "stderr",
     "output_type": "stream",
     "text": [
      "[Parallel(n_jobs=1)]: Done  49 tasks       | elapsed:    0.8s\n",
      "[Parallel(n_jobs=1)]: Done   7 tasks       | elapsed:    1.1s\n"
     ]
    },
    {
     "name": "stdout",
     "output_type": "stream",
     "text": [
      "building tree 8 of 100\n",
      "building tree 6 of 100\n"
     ]
    },
    {
     "name": "stderr",
     "output_type": "stream",
     "text": [
      "[Parallel(n_jobs=1)]: Done  60 tasks       | elapsed:    0.9s\n"
     ]
    },
    {
     "name": "stdout",
     "output_type": "stream",
     "text": [
      "building tree 9 of 100\n",
      "building tree 7 of 100\n"
     ]
    },
    {
     "name": "stderr",
     "output_type": "stream",
     "text": [
      "[Parallel(n_jobs=1)]: Done  71 tasks       | elapsed:    1.1s\n"
     ]
    },
    {
     "name": "stdout",
     "output_type": "stream",
     "text": [
      "building tree 10 of 100\n"
     ]
    },
    {
     "name": "stderr",
     "output_type": "stream",
     "text": [
      "[Parallel(n_jobs=1)]: Done   7 tasks       | elapsed:    1.1s\n"
     ]
    },
    {
     "name": "stdout",
     "output_type": "stream",
     "text": [
      "building tree 8 of 100\n"
     ]
    },
    {
     "name": "stderr",
     "output_type": "stream",
     "text": [
      "[Parallel(n_jobs=1)]: Done  84 tasks       | elapsed:    1.3s\n"
     ]
    },
    {
     "name": "stdout",
     "output_type": "stream",
     "text": [
      "building tree 11 of 100\n",
      "building tree 9 of 100\n"
     ]
    },
    {
     "name": "stderr",
     "output_type": "stream",
     "text": [
      "[Parallel(n_jobs=1)]: Done  97 tasks       | elapsed:    1.5s\n"
     ]
    },
    {
     "name": "stdout",
     "output_type": "stream",
     "text": [
      "building tree 12 of 100\n",
      "building tree 10 of 100\n"
     ]
    },
    {
     "name": "stderr",
     "output_type": "stream",
     "text": [
      "[Parallel(n_jobs=1)]: Done 100 out of 100 | elapsed:    1.5s finished\n",
      "[Parallel(n_jobs=1)]: Done  12 tasks       | elapsed:    2.0s\n"
     ]
    },
    {
     "name": "stdout",
     "output_type": "stream",
     "text": [
      "building tree 13 of 100\n",
      "building tree 11 of 100\n",
      "building tree 14 of 100\n",
      "building tree 12 of 100\n",
      "building tree 1 of 100\n",
      "building tree 15 of 100\n"
     ]
    },
    {
     "name": "stderr",
     "output_type": "stream",
     "text": [
      "[Parallel(n_jobs=1)]: Done   1 tasks       | elapsed:    0.1s\n"
     ]
    },
    {
     "name": "stdout",
     "output_type": "stream",
     "text": [
      "building tree 2 of 100\n"
     ]
    },
    {
     "name": "stderr",
     "output_type": "stream",
     "text": [
      "[Parallel(n_jobs=1)]: Done  12 tasks       | elapsed:    2.0s\n"
     ]
    },
    {
     "name": "stdout",
     "output_type": "stream",
     "text": [
      "building tree 13 of 100\n",
      "building tree 14 of 100\n",
      "building tree 3 of 100\n",
      "building tree 16 of 100\n",
      "building tree 15 of 100\n",
      "building tree 4 of 100\n",
      "building tree 17 of 100\n",
      "building tree 16 of 100\n"
     ]
    },
    {
     "name": "stderr",
     "output_type": "stream",
     "text": [
      "[Parallel(n_jobs=1)]: Done   4 tasks       | elapsed:    0.7s\n"
     ]
    },
    {
     "name": "stdout",
     "output_type": "stream",
     "text": [
      "building tree 5 of 100\n"
     ]
    },
    {
     "name": "stderr",
     "output_type": "stream",
     "text": [
      "[Parallel(n_jobs=1)]: Done  17 tasks       | elapsed:    3.0s\n"
     ]
    },
    {
     "name": "stdout",
     "output_type": "stream",
     "text": [
      "building tree 18 of 100\n",
      "building tree 17 of 100\n",
      "building tree 6 of 100\n",
      "building tree 19 of 100\n",
      "building tree 7 of 100\n"
     ]
    },
    {
     "name": "stderr",
     "output_type": "stream",
     "text": [
      "[Parallel(n_jobs=1)]: Done  17 tasks       | elapsed:    2.8s\n"
     ]
    },
    {
     "name": "stdout",
     "output_type": "stream",
     "text": [
      "building tree 18 of 100\n",
      "building tree 20 of 100\n"
     ]
    },
    {
     "name": "stderr",
     "output_type": "stream",
     "text": [
      "[Parallel(n_jobs=1)]: Done   7 tasks       | elapsed:    1.2s\n"
     ]
    },
    {
     "name": "stdout",
     "output_type": "stream",
     "text": [
      "building tree 8 of 100\n",
      "building tree 19 of 100\n",
      "building tree 21 of 100\n",
      "building tree 20 of 100\n",
      "building tree 9 of 100\n",
      "building tree 22 of 100\n",
      "building tree 21 of 100\n",
      "building tree 10 of 100\n",
      "building tree 22 of 100\n",
      "building tree 23 of 100\n",
      "building tree 11 of 100\n",
      "building tree 23 of 100\n",
      "building tree 24 of 100\n",
      "building tree 12 of 100\n",
      "building tree 24 of 100\n"
     ]
    },
    {
     "name": "stderr",
     "output_type": "stream",
     "text": [
      "[Parallel(n_jobs=1)]: Done  24 tasks       | elapsed:    4.3s\n"
     ]
    },
    {
     "name": "stdout",
     "output_type": "stream",
     "text": [
      "building tree 25 of 100\n"
     ]
    },
    {
     "name": "stderr",
     "output_type": "stream",
     "text": [
      "[Parallel(n_jobs=1)]: Done  12 tasks       | elapsed:    2.1s\n"
     ]
    },
    {
     "name": "stdout",
     "output_type": "stream",
     "text": [
      "building tree 13 of 100\n"
     ]
    },
    {
     "name": "stderr",
     "output_type": "stream",
     "text": [
      "[Parallel(n_jobs=1)]: Done  24 tasks       | elapsed:    3.9s\n"
     ]
    },
    {
     "name": "stdout",
     "output_type": "stream",
     "text": [
      "building tree 25 of 100\n",
      "building tree 14 of 100\n",
      "building tree 26 of 100\n",
      "building tree 26 of 100\n",
      "building tree 15 of 100\n",
      "building tree 27 of 100\n",
      "building tree 16 of 100\n",
      "building tree 27 of 100\n",
      "building tree 17 of 100\n",
      "building tree 28 of 100\n",
      "building tree 28 of 100\n",
      "building tree 29 of 100\n"
     ]
    },
    {
     "name": "stderr",
     "output_type": "stream",
     "text": [
      "[Parallel(n_jobs=1)]: Done  17 tasks       | elapsed:    2.8s\n"
     ]
    },
    {
     "name": "stdout",
     "output_type": "stream",
     "text": [
      "building tree 18 of 100\n",
      "building tree 29 of 100\n",
      "building tree 19 of 100\n",
      "building tree 30 of 100\n",
      "building tree 30 of 100\n",
      "building tree 20 of 100\n",
      "building tree 31 of 100\n",
      "building tree 21 of 100\n",
      "building tree 31 of 100\n",
      "building tree 22 of 100\n"
     ]
    },
    {
     "name": "stderr",
     "output_type": "stream",
     "text": [
      "[Parallel(n_jobs=1)]: Done  31 tasks       | elapsed:    5.6s\n"
     ]
    },
    {
     "name": "stdout",
     "output_type": "stream",
     "text": [
      "building tree 32 of 100\n"
     ]
    },
    {
     "name": "stderr",
     "output_type": "stream",
     "text": [
      "[Parallel(n_jobs=1)]: Done  31 tasks       | elapsed:    5.3s\n"
     ]
    },
    {
     "name": "stdout",
     "output_type": "stream",
     "text": [
      "building tree 32 of 100\n",
      "building tree 23 of 100\n",
      "building tree 33 of 100\n",
      "building tree 24 of 100\n",
      "building tree 33 of 100\n",
      "building tree 34 of 100\n",
      "building tree 34 of 100\n",
      "building tree 35 of 100\n"
     ]
    },
    {
     "name": "stderr",
     "output_type": "stream",
     "text": [
      "[Parallel(n_jobs=1)]: Done  24 tasks       | elapsed:    3.8s\n"
     ]
    },
    {
     "name": "stdout",
     "output_type": "stream",
     "text": [
      "building tree 25 of 100\n",
      "building tree 36 of 100\n",
      "building tree 35 of 100\n",
      "building tree 26 of 100\n",
      "building tree 37 of 100\n",
      "building tree 27 of 100\n",
      "building tree 36 of 100\n",
      "building tree 38 of 100\n",
      "building tree 39 of 100\n",
      "building tree 37 of 100\n",
      "building tree 28 of 100\n",
      "building tree 40 of 100\n",
      "building tree 38 of 100\n",
      "building tree 29 of 100\n"
     ]
    },
    {
     "name": "stderr",
     "output_type": "stream",
     "text": [
      "[Parallel(n_jobs=1)]: Done  40 tasks       | elapsed:    6.9s\n"
     ]
    },
    {
     "name": "stdout",
     "output_type": "stream",
     "text": [
      "building tree 41 of 100\n",
      "building tree 30 of 100\n",
      "building tree 39 of 100\n",
      "building tree 42 of 100\n",
      "building tree 31 of 100\n",
      "building tree 40 of 100\n",
      "building tree 43 of 100\n"
     ]
    },
    {
     "name": "stderr",
     "output_type": "stream",
     "text": [
      "[Parallel(n_jobs=1)]: Done  31 tasks       | elapsed:    5.0s\n"
     ]
    },
    {
     "name": "stdout",
     "output_type": "stream",
     "text": [
      "building tree 32 of 100\n",
      "building tree 33 of 100\n"
     ]
    },
    {
     "name": "stderr",
     "output_type": "stream",
     "text": [
      "[Parallel(n_jobs=1)]: Done  40 tasks       | elapsed:    7.0s\n"
     ]
    },
    {
     "name": "stdout",
     "output_type": "stream",
     "text": [
      "building tree 41 of 100\n",
      "building tree 44 of 100\n",
      "building tree 34 of 100\n",
      "building tree 42 of 100\n",
      "building tree 45 of 100\n",
      "building tree 35 of 100\n",
      "building tree 43 of 100\n",
      "building tree 36 of 100\n",
      "building tree 46 of 100\n",
      "building tree 37 of 100\n",
      "building tree 44 of 100\n",
      "building tree 47 of 100\n",
      "building tree 38 of 100\n",
      "building tree 45 of 100\n",
      "building tree 39 of 100\n",
      "building tree 48 of 100\n",
      "building tree 40 of 100\n",
      "building tree 49 of 100\n",
      "building tree 46 of 100\n"
     ]
    },
    {
     "name": "stderr",
     "output_type": "stream",
     "text": [
      "[Parallel(n_jobs=1)]: Done  40 tasks       | elapsed:    6.3s\n"
     ]
    },
    {
     "name": "stdout",
     "output_type": "stream",
     "text": [
      "building tree 41 of 100\n"
     ]
    },
    {
     "name": "stderr",
     "output_type": "stream",
     "text": [
      "[Parallel(n_jobs=1)]: Done  49 tasks       | elapsed:    8.6s\n"
     ]
    },
    {
     "name": "stdout",
     "output_type": "stream",
     "text": [
      "building tree 50 of 100\n",
      "building tree 47 of 100\n",
      "building tree 42 of 100\n",
      "building tree 51 of 100\n",
      "building tree 48 of 100\n",
      "building tree 43 of 100\n",
      "building tree 52 of 100\n",
      "building tree 49 of 100\n",
      "building tree 53 of 100\n",
      "building tree 44 of 100\n",
      "building tree 54 of 100\n"
     ]
    },
    {
     "name": "stderr",
     "output_type": "stream",
     "text": [
      "[Parallel(n_jobs=1)]: Done  49 tasks       | elapsed:    8.8s\n"
     ]
    },
    {
     "name": "stdout",
     "output_type": "stream",
     "text": [
      "building tree 50 of 100\n",
      "building tree 45 of 100\n",
      "building tree 55 of 100\n",
      "building tree 46 of 100\n",
      "building tree 51 of 100\n",
      "building tree 56 of 100\n",
      "building tree 47 of 100\n",
      "building tree 52 of 100\n",
      "building tree 48 of 100\n",
      "building tree 57 of 100\n",
      "building tree 58 of 100\n",
      "building tree 53 of 100\n",
      "building tree 49 of 100\n",
      "building tree 59 of 100\n"
     ]
    },
    {
     "name": "stderr",
     "output_type": "stream",
     "text": [
      "[Parallel(n_jobs=1)]: Done  49 tasks       | elapsed:    7.8s\n"
     ]
    },
    {
     "name": "stdout",
     "output_type": "stream",
     "text": [
      "building tree 54 of 100\n",
      "building tree 50 of 100\n",
      "building tree 60 of 100\n",
      "building tree 51 of 100\n",
      "building tree 55 of 100\n"
     ]
    },
    {
     "name": "stderr",
     "output_type": "stream",
     "text": [
      "[Parallel(n_jobs=1)]: Done  60 tasks       | elapsed:   10.3s\n"
     ]
    },
    {
     "name": "stdout",
     "output_type": "stream",
     "text": [
      "building tree 61 of 100\n",
      "building tree 52 of 100\n",
      "building tree 56 of 100\n",
      "building tree 62 of 100\n",
      "building tree 53 of 100\n",
      "building tree 57 of 100\n",
      "building tree 63 of 100\n",
      "building tree 54 of 100\n",
      "building tree 58 of 100\n",
      "building tree 55 of 100\n",
      "building tree 64 of 100\n",
      "building tree 59 of 100\n",
      "building tree 56 of 100\n",
      "building tree 65 of 100\n",
      "building tree 57 of 100\n",
      "building tree 60 of 100\n",
      "building tree 66 of 100\n",
      "building tree 58 of 100\n"
     ]
    },
    {
     "name": "stderr",
     "output_type": "stream",
     "text": [
      "[Parallel(n_jobs=1)]: Done  60 tasks       | elapsed:   10.9s\n"
     ]
    },
    {
     "name": "stdout",
     "output_type": "stream",
     "text": [
      "building tree 61 of 100\n",
      "building tree 67 of 100\n",
      "building tree 59 of 100\n",
      "building tree 62 of 100\n",
      "building tree 63 of 100\n",
      "building tree 60 of 100\n",
      "building tree 68 of 100\n"
     ]
    },
    {
     "name": "stderr",
     "output_type": "stream",
     "text": [
      "[Parallel(n_jobs=1)]: Done  60 tasks       | elapsed:    9.5s\n"
     ]
    },
    {
     "name": "stdout",
     "output_type": "stream",
     "text": [
      "building tree 61 of 100\n",
      "building tree 69 of 100\n",
      "building tree 64 of 100\n",
      "building tree 62 of 100\n",
      "building tree 70 of 100\n",
      "building tree 65 of 100\n",
      "building tree 63 of 100\n",
      "building tree 71 of 100\n",
      "building tree 64 of 100\n",
      "building tree 66 of 100\n",
      "building tree 65 of 100\n"
     ]
    },
    {
     "name": "stderr",
     "output_type": "stream",
     "text": [
      "[Parallel(n_jobs=1)]: Done  71 tasks       | elapsed:   12.3s\n"
     ]
    },
    {
     "name": "stdout",
     "output_type": "stream",
     "text": [
      "building tree 72 of 100\n",
      "building tree 66 of 100\n",
      "building tree 67 of 100\n",
      "building tree 73 of 100\n",
      "building tree 74 of 100\n",
      "building tree 67 of 100\n",
      "building tree 68 of 100\n",
      "building tree 75 of 100\n",
      "building tree 69 of 100\n",
      "building tree 68 of 100\n",
      "building tree 69 of 100\n",
      "building tree 70 of 100\n",
      "building tree 76 of 100\n",
      "building tree 70 of 100\n",
      "building tree 71 of 100\n",
      "building tree 71 of 100\n",
      "building tree 77 of 100\n"
     ]
    },
    {
     "name": "stderr",
     "output_type": "stream",
     "text": [
      "[Parallel(n_jobs=1)]: Done  71 tasks       | elapsed:   11.1s\n"
     ]
    },
    {
     "name": "stdout",
     "output_type": "stream",
     "text": [
      "building tree 72 of 100\n"
     ]
    },
    {
     "name": "stderr",
     "output_type": "stream",
     "text": [
      "[Parallel(n_jobs=1)]: Done  71 tasks       | elapsed:   12.9s\n"
     ]
    },
    {
     "name": "stdout",
     "output_type": "stream",
     "text": [
      "building tree 72 of 100\n",
      "building tree 78 of 100\n",
      "building tree 73 of 100\n",
      "building tree 73 of 100\n",
      "building tree 74 of 100\n",
      "building tree 79 of 100\n",
      "building tree 74 of 100\n",
      "building tree 75 of 100\n",
      "building tree 80 of 100\n",
      "building tree 76 of 100\n",
      "building tree 75 of 100\n",
      "building tree 81 of 100\n",
      "building tree 77 of 100\n",
      "building tree 76 of 100\n",
      "building tree 82 of 100\n",
      "building tree 83 of 100\n",
      "building tree 78 of 100\n",
      "building tree 77 of 100\n",
      "building tree 84 of 100\n",
      "building tree 78 of 100\n",
      "building tree 79 of 100\n"
     ]
    },
    {
     "name": "stderr",
     "output_type": "stream",
     "text": [
      "[Parallel(n_jobs=1)]: Done  84 tasks       | elapsed:   14.6s\n"
     ]
    },
    {
     "name": "stdout",
     "output_type": "stream",
     "text": [
      "building tree 85 of 100\n",
      "building tree 79 of 100\n",
      "building tree 80 of 100\n",
      "building tree 86 of 100\n",
      "building tree 80 of 100\n",
      "building tree 81 of 100\n",
      "building tree 87 of 100\n",
      "building tree 81 of 100\n",
      "building tree 82 of 100\n",
      "building tree 88 of 100\n",
      "building tree 82 of 100\n",
      "building tree 83 of 100\n",
      "building tree 83 of 100\n",
      "building tree 89 of 100\n",
      "building tree 84 of 100\n",
      "building tree 84 of 100\n",
      "building tree 90 of 100\n"
     ]
    },
    {
     "name": "stderr",
     "output_type": "stream",
     "text": [
      "[Parallel(n_jobs=1)]: Done  84 tasks       | elapsed:   13.2s\n"
     ]
    },
    {
     "name": "stdout",
     "output_type": "stream",
     "text": [
      "building tree 85 of 100\n"
     ]
    },
    {
     "name": "stderr",
     "output_type": "stream",
     "text": [
      "[Parallel(n_jobs=1)]: Done  84 tasks       | elapsed:   15.2s\n"
     ]
    },
    {
     "name": "stdout",
     "output_type": "stream",
     "text": [
      "building tree 85 of 100\n",
      "building tree 86 of 100\n",
      "building tree 91 of 100\n",
      "building tree 86 of 100\n",
      "building tree 87 of 100\n",
      "building tree 92 of 100\n",
      "building tree 87 of 100\n",
      "building tree 88 of 100\n",
      "building tree 88 of 100\n",
      "building tree 93 of 100\n",
      "building tree 89 of 100\n",
      "building tree 89 of 100\n",
      "building tree 94 of 100\n",
      "building tree 90 of 100\n",
      "building tree 95 of 100\n",
      "building tree 91 of 100\n",
      "building tree 90 of 100\n",
      "building tree 92 of 100\n",
      "building tree 96 of 100\n",
      "building tree 91 of 100\n",
      "building tree 93 of 100\n",
      "building tree 97 of 100\n",
      "building tree 94 of 100\n",
      "building tree 92 of 100\n"
     ]
    },
    {
     "name": "stderr",
     "output_type": "stream",
     "text": [
      "[Parallel(n_jobs=1)]: Done  97 tasks       | elapsed:   17.0s\n"
     ]
    },
    {
     "name": "stdout",
     "output_type": "stream",
     "text": [
      "building tree 98 of 100\n",
      "building tree 95 of 100\n",
      "building tree 93 of 100\n",
      "building tree 96 of 100\n",
      "building tree 99 of 100\n",
      "building tree 94 of 100\n",
      "building tree 97 of 100\n",
      "building tree 100 of 100\n",
      "building tree 95 of 100\n"
     ]
    },
    {
     "name": "stderr",
     "output_type": "stream",
     "text": [
      "[Parallel(n_jobs=1)]: Done  97 tasks       | elapsed:   15.2s\n"
     ]
    },
    {
     "name": "stdout",
     "output_type": "stream",
     "text": [
      "building tree 98 of 100\n"
     ]
    },
    {
     "name": "stderr",
     "output_type": "stream",
     "text": [
      "[Parallel(n_jobs=1)]: Done 100 out of 100 | elapsed:   17.6s finished\n",
      "[Parallel(n_jobs=1)]: Done   1 tasks       | elapsed:    0.0s\n"
     ]
    },
    {
     "name": "stdout",
     "output_type": "stream",
     "text": [
      "building tree 96 of 100\n",
      "building tree 99 of 100\n"
     ]
    },
    {
     "name": "stderr",
     "output_type": "stream",
     "text": [
      "[Parallel(n_jobs=1)]: Done   4 tasks       | elapsed:    0.1s\n",
      "[Parallel(n_jobs=1)]: Done   7 tasks       | elapsed:    0.1s\n"
     ]
    },
    {
     "name": "stdout",
     "output_type": "stream",
     "text": [
      "building tree 97 of 100\n"
     ]
    },
    {
     "name": "stderr",
     "output_type": "stream",
     "text": [
      "[Parallel(n_jobs=1)]: Done  12 tasks       | elapsed:    0.2s\n"
     ]
    },
    {
     "name": "stdout",
     "output_type": "stream",
     "text": [
      "building tree 100 of 100\n"
     ]
    },
    {
     "name": "stderr",
     "output_type": "stream",
     "text": [
      "[Parallel(n_jobs=1)]: Done  17 tasks       | elapsed:    0.3s\n",
      "[Parallel(n_jobs=1)]: Done  97 tasks       | elapsed:   17.5s\n"
     ]
    },
    {
     "name": "stdout",
     "output_type": "stream",
     "text": [
      "building tree 98 of 100\n"
     ]
    },
    {
     "name": "stderr",
     "output_type": "stream",
     "text": [
      "[Parallel(n_jobs=1)]: Done 100 out of 100 | elapsed:   15.7s finished\n",
      "[Parallel(n_jobs=1)]: Done  24 tasks       | elapsed:    0.4s\n",
      "[Parallel(n_jobs=1)]: Done   1 tasks       | elapsed:    0.0s\n",
      "[Parallel(n_jobs=1)]: Done   4 tasks       | elapsed:    0.1s\n"
     ]
    },
    {
     "name": "stdout",
     "output_type": "stream",
     "text": [
      "building tree 99 of 100\n"
     ]
    },
    {
     "name": "stderr",
     "output_type": "stream",
     "text": [
      "[Parallel(n_jobs=1)]: Done  31 tasks       | elapsed:    0.5s\n",
      "[Parallel(n_jobs=1)]: Done   7 tasks       | elapsed:    0.1s\n",
      "[Parallel(n_jobs=1)]: Done  12 tasks       | elapsed:    0.2s\n",
      "[Parallel(n_jobs=1)]: Done  40 tasks       | elapsed:    0.6s\n",
      "[Parallel(n_jobs=1)]: Done  17 tasks       | elapsed:    0.2s\n"
     ]
    },
    {
     "name": "stdout",
     "output_type": "stream",
     "text": [
      "building tree 100 of 100\n"
     ]
    },
    {
     "name": "stderr",
     "output_type": "stream",
     "text": [
      "[Parallel(n_jobs=1)]: Done  24 tasks       | elapsed:    0.3s\n",
      "[Parallel(n_jobs=1)]: Done  49 tasks       | elapsed:    0.7s\n",
      "[Parallel(n_jobs=1)]: Done 100 out of 100 | elapsed:   18.0s finished\n",
      "[Parallel(n_jobs=1)]: Done  31 tasks       | elapsed:    0.4s\n",
      "[Parallel(n_jobs=1)]: Done   1 tasks       | elapsed:    0.0s\n",
      "[Parallel(n_jobs=1)]: Done   4 tasks       | elapsed:    0.1s\n",
      "[Parallel(n_jobs=1)]: Done  60 tasks       | elapsed:    0.9s\n",
      "[Parallel(n_jobs=1)]: Done   7 tasks       | elapsed:    0.1s\n",
      "[Parallel(n_jobs=1)]: Done  40 tasks       | elapsed:    0.5s\n",
      "[Parallel(n_jobs=1)]: Done  12 tasks       | elapsed:    0.2s\n",
      "[Parallel(n_jobs=1)]: Done  71 tasks       | elapsed:    1.0s\n",
      "[Parallel(n_jobs=1)]: Done  17 tasks       | elapsed:    0.2s\n",
      "[Parallel(n_jobs=1)]: Done  49 tasks       | elapsed:    0.7s\n",
      "[Parallel(n_jobs=1)]: Done  24 tasks       | elapsed:    0.3s\n",
      "[Parallel(n_jobs=1)]: Done  84 tasks       | elapsed:    1.2s\n",
      "[Parallel(n_jobs=1)]: Done  60 tasks       | elapsed:    0.8s\n",
      "[Parallel(n_jobs=1)]: Done  31 tasks       | elapsed:    0.4s\n",
      "[Parallel(n_jobs=1)]: Done  97 tasks       | elapsed:    1.3s\n",
      "[Parallel(n_jobs=1)]: Done  40 tasks       | elapsed:    0.5s\n",
      "[Parallel(n_jobs=1)]: Done  71 tasks       | elapsed:    1.0s\n",
      "[Parallel(n_jobs=1)]: Done 100 out of 100 | elapsed:    1.4s finished\n",
      "[Parallel(n_jobs=1)]: Done  49 tasks       | elapsed:    0.7s\n",
      "[Parallel(n_jobs=1)]: Done  84 tasks       | elapsed:    1.2s\n",
      "[Parallel(n_jobs=1)]: Done  60 tasks       | elapsed:    0.8s\n",
      "[Parallel(n_jobs=1)]: Done  97 tasks       | elapsed:    1.3s\n"
     ]
    },
    {
     "name": "stdout",
     "output_type": "stream",
     "text": [
      "building tree 1 of 100\n"
     ]
    },
    {
     "name": "stderr",
     "output_type": "stream",
     "text": [
      "[Parallel(n_jobs=1)]: Done 100 out of 100 | elapsed:    1.4s finished\n",
      "[Parallel(n_jobs=1)]: Done  71 tasks       | elapsed:    1.0s\n",
      "[Parallel(n_jobs=1)]: Done   1 tasks       | elapsed:    0.1s\n"
     ]
    },
    {
     "name": "stdout",
     "output_type": "stream",
     "text": [
      "building tree 2 of 100\n"
     ]
    },
    {
     "name": "stderr",
     "output_type": "stream",
     "text": [
      "[Parallel(n_jobs=1)]: Done  84 tasks       | elapsed:    1.1s\n"
     ]
    },
    {
     "name": "stdout",
     "output_type": "stream",
     "text": [
      "building tree 3 of 100\n"
     ]
    },
    {
     "name": "stderr",
     "output_type": "stream",
     "text": [
      "[Parallel(n_jobs=1)]: Done  97 tasks       | elapsed:    1.3s\n",
      "[Parallel(n_jobs=1)]: Done 100 out of 100 | elapsed:    1.3s finished\n"
     ]
    },
    {
     "name": "stdout",
     "output_type": "stream",
     "text": [
      "building tree 4 of 100\n",
      "building tree 1 of 100\n"
     ]
    },
    {
     "name": "stderr",
     "output_type": "stream",
     "text": [
      "[Parallel(n_jobs=1)]: Done   4 tasks       | elapsed:    0.5s\n"
     ]
    },
    {
     "name": "stdout",
     "output_type": "stream",
     "text": [
      "building tree 5 of 100\n"
     ]
    },
    {
     "name": "stderr",
     "output_type": "stream",
     "text": [
      "[Parallel(n_jobs=1)]: Done   1 tasks       | elapsed:    0.1s\n"
     ]
    },
    {
     "name": "stdout",
     "output_type": "stream",
     "text": [
      "building tree 2 of 100\n",
      "building tree 6 of 100\n",
      "building tree 3 of 100\n",
      "building tree 4 of 100\n",
      "building tree 7 of 100\n"
     ]
    },
    {
     "name": "stderr",
     "output_type": "stream",
     "text": [
      "[Parallel(n_jobs=1)]: Done   4 tasks       | elapsed:    0.4s\n"
     ]
    },
    {
     "name": "stdout",
     "output_type": "stream",
     "text": [
      "building tree 5 of 100\n"
     ]
    },
    {
     "name": "stderr",
     "output_type": "stream",
     "text": [
      "[Parallel(n_jobs=1)]: Done   7 tasks       | elapsed:    0.9s\n"
     ]
    },
    {
     "name": "stdout",
     "output_type": "stream",
     "text": [
      "building tree 8 of 100\n",
      "building tree 1 of 100\n",
      "building tree 6 of 100\n",
      "building tree 7 of 100\n"
     ]
    },
    {
     "name": "stderr",
     "output_type": "stream",
     "text": [
      "[Parallel(n_jobs=1)]: Done   1 tasks       | elapsed:    0.1s\n"
     ]
    },
    {
     "name": "stdout",
     "output_type": "stream",
     "text": [
      "building tree 2 of 100\n",
      "building tree 9 of 100\n",
      "building tree 3 of 100\n",
      "building tree 10 of 100\n"
     ]
    },
    {
     "name": "stderr",
     "output_type": "stream",
     "text": [
      "[Parallel(n_jobs=1)]: Done   7 tasks       | elapsed:    0.7s\n"
     ]
    },
    {
     "name": "stdout",
     "output_type": "stream",
     "text": [
      "building tree 8 of 100\n",
      "building tree 9 of 100\n",
      "building tree 11 of 100\n",
      "building tree 4 of 100\n",
      "building tree 10 of 100\n",
      "building tree 12 of 100\n"
     ]
    },
    {
     "name": "stderr",
     "output_type": "stream",
     "text": [
      "[Parallel(n_jobs=1)]: Done   4 tasks       | elapsed:    0.5s\n"
     ]
    },
    {
     "name": "stdout",
     "output_type": "stream",
     "text": [
      "building tree 5 of 100\n",
      "building tree 11 of 100\n"
     ]
    },
    {
     "name": "stderr",
     "output_type": "stream",
     "text": [
      "[Parallel(n_jobs=1)]: Done  12 tasks       | elapsed:    1.5s\n"
     ]
    },
    {
     "name": "stdout",
     "output_type": "stream",
     "text": [
      "building tree 13 of 100\n",
      "building tree 6 of 100\n",
      "building tree 12 of 100\n",
      "building tree 7 of 100\n",
      "building tree 14 of 100\n"
     ]
    },
    {
     "name": "stderr",
     "output_type": "stream",
     "text": [
      "[Parallel(n_jobs=1)]: Done  12 tasks       | elapsed:    1.3s\n"
     ]
    },
    {
     "name": "stdout",
     "output_type": "stream",
     "text": [
      "building tree 13 of 100\n"
     ]
    },
    {
     "name": "stderr",
     "output_type": "stream",
     "text": [
      "[Parallel(n_jobs=1)]: Done   7 tasks       | elapsed:    0.9s\n"
     ]
    },
    {
     "name": "stdout",
     "output_type": "stream",
     "text": [
      "building tree 8 of 100\n",
      "building tree 15 of 100\n",
      "building tree 14 of 100\n",
      "building tree 9 of 100\n",
      "building tree 16 of 100\n",
      "building tree 15 of 100\n",
      "building tree 10 of 100\n",
      "building tree 16 of 100\n",
      "building tree 17 of 100\n",
      "building tree 11 of 100\n",
      "building tree 17 of 100\n"
     ]
    },
    {
     "name": "stderr",
     "output_type": "stream",
     "text": [
      "[Parallel(n_jobs=1)]: Done  17 tasks       | elapsed:    2.2s\n"
     ]
    },
    {
     "name": "stdout",
     "output_type": "stream",
     "text": [
      "building tree 18 of 100\n"
     ]
    },
    {
     "name": "stderr",
     "output_type": "stream",
     "text": [
      "[Parallel(n_jobs=1)]: Done  17 tasks       | elapsed:    1.9s\n"
     ]
    },
    {
     "name": "stdout",
     "output_type": "stream",
     "text": [
      "building tree 18 of 100\n",
      "building tree 12 of 100\n",
      "building tree 19 of 100\n",
      "building tree 19 of 100\n"
     ]
    },
    {
     "name": "stderr",
     "output_type": "stream",
     "text": [
      "[Parallel(n_jobs=1)]: Done  12 tasks       | elapsed:    1.5s\n"
     ]
    },
    {
     "name": "stdout",
     "output_type": "stream",
     "text": [
      "building tree 13 of 100\n",
      "building tree 20 of 100\n",
      "building tree 20 of 100\n",
      "building tree 14 of 100\n",
      "building tree 21 of 100\n",
      "building tree 21 of 100\n",
      "building tree 22 of 100\n",
      "building tree 15 of 100\n",
      "building tree 22 of 100\n",
      "building tree 16 of 100\n",
      "building tree 23 of 100\n",
      "building tree 23 of 100\n",
      "building tree 17 of 100\n",
      "building tree 24 of 100\n",
      "building tree 24 of 100\n"
     ]
    },
    {
     "name": "stderr",
     "output_type": "stream",
     "text": [
      "[Parallel(n_jobs=1)]: Done  17 tasks       | elapsed:    2.1s\n"
     ]
    },
    {
     "name": "stdout",
     "output_type": "stream",
     "text": [
      "building tree 18 of 100\n"
     ]
    },
    {
     "name": "stderr",
     "output_type": "stream",
     "text": [
      "[Parallel(n_jobs=1)]: Done  24 tasks       | elapsed:    2.6s\n"
     ]
    },
    {
     "name": "stdout",
     "output_type": "stream",
     "text": [
      "building tree 25 of 100\n",
      "building tree 19 of 100\n"
     ]
    },
    {
     "name": "stderr",
     "output_type": "stream",
     "text": [
      "[Parallel(n_jobs=1)]: Done  24 tasks       | elapsed:    3.1s\n"
     ]
    },
    {
     "name": "stdout",
     "output_type": "stream",
     "text": [
      "building tree 25 of 100\n",
      "building tree 26 of 100\n",
      "building tree 26 of 100\n",
      "building tree 20 of 100\n",
      "building tree 27 of 100\n",
      "building tree 27 of 100\n",
      "building tree 21 of 100\n",
      "building tree 28 of 100\n",
      "building tree 22 of 100\n",
      "building tree 28 of 100\n",
      "building tree 29 of 100\n",
      "building tree 23 of 100\n",
      "building tree 29 of 100\n",
      "building tree 30 of 100\n",
      "building tree 24 of 100\n",
      "building tree 30 of 100\n",
      "building tree 31 of 100\n"
     ]
    },
    {
     "name": "stderr",
     "output_type": "stream",
     "text": [
      "[Parallel(n_jobs=1)]: Done  24 tasks       | elapsed:    2.9s\n"
     ]
    },
    {
     "name": "stdout",
     "output_type": "stream",
     "text": [
      "building tree 25 of 100\n",
      "building tree 31 of 100\n"
     ]
    },
    {
     "name": "stderr",
     "output_type": "stream",
     "text": [
      "[Parallel(n_jobs=1)]: Done  31 tasks       | elapsed:    3.5s\n"
     ]
    },
    {
     "name": "stdout",
     "output_type": "stream",
     "text": [
      "building tree 32 of 100\n",
      "building tree 26 of 100\n"
     ]
    },
    {
     "name": "stderr",
     "output_type": "stream",
     "text": [
      "[Parallel(n_jobs=1)]: Done  31 tasks       | elapsed:    4.0s\n"
     ]
    },
    {
     "name": "stdout",
     "output_type": "stream",
     "text": [
      "building tree 32 of 100\n",
      "building tree 33 of 100\n",
      "building tree 27 of 100\n",
      "building tree 34 of 100\n",
      "building tree 33 of 100\n",
      "building tree 28 of 100\n",
      "building tree 35 of 100\n",
      "building tree 34 of 100\n",
      "building tree 36 of 100\n",
      "building tree 29 of 100\n",
      "building tree 35 of 100\n",
      "building tree 37 of 100\n",
      "building tree 36 of 100\n",
      "building tree 30 of 100\n",
      "building tree 38 of 100\n",
      "building tree 37 of 100\n",
      "building tree 31 of 100\n",
      "building tree 39 of 100\n"
     ]
    },
    {
     "name": "stderr",
     "output_type": "stream",
     "text": [
      "[Parallel(n_jobs=1)]: Done  31 tasks       | elapsed:    3.9s\n"
     ]
    },
    {
     "name": "stdout",
     "output_type": "stream",
     "text": [
      "building tree 32 of 100\n",
      "building tree 38 of 100\n",
      "building tree 40 of 100\n",
      "building tree 33 of 100\n",
      "building tree 39 of 100\n"
     ]
    },
    {
     "name": "stderr",
     "output_type": "stream",
     "text": [
      "[Parallel(n_jobs=1)]: Done  40 tasks       | elapsed:    4.5s\n"
     ]
    },
    {
     "name": "stdout",
     "output_type": "stream",
     "text": [
      "building tree 41 of 100\n",
      "building tree 34 of 100\n",
      "building tree 40 of 100\n",
      "building tree 42 of 100\n"
     ]
    },
    {
     "name": "stderr",
     "output_type": "stream",
     "text": [
      "[Parallel(n_jobs=1)]: Done  40 tasks       | elapsed:    5.1s\n"
     ]
    },
    {
     "name": "stdout",
     "output_type": "stream",
     "text": [
      "building tree 41 of 100\n",
      "building tree 35 of 100\n",
      "building tree 43 of 100\n",
      "building tree 42 of 100\n",
      "building tree 36 of 100\n",
      "building tree 44 of 100\n",
      "building tree 43 of 100\n",
      "building tree 37 of 100\n",
      "building tree 45 of 100\n",
      "building tree 44 of 100\n",
      "building tree 38 of 100\n",
      "building tree 46 of 100\n",
      "building tree 45 of 100\n",
      "building tree 39 of 100\n",
      "building tree 46 of 100\n",
      "building tree 47 of 100\n",
      "building tree 47 of 100\n",
      "building tree 40 of 100\n",
      "building tree 48 of 100\n",
      "building tree 48 of 100\n"
     ]
    },
    {
     "name": "stderr",
     "output_type": "stream",
     "text": [
      "[Parallel(n_jobs=1)]: Done  40 tasks       | elapsed:    5.0s\n"
     ]
    },
    {
     "name": "stdout",
     "output_type": "stream",
     "text": [
      "building tree 41 of 100\n",
      "building tree 49 of 100\n",
      "building tree 49 of 100\n",
      "building tree 42 of 100\n"
     ]
    },
    {
     "name": "stderr",
     "output_type": "stream",
     "text": [
      "[Parallel(n_jobs=1)]: Done  49 tasks       | elapsed:    5.7s\n"
     ]
    },
    {
     "name": "stdout",
     "output_type": "stream",
     "text": [
      "building tree 50 of 100\n"
     ]
    },
    {
     "name": "stderr",
     "output_type": "stream",
     "text": [
      "[Parallel(n_jobs=1)]: Done  49 tasks       | elapsed:    6.1s\n"
     ]
    },
    {
     "name": "stdout",
     "output_type": "stream",
     "text": [
      "building tree 50 of 100\n",
      "building tree 43 of 100\n",
      "building tree 51 of 100\n",
      "building tree 51 of 100\n",
      "building tree 44 of 100\n",
      "building tree 52 of 100\n",
      "building tree 52 of 100\n",
      "building tree 45 of 100\n",
      "building tree 53 of 100\n",
      "building tree 53 of 100\n",
      "building tree 46 of 100\n",
      "building tree 54 of 100\n",
      "building tree 54 of 100\n",
      "building tree 47 of 100\n",
      "building tree 55 of 100\n",
      "building tree 55 of 100\n",
      "building tree 48 of 100\n",
      "building tree 56 of 100\n",
      "building tree 49 of 100\n",
      "building tree 56 of 100\n",
      "building tree 57 of 100\n",
      "building tree 57 of 100\n",
      "building tree 58 of 100\n"
     ]
    },
    {
     "name": "stderr",
     "output_type": "stream",
     "text": [
      "[Parallel(n_jobs=1)]: Done  49 tasks       | elapsed:    6.1s\n"
     ]
    },
    {
     "name": "stdout",
     "output_type": "stream",
     "text": [
      "building tree 50 of 100\n",
      "building tree 58 of 100\n",
      "building tree 59 of 100\n",
      "building tree 59 of 100\n",
      "building tree 51 of 100\n",
      "building tree 60 of 100\n",
      "building tree 60 of 100\n",
      "building tree 52 of 100\n"
     ]
    },
    {
     "name": "stderr",
     "output_type": "stream",
     "text": [
      "[Parallel(n_jobs=1)]: Done  60 tasks       | elapsed:    7.4s\n"
     ]
    },
    {
     "name": "stdout",
     "output_type": "stream",
     "text": [
      "building tree 61 of 100\n"
     ]
    },
    {
     "name": "stderr",
     "output_type": "stream",
     "text": [
      "[Parallel(n_jobs=1)]: Done  60 tasks       | elapsed:    7.0s\n"
     ]
    },
    {
     "name": "stdout",
     "output_type": "stream",
     "text": [
      "building tree 61 of 100\n",
      "building tree 53 of 100\n",
      "building tree 62 of 100\n",
      "building tree 62 of 100\n",
      "building tree 54 of 100\n",
      "building tree 63 of 100\n",
      "building tree 63 of 100\n",
      "building tree 55 of 100\n",
      "building tree 64 of 100\n",
      "building tree 64 of 100\n",
      "building tree 56 of 100\n",
      "building tree 65 of 100\n",
      "building tree 65 of 100\n",
      "building tree 57 of 100\n",
      "building tree 66 of 100\n",
      "building tree 66 of 100\n",
      "building tree 58 of 100\n",
      "building tree 67 of 100\n",
      "building tree 59 of 100\n",
      "building tree 67 of 100\n",
      "building tree 68 of 100\n",
      "building tree 60 of 100\n",
      "building tree 69 of 100\n",
      "building tree 68 of 100\n"
     ]
    },
    {
     "name": "stderr",
     "output_type": "stream",
     "text": [
      "[Parallel(n_jobs=1)]: Done  60 tasks       | elapsed:    7.5s\n"
     ]
    },
    {
     "name": "stdout",
     "output_type": "stream",
     "text": [
      "building tree 61 of 100\n",
      "building tree 69 of 100\n",
      "building tree 70 of 100\n",
      "building tree 62 of 100\n",
      "building tree 70 of 100\n",
      "building tree 71 of 100\n",
      "building tree 63 of 100\n",
      "building tree 71 of 100\n"
     ]
    },
    {
     "name": "stderr",
     "output_type": "stream",
     "text": [
      "[Parallel(n_jobs=1)]: Done  71 tasks       | elapsed:    8.3s\n"
     ]
    },
    {
     "name": "stdout",
     "output_type": "stream",
     "text": [
      "building tree 72 of 100\n"
     ]
    },
    {
     "name": "stderr",
     "output_type": "stream",
     "text": [
      "[Parallel(n_jobs=1)]: Done  71 tasks       | elapsed:    8.8s\n"
     ]
    },
    {
     "name": "stdout",
     "output_type": "stream",
     "text": [
      "building tree 72 of 100\n",
      "building tree 64 of 100\n",
      "building tree 73 of 100\n",
      "building tree 65 of 100\n",
      "building tree 73 of 100\n",
      "building tree 66 of 100\n",
      "building tree 74 of 100\n",
      "building tree 74 of 100\n",
      "building tree 67 of 100\n",
      "building tree 75 of 100\n",
      "building tree 75 of 100\n",
      "building tree 68 of 100\n",
      "building tree 76 of 100\n",
      "building tree 76 of 100\n",
      "building tree 77 of 100\n",
      "building tree 69 of 100\n",
      "building tree 77 of 100\n",
      "building tree 78 of 100\n",
      "building tree 70 of 100\n",
      "building tree 78 of 100\n",
      "building tree 79 of 100\n",
      "building tree 71 of 100\n",
      "building tree 80 of 100\n",
      "building tree 79 of 100\n"
     ]
    },
    {
     "name": "stderr",
     "output_type": "stream",
     "text": [
      "[Parallel(n_jobs=1)]: Done  71 tasks       | elapsed:    9.1s\n"
     ]
    },
    {
     "name": "stdout",
     "output_type": "stream",
     "text": [
      "building tree 81 of 100\n",
      "building tree 72 of 100\n",
      "building tree 80 of 100\n",
      "building tree 73 of 100\n",
      "building tree 82 of 100\n",
      "building tree 81 of 100\n",
      "building tree 74 of 100\n",
      "building tree 83 of 100\n",
      "building tree 82 of 100\n",
      "building tree 75 of 100\n",
      "building tree 83 of 100\n",
      "building tree 84 of 100\n"
     ]
    },
    {
     "name": "stderr",
     "output_type": "stream",
     "text": [
      "[Parallel(n_jobs=1)]: Done  84 tasks       | elapsed:   10.1s\n"
     ]
    },
    {
     "name": "stdout",
     "output_type": "stream",
     "text": [
      "building tree 85 of 100\n",
      "building tree 84 of 100\n",
      "building tree 76 of 100\n",
      "building tree 86 of 100\n"
     ]
    },
    {
     "name": "stderr",
     "output_type": "stream",
     "text": [
      "[Parallel(n_jobs=1)]: Done  84 tasks       | elapsed:   10.7s\n"
     ]
    },
    {
     "name": "stdout",
     "output_type": "stream",
     "text": [
      "building tree 85 of 100\n",
      "building tree 77 of 100\n",
      "building tree 87 of 100\n",
      "building tree 86 of 100\n",
      "building tree 78 of 100\n",
      "building tree 88 of 100\n",
      "building tree 87 of 100\n",
      "building tree 89 of 100\n",
      "building tree 79 of 100\n",
      "building tree 90 of 100\n",
      "building tree 88 of 100\n",
      "building tree 80 of 100\n",
      "building tree 89 of 100\n",
      "building tree 91 of 100\n",
      "building tree 81 of 100\n",
      "building tree 90 of 100\n",
      "building tree 82 of 100\n",
      "building tree 92 of 100\n",
      "building tree 91 of 100\n",
      "building tree 83 of 100\n",
      "building tree 93 of 100\n",
      "building tree 92 of 100\n",
      "building tree 84 of 100\n",
      "building tree 94 of 100\n",
      "building tree 93 of 100\n"
     ]
    },
    {
     "name": "stderr",
     "output_type": "stream",
     "text": [
      "[Parallel(n_jobs=1)]: Done  84 tasks       | elapsed:   10.8s\n"
     ]
    },
    {
     "name": "stdout",
     "output_type": "stream",
     "text": [
      "building tree 85 of 100\n",
      "building tree 95 of 100\n",
      "building tree 94 of 100\n",
      "building tree 86 of 100\n",
      "building tree 96 of 100\n",
      "building tree 95 of 100\n",
      "building tree 87 of 100\n",
      "building tree 97 of 100\n",
      "building tree 88 of 100\n",
      "building tree 96 of 100\n"
     ]
    },
    {
     "name": "stderr",
     "output_type": "stream",
     "text": [
      "[Parallel(n_jobs=1)]: Done  97 tasks       | elapsed:   11.7s\n"
     ]
    },
    {
     "name": "stdout",
     "output_type": "stream",
     "text": [
      "building tree 98 of 100\n",
      "building tree 89 of 100\n",
      "building tree 97 of 100\n",
      "building tree 99 of 100\n",
      "building tree 90 of 100\n"
     ]
    },
    {
     "name": "stderr",
     "output_type": "stream",
     "text": [
      "[Parallel(n_jobs=1)]: Done  97 tasks       | elapsed:   12.3s\n"
     ]
    },
    {
     "name": "stdout",
     "output_type": "stream",
     "text": [
      "building tree 98 of 100\n",
      "building tree 100 of 100\n",
      "building tree 91 of 100\n"
     ]
    },
    {
     "name": "stderr",
     "output_type": "stream",
     "text": [
      "[Parallel(n_jobs=1)]: Done 100 out of 100 | elapsed:   12.0s finished\n"
     ]
    },
    {
     "name": "stdout",
     "output_type": "stream",
     "text": [
      "building tree 99 of 100\n"
     ]
    },
    {
     "name": "stderr",
     "output_type": "stream",
     "text": [
      "[Parallel(n_jobs=1)]: Done   1 tasks       | elapsed:    0.0s\n"
     ]
    },
    {
     "name": "stdout",
     "output_type": "stream",
     "text": [
      "building tree 92 of 100\n"
     ]
    },
    {
     "name": "stderr",
     "output_type": "stream",
     "text": [
      "[Parallel(n_jobs=1)]: Done   4 tasks       | elapsed:    0.1s\n",
      "[Parallel(n_jobs=1)]: Done   7 tasks       | elapsed:    0.1s\n"
     ]
    },
    {
     "name": "stdout",
     "output_type": "stream",
     "text": [
      "building tree 100 of 100\n"
     ]
    },
    {
     "name": "stderr",
     "output_type": "stream",
     "text": [
      "[Parallel(n_jobs=1)]: Done  12 tasks       | elapsed:    0.1s\n"
     ]
    },
    {
     "name": "stdout",
     "output_type": "stream",
     "text": [
      "building tree 93 of 100\n"
     ]
    },
    {
     "name": "stderr",
     "output_type": "stream",
     "text": [
      "[Parallel(n_jobs=1)]: Done  17 tasks       | elapsed:    0.2s\n",
      "[Parallel(n_jobs=1)]: Done  24 tasks       | elapsed:    0.3s\n",
      "[Parallel(n_jobs=1)]: Done 100 out of 100 | elapsed:   12.7s finished\n"
     ]
    },
    {
     "name": "stdout",
     "output_type": "stream",
     "text": [
      "building tree 94 of 100\n"
     ]
    },
    {
     "name": "stderr",
     "output_type": "stream",
     "text": [
      "[Parallel(n_jobs=1)]: Done   1 tasks       | elapsed:    0.0s\n",
      "[Parallel(n_jobs=1)]: Done  31 tasks       | elapsed:    0.3s\n",
      "[Parallel(n_jobs=1)]: Done   4 tasks       | elapsed:    0.0s\n",
      "[Parallel(n_jobs=1)]: Done   7 tasks       | elapsed:    0.1s\n"
     ]
    },
    {
     "name": "stdout",
     "output_type": "stream",
     "text": [
      "building tree 95 of 100\n"
     ]
    },
    {
     "name": "stderr",
     "output_type": "stream",
     "text": [
      "[Parallel(n_jobs=1)]: Done  40 tasks       | elapsed:    0.4s\n",
      "[Parallel(n_jobs=1)]: Done  12 tasks       | elapsed:    0.2s\n",
      "[Parallel(n_jobs=1)]: Done  17 tasks       | elapsed:    0.2s\n"
     ]
    },
    {
     "name": "stdout",
     "output_type": "stream",
     "text": [
      "building tree 96 of 100\n"
     ]
    },
    {
     "name": "stderr",
     "output_type": "stream",
     "text": [
      "[Parallel(n_jobs=1)]: Done  49 tasks       | elapsed:    0.5s\n",
      "[Parallel(n_jobs=1)]: Done  24 tasks       | elapsed:    0.3s\n"
     ]
    },
    {
     "name": "stdout",
     "output_type": "stream",
     "text": [
      "building tree 97 of 100\n"
     ]
    },
    {
     "name": "stderr",
     "output_type": "stream",
     "text": [
      "[Parallel(n_jobs=1)]: Done  60 tasks       | elapsed:    0.6s\n",
      "[Parallel(n_jobs=1)]: Done  31 tasks       | elapsed:    0.4s\n",
      "[Parallel(n_jobs=1)]: Done  97 tasks       | elapsed:   12.3s\n"
     ]
    },
    {
     "name": "stdout",
     "output_type": "stream",
     "text": [
      "building tree 98 of 100\n"
     ]
    },
    {
     "name": "stderr",
     "output_type": "stream",
     "text": [
      "[Parallel(n_jobs=1)]: Done  40 tasks       | elapsed:    0.5s\n",
      "[Parallel(n_jobs=1)]: Done  71 tasks       | elapsed:    0.8s\n",
      "[Parallel(n_jobs=1)]: Done  49 tasks       | elapsed:    0.5s\n"
     ]
    },
    {
     "name": "stdout",
     "output_type": "stream",
     "text": [
      "building tree 99 of 100\n"
     ]
    },
    {
     "name": "stderr",
     "output_type": "stream",
     "text": [
      "[Parallel(n_jobs=1)]: Done  84 tasks       | elapsed:    0.9s\n"
     ]
    },
    {
     "name": "stdout",
     "output_type": "stream",
     "text": [
      "building tree 100 of 100\n"
     ]
    },
    {
     "name": "stderr",
     "output_type": "stream",
     "text": [
      "[Parallel(n_jobs=1)]: Done  60 tasks       | elapsed:    0.7s\n",
      "[Parallel(n_jobs=1)]: Done  97 tasks       | elapsed:    1.0s\n",
      "[Parallel(n_jobs=1)]: Done 100 out of 100 | elapsed:   12.6s finished\n",
      "[Parallel(n_jobs=1)]: Done   1 tasks       | elapsed:    0.0s\n",
      "[Parallel(n_jobs=1)]: Done  71 tasks       | elapsed:    0.8s\n",
      "[Parallel(n_jobs=1)]: Done 100 out of 100 | elapsed:    1.1s finished\n",
      "[Parallel(n_jobs=1)]: Done   4 tasks       | elapsed:    0.1s\n",
      "[Parallel(n_jobs=1)]: Done   7 tasks       | elapsed:    0.1s\n",
      "[Parallel(n_jobs=1)]: Done  12 tasks       | elapsed:    0.2s\n",
      "[Parallel(n_jobs=1)]: Done  84 tasks       | elapsed:    1.0s\n",
      "[Parallel(n_jobs=1)]: Done  17 tasks       | elapsed:    0.2s\n",
      "[Parallel(n_jobs=1)]: Done  24 tasks       | elapsed:    0.3s\n",
      "[Parallel(n_jobs=1)]: Done  97 tasks       | elapsed:    1.1s\n",
      "[Parallel(n_jobs=1)]: Done  31 tasks       | elapsed:    0.3s\n",
      "[Parallel(n_jobs=1)]: Done 100 out of 100 | elapsed:    1.1s finished\n",
      "[Parallel(n_jobs=1)]: Done  40 tasks       | elapsed:    0.5s\n"
     ]
    },
    {
     "name": "stdout",
     "output_type": "stream",
     "text": [
      "building tree 1 of 100\n"
     ]
    },
    {
     "name": "stderr",
     "output_type": "stream",
     "text": [
      "[Parallel(n_jobs=1)]: Done  49 tasks       | elapsed:    0.6s\n",
      "[Parallel(n_jobs=1)]: Done   1 tasks       | elapsed:    0.1s\n"
     ]
    },
    {
     "name": "stdout",
     "output_type": "stream",
     "text": [
      "building tree 2 of 100\n"
     ]
    },
    {
     "name": "stderr",
     "output_type": "stream",
     "text": [
      "[Parallel(n_jobs=1)]: Done  60 tasks       | elapsed:    0.7s\n"
     ]
    },
    {
     "name": "stdout",
     "output_type": "stream",
     "text": [
      "building tree 3 of 100\n",
      "building tree 1 of 100\n"
     ]
    },
    {
     "name": "stderr",
     "output_type": "stream",
     "text": [
      "[Parallel(n_jobs=1)]: Done  71 tasks       | elapsed:    0.8s\n"
     ]
    },
    {
     "name": "stdout",
     "output_type": "stream",
     "text": [
      "building tree 4 of 100\n"
     ]
    },
    {
     "name": "stderr",
     "output_type": "stream",
     "text": [
      "[Parallel(n_jobs=1)]: Done   1 tasks       | elapsed:    0.1s\n"
     ]
    },
    {
     "name": "stdout",
     "output_type": "stream",
     "text": [
      "building tree 2 of 100\n"
     ]
    },
    {
     "name": "stderr",
     "output_type": "stream",
     "text": [
      "[Parallel(n_jobs=1)]: Done  84 tasks       | elapsed:    0.9s\n",
      "[Parallel(n_jobs=1)]: Done   4 tasks       | elapsed:    0.4s\n"
     ]
    },
    {
     "name": "stdout",
     "output_type": "stream",
     "text": [
      "building tree 5 of 100\n",
      "building tree 3 of 100\n",
      "building tree 6 of 100\n"
     ]
    },
    {
     "name": "stderr",
     "output_type": "stream",
     "text": [
      "[Parallel(n_jobs=1)]: Done  97 tasks       | elapsed:    1.1s\n",
      "[Parallel(n_jobs=1)]: Done 100 out of 100 | elapsed:    1.1s finished\n"
     ]
    },
    {
     "name": "stdout",
     "output_type": "stream",
     "text": [
      "building tree 4 of 100\n",
      "building tree 7 of 100\n"
     ]
    },
    {
     "name": "stderr",
     "output_type": "stream",
     "text": [
      "[Parallel(n_jobs=1)]: Done   4 tasks       | elapsed:    0.5s\n"
     ]
    },
    {
     "name": "stdout",
     "output_type": "stream",
     "text": [
      "building tree 5 of 100\n"
     ]
    },
    {
     "name": "stderr",
     "output_type": "stream",
     "text": [
      "[Parallel(n_jobs=1)]: Done   7 tasks       | elapsed:    0.8s\n"
     ]
    },
    {
     "name": "stdout",
     "output_type": "stream",
     "text": [
      "building tree 8 of 100\n",
      "building tree 6 of 100\n",
      "building tree 9 of 100\n",
      "building tree 10 of 100\n",
      "building tree 7 of 100\n",
      "building tree 1 of 100\n"
     ]
    },
    {
     "name": "stderr",
     "output_type": "stream",
     "text": [
      "[Parallel(n_jobs=1)]: Done   1 tasks       | elapsed:    0.1s\n"
     ]
    },
    {
     "name": "stdout",
     "output_type": "stream",
     "text": [
      "building tree 2 of 100\n"
     ]
    },
    {
     "name": "stderr",
     "output_type": "stream",
     "text": [
      "[Parallel(n_jobs=1)]: Done   7 tasks       | elapsed:    0.9s\n"
     ]
    },
    {
     "name": "stdout",
     "output_type": "stream",
     "text": [
      "building tree 8 of 100\n",
      "building tree 11 of 100\n",
      "building tree 3 of 100\n",
      "building tree 9 of 100\n",
      "building tree 12 of 100\n",
      "building tree 4 of 100\n"
     ]
    },
    {
     "name": "stderr",
     "output_type": "stream",
     "text": [
      "[Parallel(n_jobs=1)]: Done  12 tasks       | elapsed:    1.4s\n"
     ]
    },
    {
     "name": "stdout",
     "output_type": "stream",
     "text": [
      "building tree 13 of 100\n",
      "building tree 10 of 100\n"
     ]
    },
    {
     "name": "stderr",
     "output_type": "stream",
     "text": [
      "[Parallel(n_jobs=1)]: Done   4 tasks       | elapsed:    0.4s\n"
     ]
    },
    {
     "name": "stdout",
     "output_type": "stream",
     "text": [
      "building tree 5 of 100\n",
      "building tree 14 of 100\n",
      "building tree 11 of 100\n",
      "building tree 6 of 100\n",
      "building tree 15 of 100\n",
      "building tree 12 of 100\n",
      "building tree 7 of 100\n",
      "building tree 16 of 100\n"
     ]
    },
    {
     "name": "stderr",
     "output_type": "stream",
     "text": [
      "[Parallel(n_jobs=1)]: Done  12 tasks       | elapsed:    1.5s\n"
     ]
    },
    {
     "name": "stdout",
     "output_type": "stream",
     "text": [
      "building tree 13 of 100\n"
     ]
    },
    {
     "name": "stderr",
     "output_type": "stream",
     "text": [
      "[Parallel(n_jobs=1)]: Done   7 tasks       | elapsed:    0.8s\n"
     ]
    },
    {
     "name": "stdout",
     "output_type": "stream",
     "text": [
      "building tree 8 of 100\n",
      "building tree 17 of 100\n",
      "building tree 14 of 100\n"
     ]
    },
    {
     "name": "stderr",
     "output_type": "stream",
     "text": [
      "[Parallel(n_jobs=1)]: Done  17 tasks       | elapsed:    2.0s\n"
     ]
    },
    {
     "name": "stdout",
     "output_type": "stream",
     "text": [
      "building tree 18 of 100\n",
      "building tree 9 of 100\n",
      "building tree 19 of 100\n",
      "building tree 10 of 100\n",
      "building tree 15 of 100\n",
      "building tree 11 of 100\n",
      "building tree 20 of 100\n",
      "building tree 16 of 100\n",
      "building tree 12 of 100\n",
      "building tree 21 of 100\n",
      "building tree 17 of 100\n"
     ]
    },
    {
     "name": "stderr",
     "output_type": "stream",
     "text": [
      "[Parallel(n_jobs=1)]: Done  12 tasks       | elapsed:    1.4s\n"
     ]
    },
    {
     "name": "stdout",
     "output_type": "stream",
     "text": [
      "building tree 13 of 100\n",
      "building tree 22 of 100\n"
     ]
    },
    {
     "name": "stderr",
     "output_type": "stream",
     "text": [
      "[Parallel(n_jobs=1)]: Done  17 tasks       | elapsed:    2.2s\n"
     ]
    },
    {
     "name": "stdout",
     "output_type": "stream",
     "text": [
      "building tree 18 of 100\n",
      "building tree 14 of 100\n",
      "building tree 23 of 100\n",
      "building tree 19 of 100\n",
      "building tree 15 of 100\n",
      "building tree 24 of 100\n",
      "building tree 16 of 100\n",
      "building tree 20 of 100\n"
     ]
    },
    {
     "name": "stderr",
     "output_type": "stream",
     "text": [
      "[Parallel(n_jobs=1)]: Done  24 tasks       | elapsed:    2.8s\n"
     ]
    },
    {
     "name": "stdout",
     "output_type": "stream",
     "text": [
      "building tree 25 of 100\n",
      "building tree 17 of 100\n",
      "building tree 21 of 100\n",
      "building tree 26 of 100\n"
     ]
    },
    {
     "name": "stderr",
     "output_type": "stream",
     "text": [
      "[Parallel(n_jobs=1)]: Done  17 tasks       | elapsed:    1.9s\n"
     ]
    },
    {
     "name": "stdout",
     "output_type": "stream",
     "text": [
      "building tree 18 of 100\n",
      "building tree 22 of 100\n",
      "building tree 27 of 100\n",
      "building tree 23 of 100\n",
      "building tree 19 of 100\n",
      "building tree 28 of 100\n",
      "building tree 20 of 100\n",
      "building tree 24 of 100\n"
     ]
    },
    {
     "name": "stderr",
     "output_type": "stream",
     "text": [
      "[Parallel(n_jobs=1)]: Done  24 tasks       | elapsed:    3.0s\n"
     ]
    },
    {
     "name": "stdout",
     "output_type": "stream",
     "text": [
      "building tree 25 of 100\n",
      "building tree 29 of 100\n",
      "building tree 21 of 100\n",
      "building tree 30 of 100\n",
      "building tree 26 of 100\n",
      "building tree 22 of 100\n",
      "building tree 27 of 100\n",
      "building tree 31 of 100\n",
      "building tree 23 of 100\n",
      "building tree 28 of 100\n",
      "building tree 24 of 100\n"
     ]
    },
    {
     "name": "stderr",
     "output_type": "stream",
     "text": [
      "[Parallel(n_jobs=1)]: Done  31 tasks       | elapsed:    3.7s\n"
     ]
    },
    {
     "name": "stdout",
     "output_type": "stream",
     "text": [
      "building tree 32 of 100\n",
      "building tree 29 of 100\n"
     ]
    },
    {
     "name": "stderr",
     "output_type": "stream",
     "text": [
      "[Parallel(n_jobs=1)]: Done  24 tasks       | elapsed:    2.8s\n"
     ]
    },
    {
     "name": "stdout",
     "output_type": "stream",
     "text": [
      "building tree 25 of 100\n",
      "building tree 30 of 100\n",
      "building tree 33 of 100\n",
      "building tree 26 of 100\n",
      "building tree 31 of 100\n",
      "building tree 34 of 100\n",
      "building tree 27 of 100\n"
     ]
    },
    {
     "name": "stderr",
     "output_type": "stream",
     "text": [
      "[Parallel(n_jobs=1)]: Done  31 tasks       | elapsed:    3.8s\n"
     ]
    },
    {
     "name": "stdout",
     "output_type": "stream",
     "text": [
      "building tree 32 of 100\n",
      "building tree 35 of 100\n",
      "building tree 28 of 100\n",
      "building tree 33 of 100\n",
      "building tree 36 of 100\n",
      "building tree 29 of 100\n",
      "building tree 34 of 100\n",
      "building tree 37 of 100\n",
      "building tree 30 of 100\n",
      "building tree 35 of 100\n",
      "building tree 31 of 100\n",
      "building tree 38 of 100\n",
      "building tree 36 of 100\n"
     ]
    },
    {
     "name": "stderr",
     "output_type": "stream",
     "text": [
      "[Parallel(n_jobs=1)]: Done  31 tasks       | elapsed:    3.6s\n"
     ]
    },
    {
     "name": "stdout",
     "output_type": "stream",
     "text": [
      "building tree 32 of 100\n",
      "building tree 39 of 100\n",
      "building tree 37 of 100\n",
      "building tree 33 of 100\n",
      "building tree 40 of 100\n",
      "building tree 38 of 100\n",
      "building tree 34 of 100\n"
     ]
    },
    {
     "name": "stderr",
     "output_type": "stream",
     "text": [
      "[Parallel(n_jobs=1)]: Done  40 tasks       | elapsed:    4.9s\n"
     ]
    },
    {
     "name": "stdout",
     "output_type": "stream",
     "text": [
      "building tree 41 of 100\n",
      "building tree 39 of 100\n",
      "building tree 35 of 100\n",
      "building tree 42 of 100\n",
      "building tree 40 of 100\n",
      "building tree 36 of 100\n",
      "building tree 43 of 100\n"
     ]
    },
    {
     "name": "stderr",
     "output_type": "stream",
     "text": [
      "[Parallel(n_jobs=1)]: Done  40 tasks       | elapsed:    4.9s\n"
     ]
    },
    {
     "name": "stdout",
     "output_type": "stream",
     "text": [
      "building tree 41 of 100\n",
      "building tree 44 of 100\n",
      "building tree 37 of 100\n",
      "building tree 42 of 100\n",
      "building tree 38 of 100\n",
      "building tree 43 of 100\n",
      "building tree 45 of 100\n",
      "building tree 44 of 100\n",
      "building tree 39 of 100\n",
      "building tree 46 of 100\n",
      "building tree 45 of 100\n",
      "building tree 47 of 100\n",
      "building tree 40 of 100\n",
      "building tree 48 of 100\n",
      "building tree 46 of 100\n"
     ]
    },
    {
     "name": "stderr",
     "output_type": "stream",
     "text": [
      "[Parallel(n_jobs=1)]: Done  40 tasks       | elapsed:    4.7s\n"
     ]
    },
    {
     "name": "stdout",
     "output_type": "stream",
     "text": [
      "building tree 41 of 100\n",
      "building tree 49 of 100\n",
      "building tree 42 of 100\n",
      "building tree 47 of 100\n"
     ]
    },
    {
     "name": "stderr",
     "output_type": "stream",
     "text": [
      "[Parallel(n_jobs=1)]: Done  49 tasks       | elapsed:    6.0s\n"
     ]
    },
    {
     "name": "stdout",
     "output_type": "stream",
     "text": [
      "building tree 50 of 100\n",
      "building tree 48 of 100\n",
      "building tree 43 of 100\n",
      "building tree 44 of 100\n",
      "building tree 51 of 100\n",
      "building tree 49 of 100\n",
      "building tree 45 of 100\n",
      "building tree 52 of 100\n"
     ]
    },
    {
     "name": "stderr",
     "output_type": "stream",
     "text": [
      "[Parallel(n_jobs=1)]: Done  49 tasks       | elapsed:    6.0s\n"
     ]
    },
    {
     "name": "stdout",
     "output_type": "stream",
     "text": [
      "building tree 50 of 100\n",
      "building tree 46 of 100\n",
      "building tree 53 of 100\n",
      "building tree 51 of 100\n",
      "building tree 54 of 100\n",
      "building tree 47 of 100\n",
      "building tree 52 of 100\n",
      "building tree 55 of 100\n",
      "building tree 48 of 100\n",
      "building tree 53 of 100\n",
      "building tree 56 of 100\n",
      "building tree 49 of 100\n",
      "building tree 57 of 100\n",
      "building tree 54 of 100\n",
      "building tree 58 of 100\n"
     ]
    },
    {
     "name": "stderr",
     "output_type": "stream",
     "text": [
      "[Parallel(n_jobs=1)]: Done  49 tasks       | elapsed:    5.8s\n"
     ]
    },
    {
     "name": "stdout",
     "output_type": "stream",
     "text": [
      "building tree 50 of 100\n",
      "building tree 55 of 100\n",
      "building tree 59 of 100\n",
      "building tree 51 of 100\n",
      "building tree 56 of 100\n",
      "building tree 60 of 100\n",
      "building tree 52 of 100\n",
      "building tree 57 of 100\n"
     ]
    },
    {
     "name": "stderr",
     "output_type": "stream",
     "text": [
      "[Parallel(n_jobs=1)]: Done  60 tasks       | elapsed:    7.2s\n"
     ]
    },
    {
     "name": "stdout",
     "output_type": "stream",
     "text": [
      "building tree 61 of 100\n",
      "building tree 58 of 100\n",
      "building tree 53 of 100\n",
      "building tree 62 of 100\n",
      "building tree 54 of 100\n",
      "building tree 59 of 100\n",
      "building tree 63 of 100\n",
      "building tree 55 of 100\n",
      "building tree 60 of 100\n",
      "building tree 64 of 100\n",
      "building tree 56 of 100\n"
     ]
    },
    {
     "name": "stderr",
     "output_type": "stream",
     "text": [
      "[Parallel(n_jobs=1)]: Done  60 tasks       | elapsed:    7.3s\n"
     ]
    },
    {
     "name": "stdout",
     "output_type": "stream",
     "text": [
      "building tree 61 of 100\n",
      "building tree 65 of 100\n",
      "building tree 57 of 100\n",
      "building tree 62 of 100\n",
      "building tree 66 of 100\n",
      "building tree 58 of 100\n",
      "building tree 63 of 100\n",
      "building tree 67 of 100\n",
      "building tree 59 of 100\n",
      "building tree 64 of 100\n",
      "building tree 68 of 100\n",
      "building tree 60 of 100\n",
      "building tree 65 of 100\n",
      "building tree 69 of 100\n"
     ]
    },
    {
     "name": "stderr",
     "output_type": "stream",
     "text": [
      "[Parallel(n_jobs=1)]: Done  60 tasks       | elapsed:    7.1s\n"
     ]
    },
    {
     "name": "stdout",
     "output_type": "stream",
     "text": [
      "building tree 61 of 100\n",
      "building tree 66 of 100\n",
      "building tree 70 of 100\n",
      "building tree 62 of 100\n",
      "building tree 67 of 100\n",
      "building tree 71 of 100\n",
      "building tree 68 of 100\n",
      "building tree 63 of 100\n"
     ]
    },
    {
     "name": "stderr",
     "output_type": "stream",
     "text": [
      "[Parallel(n_jobs=1)]: Done  71 tasks       | elapsed:    8.5s\n"
     ]
    },
    {
     "name": "stdout",
     "output_type": "stream",
     "text": [
      "building tree 72 of 100\n",
      "building tree 64 of 100\n",
      "building tree 69 of 100\n",
      "building tree 73 of 100\n",
      "building tree 65 of 100\n",
      "building tree 70 of 100\n",
      "building tree 74 of 100\n",
      "building tree 66 of 100\n",
      "building tree 71 of 100\n",
      "building tree 75 of 100\n",
      "building tree 67 of 100\n"
     ]
    },
    {
     "name": "stderr",
     "output_type": "stream",
     "text": [
      "[Parallel(n_jobs=1)]: Done  71 tasks       | elapsed:    8.7s\n"
     ]
    },
    {
     "name": "stdout",
     "output_type": "stream",
     "text": [
      "building tree 72 of 100\n",
      "building tree 76 of 100\n",
      "building tree 68 of 100\n",
      "building tree 73 of 100\n",
      "building tree 77 of 100\n",
      "building tree 69 of 100\n",
      "building tree 78 of 100\n",
      "building tree 74 of 100\n",
      "building tree 70 of 100\n",
      "building tree 79 of 100\n",
      "building tree 75 of 100\n",
      "building tree 71 of 100\n",
      "building tree 80 of 100\n",
      "building tree 76 of 100\n"
     ]
    },
    {
     "name": "stderr",
     "output_type": "stream",
     "text": [
      "[Parallel(n_jobs=1)]: Done  71 tasks       | elapsed:    8.5s\n"
     ]
    },
    {
     "name": "stdout",
     "output_type": "stream",
     "text": [
      "building tree 72 of 100\n",
      "building tree 81 of 100\n",
      "building tree 77 of 100\n",
      "building tree 73 of 100\n",
      "building tree 82 of 100\n",
      "building tree 78 of 100\n",
      "building tree 74 of 100\n",
      "building tree 79 of 100\n",
      "building tree 83 of 100\n",
      "building tree 75 of 100\n",
      "building tree 84 of 100\n",
      "building tree 80 of 100\n",
      "building tree 76 of 100\n"
     ]
    },
    {
     "name": "stderr",
     "output_type": "stream",
     "text": [
      "[Parallel(n_jobs=1)]: Done  84 tasks       | elapsed:   10.1s\n"
     ]
    },
    {
     "name": "stdout",
     "output_type": "stream",
     "text": [
      "building tree 85 of 100\n",
      "building tree 81 of 100\n",
      "building tree 77 of 100\n",
      "building tree 86 of 100\n",
      "building tree 78 of 100\n",
      "building tree 82 of 100\n",
      "building tree 87 of 100\n",
      "building tree 79 of 100\n",
      "building tree 88 of 100\n",
      "building tree 83 of 100\n",
      "building tree 80 of 100\n",
      "building tree 89 of 100\n",
      "building tree 84 of 100\n",
      "building tree 81 of 100\n",
      "building tree 90 of 100\n"
     ]
    },
    {
     "name": "stderr",
     "output_type": "stream",
     "text": [
      "[Parallel(n_jobs=1)]: Done  84 tasks       | elapsed:   10.4s\n"
     ]
    },
    {
     "name": "stdout",
     "output_type": "stream",
     "text": [
      "building tree 85 of 100\n",
      "building tree 82 of 100\n",
      "building tree 86 of 100\n",
      "building tree 91 of 100\n",
      "building tree 83 of 100\n",
      "building tree 87 of 100\n",
      "building tree 92 of 100\n",
      "building tree 88 of 100\n",
      "building tree 84 of 100\n"
     ]
    },
    {
     "name": "stderr",
     "output_type": "stream",
     "text": [
      "[Parallel(n_jobs=1)]: Done  84 tasks       | elapsed:   10.1s\n"
     ]
    },
    {
     "name": "stdout",
     "output_type": "stream",
     "text": [
      "building tree 85 of 100\n",
      "building tree 93 of 100\n",
      "building tree 89 of 100\n",
      "building tree 86 of 100\n",
      "building tree 90 of 100\n",
      "building tree 94 of 100\n",
      "building tree 87 of 100\n",
      "building tree 91 of 100\n",
      "building tree 95 of 100\n",
      "building tree 88 of 100\n",
      "building tree 96 of 100\n",
      "building tree 92 of 100\n",
      "building tree 89 of 100\n",
      "building tree 97 of 100\n",
      "building tree 93 of 100\n",
      "building tree 90 of 100\n"
     ]
    },
    {
     "name": "stderr",
     "output_type": "stream",
     "text": [
      "[Parallel(n_jobs=1)]: Done  97 tasks       | elapsed:   11.7s\n"
     ]
    },
    {
     "name": "stdout",
     "output_type": "stream",
     "text": [
      "building tree 98 of 100\n",
      "building tree 94 of 100\n",
      "building tree 91 of 100\n",
      "building tree 99 of 100\n",
      "building tree 95 of 100\n",
      "building tree 92 of 100\n",
      "building tree 100 of 100\n",
      "building tree 96 of 100\n",
      "building tree 93 of 100\n",
      "building tree 97 of 100\n",
      "building tree 94 of 100\n"
     ]
    },
    {
     "name": "stderr",
     "output_type": "stream",
     "text": [
      "[Parallel(n_jobs=1)]: Done 100 out of 100 | elapsed:   12.1s finished\n",
      "[Parallel(n_jobs=1)]: Done   1 tasks       | elapsed:    0.0s\n",
      "[Parallel(n_jobs=1)]: Done   4 tasks       | elapsed:    0.0s\n",
      "[Parallel(n_jobs=1)]: Done   7 tasks       | elapsed:    0.1s\n"
     ]
    },
    {
     "name": "stdout",
     "output_type": "stream",
     "text": [
      "building tree 95 of 100\n"
     ]
    },
    {
     "name": "stderr",
     "output_type": "stream",
     "text": [
      "[Parallel(n_jobs=1)]: Done  97 tasks       | elapsed:   12.0s\n"
     ]
    },
    {
     "name": "stdout",
     "output_type": "stream",
     "text": [
      "building tree 98 of 100\n"
     ]
    },
    {
     "name": "stderr",
     "output_type": "stream",
     "text": [
      "[Parallel(n_jobs=1)]: Done  12 tasks       | elapsed:    0.1s\n",
      "[Parallel(n_jobs=1)]: Done  17 tasks       | elapsed:    0.2s\n"
     ]
    },
    {
     "name": "stdout",
     "output_type": "stream",
     "text": [
      "building tree 96 of 100\n",
      "building tree 99 of 100\n"
     ]
    },
    {
     "name": "stderr",
     "output_type": "stream",
     "text": [
      "[Parallel(n_jobs=1)]: Done  24 tasks       | elapsed:    0.3s\n"
     ]
    },
    {
     "name": "stdout",
     "output_type": "stream",
     "text": [
      "building tree 97 of 100\n"
     ]
    },
    {
     "name": "stderr",
     "output_type": "stream",
     "text": [
      "[Parallel(n_jobs=1)]: Done  31 tasks       | elapsed:    0.3s\n"
     ]
    },
    {
     "name": "stdout",
     "output_type": "stream",
     "text": [
      "building tree 100 of 100\n"
     ]
    },
    {
     "name": "stderr",
     "output_type": "stream",
     "text": [
      "[Parallel(n_jobs=1)]: Done  97 tasks       | elapsed:   11.5s\n"
     ]
    },
    {
     "name": "stdout",
     "output_type": "stream",
     "text": [
      "building tree 98 of 100\n"
     ]
    },
    {
     "name": "stderr",
     "output_type": "stream",
     "text": [
      "[Parallel(n_jobs=1)]: Done  40 tasks       | elapsed:    0.4s\n",
      "[Parallel(n_jobs=1)]: Done 100 out of 100 | elapsed:   12.4s finished\n",
      "[Parallel(n_jobs=1)]: Done  49 tasks       | elapsed:    0.5s\n"
     ]
    },
    {
     "name": "stdout",
     "output_type": "stream",
     "text": [
      "building tree 99 of 100\n"
     ]
    },
    {
     "name": "stderr",
     "output_type": "stream",
     "text": [
      "[Parallel(n_jobs=1)]: Done   1 tasks       | elapsed:    0.0s\n",
      "[Parallel(n_jobs=1)]: Done   4 tasks       | elapsed:    0.0s\n",
      "[Parallel(n_jobs=1)]: Done   7 tasks       | elapsed:    0.1s\n"
     ]
    },
    {
     "name": "stdout",
     "output_type": "stream",
     "text": [
      "building tree 100 of 100\n"
     ]
    },
    {
     "name": "stderr",
     "output_type": "stream",
     "text": [
      "[Parallel(n_jobs=1)]: Done  12 tasks       | elapsed:    0.1s\n",
      "[Parallel(n_jobs=1)]: Done  60 tasks       | elapsed:    0.6s\n",
      "[Parallel(n_jobs=1)]: Done  17 tasks       | elapsed:    0.2s\n",
      "[Parallel(n_jobs=1)]: Done 100 out of 100 | elapsed:   11.9s finished\n",
      "[Parallel(n_jobs=1)]: Done   1 tasks       | elapsed:    0.0s\n",
      "[Parallel(n_jobs=1)]: Done  24 tasks       | elapsed:    0.3s\n",
      "[Parallel(n_jobs=1)]: Done  71 tasks       | elapsed:    0.8s\n",
      "[Parallel(n_jobs=1)]: Done   4 tasks       | elapsed:    0.0s\n",
      "[Parallel(n_jobs=1)]: Done   7 tasks       | elapsed:    0.1s\n",
      "[Parallel(n_jobs=1)]: Done  31 tasks       | elapsed:    0.3s\n",
      "[Parallel(n_jobs=1)]: Done  12 tasks       | elapsed:    0.1s\n",
      "[Parallel(n_jobs=1)]: Done  84 tasks       | elapsed:    0.9s\n",
      "[Parallel(n_jobs=1)]: Done  17 tasks       | elapsed:    0.2s\n",
      "[Parallel(n_jobs=1)]: Done  40 tasks       | elapsed:    0.4s\n",
      "[Parallel(n_jobs=1)]: Done  24 tasks       | elapsed:    0.2s\n",
      "[Parallel(n_jobs=1)]: Done  97 tasks       | elapsed:    1.1s\n",
      "[Parallel(n_jobs=1)]: Done  31 tasks       | elapsed:    0.3s\n",
      "[Parallel(n_jobs=1)]: Done  49 tasks       | elapsed:    0.5s\n",
      "[Parallel(n_jobs=1)]: Done 100 out of 100 | elapsed:    1.1s finished\n",
      "[Parallel(n_jobs=1)]: Done  40 tasks       | elapsed:    0.4s\n",
      "[Parallel(n_jobs=1)]: Done  60 tasks       | elapsed:    0.7s\n",
      "[Parallel(n_jobs=1)]: Done  49 tasks       | elapsed:    0.5s\n",
      "[Parallel(n_jobs=1)]: Done  71 tasks       | elapsed:    0.8s\n",
      "[Parallel(n_jobs=1)]: Done  60 tasks       | elapsed:    0.6s\n",
      "[Parallel(n_jobs=1)]: Done  84 tasks       | elapsed:    0.9s\n",
      "[Parallel(n_jobs=1)]: Done  71 tasks       | elapsed:    0.7s\n"
     ]
    },
    {
     "name": "stdout",
     "output_type": "stream",
     "text": [
      "building tree 1 of 100\n"
     ]
    },
    {
     "name": "stderr",
     "output_type": "stream",
     "text": [
      "[Parallel(n_jobs=1)]: Done   1 tasks       | elapsed:    0.1s\n"
     ]
    },
    {
     "name": "stdout",
     "output_type": "stream",
     "text": [
      "building tree 2 of 100\n"
     ]
    },
    {
     "name": "stderr",
     "output_type": "stream",
     "text": [
      "[Parallel(n_jobs=1)]: Done  84 tasks       | elapsed:    0.8s\n",
      "[Parallel(n_jobs=1)]: Done  97 tasks       | elapsed:    1.1s\n",
      "[Parallel(n_jobs=1)]: Done 100 out of 100 | elapsed:    1.1s finished\n"
     ]
    },
    {
     "name": "stdout",
     "output_type": "stream",
     "text": [
      "building tree 3 of 100\n"
     ]
    },
    {
     "name": "stderr",
     "output_type": "stream",
     "text": [
      "[Parallel(n_jobs=1)]: Done  97 tasks       | elapsed:    1.0s\n",
      "[Parallel(n_jobs=1)]: Done 100 out of 100 | elapsed:    1.0s finished\n"
     ]
    },
    {
     "name": "stdout",
     "output_type": "stream",
     "text": [
      "building tree 4 of 100\n"
     ]
    },
    {
     "name": "stderr",
     "output_type": "stream",
     "text": [
      "[Parallel(n_jobs=1)]: Done   4 tasks       | elapsed:    0.5s\n"
     ]
    },
    {
     "name": "stdout",
     "output_type": "stream",
     "text": [
      "building tree 5 of 100\n",
      "building tree 6 of 100\n",
      "building tree 1 of 100\n"
     ]
    },
    {
     "name": "stderr",
     "output_type": "stream",
     "text": [
      "[Parallel(n_jobs=1)]: Done   1 tasks       | elapsed:    0.1s\n"
     ]
    },
    {
     "name": "stdout",
     "output_type": "stream",
     "text": [
      "building tree 2 of 100\n",
      "building tree 7 of 100\n",
      "building tree 1 of 100\n",
      "building tree 3 of 100\n"
     ]
    },
    {
     "name": "stderr",
     "output_type": "stream",
     "text": [
      "[Parallel(n_jobs=1)]: Done   7 tasks       | elapsed:    0.9s\n"
     ]
    },
    {
     "name": "stdout",
     "output_type": "stream",
     "text": [
      "building tree 8 of 100\n"
     ]
    },
    {
     "name": "stderr",
     "output_type": "stream",
     "text": [
      "[Parallel(n_jobs=1)]: Done   1 tasks       | elapsed:    0.1s\n"
     ]
    },
    {
     "name": "stdout",
     "output_type": "stream",
     "text": [
      "building tree 2 of 100\n",
      "building tree 4 of 100\n",
      "building tree 3 of 100\n",
      "building tree 9 of 100\n"
     ]
    },
    {
     "name": "stderr",
     "output_type": "stream",
     "text": [
      "[Parallel(n_jobs=1)]: Done   4 tasks       | elapsed:    0.4s\n"
     ]
    },
    {
     "name": "stdout",
     "output_type": "stream",
     "text": [
      "building tree 5 of 100\n",
      "building tree 10 of 100\n",
      "building tree 4 of 100\n",
      "building tree 6 of 100\n",
      "building tree 11 of 100\n"
     ]
    },
    {
     "name": "stderr",
     "output_type": "stream",
     "text": [
      "[Parallel(n_jobs=1)]: Done   4 tasks       | elapsed:    0.5s\n"
     ]
    },
    {
     "name": "stdout",
     "output_type": "stream",
     "text": [
      "building tree 5 of 100\n",
      "building tree 7 of 100\n",
      "building tree 12 of 100\n",
      "building tree 6 of 100\n"
     ]
    },
    {
     "name": "stderr",
     "output_type": "stream",
     "text": [
      "[Parallel(n_jobs=1)]: Done   7 tasks       | elapsed:    0.8s\n"
     ]
    },
    {
     "name": "stdout",
     "output_type": "stream",
     "text": [
      "building tree 8 of 100\n"
     ]
    },
    {
     "name": "stderr",
     "output_type": "stream",
     "text": [
      "[Parallel(n_jobs=1)]: Done  12 tasks       | elapsed:    1.5s\n"
     ]
    },
    {
     "name": "stdout",
     "output_type": "stream",
     "text": [
      "building tree 7 of 100\n",
      "building tree 13 of 100\n",
      "building tree 9 of 100\n",
      "building tree 10 of 100\n"
     ]
    },
    {
     "name": "stderr",
     "output_type": "stream",
     "text": [
      "[Parallel(n_jobs=1)]: Done   7 tasks       | elapsed:    0.9s\n"
     ]
    },
    {
     "name": "stdout",
     "output_type": "stream",
     "text": [
      "building tree 8 of 100\n",
      "building tree 14 of 100\n",
      "building tree 11 of 100\n",
      "building tree 9 of 100\n",
      "building tree 15 of 100\n",
      "building tree 12 of 100\n",
      "building tree 10 of 100\n",
      "building tree 16 of 100\n"
     ]
    },
    {
     "name": "stderr",
     "output_type": "stream",
     "text": [
      "[Parallel(n_jobs=1)]: Done  12 tasks       | elapsed:    1.4s\n"
     ]
    },
    {
     "name": "stdout",
     "output_type": "stream",
     "text": [
      "building tree 13 of 100\n",
      "building tree 11 of 100\n",
      "building tree 17 of 100\n",
      "building tree 14 of 100\n",
      "building tree 12 of 100\n"
     ]
    },
    {
     "name": "stderr",
     "output_type": "stream",
     "text": [
      "[Parallel(n_jobs=1)]: Done  17 tasks       | elapsed:    2.2s\n"
     ]
    },
    {
     "name": "stdout",
     "output_type": "stream",
     "text": [
      "building tree 18 of 100\n",
      "building tree 15 of 100\n"
     ]
    },
    {
     "name": "stderr",
     "output_type": "stream",
     "text": [
      "[Parallel(n_jobs=1)]: Done  12 tasks       | elapsed:    1.5s\n"
     ]
    },
    {
     "name": "stdout",
     "output_type": "stream",
     "text": [
      "building tree 13 of 100\n",
      "building tree 19 of 100\n",
      "building tree 16 of 100\n",
      "building tree 20 of 100\n",
      "building tree 14 of 100\n",
      "building tree 17 of 100\n",
      "building tree 21 of 100\n",
      "building tree 15 of 100\n"
     ]
    },
    {
     "name": "stderr",
     "output_type": "stream",
     "text": [
      "[Parallel(n_jobs=1)]: Done  17 tasks       | elapsed:    1.9s\n"
     ]
    },
    {
     "name": "stdout",
     "output_type": "stream",
     "text": [
      "building tree 18 of 100\n",
      "building tree 22 of 100\n",
      "building tree 16 of 100\n",
      "building tree 19 of 100\n",
      "building tree 23 of 100\n",
      "building tree 17 of 100\n",
      "building tree 24 of 100\n"
     ]
    },
    {
     "name": "stderr",
     "output_type": "stream",
     "text": [
      "[Parallel(n_jobs=1)]: Done  17 tasks       | elapsed:    2.1s\n"
     ]
    },
    {
     "name": "stdout",
     "output_type": "stream",
     "text": [
      "building tree 18 of 100\n",
      "building tree 20 of 100\n"
     ]
    },
    {
     "name": "stderr",
     "output_type": "stream",
     "text": [
      "[Parallel(n_jobs=1)]: Done  24 tasks       | elapsed:    2.9s\n"
     ]
    },
    {
     "name": "stdout",
     "output_type": "stream",
     "text": [
      "building tree 25 of 100\n",
      "building tree 19 of 100\n",
      "building tree 21 of 100\n",
      "building tree 26 of 100\n",
      "building tree 20 of 100\n",
      "building tree 22 of 100\n",
      "building tree 27 of 100\n",
      "building tree 23 of 100\n",
      "building tree 21 of 100\n",
      "building tree 28 of 100\n",
      "building tree 24 of 100\n",
      "building tree 22 of 100\n"
     ]
    },
    {
     "name": "stderr",
     "output_type": "stream",
     "text": [
      "[Parallel(n_jobs=1)]: Done  24 tasks       | elapsed:    2.8s\n"
     ]
    },
    {
     "name": "stdout",
     "output_type": "stream",
     "text": [
      "building tree 25 of 100\n",
      "building tree 29 of 100\n",
      "building tree 23 of 100\n",
      "building tree 26 of 100\n",
      "building tree 30 of 100\n",
      "building tree 24 of 100\n",
      "building tree 27 of 100\n"
     ]
    },
    {
     "name": "stderr",
     "output_type": "stream",
     "text": [
      "[Parallel(n_jobs=1)]: Done  24 tasks       | elapsed:    2.9s\n"
     ]
    },
    {
     "name": "stdout",
     "output_type": "stream",
     "text": [
      "building tree 25 of 100\n",
      "building tree 31 of 100\n",
      "building tree 28 of 100\n",
      "building tree 26 of 100\n"
     ]
    },
    {
     "name": "stderr",
     "output_type": "stream",
     "text": [
      "[Parallel(n_jobs=1)]: Done  31 tasks       | elapsed:    3.8s\n"
     ]
    },
    {
     "name": "stdout",
     "output_type": "stream",
     "text": [
      "building tree 32 of 100\n",
      "building tree 29 of 100\n",
      "building tree 27 of 100\n",
      "building tree 30 of 100\n",
      "building tree 33 of 100\n",
      "building tree 31 of 100\n",
      "building tree 28 of 100\n",
      "building tree 34 of 100\n",
      "building tree 35 of 100\n"
     ]
    },
    {
     "name": "stderr",
     "output_type": "stream",
     "text": [
      "[Parallel(n_jobs=1)]: Done  31 tasks       | elapsed:    3.5s\n"
     ]
    },
    {
     "name": "stdout",
     "output_type": "stream",
     "text": [
      "building tree 32 of 100\n",
      "building tree 29 of 100\n",
      "building tree 36 of 100\n",
      "building tree 30 of 100\n",
      "building tree 33 of 100\n",
      "building tree 31 of 100\n",
      "building tree 37 of 100\n",
      "building tree 34 of 100\n",
      "building tree 38 of 100\n"
     ]
    },
    {
     "name": "stderr",
     "output_type": "stream",
     "text": [
      "[Parallel(n_jobs=1)]: Done  31 tasks       | elapsed:    3.8s\n"
     ]
    },
    {
     "name": "stdout",
     "output_type": "stream",
     "text": [
      "building tree 32 of 100\n",
      "building tree 35 of 100\n",
      "building tree 39 of 100\n",
      "building tree 33 of 100\n",
      "building tree 36 of 100\n",
      "building tree 40 of 100\n",
      "building tree 34 of 100\n",
      "building tree 37 of 100\n",
      "building tree 35 of 100\n"
     ]
    },
    {
     "name": "stderr",
     "output_type": "stream",
     "text": [
      "[Parallel(n_jobs=1)]: Done  40 tasks       | elapsed:    4.9s\n"
     ]
    },
    {
     "name": "stdout",
     "output_type": "stream",
     "text": [
      "building tree 41 of 100\n",
      "building tree 38 of 100\n",
      "building tree 36 of 100\n",
      "building tree 42 of 100\n",
      "building tree 39 of 100\n",
      "building tree 37 of 100\n",
      "building tree 43 of 100\n",
      "building tree 40 of 100\n",
      "building tree 38 of 100\n",
      "building tree 44 of 100\n"
     ]
    },
    {
     "name": "stderr",
     "output_type": "stream",
     "text": [
      "[Parallel(n_jobs=1)]: Done  40 tasks       | elapsed:    4.7s\n"
     ]
    },
    {
     "name": "stdout",
     "output_type": "stream",
     "text": [
      "building tree 41 of 100\n",
      "building tree 39 of 100\n",
      "building tree 45 of 100\n",
      "building tree 42 of 100\n",
      "building tree 40 of 100\n",
      "building tree 46 of 100\n",
      "building tree 43 of 100\n"
     ]
    },
    {
     "name": "stderr",
     "output_type": "stream",
     "text": [
      "[Parallel(n_jobs=1)]: Done  40 tasks       | elapsed:    4.8s\n"
     ]
    },
    {
     "name": "stdout",
     "output_type": "stream",
     "text": [
      "building tree 41 of 100\n",
      "building tree 44 of 100\n",
      "building tree 47 of 100\n",
      "building tree 42 of 100\n",
      "building tree 48 of 100\n",
      "building tree 45 of 100\n",
      "building tree 43 of 100\n",
      "building tree 49 of 100\n",
      "building tree 46 of 100\n",
      "building tree 44 of 100\n"
     ]
    },
    {
     "name": "stderr",
     "output_type": "stream",
     "text": [
      "[Parallel(n_jobs=1)]: Done  49 tasks       | elapsed:    6.0s\n"
     ]
    },
    {
     "name": "stdout",
     "output_type": "stream",
     "text": [
      "building tree 50 of 100\n",
      "building tree 47 of 100\n",
      "building tree 45 of 100\n",
      "building tree 51 of 100\n",
      "building tree 48 of 100\n",
      "building tree 52 of 100\n",
      "building tree 46 of 100\n",
      "building tree 49 of 100\n",
      "building tree 47 of 100\n",
      "building tree 53 of 100\n",
      "building tree 48 of 100\n"
     ]
    },
    {
     "name": "stderr",
     "output_type": "stream",
     "text": [
      "[Parallel(n_jobs=1)]: Done  49 tasks       | elapsed:    5.8s\n"
     ]
    },
    {
     "name": "stdout",
     "output_type": "stream",
     "text": [
      "building tree 50 of 100\n",
      "building tree 54 of 100\n",
      "building tree 49 of 100\n",
      "building tree 55 of 100\n",
      "building tree 51 of 100\n"
     ]
    },
    {
     "name": "stderr",
     "output_type": "stream",
     "text": [
      "[Parallel(n_jobs=1)]: Done  49 tasks       | elapsed:    5.9s\n"
     ]
    },
    {
     "name": "stdout",
     "output_type": "stream",
     "text": [
      "building tree 50 of 100\n",
      "building tree 56 of 100\n",
      "building tree 52 of 100\n",
      "building tree 51 of 100\n",
      "building tree 57 of 100\n",
      "building tree 53 of 100\n",
      "building tree 52 of 100\n",
      "building tree 58 of 100\n",
      "building tree 54 of 100\n",
      "building tree 53 of 100\n",
      "building tree 59 of 100\n",
      "building tree 55 of 100\n",
      "building tree 60 of 100\n",
      "building tree 54 of 100\n",
      "building tree 56 of 100\n",
      "building tree 55 of 100\n"
     ]
    },
    {
     "name": "stderr",
     "output_type": "stream",
     "text": [
      "[Parallel(n_jobs=1)]: Done  60 tasks       | elapsed:    7.3s\n"
     ]
    },
    {
     "name": "stdout",
     "output_type": "stream",
     "text": [
      "building tree 61 of 100\n",
      "building tree 57 of 100\n",
      "building tree 56 of 100\n",
      "building tree 62 of 100\n",
      "building tree 58 of 100\n",
      "building tree 57 of 100\n",
      "building tree 59 of 100\n",
      "building tree 63 of 100\n",
      "building tree 58 of 100\n",
      "building tree 60 of 100\n",
      "building tree 64 of 100\n",
      "building tree 59 of 100\n"
     ]
    },
    {
     "name": "stderr",
     "output_type": "stream",
     "text": [
      "[Parallel(n_jobs=1)]: Done  60 tasks       | elapsed:    7.1s\n"
     ]
    },
    {
     "name": "stdout",
     "output_type": "stream",
     "text": [
      "building tree 61 of 100\n",
      "building tree 65 of 100\n",
      "building tree 60 of 100\n",
      "building tree 62 of 100\n",
      "building tree 66 of 100\n"
     ]
    },
    {
     "name": "stderr",
     "output_type": "stream",
     "text": [
      "[Parallel(n_jobs=1)]: Done  60 tasks       | elapsed:    7.2s\n"
     ]
    },
    {
     "name": "stdout",
     "output_type": "stream",
     "text": [
      "building tree 61 of 100\n",
      "building tree 63 of 100\n",
      "building tree 67 of 100\n",
      "building tree 68 of 100\n",
      "building tree 62 of 100\n",
      "building tree 64 of 100\n",
      "building tree 69 of 100\n",
      "building tree 63 of 100\n",
      "building tree 65 of 100\n",
      "building tree 70 of 100\n",
      "building tree 64 of 100\n",
      "building tree 66 of 100\n",
      "building tree 65 of 100\n",
      "building tree 71 of 100\n",
      "building tree 67 of 100\n",
      "building tree 66 of 100\n"
     ]
    },
    {
     "name": "stderr",
     "output_type": "stream",
     "text": [
      "[Parallel(n_jobs=1)]: Done  71 tasks       | elapsed:    8.5s\n"
     ]
    },
    {
     "name": "stdout",
     "output_type": "stream",
     "text": [
      "building tree 72 of 100\n",
      "building tree 67 of 100\n",
      "building tree 68 of 100\n",
      "building tree 73 of 100\n",
      "building tree 68 of 100\n",
      "building tree 69 of 100\n",
      "building tree 74 of 100\n",
      "building tree 69 of 100\n",
      "building tree 70 of 100\n",
      "building tree 75 of 100\n",
      "building tree 70 of 100\n",
      "building tree 71 of 100\n",
      "building tree 76 of 100\n",
      "building tree 71 of 100\n"
     ]
    },
    {
     "name": "stderr",
     "output_type": "stream",
     "text": [
      "[Parallel(n_jobs=1)]: Done  71 tasks       | elapsed:    8.5s\n"
     ]
    },
    {
     "name": "stdout",
     "output_type": "stream",
     "text": [
      "building tree 72 of 100\n",
      "building tree 77 of 100\n",
      "building tree 73 of 100\n"
     ]
    },
    {
     "name": "stderr",
     "output_type": "stream",
     "text": [
      "[Parallel(n_jobs=1)]: Done  71 tasks       | elapsed:    8.4s\n"
     ]
    },
    {
     "name": "stdout",
     "output_type": "stream",
     "text": [
      "building tree 72 of 100\n",
      "building tree 78 of 100\n",
      "building tree 73 of 100\n",
      "building tree 74 of 100\n",
      "building tree 79 of 100\n",
      "building tree 74 of 100\n",
      "building tree 80 of 100\n",
      "building tree 75 of 100\n",
      "building tree 75 of 100\n",
      "building tree 81 of 100\n",
      "building tree 76 of 100\n",
      "building tree 76 of 100\n",
      "building tree 82 of 100\n",
      "building tree 77 of 100\n",
      "building tree 77 of 100\n",
      "building tree 83 of 100\n",
      "building tree 78 of 100\n",
      "building tree 78 of 100\n",
      "building tree 79 of 100\n",
      "building tree 84 of 100\n",
      "building tree 79 of 100\n",
      "building tree 80 of 100\n"
     ]
    },
    {
     "name": "stderr",
     "output_type": "stream",
     "text": [
      "[Parallel(n_jobs=1)]: Done  84 tasks       | elapsed:   10.1s\n"
     ]
    },
    {
     "name": "stdout",
     "output_type": "stream",
     "text": [
      "building tree 85 of 100\n",
      "building tree 80 of 100\n",
      "building tree 81 of 100\n",
      "building tree 81 of 100\n",
      "building tree 86 of 100\n",
      "building tree 82 of 100\n",
      "building tree 82 of 100\n",
      "building tree 87 of 100\n",
      "building tree 83 of 100\n",
      "building tree 83 of 100\n",
      "building tree 88 of 100\n",
      "building tree 84 of 100\n",
      "building tree 89 of 100\n",
      "building tree 84 of 100\n"
     ]
    },
    {
     "name": "stderr",
     "output_type": "stream",
     "text": [
      "[Parallel(n_jobs=1)]: Done  84 tasks       | elapsed:    9.9s\n"
     ]
    },
    {
     "name": "stdout",
     "output_type": "stream",
     "text": [
      "building tree 85 of 100\n",
      "building tree 90 of 100\n"
     ]
    },
    {
     "name": "stderr",
     "output_type": "stream",
     "text": [
      "[Parallel(n_jobs=1)]: Done  84 tasks       | elapsed:   10.2s\n"
     ]
    },
    {
     "name": "stdout",
     "output_type": "stream",
     "text": [
      "building tree 85 of 100\n",
      "building tree 86 of 100\n",
      "building tree 91 of 100\n",
      "building tree 86 of 100\n",
      "building tree 87 of 100\n",
      "building tree 92 of 100\n",
      "building tree 87 of 100\n",
      "building tree 88 of 100\n",
      "building tree 93 of 100\n",
      "building tree 88 of 100\n",
      "building tree 94 of 100\n",
      "building tree 89 of 100\n",
      "building tree 89 of 100\n",
      "building tree 95 of 100\n",
      "building tree 90 of 100\n",
      "building tree 90 of 100\n",
      "building tree 96 of 100\n",
      "building tree 91 of 100\n",
      "building tree 91 of 100\n",
      "building tree 97 of 100\n",
      "building tree 92 of 100\n",
      "building tree 92 of 100\n"
     ]
    },
    {
     "name": "stderr",
     "output_type": "stream",
     "text": [
      "[Parallel(n_jobs=1)]: Done  97 tasks       | elapsed:   11.7s\n"
     ]
    },
    {
     "name": "stdout",
     "output_type": "stream",
     "text": [
      "building tree 98 of 100\n",
      "building tree 93 of 100\n",
      "building tree 93 of 100\n",
      "building tree 99 of 100\n",
      "building tree 94 of 100\n",
      "building tree 94 of 100\n",
      "building tree 100 of 100\n",
      "building tree 95 of 100\n",
      "building tree 95 of 100\n"
     ]
    },
    {
     "name": "stderr",
     "output_type": "stream",
     "text": [
      "[Parallel(n_jobs=1)]: Done 100 out of 100 | elapsed:   12.0s finished\n",
      "[Parallel(n_jobs=1)]: Done   1 tasks       | elapsed:    0.0s\n",
      "[Parallel(n_jobs=1)]: Done   4 tasks       | elapsed:    0.0s\n"
     ]
    },
    {
     "name": "stdout",
     "output_type": "stream",
     "text": [
      "building tree 96 of 100\n"
     ]
    },
    {
     "name": "stderr",
     "output_type": "stream",
     "text": [
      "[Parallel(n_jobs=1)]: Done   7 tasks       | elapsed:    0.1s\n"
     ]
    },
    {
     "name": "stdout",
     "output_type": "stream",
     "text": [
      "building tree 96 of 100\n"
     ]
    },
    {
     "name": "stderr",
     "output_type": "stream",
     "text": [
      "[Parallel(n_jobs=1)]: Done  12 tasks       | elapsed:    0.1s\n"
     ]
    },
    {
     "name": "stdout",
     "output_type": "stream",
     "text": [
      "building tree 97 of 100\n"
     ]
    },
    {
     "name": "stderr",
     "output_type": "stream",
     "text": [
      "[Parallel(n_jobs=1)]: Done  17 tasks       | elapsed:    0.2s\n"
     ]
    },
    {
     "name": "stdout",
     "output_type": "stream",
     "text": [
      "building tree 97 of 100\n"
     ]
    },
    {
     "name": "stderr",
     "output_type": "stream",
     "text": [
      "[Parallel(n_jobs=1)]: Done  24 tasks       | elapsed:    0.3s\n",
      "[Parallel(n_jobs=1)]: Done  97 tasks       | elapsed:   11.7s\n"
     ]
    },
    {
     "name": "stdout",
     "output_type": "stream",
     "text": [
      "building tree 98 of 100\n"
     ]
    },
    {
     "name": "stderr",
     "output_type": "stream",
     "text": [
      "[Parallel(n_jobs=1)]: Done  97 tasks       | elapsed:   11.6s\n"
     ]
    },
    {
     "name": "stdout",
     "output_type": "stream",
     "text": [
      "building tree 98 of 100\n"
     ]
    },
    {
     "name": "stderr",
     "output_type": "stream",
     "text": [
      "[Parallel(n_jobs=1)]: Done  31 tasks       | elapsed:    0.4s\n"
     ]
    },
    {
     "name": "stdout",
     "output_type": "stream",
     "text": [
      "building tree 99 of 100\n",
      "building tree 99 of 100\n"
     ]
    },
    {
     "name": "stderr",
     "output_type": "stream",
     "text": [
      "[Parallel(n_jobs=1)]: Done  40 tasks       | elapsed:    0.5s\n"
     ]
    },
    {
     "name": "stdout",
     "output_type": "stream",
     "text": [
      "building tree 100 of 100\n",
      "building tree 100 of 100\n"
     ]
    },
    {
     "name": "stderr",
     "output_type": "stream",
     "text": [
      "[Parallel(n_jobs=1)]: Done  49 tasks       | elapsed:    0.6s\n",
      "[Parallel(n_jobs=1)]: Done 100 out of 100 | elapsed:   11.9s finished\n",
      "[Parallel(n_jobs=1)]: Done 100 out of 100 | elapsed:   12.0s finished\n",
      "[Parallel(n_jobs=1)]: Done   1 tasks       | elapsed:    0.0s\n",
      "[Parallel(n_jobs=1)]: Done  60 tasks       | elapsed:    0.7s\n",
      "[Parallel(n_jobs=1)]: Done   1 tasks       | elapsed:    0.0s\n",
      "[Parallel(n_jobs=1)]: Done   4 tasks       | elapsed:    0.1s\n",
      "[Parallel(n_jobs=1)]: Done   4 tasks       | elapsed:    0.1s\n",
      "[Parallel(n_jobs=1)]: Done   7 tasks       | elapsed:    0.1s\n",
      "[Parallel(n_jobs=1)]: Done   7 tasks       | elapsed:    0.1s\n",
      "[Parallel(n_jobs=1)]: Done  12 tasks       | elapsed:    0.1s\n",
      "[Parallel(n_jobs=1)]: Done  71 tasks       | elapsed:    0.8s\n",
      "[Parallel(n_jobs=1)]: Done  12 tasks       | elapsed:    0.1s\n",
      "[Parallel(n_jobs=1)]: Done  17 tasks       | elapsed:    0.2s\n",
      "[Parallel(n_jobs=1)]: Done  17 tasks       | elapsed:    0.2s\n",
      "[Parallel(n_jobs=1)]: Done  24 tasks       | elapsed:    0.3s\n",
      "[Parallel(n_jobs=1)]: Done  24 tasks       | elapsed:    0.3s\n",
      "[Parallel(n_jobs=1)]: Done  84 tasks       | elapsed:    1.0s\n",
      "[Parallel(n_jobs=1)]: Done  31 tasks       | elapsed:    0.3s\n",
      "[Parallel(n_jobs=1)]: Done  31 tasks       | elapsed:    0.3s\n",
      "[Parallel(n_jobs=1)]: Done  40 tasks       | elapsed:    0.4s\n",
      "[Parallel(n_jobs=1)]: Done  40 tasks       | elapsed:    0.4s\n",
      "[Parallel(n_jobs=1)]: Done  97 tasks       | elapsed:    1.1s\n",
      "[Parallel(n_jobs=1)]: Done 100 out of 100 | elapsed:    1.2s finished\n",
      "[Parallel(n_jobs=1)]: Done  49 tasks       | elapsed:    0.5s\n",
      "[Parallel(n_jobs=1)]: Done  49 tasks       | elapsed:    0.5s\n",
      "[Parallel(n_jobs=1)]: Done  60 tasks       | elapsed:    0.6s\n",
      "[Parallel(n_jobs=1)]: Done  60 tasks       | elapsed:    0.6s\n",
      "[Parallel(n_jobs=1)]: Done  71 tasks       | elapsed:    0.7s\n",
      "[Parallel(n_jobs=1)]: Done  71 tasks       | elapsed:    0.8s\n",
      "[Parallel(n_jobs=1)]: Done  84 tasks       | elapsed:    0.8s\n"
     ]
    },
    {
     "name": "stdout",
     "output_type": "stream",
     "text": [
      "building tree 1 of 100\n"
     ]
    },
    {
     "name": "stderr",
     "output_type": "stream",
     "text": [
      "[Parallel(n_jobs=1)]: Done  84 tasks       | elapsed:    0.9s\n",
      "[Parallel(n_jobs=1)]: Done  97 tasks       | elapsed:    1.0s\n",
      "[Parallel(n_jobs=1)]: Done 100 out of 100 | elapsed:    1.0s finished\n",
      "[Parallel(n_jobs=1)]: Done   1 tasks       | elapsed:    0.1s\n"
     ]
    },
    {
     "name": "stdout",
     "output_type": "stream",
     "text": [
      "building tree 2 of 100\n"
     ]
    },
    {
     "name": "stderr",
     "output_type": "stream",
     "text": [
      "[Parallel(n_jobs=1)]: Done  97 tasks       | elapsed:    1.0s\n",
      "[Parallel(n_jobs=1)]: Done 100 out of 100 | elapsed:    1.1s finished\n"
     ]
    },
    {
     "name": "stdout",
     "output_type": "stream",
     "text": [
      "building tree 3 of 100\n"
     ]
    },
    {
     "name": "stderr",
     "output_type": "stream",
     "text": [
      "[Parallel(n_jobs=3)]: Done  44 tasks      | elapsed:  4.1min\n"
     ]
    },
    {
     "name": "stdout",
     "output_type": "stream",
     "text": [
      "building tree 4 of 100\n"
     ]
    },
    {
     "name": "stderr",
     "output_type": "stream",
     "text": [
      "[Parallel(n_jobs=1)]: Done   4 tasks       | elapsed:    0.5s\n"
     ]
    },
    {
     "name": "stdout",
     "output_type": "stream",
     "text": [
      "building tree 5 of 100\n",
      "building tree 1 of 100\n",
      "building tree 6 of 100\n"
     ]
    },
    {
     "name": "stderr",
     "output_type": "stream",
     "text": [
      "[Parallel(n_jobs=1)]: Done   1 tasks       | elapsed:    0.1s\n"
     ]
    },
    {
     "name": "stdout",
     "output_type": "stream",
     "text": [
      "building tree 2 of 100\n",
      "building tree 1 of 100\n",
      "building tree 7 of 100\n"
     ]
    },
    {
     "name": "stderr",
     "output_type": "stream",
     "text": [
      "[Parallel(n_jobs=1)]: Done   1 tasks       | elapsed:    0.1s\n"
     ]
    },
    {
     "name": "stdout",
     "output_type": "stream",
     "text": [
      "building tree 2 of 100\n",
      "building tree 3 of 100\n"
     ]
    },
    {
     "name": "stderr",
     "output_type": "stream",
     "text": [
      "[Parallel(n_jobs=1)]: Done   7 tasks       | elapsed:    0.9s\n"
     ]
    },
    {
     "name": "stdout",
     "output_type": "stream",
     "text": [
      "building tree 8 of 100\n",
      "building tree 3 of 100\n",
      "building tree 4 of 100\n",
      "building tree 9 of 100\n",
      "building tree 4 of 100\n",
      "building tree 10 of 100\n"
     ]
    },
    {
     "name": "stderr",
     "output_type": "stream",
     "text": [
      "[Parallel(n_jobs=1)]: Done   4 tasks       | elapsed:    0.7s\n"
     ]
    },
    {
     "name": "stdout",
     "output_type": "stream",
     "text": [
      "building tree 5 of 100\n"
     ]
    },
    {
     "name": "stderr",
     "output_type": "stream",
     "text": [
      "[Parallel(n_jobs=1)]: Done   4 tasks       | elapsed:    0.5s\n"
     ]
    },
    {
     "name": "stdout",
     "output_type": "stream",
     "text": [
      "building tree 5 of 100\n",
      "building tree 11 of 100\n",
      "building tree 6 of 100\n",
      "building tree 12 of 100\n",
      "building tree 6 of 100\n",
      "building tree 7 of 100\n"
     ]
    },
    {
     "name": "stderr",
     "output_type": "stream",
     "text": [
      "[Parallel(n_jobs=1)]: Done  12 tasks       | elapsed:    1.5s\n"
     ]
    },
    {
     "name": "stdout",
     "output_type": "stream",
     "text": [
      "building tree 13 of 100\n",
      "building tree 7 of 100\n"
     ]
    },
    {
     "name": "stderr",
     "output_type": "stream",
     "text": [
      "[Parallel(n_jobs=1)]: Done   7 tasks       | elapsed:    1.1s\n"
     ]
    },
    {
     "name": "stdout",
     "output_type": "stream",
     "text": [
      "building tree 8 of 100\n",
      "building tree 14 of 100\n"
     ]
    },
    {
     "name": "stderr",
     "output_type": "stream",
     "text": [
      "[Parallel(n_jobs=1)]: Done   7 tasks       | elapsed:    1.0s\n"
     ]
    },
    {
     "name": "stdout",
     "output_type": "stream",
     "text": [
      "building tree 8 of 100\n",
      "building tree 15 of 100\n",
      "building tree 9 of 100\n",
      "building tree 9 of 100\n",
      "building tree 16 of 100\n",
      "building tree 10 of 100\n",
      "building tree 10 of 100\n",
      "building tree 17 of 100\n",
      "building tree 11 of 100\n"
     ]
    },
    {
     "name": "stderr",
     "output_type": "stream",
     "text": [
      "[Parallel(n_jobs=1)]: Done  17 tasks       | elapsed:    2.2s\n"
     ]
    },
    {
     "name": "stdout",
     "output_type": "stream",
     "text": [
      "building tree 18 of 100\n",
      "building tree 11 of 100\n",
      "building tree 12 of 100\n"
     ]
    },
    {
     "name": "stderr",
     "output_type": "stream",
     "text": [
      "[Parallel(n_jobs=1)]: Done  12 tasks       | elapsed:    1.8s\n"
     ]
    },
    {
     "name": "stdout",
     "output_type": "stream",
     "text": [
      "building tree 12 of 100\n",
      "building tree 13 of 100\n",
      "building tree 19 of 100\n"
     ]
    },
    {
     "name": "stderr",
     "output_type": "stream",
     "text": [
      "[Parallel(n_jobs=1)]: Done  12 tasks       | elapsed:    1.7s\n"
     ]
    },
    {
     "name": "stdout",
     "output_type": "stream",
     "text": [
      "building tree 13 of 100\n",
      "building tree 14 of 100\n",
      "building tree 20 of 100\n",
      "building tree 15 of 100\n",
      "building tree 14 of 100\n",
      "building tree 21 of 100\n",
      "building tree 15 of 100\n",
      "building tree 22 of 100\n",
      "building tree 16 of 100\n",
      "building tree 23 of 100\n",
      "building tree 16 of 100\n",
      "building tree 17 of 100\n",
      "building tree 17 of 100\n",
      "building tree 24 of 100\n"
     ]
    },
    {
     "name": "stderr",
     "output_type": "stream",
     "text": [
      "[Parallel(n_jobs=1)]: Done  17 tasks       | elapsed:    2.4s\n"
     ]
    },
    {
     "name": "stdout",
     "output_type": "stream",
     "text": [
      "building tree 18 of 100\n"
     ]
    },
    {
     "name": "stderr",
     "output_type": "stream",
     "text": [
      "[Parallel(n_jobs=1)]: Done  17 tasks       | elapsed:    2.6s\n"
     ]
    },
    {
     "name": "stdout",
     "output_type": "stream",
     "text": [
      "building tree 18 of 100\n"
     ]
    },
    {
     "name": "stderr",
     "output_type": "stream",
     "text": [
      "[Parallel(n_jobs=1)]: Done  24 tasks       | elapsed:    3.2s\n"
     ]
    },
    {
     "name": "stdout",
     "output_type": "stream",
     "text": [
      "building tree 25 of 100\n",
      "building tree 19 of 100\n",
      "building tree 26 of 100\n",
      "building tree 19 of 100\n",
      "building tree 20 of 100\n",
      "building tree 27 of 100\n",
      "building tree 20 of 100\n",
      "building tree 21 of 100\n",
      "building tree 21 of 100\n",
      "building tree 28 of 100\n",
      "building tree 22 of 100\n",
      "building tree 22 of 100\n",
      "building tree 29 of 100\n",
      "building tree 23 of 100\n",
      "building tree 23 of 100\n",
      "building tree 30 of 100\n",
      "building tree 24 of 100\n",
      "building tree 24 of 100\n",
      "building tree 31 of 100\n"
     ]
    },
    {
     "name": "stderr",
     "output_type": "stream",
     "text": [
      "[Parallel(n_jobs=1)]: Done  24 tasks       | elapsed:    3.5s\n"
     ]
    },
    {
     "name": "stdout",
     "output_type": "stream",
     "text": [
      "building tree 25 of 100\n"
     ]
    },
    {
     "name": "stderr",
     "output_type": "stream",
     "text": [
      "[Parallel(n_jobs=1)]: Done  24 tasks       | elapsed:    3.4s\n"
     ]
    },
    {
     "name": "stdout",
     "output_type": "stream",
     "text": [
      "building tree 25 of 100\n",
      "building tree 26 of 100\n"
     ]
    },
    {
     "name": "stderr",
     "output_type": "stream",
     "text": [
      "[Parallel(n_jobs=1)]: Done  31 tasks       | elapsed:    4.2s\n"
     ]
    },
    {
     "name": "stdout",
     "output_type": "stream",
     "text": [
      "building tree 32 of 100\n",
      "building tree 26 of 100\n",
      "building tree 27 of 100\n",
      "building tree 27 of 100\n",
      "building tree 33 of 100\n",
      "building tree 28 of 100\n",
      "building tree 34 of 100\n",
      "building tree 28 of 100\n",
      "building tree 29 of 100\n",
      "building tree 35 of 100\n",
      "building tree 29 of 100\n",
      "building tree 30 of 100\n",
      "building tree 36 of 100\n",
      "building tree 30 of 100\n",
      "building tree 31 of 100\n",
      "building tree 37 of 100\n",
      "building tree 31 of 100\n"
     ]
    },
    {
     "name": "stderr",
     "output_type": "stream",
     "text": [
      "[Parallel(n_jobs=1)]: Done  31 tasks       | elapsed:    4.3s\n"
     ]
    },
    {
     "name": "stdout",
     "output_type": "stream",
     "text": [
      "building tree 32 of 100\n",
      "building tree 38 of 100\n"
     ]
    },
    {
     "name": "stderr",
     "output_type": "stream",
     "text": [
      "[Parallel(n_jobs=1)]: Done  31 tasks       | elapsed:    4.6s\n"
     ]
    },
    {
     "name": "stdout",
     "output_type": "stream",
     "text": [
      "building tree 32 of 100\n",
      "building tree 33 of 100\n",
      "building tree 39 of 100\n",
      "building tree 34 of 100\n",
      "building tree 33 of 100\n",
      "building tree 40 of 100\n",
      "building tree 35 of 100\n",
      "building tree 34 of 100\n",
      "building tree 36 of 100\n"
     ]
    },
    {
     "name": "stderr",
     "output_type": "stream",
     "text": [
      "[Parallel(n_jobs=1)]: Done  40 tasks       | elapsed:    5.5s\n"
     ]
    },
    {
     "name": "stdout",
     "output_type": "stream",
     "text": [
      "building tree 41 of 100\n",
      "building tree 35 of 100\n",
      "building tree 37 of 100\n",
      "building tree 36 of 100\n",
      "building tree 42 of 100\n",
      "building tree 38 of 100\n",
      "building tree 37 of 100\n",
      "building tree 43 of 100\n",
      "building tree 39 of 100\n",
      "building tree 44 of 100\n",
      "building tree 38 of 100\n",
      "building tree 40 of 100\n",
      "building tree 39 of 100\n"
     ]
    },
    {
     "name": "stderr",
     "output_type": "stream",
     "text": [
      "[Parallel(n_jobs=1)]: Done  40 tasks       | elapsed:    5.4s\n"
     ]
    },
    {
     "name": "stdout",
     "output_type": "stream",
     "text": [
      "building tree 41 of 100\n",
      "building tree 45 of 100\n",
      "building tree 40 of 100\n",
      "building tree 42 of 100\n",
      "building tree 46 of 100\n",
      "building tree 43 of 100\n"
     ]
    },
    {
     "name": "stderr",
     "output_type": "stream",
     "text": [
      "[Parallel(n_jobs=1)]: Done  40 tasks       | elapsed:    5.8s\n"
     ]
    },
    {
     "name": "stdout",
     "output_type": "stream",
     "text": [
      "building tree 41 of 100\n",
      "building tree 47 of 100\n",
      "building tree 44 of 100\n",
      "building tree 42 of 100\n",
      "building tree 48 of 100\n",
      "building tree 45 of 100\n",
      "building tree 43 of 100\n",
      "building tree 49 of 100\n",
      "building tree 46 of 100\n",
      "building tree 44 of 100\n"
     ]
    },
    {
     "name": "stderr",
     "output_type": "stream",
     "text": [
      "[Parallel(n_jobs=1)]: Done  49 tasks       | elapsed:    6.8s\n"
     ]
    },
    {
     "name": "stdout",
     "output_type": "stream",
     "text": [
      "building tree 50 of 100\n",
      "building tree 47 of 100\n",
      "building tree 45 of 100\n",
      "building tree 51 of 100\n",
      "building tree 48 of 100\n",
      "building tree 46 of 100\n",
      "building tree 52 of 100\n",
      "building tree 49 of 100\n",
      "building tree 47 of 100\n"
     ]
    },
    {
     "name": "stderr",
     "output_type": "stream",
     "text": [
      "[Parallel(n_jobs=1)]: Done  49 tasks       | elapsed:    6.6s\n"
     ]
    },
    {
     "name": "stdout",
     "output_type": "stream",
     "text": [
      "building tree 50 of 100\n",
      "building tree 53 of 100\n",
      "building tree 48 of 100\n",
      "building tree 54 of 100\n",
      "building tree 51 of 100\n",
      "building tree 55 of 100\n",
      "building tree 49 of 100\n",
      "building tree 52 of 100\n",
      "building tree 56 of 100\n"
     ]
    },
    {
     "name": "stderr",
     "output_type": "stream",
     "text": [
      "[Parallel(n_jobs=1)]: Done  49 tasks       | elapsed:    7.1s\n"
     ]
    },
    {
     "name": "stdout",
     "output_type": "stream",
     "text": [
      "building tree 50 of 100\n",
      "building tree 53 of 100\n",
      "building tree 57 of 100\n",
      "building tree 51 of 100\n",
      "building tree 54 of 100\n",
      "building tree 52 of 100\n",
      "building tree 58 of 100\n",
      "building tree 53 of 100\n",
      "building tree 55 of 100\n",
      "building tree 59 of 100\n",
      "building tree 54 of 100\n",
      "building tree 56 of 100\n",
      "building tree 60 of 100\n",
      "building tree 55 of 100\n"
     ]
    },
    {
     "name": "stderr",
     "output_type": "stream",
     "text": [
      "[Parallel(n_jobs=1)]: Done  60 tasks       | elapsed:    8.3s\n"
     ]
    },
    {
     "name": "stdout",
     "output_type": "stream",
     "text": [
      "building tree 61 of 100\n",
      "building tree 57 of 100\n",
      "building tree 56 of 100\n",
      "building tree 62 of 100\n",
      "building tree 58 of 100\n",
      "building tree 57 of 100\n",
      "building tree 63 of 100\n",
      "building tree 59 of 100\n",
      "building tree 58 of 100\n",
      "building tree 60 of 100\n",
      "building tree 64 of 100\n",
      "building tree 59 of 100\n"
     ]
    },
    {
     "name": "stderr",
     "output_type": "stream",
     "text": [
      "[Parallel(n_jobs=1)]: Done  60 tasks       | elapsed:    8.2s\n"
     ]
    },
    {
     "name": "stdout",
     "output_type": "stream",
     "text": [
      "building tree 61 of 100\n",
      "building tree 60 of 100\n",
      "building tree 65 of 100\n",
      "building tree 62 of 100\n",
      "building tree 66 of 100\n"
     ]
    },
    {
     "name": "stderr",
     "output_type": "stream",
     "text": [
      "[Parallel(n_jobs=1)]: Done  60 tasks       | elapsed:    8.5s\n"
     ]
    },
    {
     "name": "stdout",
     "output_type": "stream",
     "text": [
      "building tree 61 of 100\n",
      "building tree 67 of 100\n",
      "building tree 63 of 100\n",
      "building tree 62 of 100\n",
      "building tree 68 of 100\n",
      "building tree 64 of 100\n",
      "building tree 63 of 100\n",
      "building tree 69 of 100\n",
      "building tree 65 of 100\n",
      "building tree 64 of 100\n",
      "building tree 70 of 100\n",
      "building tree 65 of 100\n",
      "building tree 66 of 100\n",
      "building tree 71 of 100\n",
      "building tree 66 of 100\n",
      "building tree 67 of 100\n"
     ]
    },
    {
     "name": "stderr",
     "output_type": "stream",
     "text": [
      "[Parallel(n_jobs=1)]: Done  71 tasks       | elapsed:    9.8s\n"
     ]
    },
    {
     "name": "stdout",
     "output_type": "stream",
     "text": [
      "building tree 72 of 100\n",
      "building tree 67 of 100\n",
      "building tree 73 of 100\n",
      "building tree 68 of 100\n",
      "building tree 68 of 100\n",
      "building tree 74 of 100\n",
      "building tree 69 of 100\n",
      "building tree 69 of 100\n",
      "building tree 75 of 100\n",
      "building tree 70 of 100\n",
      "building tree 70 of 100\n",
      "building tree 76 of 100\n",
      "building tree 71 of 100\n",
      "building tree 71 of 100\n",
      "building tree 77 of 100\n"
     ]
    },
    {
     "name": "stderr",
     "output_type": "stream",
     "text": [
      "[Parallel(n_jobs=1)]: Done  71 tasks       | elapsed:    9.8s\n"
     ]
    },
    {
     "name": "stdout",
     "output_type": "stream",
     "text": [
      "building tree 72 of 100\n",
      "building tree 78 of 100\n"
     ]
    },
    {
     "name": "stderr",
     "output_type": "stream",
     "text": [
      "[Parallel(n_jobs=1)]: Done  71 tasks       | elapsed:   10.1s\n"
     ]
    },
    {
     "name": "stdout",
     "output_type": "stream",
     "text": [
      "building tree 72 of 100\n",
      "building tree 73 of 100\n",
      "building tree 79 of 100\n",
      "building tree 73 of 100\n",
      "building tree 74 of 100\n",
      "building tree 80 of 100\n",
      "building tree 74 of 100\n",
      "building tree 81 of 100\n",
      "building tree 75 of 100\n",
      "building tree 75 of 100\n",
      "building tree 82 of 100\n",
      "building tree 76 of 100\n",
      "building tree 76 of 100\n",
      "building tree 83 of 100\n",
      "building tree 77 of 100\n",
      "building tree 77 of 100\n",
      "building tree 84 of 100\n",
      "building tree 78 of 100\n",
      "building tree 78 of 100\n"
     ]
    },
    {
     "name": "stderr",
     "output_type": "stream",
     "text": [
      "[Parallel(n_jobs=1)]: Done  84 tasks       | elapsed:   11.5s\n"
     ]
    },
    {
     "name": "stdout",
     "output_type": "stream",
     "text": [
      "building tree 85 of 100\n",
      "building tree 79 of 100\n",
      "building tree 79 of 100\n",
      "building tree 86 of 100\n",
      "building tree 80 of 100\n",
      "building tree 80 of 100\n",
      "building tree 87 of 100\n",
      "building tree 81 of 100\n",
      "building tree 81 of 100\n",
      "building tree 88 of 100\n",
      "building tree 82 of 100\n",
      "building tree 82 of 100\n",
      "building tree 89 of 100\n",
      "building tree 83 of 100\n",
      "building tree 83 of 100\n",
      "building tree 84 of 100\n",
      "building tree 90 of 100\n"
     ]
    },
    {
     "name": "stderr",
     "output_type": "stream",
     "text": [
      "[Parallel(n_jobs=1)]: Done  84 tasks       | elapsed:   11.8s\n"
     ]
    },
    {
     "name": "stdout",
     "output_type": "stream",
     "text": [
      "building tree 85 of 100\n",
      "building tree 84 of 100\n",
      "building tree 91 of 100\n",
      "building tree 86 of 100\n",
      "building tree 92 of 100\n"
     ]
    },
    {
     "name": "stderr",
     "output_type": "stream",
     "text": [
      "[Parallel(n_jobs=1)]: Done  84 tasks       | elapsed:   11.8s\n"
     ]
    },
    {
     "name": "stdout",
     "output_type": "stream",
     "text": [
      "building tree 85 of 100\n",
      "building tree 87 of 100\n",
      "building tree 93 of 100\n",
      "building tree 86 of 100\n",
      "building tree 88 of 100\n",
      "building tree 94 of 100\n",
      "building tree 89 of 100\n",
      "building tree 87 of 100\n",
      "building tree 95 of 100\n",
      "building tree 88 of 100\n",
      "building tree 90 of 100\n",
      "building tree 91 of 100\n",
      "building tree 96 of 100\n",
      "building tree 89 of 100\n",
      "building tree 92 of 100\n",
      "building tree 97 of 100\n",
      "building tree 90 of 100\n",
      "building tree 91 of 100\n",
      "building tree 93 of 100\n"
     ]
    },
    {
     "name": "stderr",
     "output_type": "stream",
     "text": [
      "[Parallel(n_jobs=1)]: Done  97 tasks       | elapsed:   13.4s\n"
     ]
    },
    {
     "name": "stdout",
     "output_type": "stream",
     "text": [
      "building tree 98 of 100\n",
      "building tree 99 of 100\n",
      "building tree 92 of 100\n",
      "building tree 94 of 100\n",
      "building tree 100 of 100\n",
      "building tree 93 of 100\n",
      "building tree 95 of 100\n"
     ]
    },
    {
     "name": "stderr",
     "output_type": "stream",
     "text": [
      "[Parallel(n_jobs=1)]: Done 100 out of 100 | elapsed:   13.8s finished\n",
      "[Parallel(n_jobs=1)]: Done   1 tasks       | elapsed:    0.0s\n"
     ]
    },
    {
     "name": "stdout",
     "output_type": "stream",
     "text": [
      "building tree 94 of 100\n"
     ]
    },
    {
     "name": "stderr",
     "output_type": "stream",
     "text": [
      "[Parallel(n_jobs=1)]: Done   4 tasks       | elapsed:    0.1s\n"
     ]
    },
    {
     "name": "stdout",
     "output_type": "stream",
     "text": [
      "building tree 96 of 100\n"
     ]
    },
    {
     "name": "stderr",
     "output_type": "stream",
     "text": [
      "[Parallel(n_jobs=1)]: Done   7 tasks       | elapsed:    0.1s\n",
      "[Parallel(n_jobs=1)]: Done  12 tasks       | elapsed:    0.2s\n"
     ]
    },
    {
     "name": "stdout",
     "output_type": "stream",
     "text": [
      "building tree 95 of 100\n",
      "building tree 97 of 100\n"
     ]
    },
    {
     "name": "stderr",
     "output_type": "stream",
     "text": [
      "[Parallel(n_jobs=1)]: Done  17 tasks       | elapsed:    0.2s\n",
      "[Parallel(n_jobs=1)]: Done  24 tasks       | elapsed:    0.3s\n"
     ]
    },
    {
     "name": "stdout",
     "output_type": "stream",
     "text": [
      "building tree 96 of 100\n"
     ]
    },
    {
     "name": "stderr",
     "output_type": "stream",
     "text": [
      "[Parallel(n_jobs=1)]: Done  97 tasks       | elapsed:   13.6s\n"
     ]
    },
    {
     "name": "stdout",
     "output_type": "stream",
     "text": [
      "building tree 98 of 100\n"
     ]
    },
    {
     "name": "stderr",
     "output_type": "stream",
     "text": [
      "[Parallel(n_jobs=1)]: Done  31 tasks       | elapsed:    0.4s\n"
     ]
    },
    {
     "name": "stdout",
     "output_type": "stream",
     "text": [
      "building tree 99 of 100\n"
     ]
    },
    {
     "name": "stderr",
     "output_type": "stream",
     "text": [
      "[Parallel(n_jobs=1)]: Done  40 tasks       | elapsed:    0.5s\n"
     ]
    },
    {
     "name": "stdout",
     "output_type": "stream",
     "text": [
      "building tree 97 of 100\n"
     ]
    },
    {
     "name": "stderr",
     "output_type": "stream",
     "text": [
      "[Parallel(n_jobs=1)]: Done  49 tasks       | elapsed:    0.6s\n"
     ]
    },
    {
     "name": "stdout",
     "output_type": "stream",
     "text": [
      "building tree 100 of 100\n"
     ]
    },
    {
     "name": "stderr",
     "output_type": "stream",
     "text": [
      "[Parallel(n_jobs=1)]: Done  60 tasks       | elapsed:    0.7s\n",
      "[Parallel(n_jobs=1)]: Done  97 tasks       | elapsed:   13.7s\n",
      "[Parallel(n_jobs=1)]: Done 100 out of 100 | elapsed:   13.9s finished\n"
     ]
    },
    {
     "name": "stdout",
     "output_type": "stream",
     "text": [
      "building tree 98 of 100\n"
     ]
    },
    {
     "name": "stderr",
     "output_type": "stream",
     "text": [
      "[Parallel(n_jobs=1)]: Done   1 tasks       | elapsed:    0.0s\n",
      "[Parallel(n_jobs=1)]: Done   4 tasks       | elapsed:    0.0s\n",
      "[Parallel(n_jobs=1)]: Done   7 tasks       | elapsed:    0.1s\n",
      "[Parallel(n_jobs=1)]: Done  71 tasks       | elapsed:    0.8s\n"
     ]
    },
    {
     "name": "stdout",
     "output_type": "stream",
     "text": [
      "building tree 99 of 100\n"
     ]
    },
    {
     "name": "stderr",
     "output_type": "stream",
     "text": [
      "[Parallel(n_jobs=1)]: Done  12 tasks       | elapsed:    0.1s\n",
      "[Parallel(n_jobs=1)]: Done  17 tasks       | elapsed:    0.2s\n"
     ]
    },
    {
     "name": "stdout",
     "output_type": "stream",
     "text": [
      "building tree 100 of 100\n"
     ]
    },
    {
     "name": "stderr",
     "output_type": "stream",
     "text": [
      "[Parallel(n_jobs=1)]: Done  84 tasks       | elapsed:    1.0s\n",
      "[Parallel(n_jobs=1)]: Done  24 tasks       | elapsed:    0.3s\n",
      "[Parallel(n_jobs=1)]: Done  31 tasks       | elapsed:    0.3s\n",
      "[Parallel(n_jobs=1)]: Done 100 out of 100 | elapsed:   14.1s finished\n",
      "[Parallel(n_jobs=1)]: Done   1 tasks       | elapsed:    0.0s\n",
      "[Parallel(n_jobs=1)]: Done  97 tasks       | elapsed:    1.1s\n",
      "[Parallel(n_jobs=1)]: Done 100 out of 100 | elapsed:    1.2s finished\n",
      "[Parallel(n_jobs=1)]: Done  40 tasks       | elapsed:    0.4s\n",
      "[Parallel(n_jobs=1)]: Done   4 tasks       | elapsed:    0.1s\n",
      "[Parallel(n_jobs=1)]: Done   7 tasks       | elapsed:    0.1s\n",
      "[Parallel(n_jobs=1)]: Done  49 tasks       | elapsed:    0.5s\n",
      "[Parallel(n_jobs=1)]: Done  12 tasks       | elapsed:    0.2s\n",
      "[Parallel(n_jobs=1)]: Done  60 tasks       | elapsed:    0.7s\n",
      "[Parallel(n_jobs=1)]: Done  17 tasks       | elapsed:    0.3s\n",
      "[Parallel(n_jobs=1)]: Done  24 tasks       | elapsed:    0.4s\n",
      "[Parallel(n_jobs=1)]: Done  71 tasks       | elapsed:    0.8s\n",
      "[Parallel(n_jobs=1)]: Done  31 tasks       | elapsed:    0.4s\n"
     ]
    },
    {
     "name": "stdout",
     "output_type": "stream",
     "text": [
      "building tree 1 of 100\n"
     ]
    },
    {
     "name": "stderr",
     "output_type": "stream",
     "text": [
      "[Parallel(n_jobs=1)]: Done  40 tasks       | elapsed:    0.6s\n",
      "[Parallel(n_jobs=1)]: Done   1 tasks       | elapsed:    0.1s\n",
      "[Parallel(n_jobs=1)]: Done  84 tasks       | elapsed:    1.0s\n"
     ]
    },
    {
     "name": "stdout",
     "output_type": "stream",
     "text": [
      "building tree 2 of 100\n"
     ]
    },
    {
     "name": "stderr",
     "output_type": "stream",
     "text": [
      "[Parallel(n_jobs=1)]: Done  49 tasks       | elapsed:    0.7s\n"
     ]
    },
    {
     "name": "stdout",
     "output_type": "stream",
     "text": [
      "building tree 3 of 100\n"
     ]
    },
    {
     "name": "stderr",
     "output_type": "stream",
     "text": [
      "[Parallel(n_jobs=1)]: Done  97 tasks       | elapsed:    1.1s\n",
      "[Parallel(n_jobs=1)]: Done 100 out of 100 | elapsed:    1.1s finished\n"
     ]
    },
    {
     "name": "stdout",
     "output_type": "stream",
     "text": [
      "building tree 4 of 100\n"
     ]
    },
    {
     "name": "stderr",
     "output_type": "stream",
     "text": [
      "[Parallel(n_jobs=1)]: Done  60 tasks       | elapsed:    0.8s\n",
      "[Parallel(n_jobs=1)]: Done   4 tasks       | elapsed:    0.5s\n"
     ]
    },
    {
     "name": "stdout",
     "output_type": "stream",
     "text": [
      "building tree 5 of 100\n"
     ]
    },
    {
     "name": "stderr",
     "output_type": "stream",
     "text": [
      "[Parallel(n_jobs=1)]: Done  71 tasks       | elapsed:    1.0s\n"
     ]
    },
    {
     "name": "stdout",
     "output_type": "stream",
     "text": [
      "building tree 6 of 100\n",
      "building tree 7 of 100\n"
     ]
    },
    {
     "name": "stderr",
     "output_type": "stream",
     "text": [
      "[Parallel(n_jobs=1)]: Done  84 tasks       | elapsed:    1.1s\n"
     ]
    },
    {
     "name": "stdout",
     "output_type": "stream",
     "text": [
      "building tree 1 of 100\n"
     ]
    },
    {
     "name": "stderr",
     "output_type": "stream",
     "text": [
      "[Parallel(n_jobs=1)]: Done   7 tasks       | elapsed:    0.8s\n"
     ]
    },
    {
     "name": "stdout",
     "output_type": "stream",
     "text": [
      "building tree 8 of 100\n"
     ]
    },
    {
     "name": "stderr",
     "output_type": "stream",
     "text": [
      "[Parallel(n_jobs=1)]: Done  97 tasks       | elapsed:    1.3s\n",
      "[Parallel(n_jobs=1)]: Done   1 tasks       | elapsed:    0.1s\n"
     ]
    },
    {
     "name": "stdout",
     "output_type": "stream",
     "text": [
      "building tree 2 of 100\n"
     ]
    },
    {
     "name": "stderr",
     "output_type": "stream",
     "text": [
      "[Parallel(n_jobs=1)]: Done 100 out of 100 | elapsed:    1.4s finished\n"
     ]
    },
    {
     "name": "stdout",
     "output_type": "stream",
     "text": [
      "building tree 9 of 100\n",
      "building tree 3 of 100\n",
      "building tree 10 of 100\n",
      "building tree 11 of 100\n",
      "building tree 4 of 100\n",
      "building tree 12 of 100\n"
     ]
    },
    {
     "name": "stderr",
     "output_type": "stream",
     "text": [
      "[Parallel(n_jobs=1)]: Done   4 tasks       | elapsed:    0.6s\n"
     ]
    },
    {
     "name": "stdout",
     "output_type": "stream",
     "text": [
      "building tree 5 of 100\n"
     ]
    },
    {
     "name": "stderr",
     "output_type": "stream",
     "text": [
      "[Parallel(n_jobs=1)]: Done  12 tasks       | elapsed:    1.4s\n"
     ]
    },
    {
     "name": "stdout",
     "output_type": "stream",
     "text": [
      "building tree 13 of 100\n",
      "building tree 1 of 100\n",
      "building tree 6 of 100\n",
      "building tree 14 of 100\n",
      "building tree 7 of 100\n"
     ]
    },
    {
     "name": "stderr",
     "output_type": "stream",
     "text": [
      "[Parallel(n_jobs=1)]: Done   1 tasks       | elapsed:    0.2s\n"
     ]
    },
    {
     "name": "stdout",
     "output_type": "stream",
     "text": [
      "building tree 2 of 100\n",
      "building tree 15 of 100\n"
     ]
    },
    {
     "name": "stderr",
     "output_type": "stream",
     "text": [
      "[Parallel(n_jobs=1)]: Done   7 tasks       | elapsed:    1.0s\n"
     ]
    },
    {
     "name": "stdout",
     "output_type": "stream",
     "text": [
      "building tree 8 of 100\n",
      "building tree 16 of 100\n",
      "building tree 3 of 100\n",
      "building tree 9 of 100\n",
      "building tree 17 of 100\n",
      "building tree 4 of 100\n",
      "building tree 10 of 100\n"
     ]
    },
    {
     "name": "stderr",
     "output_type": "stream",
     "text": [
      "[Parallel(n_jobs=1)]: Done  17 tasks       | elapsed:    2.0s\n"
     ]
    },
    {
     "name": "stdout",
     "output_type": "stream",
     "text": [
      "building tree 18 of 100\n"
     ]
    },
    {
     "name": "stderr",
     "output_type": "stream",
     "text": [
      "[Parallel(n_jobs=1)]: Done   4 tasks       | elapsed:    0.7s\n"
     ]
    },
    {
     "name": "stdout",
     "output_type": "stream",
     "text": [
      "building tree 5 of 100\n",
      "building tree 11 of 100\n",
      "building tree 19 of 100\n",
      "building tree 6 of 100\n",
      "building tree 12 of 100\n",
      "building tree 20 of 100\n",
      "building tree 7 of 100\n",
      "building tree 21 of 100\n"
     ]
    },
    {
     "name": "stderr",
     "output_type": "stream",
     "text": [
      "[Parallel(n_jobs=1)]: Done  12 tasks       | elapsed:    1.7s\n"
     ]
    },
    {
     "name": "stdout",
     "output_type": "stream",
     "text": [
      "building tree 13 of 100\n"
     ]
    },
    {
     "name": "stderr",
     "output_type": "stream",
     "text": [
      "[Parallel(n_jobs=1)]: Done   7 tasks       | elapsed:    1.1s\n"
     ]
    },
    {
     "name": "stdout",
     "output_type": "stream",
     "text": [
      "building tree 8 of 100\n",
      "building tree 22 of 100\n",
      "building tree 14 of 100\n",
      "building tree 9 of 100\n",
      "building tree 23 of 100\n",
      "building tree 15 of 100\n",
      "building tree 24 of 100\n",
      "building tree 10 of 100\n"
     ]
    },
    {
     "name": "stderr",
     "output_type": "stream",
     "text": [
      "[Parallel(n_jobs=1)]: Done  24 tasks       | elapsed:    2.8s\n"
     ]
    },
    {
     "name": "stdout",
     "output_type": "stream",
     "text": [
      "building tree 25 of 100\n",
      "building tree 16 of 100\n",
      "building tree 11 of 100\n",
      "building tree 26 of 100\n",
      "building tree 17 of 100\n",
      "building tree 12 of 100\n",
      "building tree 27 of 100\n"
     ]
    },
    {
     "name": "stderr",
     "output_type": "stream",
     "text": [
      "[Parallel(n_jobs=1)]: Done  17 tasks       | elapsed:    2.4s\n"
     ]
    },
    {
     "name": "stdout",
     "output_type": "stream",
     "text": [
      "building tree 18 of 100\n"
     ]
    },
    {
     "name": "stderr",
     "output_type": "stream",
     "text": [
      "[Parallel(n_jobs=1)]: Done  12 tasks       | elapsed:    1.8s\n"
     ]
    },
    {
     "name": "stdout",
     "output_type": "stream",
     "text": [
      "building tree 13 of 100\n",
      "building tree 28 of 100\n",
      "building tree 19 of 100\n",
      "building tree 29 of 100\n",
      "building tree 14 of 100\n",
      "building tree 20 of 100\n",
      "building tree 30 of 100\n",
      "building tree 15 of 100\n",
      "building tree 31 of 100\n",
      "building tree 21 of 100\n",
      "building tree 16 of 100\n",
      "building tree 22 of 100\n"
     ]
    },
    {
     "name": "stderr",
     "output_type": "stream",
     "text": [
      "[Parallel(n_jobs=1)]: Done  31 tasks       | elapsed:    3.7s\n"
     ]
    },
    {
     "name": "stdout",
     "output_type": "stream",
     "text": [
      "building tree 32 of 100\n",
      "building tree 17 of 100\n",
      "building tree 33 of 100\n",
      "building tree 23 of 100\n"
     ]
    },
    {
     "name": "stderr",
     "output_type": "stream",
     "text": [
      "[Parallel(n_jobs=1)]: Done  17 tasks       | elapsed:    2.5s\n"
     ]
    },
    {
     "name": "stdout",
     "output_type": "stream",
     "text": [
      "building tree 18 of 100\n",
      "building tree 34 of 100\n",
      "building tree 24 of 100\n",
      "building tree 35 of 100\n",
      "building tree 19 of 100\n"
     ]
    },
    {
     "name": "stderr",
     "output_type": "stream",
     "text": [
      "[Parallel(n_jobs=1)]: Done  24 tasks       | elapsed:    3.4s\n"
     ]
    },
    {
     "name": "stdout",
     "output_type": "stream",
     "text": [
      "building tree 25 of 100\n",
      "building tree 36 of 100\n",
      "building tree 20 of 100\n",
      "building tree 26 of 100\n",
      "building tree 37 of 100\n",
      "building tree 21 of 100\n",
      "building tree 38 of 100\n",
      "building tree 27 of 100\n",
      "building tree 22 of 100\n",
      "building tree 28 of 100\n",
      "building tree 39 of 100\n",
      "building tree 23 of 100\n",
      "building tree 29 of 100\n",
      "building tree 40 of 100\n",
      "building tree 30 of 100\n",
      "building tree 24 of 100\n"
     ]
    },
    {
     "name": "stderr",
     "output_type": "stream",
     "text": [
      "[Parallel(n_jobs=1)]: Done  40 tasks       | elapsed:    4.9s\n"
     ]
    },
    {
     "name": "stdout",
     "output_type": "stream",
     "text": [
      "building tree 41 of 100\n",
      "building tree 31 of 100\n"
     ]
    },
    {
     "name": "stderr",
     "output_type": "stream",
     "text": [
      "[Parallel(n_jobs=1)]: Done  24 tasks       | elapsed:    3.5s\n"
     ]
    },
    {
     "name": "stdout",
     "output_type": "stream",
     "text": [
      "building tree 25 of 100\n"
     ]
    },
    {
     "name": "stderr",
     "output_type": "stream",
     "text": [
      "[Parallel(n_jobs=1)]: Done  31 tasks       | elapsed:    4.3s\n"
     ]
    },
    {
     "name": "stdout",
     "output_type": "stream",
     "text": [
      "building tree 32 of 100\n",
      "building tree 42 of 100\n",
      "building tree 26 of 100\n",
      "building tree 43 of 100\n",
      "building tree 33 of 100\n",
      "building tree 27 of 100\n",
      "building tree 44 of 100\n",
      "building tree 34 of 100\n",
      "building tree 28 of 100\n",
      "building tree 45 of 100\n",
      "building tree 35 of 100\n",
      "building tree 29 of 100\n",
      "building tree 46 of 100\n",
      "building tree 36 of 100\n",
      "building tree 30 of 100\n",
      "building tree 47 of 100\n",
      "building tree 31 of 100\n",
      "building tree 37 of 100\n",
      "building tree 48 of 100\n",
      "building tree 38 of 100\n"
     ]
    },
    {
     "name": "stderr",
     "output_type": "stream",
     "text": [
      "[Parallel(n_jobs=1)]: Done  31 tasks       | elapsed:    4.5s\n"
     ]
    },
    {
     "name": "stdout",
     "output_type": "stream",
     "text": [
      "building tree 32 of 100\n",
      "building tree 49 of 100\n",
      "building tree 39 of 100\n",
      "building tree 33 of 100\n"
     ]
    },
    {
     "name": "stderr",
     "output_type": "stream",
     "text": [
      "[Parallel(n_jobs=1)]: Done  49 tasks       | elapsed:    6.0s\n"
     ]
    },
    {
     "name": "stdout",
     "output_type": "stream",
     "text": [
      "building tree 50 of 100\n",
      "building tree 34 of 100\n",
      "building tree 40 of 100\n",
      "building tree 51 of 100\n",
      "building tree 35 of 100\n",
      "building tree 52 of 100\n"
     ]
    },
    {
     "name": "stderr",
     "output_type": "stream",
     "text": [
      "[Parallel(n_jobs=1)]: Done  40 tasks       | elapsed:    5.6s\n"
     ]
    },
    {
     "name": "stdout",
     "output_type": "stream",
     "text": [
      "building tree 41 of 100\n",
      "building tree 36 of 100\n",
      "building tree 53 of 100\n",
      "building tree 42 of 100\n",
      "building tree 54 of 100\n",
      "building tree 37 of 100\n",
      "building tree 55 of 100\n",
      "building tree 43 of 100\n",
      "building tree 38 of 100\n",
      "building tree 56 of 100\n",
      "building tree 44 of 100\n",
      "building tree 39 of 100\n",
      "building tree 57 of 100\n",
      "building tree 40 of 100\n",
      "building tree 45 of 100\n",
      "building tree 58 of 100\n"
     ]
    },
    {
     "name": "stderr",
     "output_type": "stream",
     "text": [
      "[Parallel(n_jobs=1)]: Done  40 tasks       | elapsed:    5.7s\n"
     ]
    },
    {
     "name": "stdout",
     "output_type": "stream",
     "text": [
      "building tree 46 of 100\n",
      "building tree 41 of 100\n",
      "building tree 59 of 100\n",
      "building tree 42 of 100\n",
      "building tree 47 of 100\n",
      "building tree 60 of 100\n",
      "building tree 48 of 100\n",
      "building tree 43 of 100\n"
     ]
    },
    {
     "name": "stderr",
     "output_type": "stream",
     "text": [
      "[Parallel(n_jobs=1)]: Done  60 tasks       | elapsed:    7.4s\n"
     ]
    },
    {
     "name": "stdout",
     "output_type": "stream",
     "text": [
      "building tree 61 of 100\n",
      "building tree 62 of 100\n",
      "building tree 49 of 100\n",
      "building tree 44 of 100\n",
      "building tree 63 of 100\n"
     ]
    },
    {
     "name": "stderr",
     "output_type": "stream",
     "text": [
      "[Parallel(n_jobs=1)]: Done  49 tasks       | elapsed:    6.9s\n"
     ]
    },
    {
     "name": "stdout",
     "output_type": "stream",
     "text": [
      "building tree 50 of 100\n",
      "building tree 45 of 100\n",
      "building tree 64 of 100\n",
      "building tree 51 of 100\n",
      "building tree 46 of 100\n",
      "building tree 65 of 100\n",
      "building tree 52 of 100\n",
      "building tree 47 of 100\n",
      "building tree 66 of 100\n",
      "building tree 53 of 100\n",
      "building tree 48 of 100\n",
      "building tree 67 of 100\n",
      "building tree 49 of 100\n",
      "building tree 54 of 100\n"
     ]
    },
    {
     "name": "stderr",
     "output_type": "stream",
     "text": [
      "[Parallel(n_jobs=1)]: Done  49 tasks       | elapsed:    6.9s\n"
     ]
    },
    {
     "name": "stdout",
     "output_type": "stream",
     "text": [
      "building tree 50 of 100\n",
      "building tree 55 of 100\n",
      "building tree 68 of 100\n",
      "building tree 51 of 100\n",
      "building tree 69 of 100\n",
      "building tree 56 of 100\n",
      "building tree 52 of 100\n",
      "building tree 70 of 100\n",
      "building tree 57 of 100\n",
      "building tree 53 of 100\n",
      "building tree 71 of 100\n",
      "building tree 58 of 100\n",
      "building tree 54 of 100\n"
     ]
    },
    {
     "name": "stderr",
     "output_type": "stream",
     "text": [
      "[Parallel(n_jobs=1)]: Done  71 tasks       | elapsed:    8.9s\n"
     ]
    },
    {
     "name": "stdout",
     "output_type": "stream",
     "text": [
      "building tree 72 of 100\n",
      "building tree 59 of 100\n",
      "building tree 55 of 100\n",
      "building tree 60 of 100\n",
      "building tree 73 of 100\n",
      "building tree 56 of 100\n",
      "building tree 57 of 100\n"
     ]
    },
    {
     "name": "stderr",
     "output_type": "stream",
     "text": [
      "[Parallel(n_jobs=1)]: Done  60 tasks       | elapsed:    8.5s\n"
     ]
    },
    {
     "name": "stdout",
     "output_type": "stream",
     "text": [
      "building tree 61 of 100\n",
      "building tree 74 of 100\n",
      "building tree 58 of 100\n",
      "building tree 62 of 100\n",
      "building tree 75 of 100\n",
      "building tree 59 of 100\n",
      "building tree 63 of 100\n",
      "building tree 76 of 100\n",
      "building tree 60 of 100\n",
      "building tree 64 of 100\n",
      "building tree 77 of 100\n"
     ]
    },
    {
     "name": "stderr",
     "output_type": "stream",
     "text": [
      "[Parallel(n_jobs=1)]: Done  60 tasks       | elapsed:    8.3s\n"
     ]
    },
    {
     "name": "stdout",
     "output_type": "stream",
     "text": [
      "building tree 61 of 100\n",
      "building tree 65 of 100\n",
      "building tree 78 of 100\n",
      "building tree 62 of 100\n",
      "building tree 66 of 100\n",
      "building tree 79 of 100\n",
      "building tree 63 of 100\n",
      "building tree 80 of 100\n",
      "building tree 67 of 100\n",
      "building tree 81 of 100\n",
      "building tree 64 of 100\n",
      "building tree 68 of 100\n",
      "building tree 82 of 100\n",
      "building tree 65 of 100\n",
      "building tree 69 of 100\n",
      "building tree 83 of 100\n",
      "building tree 66 of 100\n",
      "building tree 70 of 100\n",
      "building tree 84 of 100\n",
      "building tree 67 of 100\n",
      "building tree 71 of 100\n"
     ]
    },
    {
     "name": "stderr",
     "output_type": "stream",
     "text": [
      "[Parallel(n_jobs=1)]: Done  84 tasks       | elapsed:   10.6s\n"
     ]
    },
    {
     "name": "stdout",
     "output_type": "stream",
     "text": [
      "building tree 85 of 100\n",
      "building tree 68 of 100\n"
     ]
    },
    {
     "name": "stderr",
     "output_type": "stream",
     "text": [
      "[Parallel(n_jobs=1)]: Done  71 tasks       | elapsed:   10.0s\n"
     ]
    },
    {
     "name": "stdout",
     "output_type": "stream",
     "text": [
      "building tree 72 of 100\n",
      "building tree 86 of 100\n",
      "building tree 69 of 100\n",
      "building tree 73 of 100\n",
      "building tree 87 of 100\n",
      "building tree 70 of 100\n",
      "building tree 88 of 100\n",
      "building tree 74 of 100\n",
      "building tree 71 of 100\n",
      "building tree 89 of 100\n",
      "building tree 75 of 100\n"
     ]
    },
    {
     "name": "stderr",
     "output_type": "stream",
     "text": [
      "[Parallel(n_jobs=1)]: Done  71 tasks       | elapsed:    9.8s\n"
     ]
    },
    {
     "name": "stdout",
     "output_type": "stream",
     "text": [
      "building tree 72 of 100\n",
      "building tree 90 of 100\n",
      "building tree 76 of 100\n",
      "building tree 73 of 100\n",
      "building tree 91 of 100\n",
      "building tree 77 of 100\n",
      "building tree 74 of 100\n",
      "building tree 92 of 100\n",
      "building tree 93 of 100\n",
      "building tree 78 of 100\n",
      "building tree 75 of 100\n",
      "building tree 94 of 100\n",
      "building tree 79 of 100\n",
      "building tree 76 of 100\n",
      "building tree 95 of 100\n",
      "building tree 77 of 100\n",
      "building tree 80 of 100\n",
      "building tree 96 of 100\n",
      "building tree 78 of 100\n",
      "building tree 81 of 100\n",
      "building tree 97 of 100\n",
      "building tree 82 of 100\n",
      "building tree 79 of 100\n"
     ]
    },
    {
     "name": "stderr",
     "output_type": "stream",
     "text": [
      "[Parallel(n_jobs=1)]: Done  97 tasks       | elapsed:   12.3s\n"
     ]
    },
    {
     "name": "stdout",
     "output_type": "stream",
     "text": [
      "building tree 98 of 100\n",
      "building tree 80 of 100\n",
      "building tree 83 of 100\n",
      "building tree 99 of 100\n",
      "building tree 81 of 100\n",
      "building tree 84 of 100\n",
      "building tree 100 of 100\n",
      "building tree 82 of 100\n"
     ]
    },
    {
     "name": "stderr",
     "output_type": "stream",
     "text": [
      "[Parallel(n_jobs=1)]: Done  84 tasks       | elapsed:   11.9s\n"
     ]
    },
    {
     "name": "stdout",
     "output_type": "stream",
     "text": [
      "building tree 85 of 100\n"
     ]
    },
    {
     "name": "stderr",
     "output_type": "stream",
     "text": [
      "[Parallel(n_jobs=1)]: Done 100 out of 100 | elapsed:   12.6s finished\n",
      "[Parallel(n_jobs=1)]: Done   1 tasks       | elapsed:    0.0s\n",
      "[Parallel(n_jobs=1)]: Done   4 tasks       | elapsed:    0.1s\n"
     ]
    },
    {
     "name": "stdout",
     "output_type": "stream",
     "text": [
      "building tree 83 of 100\n",
      "building tree 86 of 100\n"
     ]
    },
    {
     "name": "stderr",
     "output_type": "stream",
     "text": [
      "[Parallel(n_jobs=1)]: Done   7 tasks       | elapsed:    0.1s\n",
      "[Parallel(n_jobs=1)]: Done  12 tasks       | elapsed:    0.2s\n",
      "[Parallel(n_jobs=1)]: Done  17 tasks       | elapsed:    0.2s\n"
     ]
    },
    {
     "name": "stdout",
     "output_type": "stream",
     "text": [
      "building tree 87 of 100\n",
      "building tree 84 of 100\n"
     ]
    },
    {
     "name": "stderr",
     "output_type": "stream",
     "text": [
      "[Parallel(n_jobs=1)]: Done  24 tasks       | elapsed:    0.3s\n"
     ]
    },
    {
     "name": "stdout",
     "output_type": "stream",
     "text": [
      "building tree 88 of 100\n"
     ]
    },
    {
     "name": "stderr",
     "output_type": "stream",
     "text": [
      "[Parallel(n_jobs=1)]: Done  84 tasks       | elapsed:   11.7s\n"
     ]
    },
    {
     "name": "stdout",
     "output_type": "stream",
     "text": [
      "building tree 85 of 100\n"
     ]
    },
    {
     "name": "stderr",
     "output_type": "stream",
     "text": [
      "[Parallel(n_jobs=1)]: Done  31 tasks       | elapsed:    0.4s\n"
     ]
    },
    {
     "name": "stdout",
     "output_type": "stream",
     "text": [
      "building tree 89 of 100\n"
     ]
    },
    {
     "name": "stderr",
     "output_type": "stream",
     "text": [
      "[Parallel(n_jobs=1)]: Done  40 tasks       | elapsed:    0.5s\n"
     ]
    },
    {
     "name": "stdout",
     "output_type": "stream",
     "text": [
      "building tree 86 of 100\n",
      "building tree 87 of 100\n"
     ]
    },
    {
     "name": "stderr",
     "output_type": "stream",
     "text": [
      "[Parallel(n_jobs=1)]: Done  49 tasks       | elapsed:    0.6s\n"
     ]
    },
    {
     "name": "stdout",
     "output_type": "stream",
     "text": [
      "building tree 90 of 100\n",
      "building tree 88 of 100\n",
      "building tree 91 of 100\n"
     ]
    },
    {
     "name": "stderr",
     "output_type": "stream",
     "text": [
      "[Parallel(n_jobs=1)]: Done  60 tasks       | elapsed:    0.8s\n"
     ]
    },
    {
     "name": "stdout",
     "output_type": "stream",
     "text": [
      "building tree 89 of 100\n"
     ]
    },
    {
     "name": "stderr",
     "output_type": "stream",
     "text": [
      "[Parallel(n_jobs=1)]: Done  71 tasks       | elapsed:    0.9s\n"
     ]
    },
    {
     "name": "stdout",
     "output_type": "stream",
     "text": [
      "building tree 92 of 100\n",
      "building tree 90 of 100\n"
     ]
    },
    {
     "name": "stderr",
     "output_type": "stream",
     "text": [
      "[Parallel(n_jobs=1)]: Done  84 tasks       | elapsed:    1.0s\n"
     ]
    },
    {
     "name": "stdout",
     "output_type": "stream",
     "text": [
      "building tree 93 of 100\n",
      "building tree 91 of 100\n",
      "building tree 92 of 100\n"
     ]
    },
    {
     "name": "stderr",
     "output_type": "stream",
     "text": [
      "[Parallel(n_jobs=1)]: Done  97 tasks       | elapsed:    1.2s\n"
     ]
    },
    {
     "name": "stdout",
     "output_type": "stream",
     "text": [
      "building tree 94 of 100\n"
     ]
    },
    {
     "name": "stderr",
     "output_type": "stream",
     "text": [
      "[Parallel(n_jobs=1)]: Done 100 out of 100 | elapsed:    1.2s finished\n"
     ]
    },
    {
     "name": "stdout",
     "output_type": "stream",
     "text": [
      "building tree 93 of 100\n",
      "building tree 95 of 100\n",
      "building tree 94 of 100\n",
      "building tree 96 of 100\n",
      "building tree 95 of 100\n",
      "building tree 97 of 100\n",
      "building tree 1 of 100\n",
      "building tree 96 of 100\n"
     ]
    },
    {
     "name": "stderr",
     "output_type": "stream",
     "text": [
      "[Parallel(n_jobs=1)]: Done  97 tasks       | elapsed:   13.7s\n"
     ]
    },
    {
     "name": "stdout",
     "output_type": "stream",
     "text": [
      "building tree 98 of 100\n"
     ]
    },
    {
     "name": "stderr",
     "output_type": "stream",
     "text": [
      "[Parallel(n_jobs=1)]: Done   1 tasks       | elapsed:    0.2s\n"
     ]
    },
    {
     "name": "stdout",
     "output_type": "stream",
     "text": [
      "building tree 2 of 100\n",
      "building tree 97 of 100\n",
      "building tree 3 of 100\n",
      "building tree 99 of 100\n"
     ]
    },
    {
     "name": "stderr",
     "output_type": "stream",
     "text": [
      "[Parallel(n_jobs=1)]: Done  97 tasks       | elapsed:   13.3s\n"
     ]
    },
    {
     "name": "stdout",
     "output_type": "stream",
     "text": [
      "building tree 98 of 100\n",
      "building tree 4 of 100\n",
      "building tree 100 of 100\n",
      "building tree 99 of 100\n"
     ]
    },
    {
     "name": "stderr",
     "output_type": "stream",
     "text": [
      "[Parallel(n_jobs=1)]: Done   4 tasks       | elapsed:    0.6s\n"
     ]
    },
    {
     "name": "stdout",
     "output_type": "stream",
     "text": [
      "building tree 5 of 100\n",
      "building tree 100 of 100\n"
     ]
    },
    {
     "name": "stderr",
     "output_type": "stream",
     "text": [
      "[Parallel(n_jobs=1)]: Done 100 out of 100 | elapsed:   14.2s finished\n",
      "[Parallel(n_jobs=1)]: Done   1 tasks       | elapsed:    0.0s\n"
     ]
    },
    {
     "name": "stdout",
     "output_type": "stream",
     "text": [
      "building tree 6 of 100\n"
     ]
    },
    {
     "name": "stderr",
     "output_type": "stream",
     "text": [
      "[Parallel(n_jobs=1)]: Done   4 tasks       | elapsed:    0.1s\n",
      "[Parallel(n_jobs=1)]: Done   7 tasks       | elapsed:    0.1s\n",
      "[Parallel(n_jobs=1)]: Done 100 out of 100 | elapsed:   13.7s finished\n",
      "[Parallel(n_jobs=1)]: Done  12 tasks       | elapsed:    0.2s\n",
      "[Parallel(n_jobs=1)]: Done   1 tasks       | elapsed:    0.0s\n"
     ]
    },
    {
     "name": "stdout",
     "output_type": "stream",
     "text": [
      "building tree 7 of 100\n"
     ]
    },
    {
     "name": "stderr",
     "output_type": "stream",
     "text": [
      "[Parallel(n_jobs=1)]: Done   4 tasks       | elapsed:    0.1s\n",
      "[Parallel(n_jobs=1)]: Done  17 tasks       | elapsed:    0.2s\n",
      "[Parallel(n_jobs=1)]: Done   7 tasks       | elapsed:    0.1s\n",
      "[Parallel(n_jobs=1)]: Done  24 tasks       | elapsed:    0.3s\n",
      "[Parallel(n_jobs=1)]: Done  12 tasks       | elapsed:    0.1s\n",
      "[Parallel(n_jobs=1)]: Done   7 tasks       | elapsed:    1.0s\n"
     ]
    },
    {
     "name": "stdout",
     "output_type": "stream",
     "text": [
      "building tree 8 of 100\n"
     ]
    },
    {
     "name": "stderr",
     "output_type": "stream",
     "text": [
      "[Parallel(n_jobs=1)]: Done  17 tasks       | elapsed:    0.2s\n",
      "[Parallel(n_jobs=1)]: Done  31 tasks       | elapsed:    0.4s\n",
      "[Parallel(n_jobs=1)]: Done  24 tasks       | elapsed:    0.3s\n",
      "[Parallel(n_jobs=1)]: Done  40 tasks       | elapsed:    0.5s\n"
     ]
    },
    {
     "name": "stdout",
     "output_type": "stream",
     "text": [
      "building tree 9 of 100\n"
     ]
    },
    {
     "name": "stderr",
     "output_type": "stream",
     "text": [
      "[Parallel(n_jobs=1)]: Done  31 tasks       | elapsed:    0.4s\n",
      "[Parallel(n_jobs=1)]: Done  49 tasks       | elapsed:    0.6s\n"
     ]
    },
    {
     "name": "stdout",
     "output_type": "stream",
     "text": [
      "building tree 10 of 100\n"
     ]
    },
    {
     "name": "stderr",
     "output_type": "stream",
     "text": [
      "[Parallel(n_jobs=1)]: Done  40 tasks       | elapsed:    0.5s\n",
      "[Parallel(n_jobs=1)]: Done  60 tasks       | elapsed:    0.7s\n",
      "[Parallel(n_jobs=1)]: Done  49 tasks       | elapsed:    0.6s\n"
     ]
    },
    {
     "name": "stdout",
     "output_type": "stream",
     "text": [
      "building tree 11 of 100\n"
     ]
    },
    {
     "name": "stderr",
     "output_type": "stream",
     "text": [
      "[Parallel(n_jobs=1)]: Done  71 tasks       | elapsed:    0.8s\n"
     ]
    },
    {
     "name": "stdout",
     "output_type": "stream",
     "text": [
      "building tree 12 of 100\n"
     ]
    },
    {
     "name": "stderr",
     "output_type": "stream",
     "text": [
      "[Parallel(n_jobs=1)]: Done  60 tasks       | elapsed:    0.7s\n",
      "[Parallel(n_jobs=1)]: Done  12 tasks       | elapsed:    1.6s\n"
     ]
    },
    {
     "name": "stdout",
     "output_type": "stream",
     "text": [
      "building tree 13 of 100\n"
     ]
    },
    {
     "name": "stderr",
     "output_type": "stream",
     "text": [
      "[Parallel(n_jobs=1)]: Done  71 tasks       | elapsed:    0.8s\n",
      "[Parallel(n_jobs=1)]: Done  84 tasks       | elapsed:    1.0s\n"
     ]
    },
    {
     "name": "stdout",
     "output_type": "stream",
     "text": [
      "building tree 14 of 100\n"
     ]
    },
    {
     "name": "stderr",
     "output_type": "stream",
     "text": [
      "[Parallel(n_jobs=1)]: Done  97 tasks       | elapsed:    1.1s\n",
      "[Parallel(n_jobs=1)]: Done  84 tasks       | elapsed:    1.0s\n"
     ]
    },
    {
     "name": "stdout",
     "output_type": "stream",
     "text": [
      "building tree 15 of 100\n"
     ]
    },
    {
     "name": "stderr",
     "output_type": "stream",
     "text": [
      "[Parallel(n_jobs=1)]: Done 100 out of 100 | elapsed:    1.2s finished\n"
     ]
    },
    {
     "name": "stdout",
     "output_type": "stream",
     "text": [
      "building tree 16 of 100\n"
     ]
    },
    {
     "name": "stderr",
     "output_type": "stream",
     "text": [
      "[Parallel(n_jobs=1)]: Done  97 tasks       | elapsed:    1.2s\n",
      "[Parallel(n_jobs=1)]: Done 100 out of 100 | elapsed:    1.2s finished\n"
     ]
    },
    {
     "name": "stdout",
     "output_type": "stream",
     "text": [
      "building tree 17 of 100\n"
     ]
    },
    {
     "name": "stderr",
     "output_type": "stream",
     "text": [
      "[Parallel(n_jobs=1)]: Done  17 tasks       | elapsed:    2.3s\n"
     ]
    },
    {
     "name": "stdout",
     "output_type": "stream",
     "text": [
      "building tree 18 of 100\n",
      "building tree 1 of 100\n",
      "building tree 19 of 100\n"
     ]
    },
    {
     "name": "stderr",
     "output_type": "stream",
     "text": [
      "[Parallel(n_jobs=1)]: Done   1 tasks       | elapsed:    0.1s\n"
     ]
    },
    {
     "name": "stdout",
     "output_type": "stream",
     "text": [
      "building tree 2 of 100\n",
      "building tree 1 of 100\n",
      "building tree 20 of 100\n",
      "building tree 3 of 100\n"
     ]
    },
    {
     "name": "stderr",
     "output_type": "stream",
     "text": [
      "[Parallel(n_jobs=1)]: Done   1 tasks       | elapsed:    0.1s\n"
     ]
    },
    {
     "name": "stdout",
     "output_type": "stream",
     "text": [
      "building tree 2 of 100\n",
      "building tree 4 of 100\n",
      "building tree 21 of 100\n",
      "building tree 3 of 100\n"
     ]
    },
    {
     "name": "stderr",
     "output_type": "stream",
     "text": [
      "[Parallel(n_jobs=1)]: Done   4 tasks       | elapsed:    0.5s\n"
     ]
    },
    {
     "name": "stdout",
     "output_type": "stream",
     "text": [
      "building tree 5 of 100\n",
      "building tree 22 of 100\n",
      "building tree 4 of 100\n",
      "building tree 6 of 100\n",
      "building tree 23 of 100\n",
      "building tree 7 of 100\n"
     ]
    },
    {
     "name": "stderr",
     "output_type": "stream",
     "text": [
      "[Parallel(n_jobs=1)]: Done   4 tasks       | elapsed:    0.6s\n"
     ]
    },
    {
     "name": "stdout",
     "output_type": "stream",
     "text": [
      "building tree 5 of 100\n",
      "building tree 24 of 100\n"
     ]
    },
    {
     "name": "stderr",
     "output_type": "stream",
     "text": [
      "[Parallel(n_jobs=1)]: Done   7 tasks       | elapsed:    1.0s\n"
     ]
    },
    {
     "name": "stdout",
     "output_type": "stream",
     "text": [
      "building tree 8 of 100\n"
     ]
    },
    {
     "name": "stderr",
     "output_type": "stream",
     "text": [
      "[Parallel(n_jobs=1)]: Done  24 tasks       | elapsed:    3.3s\n"
     ]
    },
    {
     "name": "stdout",
     "output_type": "stream",
     "text": [
      "building tree 25 of 100\n",
      "building tree 6 of 100\n",
      "building tree 9 of 100\n",
      "building tree 26 of 100\n",
      "building tree 7 of 100\n",
      "building tree 10 of 100\n",
      "building tree 27 of 100\n"
     ]
    },
    {
     "name": "stderr",
     "output_type": "stream",
     "text": [
      "[Parallel(n_jobs=1)]: Done   7 tasks       | elapsed:    1.2s\n"
     ]
    },
    {
     "name": "stdout",
     "output_type": "stream",
     "text": [
      "building tree 8 of 100\n",
      "building tree 11 of 100\n",
      "building tree 28 of 100\n",
      "building tree 9 of 100\n",
      "building tree 12 of 100\n",
      "building tree 29 of 100\n"
     ]
    },
    {
     "name": "stderr",
     "output_type": "stream",
     "text": [
      "[Parallel(n_jobs=1)]: Done  12 tasks       | elapsed:    1.8s\n"
     ]
    },
    {
     "name": "stdout",
     "output_type": "stream",
     "text": [
      "building tree 13 of 100\n",
      "building tree 10 of 100\n",
      "building tree 30 of 100\n",
      "building tree 14 of 100\n",
      "building tree 11 of 100\n",
      "building tree 31 of 100\n",
      "building tree 15 of 100\n",
      "building tree 12 of 100\n"
     ]
    },
    {
     "name": "stderr",
     "output_type": "stream",
     "text": [
      "[Parallel(n_jobs=1)]: Done  31 tasks       | elapsed:    4.6s\n"
     ]
    },
    {
     "name": "stdout",
     "output_type": "stream",
     "text": [
      "building tree 32 of 100\n",
      "building tree 16 of 100\n"
     ]
    },
    {
     "name": "stderr",
     "output_type": "stream",
     "text": [
      "[Parallel(n_jobs=1)]: Done  12 tasks       | elapsed:    2.1s\n"
     ]
    },
    {
     "name": "stdout",
     "output_type": "stream",
     "text": [
      "building tree 13 of 100\n",
      "building tree 17 of 100\n",
      "building tree 33 of 100\n",
      "building tree 14 of 100\n"
     ]
    },
    {
     "name": "stderr",
     "output_type": "stream",
     "text": [
      "[Parallel(n_jobs=1)]: Done  17 tasks       | elapsed:    2.6s\n"
     ]
    },
    {
     "name": "stdout",
     "output_type": "stream",
     "text": [
      "building tree 18 of 100\n",
      "building tree 15 of 100\n",
      "building tree 34 of 100\n",
      "building tree 19 of 100\n",
      "building tree 16 of 100\n",
      "building tree 35 of 100\n",
      "building tree 20 of 100\n",
      "building tree 17 of 100\n",
      "building tree 36 of 100\n"
     ]
    },
    {
     "name": "stderr",
     "output_type": "stream",
     "text": [
      "[Parallel(n_jobs=1)]: Done  17 tasks       | elapsed:    2.9s\n"
     ]
    },
    {
     "name": "stdout",
     "output_type": "stream",
     "text": [
      "building tree 18 of 100\n",
      "building tree 21 of 100\n",
      "building tree 37 of 100\n",
      "building tree 19 of 100\n",
      "building tree 22 of 100\n",
      "building tree 38 of 100\n",
      "building tree 20 of 100\n",
      "building tree 23 of 100\n",
      "building tree 39 of 100\n",
      "building tree 21 of 100\n",
      "building tree 24 of 100\n",
      "building tree 40 of 100\n",
      "building tree 22 of 100\n"
     ]
    },
    {
     "name": "stderr",
     "output_type": "stream",
     "text": [
      "[Parallel(n_jobs=1)]: Done  24 tasks       | elapsed:    3.7s\n"
     ]
    },
    {
     "name": "stdout",
     "output_type": "stream",
     "text": [
      "building tree 25 of 100\n"
     ]
    },
    {
     "name": "stderr",
     "output_type": "stream",
     "text": [
      "[Parallel(n_jobs=1)]: Done  40 tasks       | elapsed:    6.0s\n"
     ]
    },
    {
     "name": "stdout",
     "output_type": "stream",
     "text": [
      "building tree 41 of 100\n",
      "building tree 23 of 100\n",
      "building tree 26 of 100\n",
      "building tree 42 of 100\n",
      "building tree 24 of 100\n",
      "building tree 43 of 100\n",
      "building tree 27 of 100\n"
     ]
    },
    {
     "name": "stderr",
     "output_type": "stream",
     "text": [
      "[Parallel(n_jobs=1)]: Done  24 tasks       | elapsed:    3.8s\n"
     ]
    },
    {
     "name": "stdout",
     "output_type": "stream",
     "text": [
      "building tree 25 of 100\n",
      "building tree 44 of 100\n",
      "building tree 28 of 100\n",
      "building tree 26 of 100\n",
      "building tree 45 of 100\n",
      "building tree 29 of 100\n",
      "building tree 27 of 100\n",
      "building tree 30 of 100\n",
      "building tree 46 of 100\n",
      "building tree 28 of 100\n",
      "building tree 31 of 100\n",
      "building tree 47 of 100\n",
      "building tree 29 of 100\n"
     ]
    },
    {
     "name": "stderr",
     "output_type": "stream",
     "text": [
      "[Parallel(n_jobs=1)]: Done  31 tasks       | elapsed:    4.8s\n"
     ]
    },
    {
     "name": "stdout",
     "output_type": "stream",
     "text": [
      "building tree 32 of 100\n",
      "building tree 30 of 100\n",
      "building tree 48 of 100\n",
      "building tree 33 of 100\n",
      "building tree 49 of 100\n",
      "building tree 31 of 100\n"
     ]
    },
    {
     "name": "stderr",
     "output_type": "stream",
     "text": [
      "[Parallel(n_jobs=1)]: Done  49 tasks       | elapsed:    7.3s\n"
     ]
    },
    {
     "name": "stdout",
     "output_type": "stream",
     "text": [
      "building tree 50 of 100\n"
     ]
    },
    {
     "name": "stderr",
     "output_type": "stream",
     "text": [
      "[Parallel(n_jobs=1)]: Done  31 tasks       | elapsed:    4.9s\n"
     ]
    },
    {
     "name": "stdout",
     "output_type": "stream",
     "text": [
      "building tree 32 of 100\n",
      "building tree 34 of 100\n",
      "building tree 51 of 100\n",
      "building tree 33 of 100\n",
      "building tree 35 of 100\n",
      "building tree 34 of 100\n",
      "building tree 52 of 100\n",
      "building tree 36 of 100\n",
      "building tree 35 of 100\n",
      "building tree 53 of 100\n",
      "building tree 36 of 100\n",
      "building tree 37 of 100\n",
      "building tree 54 of 100\n",
      "building tree 37 of 100\n",
      "building tree 38 of 100\n",
      "building tree 55 of 100\n",
      "building tree 38 of 100\n",
      "building tree 39 of 100\n",
      "building tree 56 of 100\n",
      "building tree 39 of 100\n",
      "building tree 57 of 100\n",
      "building tree 40 of 100\n",
      "building tree 40 of 100\n",
      "building tree 58 of 100\n"
     ]
    },
    {
     "name": "stderr",
     "output_type": "stream",
     "text": [
      "[Parallel(n_jobs=1)]: Done  40 tasks       | elapsed:    6.2s\n"
     ]
    },
    {
     "name": "stdout",
     "output_type": "stream",
     "text": [
      "building tree 41 of 100\n"
     ]
    },
    {
     "name": "stderr",
     "output_type": "stream",
     "text": [
      "[Parallel(n_jobs=1)]: Done  40 tasks       | elapsed:    6.1s\n"
     ]
    },
    {
     "name": "stdout",
     "output_type": "stream",
     "text": [
      "building tree 41 of 100\n",
      "building tree 59 of 100\n",
      "building tree 42 of 100\n",
      "building tree 42 of 100\n",
      "building tree 43 of 100\n",
      "building tree 60 of 100\n",
      "building tree 43 of 100\n",
      "building tree 44 of 100\n"
     ]
    },
    {
     "name": "stderr",
     "output_type": "stream",
     "text": [
      "[Parallel(n_jobs=1)]: Done  60 tasks       | elapsed:    9.0s\n"
     ]
    },
    {
     "name": "stdout",
     "output_type": "stream",
     "text": [
      "building tree 61 of 100\n",
      "building tree 44 of 100\n",
      "building tree 45 of 100\n",
      "building tree 62 of 100\n",
      "building tree 45 of 100\n",
      "building tree 46 of 100\n",
      "building tree 63 of 100\n",
      "building tree 46 of 100\n",
      "building tree 47 of 100\n",
      "building tree 47 of 100\n",
      "building tree 64 of 100\n",
      "building tree 48 of 100\n",
      "building tree 48 of 100\n",
      "building tree 65 of 100\n",
      "building tree 49 of 100\n"
     ]
    },
    {
     "name": "stderr",
     "output_type": "stream",
     "text": [
      "[Parallel(n_jobs=1)]: Done  49 tasks       | elapsed:    7.2s\n"
     ]
    },
    {
     "name": "stdout",
     "output_type": "stream",
     "text": [
      "building tree 66 of 100\n",
      "building tree 50 of 100\n",
      "building tree 49 of 100\n",
      "building tree 67 of 100\n",
      "building tree 51 of 100\n"
     ]
    },
    {
     "name": "stderr",
     "output_type": "stream",
     "text": [
      "[Parallel(n_jobs=1)]: Done  49 tasks       | elapsed:    7.6s\n"
     ]
    },
    {
     "name": "stdout",
     "output_type": "stream",
     "text": [
      "building tree 50 of 100\n",
      "building tree 68 of 100\n",
      "building tree 52 of 100\n",
      "building tree 51 of 100\n",
      "building tree 69 of 100\n",
      "building tree 53 of 100\n",
      "building tree 52 of 100\n",
      "building tree 70 of 100\n",
      "building tree 54 of 100\n",
      "building tree 55 of 100\n",
      "building tree 71 of 100\n",
      "building tree 53 of 100\n"
     ]
    },
    {
     "name": "stderr",
     "output_type": "stream",
     "text": [
      "[Parallel(n_jobs=1)]: Done  71 tasks       | elapsed:   10.6s\n"
     ]
    },
    {
     "name": "stdout",
     "output_type": "stream",
     "text": [
      "building tree 72 of 100\n",
      "building tree 54 of 100\n",
      "building tree 56 of 100\n",
      "building tree 73 of 100\n",
      "building tree 55 of 100\n",
      "building tree 57 of 100\n",
      "building tree 74 of 100\n",
      "building tree 56 of 100\n",
      "building tree 58 of 100\n",
      "building tree 75 of 100\n",
      "building tree 57 of 100\n",
      "building tree 59 of 100\n",
      "building tree 76 of 100\n",
      "building tree 58 of 100\n",
      "building tree 60 of 100\n",
      "building tree 59 of 100\n"
     ]
    },
    {
     "name": "stderr",
     "output_type": "stream",
     "text": [
      "[Parallel(n_jobs=1)]: Done  60 tasks       | elapsed:    8.8s\n"
     ]
    },
    {
     "name": "stdout",
     "output_type": "stream",
     "text": [
      "building tree 61 of 100\n",
      "building tree 77 of 100\n",
      "building tree 62 of 100\n",
      "building tree 60 of 100\n",
      "building tree 63 of 100\n",
      "building tree 78 of 100\n"
     ]
    },
    {
     "name": "stderr",
     "output_type": "stream",
     "text": [
      "[Parallel(n_jobs=1)]: Done  60 tasks       | elapsed:    9.3s\n"
     ]
    },
    {
     "name": "stdout",
     "output_type": "stream",
     "text": [
      "building tree 61 of 100\n",
      "building tree 79 of 100\n",
      "building tree 64 of 100\n",
      "building tree 62 of 100\n",
      "building tree 65 of 100\n",
      "building tree 63 of 100\n",
      "building tree 80 of 100\n",
      "building tree 66 of 100\n",
      "building tree 81 of 100\n",
      "building tree 64 of 100\n",
      "building tree 67 of 100\n",
      "building tree 82 of 100\n",
      "building tree 65 of 100\n",
      "building tree 83 of 100\n",
      "building tree 68 of 100\n",
      "building tree 66 of 100\n",
      "building tree 84 of 100\n",
      "building tree 69 of 100\n",
      "building tree 67 of 100\n"
     ]
    },
    {
     "name": "stderr",
     "output_type": "stream",
     "text": [
      "[Parallel(n_jobs=1)]: Done  84 tasks       | elapsed:   12.7s\n"
     ]
    },
    {
     "name": "stdout",
     "output_type": "stream",
     "text": [
      "building tree 85 of 100\n",
      "building tree 68 of 100\n",
      "building tree 70 of 100\n",
      "building tree 86 of 100\n",
      "building tree 69 of 100\n",
      "building tree 71 of 100\n",
      "building tree 87 of 100\n",
      "building tree 70 of 100\n"
     ]
    },
    {
     "name": "stderr",
     "output_type": "stream",
     "text": [
      "[Parallel(n_jobs=1)]: Done  71 tasks       | elapsed:   10.6s\n"
     ]
    },
    {
     "name": "stdout",
     "output_type": "stream",
     "text": [
      "building tree 72 of 100\n",
      "building tree 88 of 100\n",
      "building tree 71 of 100\n",
      "building tree 89 of 100\n",
      "building tree 73 of 100\n"
     ]
    },
    {
     "name": "stderr",
     "output_type": "stream",
     "text": [
      "[Parallel(n_jobs=1)]: Done  71 tasks       | elapsed:   11.0s\n"
     ]
    },
    {
     "name": "stdout",
     "output_type": "stream",
     "text": [
      "building tree 72 of 100\n",
      "building tree 74 of 100\n",
      "building tree 90 of 100\n",
      "building tree 73 of 100\n",
      "building tree 91 of 100\n",
      "building tree 75 of 100\n",
      "building tree 74 of 100\n",
      "building tree 92 of 100\n",
      "building tree 76 of 100\n",
      "building tree 75 of 100\n",
      "building tree 93 of 100\n",
      "building tree 77 of 100\n",
      "building tree 76 of 100\n",
      "building tree 94 of 100\n",
      "building tree 77 of 100\n",
      "building tree 78 of 100\n",
      "building tree 78 of 100\n",
      "building tree 95 of 100\n",
      "building tree 79 of 100\n",
      "building tree 79 of 100\n",
      "building tree 96 of 100\n",
      "building tree 80 of 100\n",
      "building tree 80 of 100\n",
      "building tree 97 of 100\n",
      "building tree 81 of 100\n",
      "building tree 81 of 100\n"
     ]
    },
    {
     "name": "stderr",
     "output_type": "stream",
     "text": [
      "[Parallel(n_jobs=1)]: Done  97 tasks       | elapsed:   14.5s\n"
     ]
    },
    {
     "name": "stdout",
     "output_type": "stream",
     "text": [
      "building tree 98 of 100\n",
      "building tree 82 of 100\n",
      "building tree 99 of 100\n",
      "building tree 82 of 100\n",
      "building tree 83 of 100\n",
      "building tree 100 of 100\n",
      "building tree 83 of 100\n",
      "building tree 84 of 100\n"
     ]
    },
    {
     "name": "stderr",
     "output_type": "stream",
     "text": [
      "[Parallel(n_jobs=1)]: Done 100 out of 100 | elapsed:   15.0s finished\n",
      "[Parallel(n_jobs=1)]: Done   1 tasks       | elapsed:    0.0s\n"
     ]
    },
    {
     "name": "stdout",
     "output_type": "stream",
     "text": [
      "building tree 84 of 100\n"
     ]
    },
    {
     "name": "stderr",
     "output_type": "stream",
     "text": [
      "[Parallel(n_jobs=1)]: Done   4 tasks       | elapsed:    0.0s\n",
      "[Parallel(n_jobs=1)]: Done  84 tasks       | elapsed:   12.5s\n"
     ]
    },
    {
     "name": "stdout",
     "output_type": "stream",
     "text": [
      "building tree 85 of 100\n"
     ]
    },
    {
     "name": "stderr",
     "output_type": "stream",
     "text": [
      "[Parallel(n_jobs=1)]: Done   7 tasks       | elapsed:    0.1s\n",
      "[Parallel(n_jobs=1)]: Done  12 tasks       | elapsed:    0.2s\n",
      "[Parallel(n_jobs=1)]: Done  84 tasks       | elapsed:   12.9s\n"
     ]
    },
    {
     "name": "stdout",
     "output_type": "stream",
     "text": [
      "building tree 85 of 100\n",
      "building tree 86 of 100\n"
     ]
    },
    {
     "name": "stderr",
     "output_type": "stream",
     "text": [
      "[Parallel(n_jobs=1)]: Done  17 tasks       | elapsed:    0.2s\n",
      "[Parallel(n_jobs=1)]: Done  24 tasks       | elapsed:    0.3s\n"
     ]
    },
    {
     "name": "stdout",
     "output_type": "stream",
     "text": [
      "building tree 86 of 100\n",
      "building tree 87 of 100\n"
     ]
    },
    {
     "name": "stderr",
     "output_type": "stream",
     "text": [
      "[Parallel(n_jobs=1)]: Done  31 tasks       | elapsed:    0.4s\n"
     ]
    },
    {
     "name": "stdout",
     "output_type": "stream",
     "text": [
      "building tree 88 of 100\n",
      "building tree 87 of 100\n"
     ]
    },
    {
     "name": "stderr",
     "output_type": "stream",
     "text": [
      "[Parallel(n_jobs=1)]: Done  40 tasks       | elapsed:    0.5s\n"
     ]
    },
    {
     "name": "stdout",
     "output_type": "stream",
     "text": [
      "building tree 88 of 100\n",
      "building tree 89 of 100\n"
     ]
    },
    {
     "name": "stderr",
     "output_type": "stream",
     "text": [
      "[Parallel(n_jobs=1)]: Done  49 tasks       | elapsed:    0.6s\n"
     ]
    },
    {
     "name": "stdout",
     "output_type": "stream",
     "text": [
      "building tree 89 of 100\n",
      "building tree 90 of 100\n"
     ]
    },
    {
     "name": "stderr",
     "output_type": "stream",
     "text": [
      "[Parallel(n_jobs=1)]: Done  60 tasks       | elapsed:    0.7s\n"
     ]
    },
    {
     "name": "stdout",
     "output_type": "stream",
     "text": [
      "building tree 90 of 100\n",
      "building tree 91 of 100\n"
     ]
    },
    {
     "name": "stderr",
     "output_type": "stream",
     "text": [
      "[Parallel(n_jobs=1)]: Done  71 tasks       | elapsed:    0.9s\n"
     ]
    },
    {
     "name": "stdout",
     "output_type": "stream",
     "text": [
      "building tree 91 of 100\n",
      "building tree 92 of 100\n"
     ]
    },
    {
     "name": "stderr",
     "output_type": "stream",
     "text": [
      "[Parallel(n_jobs=1)]: Done  84 tasks       | elapsed:    1.0s\n"
     ]
    },
    {
     "name": "stdout",
     "output_type": "stream",
     "text": [
      "building tree 92 of 100\n"
     ]
    },
    {
     "name": "stderr",
     "output_type": "stream",
     "text": [
      "[Parallel(n_jobs=1)]: Done  97 tasks       | elapsed:    1.2s\n"
     ]
    },
    {
     "name": "stdout",
     "output_type": "stream",
     "text": [
      "building tree 93 of 100\n"
     ]
    },
    {
     "name": "stderr",
     "output_type": "stream",
     "text": [
      "[Parallel(n_jobs=1)]: Done 100 out of 100 | elapsed:    1.2s finished\n"
     ]
    },
    {
     "name": "stdout",
     "output_type": "stream",
     "text": [
      "building tree 93 of 100\n",
      "building tree 94 of 100\n",
      "building tree 95 of 100\n",
      "building tree 94 of 100\n",
      "building tree 96 of 100\n",
      "building tree 95 of 100\n",
      "building tree 1 of 100\n",
      "building tree 96 of 100\n",
      "building tree 97 of 100\n"
     ]
    },
    {
     "name": "stderr",
     "output_type": "stream",
     "text": [
      "[Parallel(n_jobs=1)]: Done   1 tasks       | elapsed:    0.2s\n"
     ]
    },
    {
     "name": "stdout",
     "output_type": "stream",
     "text": [
      "building tree 2 of 100\n",
      "building tree 97 of 100\n"
     ]
    },
    {
     "name": "stderr",
     "output_type": "stream",
     "text": [
      "[Parallel(n_jobs=1)]: Done  97 tasks       | elapsed:   14.4s\n"
     ]
    },
    {
     "name": "stdout",
     "output_type": "stream",
     "text": [
      "building tree 98 of 100\n",
      "building tree 3 of 100\n"
     ]
    },
    {
     "name": "stderr",
     "output_type": "stream",
     "text": [
      "[Parallel(n_jobs=1)]: Done  97 tasks       | elapsed:   14.7s\n"
     ]
    },
    {
     "name": "stdout",
     "output_type": "stream",
     "text": [
      "building tree 98 of 100\n",
      "building tree 99 of 100\n",
      "building tree 4 of 100\n",
      "building tree 99 of 100\n",
      "building tree 100 of 100\n"
     ]
    },
    {
     "name": "stderr",
     "output_type": "stream",
     "text": [
      "[Parallel(n_jobs=1)]: Done   4 tasks       | elapsed:    0.6s\n"
     ]
    },
    {
     "name": "stdout",
     "output_type": "stream",
     "text": [
      "building tree 5 of 100\n",
      "building tree 100 of 100\n"
     ]
    },
    {
     "name": "stderr",
     "output_type": "stream",
     "text": [
      "[Parallel(n_jobs=1)]: Done 100 out of 100 | elapsed:   14.8s finished\n"
     ]
    },
    {
     "name": "stdout",
     "output_type": "stream",
     "text": [
      "building tree 6 of 100\n"
     ]
    },
    {
     "name": "stderr",
     "output_type": "stream",
     "text": [
      "[Parallel(n_jobs=1)]: Done   1 tasks       | elapsed:    0.0s\n",
      "[Parallel(n_jobs=1)]: Done   4 tasks       | elapsed:    0.0s\n",
      "[Parallel(n_jobs=1)]: Done   7 tasks       | elapsed:    0.1s\n",
      "[Parallel(n_jobs=1)]: Done 100 out of 100 | elapsed:   15.2s finished\n",
      "[Parallel(n_jobs=1)]: Done   1 tasks       | elapsed:    0.0s\n",
      "[Parallel(n_jobs=1)]: Done  12 tasks       | elapsed:    0.1s\n"
     ]
    },
    {
     "name": "stdout",
     "output_type": "stream",
     "text": [
      "building tree 7 of 100\n"
     ]
    },
    {
     "name": "stderr",
     "output_type": "stream",
     "text": [
      "[Parallel(n_jobs=1)]: Done   4 tasks       | elapsed:    0.0s\n",
      "[Parallel(n_jobs=1)]: Done   7 tasks       | elapsed:    0.1s\n",
      "[Parallel(n_jobs=1)]: Done  17 tasks       | elapsed:    0.2s\n",
      "[Parallel(n_jobs=1)]: Done  12 tasks       | elapsed:    0.1s\n",
      "[Parallel(n_jobs=1)]: Done  24 tasks       | elapsed:    0.3s\n",
      "[Parallel(n_jobs=1)]: Done  17 tasks       | elapsed:    0.2s\n",
      "[Parallel(n_jobs=1)]: Done   7 tasks       | elapsed:    1.1s\n"
     ]
    },
    {
     "name": "stdout",
     "output_type": "stream",
     "text": [
      "building tree 8 of 100\n"
     ]
    },
    {
     "name": "stderr",
     "output_type": "stream",
     "text": [
      "[Parallel(n_jobs=1)]: Done  31 tasks       | elapsed:    0.4s\n",
      "[Parallel(n_jobs=1)]: Done  24 tasks       | elapsed:    0.3s\n",
      "[Parallel(n_jobs=1)]: Done  31 tasks       | elapsed:    0.3s\n",
      "[Parallel(n_jobs=1)]: Done  40 tasks       | elapsed:    0.5s\n"
     ]
    },
    {
     "name": "stdout",
     "output_type": "stream",
     "text": [
      "building tree 9 of 100\n"
     ]
    },
    {
     "name": "stderr",
     "output_type": "stream",
     "text": [
      "[Parallel(n_jobs=1)]: Done  40 tasks       | elapsed:    0.4s\n",
      "[Parallel(n_jobs=1)]: Done  49 tasks       | elapsed:    0.6s\n"
     ]
    },
    {
     "name": "stdout",
     "output_type": "stream",
     "text": [
      "building tree 10 of 100\n"
     ]
    },
    {
     "name": "stderr",
     "output_type": "stream",
     "text": [
      "[Parallel(n_jobs=1)]: Done  49 tasks       | elapsed:    0.6s\n",
      "[Parallel(n_jobs=1)]: Done  60 tasks       | elapsed:    0.7s\n"
     ]
    },
    {
     "name": "stdout",
     "output_type": "stream",
     "text": [
      "building tree 11 of 100\n"
     ]
    },
    {
     "name": "stderr",
     "output_type": "stream",
     "text": [
      "[Parallel(n_jobs=1)]: Done  60 tasks       | elapsed:    0.7s\n",
      "[Parallel(n_jobs=1)]: Done  71 tasks       | elapsed:    0.9s\n"
     ]
    },
    {
     "name": "stdout",
     "output_type": "stream",
     "text": [
      "building tree 12 of 100\n"
     ]
    },
    {
     "name": "stderr",
     "output_type": "stream",
     "text": [
      "[Parallel(n_jobs=1)]: Done  71 tasks       | elapsed:    0.8s\n",
      "[Parallel(n_jobs=1)]: Done  84 tasks       | elapsed:    1.0s\n",
      "[Parallel(n_jobs=1)]: Done  84 tasks       | elapsed:    0.9s\n",
      "[Parallel(n_jobs=1)]: Done  12 tasks       | elapsed:    1.8s\n"
     ]
    },
    {
     "name": "stdout",
     "output_type": "stream",
     "text": [
      "building tree 13 of 100\n"
     ]
    },
    {
     "name": "stderr",
     "output_type": "stream",
     "text": [
      "[Parallel(n_jobs=1)]: Done  97 tasks       | elapsed:    1.1s\n",
      "[Parallel(n_jobs=1)]: Done  97 tasks       | elapsed:    1.2s\n"
     ]
    },
    {
     "name": "stdout",
     "output_type": "stream",
     "text": [
      "building tree 14 of 100\n"
     ]
    },
    {
     "name": "stderr",
     "output_type": "stream",
     "text": [
      "[Parallel(n_jobs=1)]: Done 100 out of 100 | elapsed:    1.1s finished\n",
      "[Parallel(n_jobs=1)]: Done 100 out of 100 | elapsed:    1.2s finished\n"
     ]
    },
    {
     "name": "stdout",
     "output_type": "stream",
     "text": [
      "building tree 15 of 100\n",
      "building tree 16 of 100\n",
      "building tree 1 of 100\n",
      "building tree 17 of 100\n"
     ]
    },
    {
     "name": "stderr",
     "output_type": "stream",
     "text": [
      "[Parallel(n_jobs=1)]: Done   1 tasks       | elapsed:    0.1s\n"
     ]
    },
    {
     "name": "stdout",
     "output_type": "stream",
     "text": [
      "building tree 2 of 100\n"
     ]
    },
    {
     "name": "stderr",
     "output_type": "stream",
     "text": [
      "[Parallel(n_jobs=1)]: Done  17 tasks       | elapsed:    2.6s\n"
     ]
    },
    {
     "name": "stdout",
     "output_type": "stream",
     "text": [
      "building tree 18 of 100\n",
      "building tree 1 of 100\n",
      "building tree 3 of 100\n",
      "building tree 19 of 100\n"
     ]
    },
    {
     "name": "stderr",
     "output_type": "stream",
     "text": [
      "[Parallel(n_jobs=1)]: Done   1 tasks       | elapsed:    0.2s\n"
     ]
    },
    {
     "name": "stdout",
     "output_type": "stream",
     "text": [
      "building tree 2 of 100\n",
      "building tree 4 of 100\n"
     ]
    },
    {
     "name": "stderr",
     "output_type": "stream",
     "text": [
      "[Parallel(n_jobs=1)]: Done   4 tasks       | elapsed:    0.5s\n"
     ]
    },
    {
     "name": "stdout",
     "output_type": "stream",
     "text": [
      "building tree 5 of 100\n",
      "building tree 20 of 100\n",
      "building tree 3 of 100\n",
      "building tree 6 of 100\n",
      "building tree 21 of 100\n",
      "building tree 4 of 100\n"
     ]
    },
    {
     "name": "stderr",
     "output_type": "stream",
     "text": [
      "[Parallel(n_jobs=1)]: Done   4 tasks       | elapsed:    0.6s\n"
     ]
    },
    {
     "name": "stdout",
     "output_type": "stream",
     "text": [
      "building tree 5 of 100\n",
      "building tree 7 of 100\n",
      "building tree 22 of 100\n",
      "building tree 6 of 100\n",
      "building tree 23 of 100\n"
     ]
    },
    {
     "name": "stderr",
     "output_type": "stream",
     "text": [
      "[Parallel(n_jobs=1)]: Done   7 tasks       | elapsed:    1.0s\n"
     ]
    },
    {
     "name": "stdout",
     "output_type": "stream",
     "text": [
      "building tree 8 of 100\n",
      "building tree 7 of 100\n",
      "building tree 24 of 100\n",
      "building tree 9 of 100\n"
     ]
    },
    {
     "name": "stderr",
     "output_type": "stream",
     "text": [
      "[Parallel(n_jobs=1)]: Done   7 tasks       | elapsed:    1.0s\n"
     ]
    },
    {
     "name": "stdout",
     "output_type": "stream",
     "text": [
      "building tree 8 of 100\n",
      "building tree 10 of 100\n"
     ]
    },
    {
     "name": "stderr",
     "output_type": "stream",
     "text": [
      "[Parallel(n_jobs=1)]: Done  24 tasks       | elapsed:    3.7s\n"
     ]
    },
    {
     "name": "stdout",
     "output_type": "stream",
     "text": [
      "building tree 25 of 100\n",
      "building tree 9 of 100\n",
      "building tree 11 of 100\n",
      "building tree 26 of 100\n",
      "building tree 10 of 100\n",
      "building tree 12 of 100\n",
      "building tree 11 of 100\n",
      "building tree 27 of 100\n"
     ]
    },
    {
     "name": "stderr",
     "output_type": "stream",
     "text": [
      "[Parallel(n_jobs=1)]: Done  12 tasks       | elapsed:    1.7s\n"
     ]
    },
    {
     "name": "stdout",
     "output_type": "stream",
     "text": [
      "building tree 13 of 100\n",
      "building tree 12 of 100\n",
      "building tree 28 of 100\n",
      "building tree 14 of 100\n",
      "building tree 29 of 100\n"
     ]
    },
    {
     "name": "stderr",
     "output_type": "stream",
     "text": [
      "[Parallel(n_jobs=1)]: Done  12 tasks       | elapsed:    1.8s\n"
     ]
    },
    {
     "name": "stdout",
     "output_type": "stream",
     "text": [
      "building tree 13 of 100\n",
      "building tree 15 of 100\n",
      "building tree 14 of 100\n",
      "building tree 30 of 100\n",
      "building tree 16 of 100\n",
      "building tree 15 of 100\n",
      "building tree 17 of 100\n",
      "building tree 31 of 100\n",
      "building tree 16 of 100\n"
     ]
    },
    {
     "name": "stderr",
     "output_type": "stream",
     "text": [
      "[Parallel(n_jobs=1)]: Done  17 tasks       | elapsed:    2.5s\n"
     ]
    },
    {
     "name": "stdout",
     "output_type": "stream",
     "text": [
      "building tree 18 of 100\n"
     ]
    },
    {
     "name": "stderr",
     "output_type": "stream",
     "text": [
      "[Parallel(n_jobs=1)]: Done  31 tasks       | elapsed:    4.9s\n"
     ]
    },
    {
     "name": "stdout",
     "output_type": "stream",
     "text": [
      "building tree 32 of 100\n",
      "building tree 17 of 100\n",
      "building tree 19 of 100\n",
      "building tree 33 of 100\n"
     ]
    },
    {
     "name": "stderr",
     "output_type": "stream",
     "text": [
      "[Parallel(n_jobs=1)]: Done  17 tasks       | elapsed:    2.5s\n"
     ]
    },
    {
     "name": "stdout",
     "output_type": "stream",
     "text": [
      "building tree 18 of 100\n",
      "building tree 19 of 100\n",
      "building tree 20 of 100\n",
      "building tree 34 of 100\n",
      "building tree 20 of 100\n",
      "building tree 21 of 100\n",
      "building tree 21 of 100\n",
      "building tree 35 of 100\n",
      "building tree 22 of 100\n",
      "building tree 36 of 100\n",
      "building tree 22 of 100\n",
      "building tree 23 of 100\n",
      "building tree 37 of 100\n",
      "building tree 23 of 100\n",
      "building tree 24 of 100\n"
     ]
    },
    {
     "name": "stderr",
     "output_type": "stream",
     "text": [
      "[Parallel(n_jobs=1)]: Done  24 tasks       | elapsed:    3.3s\n"
     ]
    },
    {
     "name": "stdout",
     "output_type": "stream",
     "text": [
      "building tree 25 of 100\n",
      "building tree 38 of 100\n",
      "building tree 24 of 100\n",
      "building tree 26 of 100\n",
      "building tree 39 of 100\n"
     ]
    },
    {
     "name": "stderr",
     "output_type": "stream",
     "text": [
      "[Parallel(n_jobs=1)]: Done  24 tasks       | elapsed:    3.7s\n"
     ]
    },
    {
     "name": "stdout",
     "output_type": "stream",
     "text": [
      "building tree 25 of 100\n",
      "building tree 27 of 100\n",
      "building tree 40 of 100\n",
      "building tree 26 of 100\n",
      "building tree 28 of 100\n",
      "building tree 29 of 100\n",
      "building tree 27 of 100\n"
     ]
    },
    {
     "name": "stderr",
     "output_type": "stream",
     "text": [
      "[Parallel(n_jobs=1)]: Done  40 tasks       | elapsed:    6.4s\n"
     ]
    },
    {
     "name": "stdout",
     "output_type": "stream",
     "text": [
      "building tree 41 of 100\n",
      "building tree 30 of 100\n",
      "building tree 28 of 100\n",
      "building tree 42 of 100\n",
      "building tree 31 of 100\n",
      "building tree 29 of 100\n",
      "building tree 43 of 100\n",
      "building tree 30 of 100\n"
     ]
    },
    {
     "name": "stderr",
     "output_type": "stream",
     "text": [
      "[Parallel(n_jobs=1)]: Done  31 tasks       | elapsed:    4.3s\n"
     ]
    },
    {
     "name": "stdout",
     "output_type": "stream",
     "text": [
      "building tree 32 of 100\n",
      "building tree 44 of 100\n",
      "building tree 31 of 100\n",
      "building tree 45 of 100\n",
      "building tree 33 of 100\n",
      "building tree 46 of 100\n"
     ]
    },
    {
     "name": "stderr",
     "output_type": "stream",
     "text": [
      "[Parallel(n_jobs=1)]: Done  31 tasks       | elapsed:    4.8s\n"
     ]
    },
    {
     "name": "stdout",
     "output_type": "stream",
     "text": [
      "building tree 32 of 100\n",
      "building tree 34 of 100\n",
      "building tree 47 of 100\n",
      "building tree 33 of 100\n",
      "building tree 35 of 100\n",
      "building tree 48 of 100\n",
      "building tree 34 of 100\n",
      "building tree 36 of 100\n",
      "building tree 49 of 100\n",
      "building tree 35 of 100\n"
     ]
    },
    {
     "name": "stderr",
     "output_type": "stream",
     "text": [
      "[Parallel(n_jobs=1)]: Done  49 tasks       | elapsed:    7.7s\n"
     ]
    },
    {
     "name": "stdout",
     "output_type": "stream",
     "text": [
      "building tree 50 of 100\n",
      "building tree 37 of 100\n",
      "building tree 36 of 100\n",
      "building tree 51 of 100\n",
      "building tree 38 of 100\n",
      "building tree 52 of 100\n",
      "building tree 37 of 100\n",
      "building tree 39 of 100\n",
      "building tree 53 of 100\n",
      "building tree 38 of 100\n",
      "building tree 40 of 100\n",
      "building tree 54 of 100\n",
      "building tree 39 of 100\n"
     ]
    },
    {
     "name": "stderr",
     "output_type": "stream",
     "text": [
      "[Parallel(n_jobs=1)]: Done  40 tasks       | elapsed:    5.8s\n"
     ]
    },
    {
     "name": "stdout",
     "output_type": "stream",
     "text": [
      "building tree 41 of 100\n",
      "building tree 55 of 100\n",
      "building tree 42 of 100\n",
      "building tree 40 of 100\n",
      "building tree 56 of 100\n",
      "building tree 43 of 100\n",
      "building tree 57 of 100\n"
     ]
    },
    {
     "name": "stderr",
     "output_type": "stream",
     "text": [
      "[Parallel(n_jobs=1)]: Done  40 tasks       | elapsed:    6.3s\n"
     ]
    },
    {
     "name": "stdout",
     "output_type": "stream",
     "text": [
      "building tree 41 of 100\n",
      "building tree 58 of 100\n",
      "building tree 44 of 100\n",
      "building tree 42 of 100\n",
      "building tree 59 of 100\n",
      "building tree 45 of 100\n",
      "building tree 43 of 100\n",
      "building tree 60 of 100\n",
      "building tree 46 of 100\n",
      "building tree 44 of 100\n"
     ]
    },
    {
     "name": "stderr",
     "output_type": "stream",
     "text": [
      "[Parallel(n_jobs=1)]: Done  60 tasks       | elapsed:    9.2s\n"
     ]
    },
    {
     "name": "stdout",
     "output_type": "stream",
     "text": [
      "building tree 61 of 100\n",
      "building tree 47 of 100\n",
      "building tree 45 of 100\n",
      "building tree 62 of 100\n",
      "building tree 48 of 100\n",
      "building tree 63 of 100\n",
      "building tree 46 of 100\n",
      "building tree 49 of 100\n",
      "building tree 64 of 100\n",
      "building tree 47 of 100\n"
     ]
    },
    {
     "name": "stderr",
     "output_type": "stream",
     "text": [
      "[Parallel(n_jobs=1)]: Done  49 tasks       | elapsed:    7.2s\n"
     ]
    },
    {
     "name": "stdout",
     "output_type": "stream",
     "text": [
      "building tree 50 of 100\n",
      "building tree 65 of 100\n",
      "building tree 48 of 100\n",
      "building tree 51 of 100\n",
      "building tree 66 of 100\n",
      "building tree 49 of 100\n",
      "building tree 52 of 100\n"
     ]
    },
    {
     "name": "stderr",
     "output_type": "stream",
     "text": [
      "[Parallel(n_jobs=1)]: Done  49 tasks       | elapsed:    7.8s\n"
     ]
    },
    {
     "name": "stdout",
     "output_type": "stream",
     "text": [
      "building tree 50 of 100\n",
      "building tree 67 of 100\n",
      "building tree 53 of 100\n",
      "building tree 51 of 100\n",
      "building tree 54 of 100\n",
      "building tree 68 of 100\n",
      "building tree 69 of 100\n",
      "building tree 55 of 100\n",
      "building tree 52 of 100\n",
      "building tree 70 of 100\n",
      "building tree 56 of 100\n",
      "building tree 53 of 100\n",
      "building tree 57 of 100\n",
      "building tree 71 of 100\n",
      "building tree 58 of 100\n",
      "building tree 54 of 100\n",
      "building tree 59 of 100\n"
     ]
    },
    {
     "name": "stderr",
     "output_type": "stream",
     "text": [
      "[Parallel(n_jobs=1)]: Done  71 tasks       | elapsed:   11.0s\n"
     ]
    },
    {
     "name": "stdout",
     "output_type": "stream",
     "text": [
      "building tree 72 of 100\n",
      "building tree 55 of 100\n",
      "building tree 60 of 100\n",
      "building tree 73 of 100\n",
      "building tree 56 of 100\n"
     ]
    },
    {
     "name": "stderr",
     "output_type": "stream",
     "text": [
      "[Parallel(n_jobs=1)]: Done  60 tasks       | elapsed:    8.7s\n"
     ]
    },
    {
     "name": "stdout",
     "output_type": "stream",
     "text": [
      "building tree 61 of 100\n",
      "building tree 74 of 100\n",
      "building tree 57 of 100\n",
      "building tree 62 of 100\n",
      "building tree 75 of 100\n",
      "building tree 58 of 100\n",
      "building tree 63 of 100\n",
      "building tree 59 of 100\n",
      "building tree 76 of 100\n",
      "building tree 64 of 100\n",
      "building tree 60 of 100\n",
      "building tree 77 of 100\n",
      "building tree 65 of 100\n"
     ]
    },
    {
     "name": "stderr",
     "output_type": "stream",
     "text": [
      "[Parallel(n_jobs=1)]: Done  60 tasks       | elapsed:    9.5s\n"
     ]
    },
    {
     "name": "stdout",
     "output_type": "stream",
     "text": [
      "building tree 61 of 100\n",
      "building tree 66 of 100\n",
      "building tree 62 of 100\n",
      "building tree 78 of 100\n",
      "building tree 63 of 100\n",
      "building tree 67 of 100\n",
      "building tree 79 of 100\n",
      "building tree 64 of 100\n",
      "building tree 68 of 100\n",
      "building tree 80 of 100\n",
      "building tree 65 of 100\n",
      "building tree 81 of 100\n",
      "building tree 69 of 100\n",
      "building tree 66 of 100\n",
      "building tree 82 of 100\n",
      "building tree 70 of 100\n",
      "building tree 67 of 100\n",
      "building tree 83 of 100\n",
      "building tree 71 of 100\n",
      "building tree 84 of 100\n",
      "building tree 68 of 100\n"
     ]
    },
    {
     "name": "stderr",
     "output_type": "stream",
     "text": [
      "[Parallel(n_jobs=1)]: Done  71 tasks       | elapsed:   10.4s\n"
     ]
    },
    {
     "name": "stdout",
     "output_type": "stream",
     "text": [
      "building tree 72 of 100\n"
     ]
    },
    {
     "name": "stderr",
     "output_type": "stream",
     "text": [
      "[Parallel(n_jobs=1)]: Done  84 tasks       | elapsed:   13.0s\n"
     ]
    },
    {
     "name": "stdout",
     "output_type": "stream",
     "text": [
      "building tree 85 of 100\n",
      "building tree 69 of 100\n",
      "building tree 73 of 100\n",
      "building tree 74 of 100\n",
      "building tree 70 of 100\n",
      "building tree 86 of 100\n",
      "building tree 75 of 100\n",
      "building tree 87 of 100\n",
      "building tree 71 of 100\n",
      "building tree 76 of 100\n",
      "building tree 88 of 100\n"
     ]
    },
    {
     "name": "stderr",
     "output_type": "stream",
     "text": [
      "[Parallel(n_jobs=1)]: Done  71 tasks       | elapsed:   11.2s\n"
     ]
    },
    {
     "name": "stdout",
     "output_type": "stream",
     "text": [
      "building tree 72 of 100\n",
      "building tree 77 of 100\n",
      "building tree 89 of 100\n",
      "building tree 78 of 100\n",
      "building tree 73 of 100\n",
      "building tree 90 of 100\n",
      "building tree 79 of 100\n",
      "building tree 74 of 100\n",
      "building tree 80 of 100\n",
      "building tree 91 of 100\n",
      "building tree 81 of 100\n",
      "building tree 75 of 100\n",
      "building tree 92 of 100\n",
      "building tree 76 of 100\n",
      "building tree 82 of 100\n",
      "building tree 93 of 100\n",
      "building tree 77 of 100\n",
      "building tree 83 of 100\n",
      "building tree 94 of 100\n",
      "building tree 78 of 100\n",
      "building tree 95 of 100\n",
      "building tree 84 of 100\n",
      "building tree 79 of 100\n",
      "building tree 96 of 100\n"
     ]
    },
    {
     "name": "stderr",
     "output_type": "stream",
     "text": [
      "[Parallel(n_jobs=1)]: Done  84 tasks       | elapsed:   12.3s\n"
     ]
    },
    {
     "name": "stdout",
     "output_type": "stream",
     "text": [
      "building tree 85 of 100\n",
      "building tree 97 of 100\n",
      "building tree 80 of 100\n",
      "building tree 86 of 100\n",
      "building tree 87 of 100\n",
      "building tree 81 of 100\n"
     ]
    },
    {
     "name": "stderr",
     "output_type": "stream",
     "text": [
      "[Parallel(n_jobs=1)]: Done  97 tasks       | elapsed:   15.3s\n"
     ]
    },
    {
     "name": "stdout",
     "output_type": "stream",
     "text": [
      "building tree 98 of 100\n",
      "building tree 88 of 100\n",
      "building tree 99 of 100\n",
      "building tree 82 of 100\n",
      "building tree 89 of 100\n",
      "building tree 100 of 100\n",
      "building tree 83 of 100\n"
     ]
    },
    {
     "name": "stderr",
     "output_type": "stream",
     "text": [
      "[Parallel(n_jobs=1)]: Done 100 out of 100 | elapsed:   15.8s finished\n",
      "[Parallel(n_jobs=1)]: Done   1 tasks       | elapsed:    0.0s\n",
      "[Parallel(n_jobs=1)]: Done   4 tasks       | elapsed:    0.1s\n"
     ]
    },
    {
     "name": "stdout",
     "output_type": "stream",
     "text": [
      "building tree 84 of 100\n"
     ]
    },
    {
     "name": "stderr",
     "output_type": "stream",
     "text": [
      "[Parallel(n_jobs=1)]: Done   7 tasks       | elapsed:    0.1s\n"
     ]
    },
    {
     "name": "stdout",
     "output_type": "stream",
     "text": [
      "building tree 90 of 100\n"
     ]
    },
    {
     "name": "stderr",
     "output_type": "stream",
     "text": [
      "[Parallel(n_jobs=1)]: Done  12 tasks       | elapsed:    0.2s\n",
      "[Parallel(n_jobs=1)]: Done  84 tasks       | elapsed:   13.6s\n"
     ]
    },
    {
     "name": "stdout",
     "output_type": "stream",
     "text": [
      "building tree 85 of 100\n",
      "building tree 91 of 100\n"
     ]
    },
    {
     "name": "stderr",
     "output_type": "stream",
     "text": [
      "[Parallel(n_jobs=1)]: Done  17 tasks       | elapsed:    0.3s\n",
      "[Parallel(n_jobs=1)]: Done  24 tasks       | elapsed:    0.4s\n"
     ]
    },
    {
     "name": "stdout",
     "output_type": "stream",
     "text": [
      "building tree 86 of 100\n"
     ]
    },
    {
     "name": "stderr",
     "output_type": "stream",
     "text": [
      "[Parallel(n_jobs=1)]: Done  31 tasks       | elapsed:    0.5s\n"
     ]
    },
    {
     "name": "stdout",
     "output_type": "stream",
     "text": [
      "building tree 92 of 100\n",
      "building tree 87 of 100\n"
     ]
    },
    {
     "name": "stderr",
     "output_type": "stream",
     "text": [
      "[Parallel(n_jobs=1)]: Done  40 tasks       | elapsed:    0.6s\n"
     ]
    },
    {
     "name": "stdout",
     "output_type": "stream",
     "text": [
      "building tree 93 of 100\n"
     ]
    },
    {
     "name": "stderr",
     "output_type": "stream",
     "text": [
      "[Parallel(n_jobs=1)]: Done  49 tasks       | elapsed:    0.7s\n"
     ]
    },
    {
     "name": "stdout",
     "output_type": "stream",
     "text": [
      "building tree 88 of 100\n",
      "building tree 94 of 100\n"
     ]
    },
    {
     "name": "stderr",
     "output_type": "stream",
     "text": [
      "[Parallel(n_jobs=1)]: Done  60 tasks       | elapsed:    0.9s\n"
     ]
    },
    {
     "name": "stdout",
     "output_type": "stream",
     "text": [
      "building tree 89 of 100\n",
      "building tree 95 of 100\n"
     ]
    },
    {
     "name": "stderr",
     "output_type": "stream",
     "text": [
      "[Parallel(n_jobs=1)]: Done  71 tasks       | elapsed:    1.1s\n"
     ]
    },
    {
     "name": "stdout",
     "output_type": "stream",
     "text": [
      "building tree 90 of 100\n",
      "building tree 96 of 100\n"
     ]
    },
    {
     "name": "stderr",
     "output_type": "stream",
     "text": [
      "[Parallel(n_jobs=1)]: Done  84 tasks       | elapsed:    1.3s\n"
     ]
    },
    {
     "name": "stdout",
     "output_type": "stream",
     "text": [
      "building tree 91 of 100\n",
      "building tree 97 of 100\n"
     ]
    },
    {
     "name": "stderr",
     "output_type": "stream",
     "text": [
      "[Parallel(n_jobs=1)]: Done  97 tasks       | elapsed:    1.4s\n"
     ]
    },
    {
     "name": "stdout",
     "output_type": "stream",
     "text": [
      "building tree 92 of 100\n"
     ]
    },
    {
     "name": "stderr",
     "output_type": "stream",
     "text": [
      "[Parallel(n_jobs=1)]: Done 100 out of 100 | elapsed:    1.5s finished\n",
      "[Parallel(n_jobs=1)]: Done  97 tasks       | elapsed:   14.8s\n"
     ]
    },
    {
     "name": "stdout",
     "output_type": "stream",
     "text": [
      "building tree 98 of 100\n",
      "building tree 93 of 100\n",
      "building tree 99 of 100\n",
      "building tree 94 of 100\n",
      "building tree 100 of 100\n",
      "building tree 1 of 100\n",
      "building tree 95 of 100\n"
     ]
    },
    {
     "name": "stderr",
     "output_type": "stream",
     "text": [
      "[Parallel(n_jobs=1)]: Done 100 out of 100 | elapsed:   15.4s finished\n",
      "[Parallel(n_jobs=1)]: Done   1 tasks       | elapsed:    0.0s\n"
     ]
    },
    {
     "name": "stdout",
     "output_type": "stream",
     "text": [
      "building tree 96 of 100\n"
     ]
    },
    {
     "name": "stderr",
     "output_type": "stream",
     "text": [
      "[Parallel(n_jobs=1)]: Done   4 tasks       | elapsed:    0.1s\n",
      "[Parallel(n_jobs=1)]: Done   1 tasks       | elapsed:    0.2s\n"
     ]
    },
    {
     "name": "stdout",
     "output_type": "stream",
     "text": [
      "building tree 2 of 100\n"
     ]
    },
    {
     "name": "stderr",
     "output_type": "stream",
     "text": [
      "[Parallel(n_jobs=1)]: Done   7 tasks       | elapsed:    0.1s\n",
      "[Parallel(n_jobs=1)]: Done  12 tasks       | elapsed:    0.2s\n"
     ]
    },
    {
     "name": "stdout",
     "output_type": "stream",
     "text": [
      "building tree 97 of 100\n"
     ]
    },
    {
     "name": "stderr",
     "output_type": "stream",
     "text": [
      "[Parallel(n_jobs=1)]: Done  17 tasks       | elapsed:    0.3s\n"
     ]
    },
    {
     "name": "stdout",
     "output_type": "stream",
     "text": [
      "building tree 3 of 100\n"
     ]
    },
    {
     "name": "stderr",
     "output_type": "stream",
     "text": [
      "[Parallel(n_jobs=1)]: Done  97 tasks       | elapsed:   16.0s\n"
     ]
    },
    {
     "name": "stdout",
     "output_type": "stream",
     "text": [
      "building tree 98 of 100\n"
     ]
    },
    {
     "name": "stderr",
     "output_type": "stream",
     "text": [
      "[Parallel(n_jobs=1)]: Done  24 tasks       | elapsed:    0.4s\n",
      "[Parallel(n_jobs=1)]: Done  31 tasks       | elapsed:    0.5s\n"
     ]
    },
    {
     "name": "stdout",
     "output_type": "stream",
     "text": [
      "building tree 4 of 100\n",
      "building tree 99 of 100\n"
     ]
    },
    {
     "name": "stderr",
     "output_type": "stream",
     "text": [
      "[Parallel(n_jobs=1)]: Done  40 tasks       | elapsed:    0.6s\n",
      "[Parallel(n_jobs=1)]: Done   4 tasks       | elapsed:    0.8s\n"
     ]
    },
    {
     "name": "stdout",
     "output_type": "stream",
     "text": [
      "building tree 5 of 100\n"
     ]
    },
    {
     "name": "stderr",
     "output_type": "stream",
     "text": [
      "[Parallel(n_jobs=1)]: Done  49 tasks       | elapsed:    0.8s\n"
     ]
    },
    {
     "name": "stdout",
     "output_type": "stream",
     "text": [
      "building tree 100 of 100\n",
      "building tree 6 of 100\n"
     ]
    },
    {
     "name": "stderr",
     "output_type": "stream",
     "text": [
      "[Parallel(n_jobs=1)]: Done  60 tasks       | elapsed:    1.0s\n",
      "[Parallel(n_jobs=1)]: Done 100 out of 100 | elapsed:   16.6s finished\n",
      "[Parallel(n_jobs=1)]: Done   1 tasks       | elapsed:    0.0s\n"
     ]
    },
    {
     "name": "stdout",
     "output_type": "stream",
     "text": [
      "building tree 7 of 100\n"
     ]
    },
    {
     "name": "stderr",
     "output_type": "stream",
     "text": [
      "[Parallel(n_jobs=1)]: Done   4 tasks       | elapsed:    0.1s\n",
      "[Parallel(n_jobs=1)]: Done   7 tasks       | elapsed:    0.1s\n",
      "[Parallel(n_jobs=1)]: Done  71 tasks       | elapsed:    1.1s\n",
      "[Parallel(n_jobs=1)]: Done  12 tasks       | elapsed:    0.2s\n",
      "[Parallel(n_jobs=1)]: Done   7 tasks       | elapsed:    1.4s\n"
     ]
    },
    {
     "name": "stdout",
     "output_type": "stream",
     "text": [
      "building tree 8 of 100\n"
     ]
    },
    {
     "name": "stderr",
     "output_type": "stream",
     "text": [
      "[Parallel(n_jobs=1)]: Done  17 tasks       | elapsed:    0.2s\n",
      "[Parallel(n_jobs=1)]: Done  84 tasks       | elapsed:    1.3s\n",
      "[Parallel(n_jobs=1)]: Done  24 tasks       | elapsed:    0.3s\n"
     ]
    },
    {
     "name": "stdout",
     "output_type": "stream",
     "text": [
      "building tree 9 of 100\n"
     ]
    },
    {
     "name": "stderr",
     "output_type": "stream",
     "text": [
      "[Parallel(n_jobs=1)]: Done  31 tasks       | elapsed:    0.4s\n",
      "[Parallel(n_jobs=1)]: Done  97 tasks       | elapsed:    1.5s\n",
      "[Parallel(n_jobs=1)]: Done 100 out of 100 | elapsed:    1.5s finished\n",
      "[Parallel(n_jobs=1)]: Done  40 tasks       | elapsed:    0.5s\n"
     ]
    },
    {
     "name": "stdout",
     "output_type": "stream",
     "text": [
      "building tree 10 of 100\n"
     ]
    },
    {
     "name": "stderr",
     "output_type": "stream",
     "text": [
      "[Parallel(n_jobs=1)]: Done  49 tasks       | elapsed:    0.7s\n"
     ]
    },
    {
     "name": "stdout",
     "output_type": "stream",
     "text": [
      "building tree 11 of 100\n"
     ]
    },
    {
     "name": "stderr",
     "output_type": "stream",
     "text": [
      "[Parallel(n_jobs=1)]: Done  60 tasks       | elapsed:    0.8s\n"
     ]
    },
    {
     "name": "stdout",
     "output_type": "stream",
     "text": [
      "building tree 12 of 100\n"
     ]
    },
    {
     "name": "stderr",
     "output_type": "stream",
     "text": [
      "[Parallel(n_jobs=1)]: Done  12 tasks       | elapsed:    2.1s\n"
     ]
    },
    {
     "name": "stdout",
     "output_type": "stream",
     "text": [
      "building tree 13 of 100\n"
     ]
    },
    {
     "name": "stderr",
     "output_type": "stream",
     "text": [
      "[Parallel(n_jobs=1)]: Done  71 tasks       | elapsed:    1.0s\n"
     ]
    },
    {
     "name": "stdout",
     "output_type": "stream",
     "text": [
      "building tree 1 of 100\n",
      "building tree 14 of 100\n"
     ]
    },
    {
     "name": "stderr",
     "output_type": "stream",
     "text": [
      "[Parallel(n_jobs=1)]: Done  84 tasks       | elapsed:    1.2s\n",
      "[Parallel(n_jobs=1)]: Done   1 tasks       | elapsed:    0.2s\n"
     ]
    },
    {
     "name": "stdout",
     "output_type": "stream",
     "text": [
      "building tree 2 of 100\n",
      "building tree 15 of 100\n"
     ]
    },
    {
     "name": "stderr",
     "output_type": "stream",
     "text": [
      "[Parallel(n_jobs=1)]: Done  97 tasks       | elapsed:    1.3s\n"
     ]
    },
    {
     "name": "stdout",
     "output_type": "stream",
     "text": [
      "building tree 3 of 100\n",
      "building tree 16 of 100\n"
     ]
    },
    {
     "name": "stderr",
     "output_type": "stream",
     "text": [
      "[Parallel(n_jobs=1)]: Done 100 out of 100 | elapsed:    1.4s finished\n"
     ]
    },
    {
     "name": "stdout",
     "output_type": "stream",
     "text": [
      "building tree 4 of 100\n",
      "building tree 17 of 100\n"
     ]
    },
    {
     "name": "stderr",
     "output_type": "stream",
     "text": [
      "[Parallel(n_jobs=1)]: Done   4 tasks       | elapsed:    0.7s\n"
     ]
    },
    {
     "name": "stdout",
     "output_type": "stream",
     "text": [
      "building tree 5 of 100\n"
     ]
    },
    {
     "name": "stderr",
     "output_type": "stream",
     "text": [
      "[Parallel(n_jobs=1)]: Done  17 tasks       | elapsed:    2.9s\n"
     ]
    },
    {
     "name": "stdout",
     "output_type": "stream",
     "text": [
      "building tree 18 of 100\n",
      "building tree 6 of 100\n",
      "building tree 19 of 100\n",
      "building tree 1 of 100\n",
      "building tree 7 of 100\n",
      "building tree 20 of 100\n"
     ]
    },
    {
     "name": "stderr",
     "output_type": "stream",
     "text": [
      "[Parallel(n_jobs=1)]: Done   1 tasks       | elapsed:    0.2s\n"
     ]
    },
    {
     "name": "stdout",
     "output_type": "stream",
     "text": [
      "building tree 2 of 100\n"
     ]
    },
    {
     "name": "stderr",
     "output_type": "stream",
     "text": [
      "[Parallel(n_jobs=1)]: Done   7 tasks       | elapsed:    1.3s\n"
     ]
    },
    {
     "name": "stdout",
     "output_type": "stream",
     "text": [
      "building tree 8 of 100\n",
      "building tree 21 of 100\n",
      "building tree 3 of 100\n",
      "building tree 9 of 100\n",
      "building tree 22 of 100\n",
      "building tree 4 of 100\n",
      "building tree 10 of 100\n",
      "building tree 23 of 100\n"
     ]
    },
    {
     "name": "stderr",
     "output_type": "stream",
     "text": [
      "[Parallel(n_jobs=1)]: Done   4 tasks       | elapsed:    0.8s\n"
     ]
    },
    {
     "name": "stdout",
     "output_type": "stream",
     "text": [
      "building tree 5 of 100\n",
      "building tree 24 of 100\n",
      "building tree 11 of 100\n",
      "building tree 6 of 100\n"
     ]
    },
    {
     "name": "stderr",
     "output_type": "stream",
     "text": [
      "[Parallel(n_jobs=1)]: Done  24 tasks       | elapsed:    4.2s\n"
     ]
    },
    {
     "name": "stdout",
     "output_type": "stream",
     "text": [
      "building tree 25 of 100\n",
      "building tree 12 of 100\n",
      "building tree 7 of 100\n",
      "building tree 26 of 100\n"
     ]
    },
    {
     "name": "stderr",
     "output_type": "stream",
     "text": [
      "[Parallel(n_jobs=1)]: Done  12 tasks       | elapsed:    2.2s\n"
     ]
    },
    {
     "name": "stdout",
     "output_type": "stream",
     "text": [
      "building tree 13 of 100\n",
      "building tree 27 of 100\n"
     ]
    },
    {
     "name": "stderr",
     "output_type": "stream",
     "text": [
      "[Parallel(n_jobs=1)]: Done   7 tasks       | elapsed:    1.4s\n"
     ]
    },
    {
     "name": "stdout",
     "output_type": "stream",
     "text": [
      "building tree 8 of 100\n",
      "building tree 14 of 100\n",
      "building tree 28 of 100\n",
      "building tree 15 of 100\n",
      "building tree 9 of 100\n",
      "building tree 16 of 100\n",
      "building tree 29 of 100\n",
      "building tree 17 of 100\n",
      "building tree 10 of 100\n",
      "building tree 30 of 100\n",
      "building tree 11 of 100\n",
      "building tree 31 of 100\n"
     ]
    },
    {
     "name": "stderr",
     "output_type": "stream",
     "text": [
      "[Parallel(n_jobs=1)]: Done  17 tasks       | elapsed:    3.1s\n"
     ]
    },
    {
     "name": "stdout",
     "output_type": "stream",
     "text": [
      "building tree 18 of 100\n"
     ]
    },
    {
     "name": "stderr",
     "output_type": "stream",
     "text": [
      "[Parallel(n_jobs=1)]: Done  31 tasks       | elapsed:    5.3s\n"
     ]
    },
    {
     "name": "stdout",
     "output_type": "stream",
     "text": [
      "building tree 32 of 100\n",
      "building tree 19 of 100\n",
      "building tree 12 of 100\n",
      "building tree 33 of 100\n",
      "building tree 20 of 100\n"
     ]
    },
    {
     "name": "stderr",
     "output_type": "stream",
     "text": [
      "[Parallel(n_jobs=1)]: Done  12 tasks       | elapsed:    2.5s\n"
     ]
    },
    {
     "name": "stdout",
     "output_type": "stream",
     "text": [
      "building tree 13 of 100\n",
      "building tree 34 of 100\n",
      "building tree 14 of 100\n",
      "building tree 21 of 100\n",
      "building tree 35 of 100\n",
      "building tree 15 of 100\n",
      "building tree 22 of 100\n",
      "building tree 16 of 100\n",
      "building tree 36 of 100\n",
      "building tree 17 of 100\n",
      "building tree 23 of 100\n",
      "building tree 37 of 100\n"
     ]
    },
    {
     "name": "stderr",
     "output_type": "stream",
     "text": [
      "[Parallel(n_jobs=1)]: Done  17 tasks       | elapsed:    3.2s\n"
     ]
    },
    {
     "name": "stdout",
     "output_type": "stream",
     "text": [
      "building tree 18 of 100\n",
      "building tree 24 of 100\n",
      "building tree 19 of 100\n",
      "building tree 38 of 100\n"
     ]
    },
    {
     "name": "stderr",
     "output_type": "stream",
     "text": [
      "[Parallel(n_jobs=1)]: Done  24 tasks       | elapsed:    4.3s\n"
     ]
    },
    {
     "name": "stdout",
     "output_type": "stream",
     "text": [
      "building tree 25 of 100\n",
      "building tree 20 of 100\n",
      "building tree 39 of 100\n",
      "building tree 26 of 100\n",
      "building tree 21 of 100\n",
      "building tree 40 of 100\n",
      "building tree 27 of 100\n",
      "building tree 22 of 100\n"
     ]
    },
    {
     "name": "stderr",
     "output_type": "stream",
     "text": [
      "[Parallel(n_jobs=1)]: Done  40 tasks       | elapsed:    6.9s\n"
     ]
    },
    {
     "name": "stdout",
     "output_type": "stream",
     "text": [
      "building tree 41 of 100\n",
      "building tree 28 of 100\n",
      "building tree 23 of 100\n",
      "building tree 42 of 100\n",
      "building tree 29 of 100\n",
      "building tree 24 of 100\n",
      "building tree 43 of 100\n",
      "building tree 30 of 100\n"
     ]
    },
    {
     "name": "stderr",
     "output_type": "stream",
     "text": [
      "[Parallel(n_jobs=1)]: Done  24 tasks       | elapsed:    4.2s\n"
     ]
    },
    {
     "name": "stdout",
     "output_type": "stream",
     "text": [
      "building tree 25 of 100\n",
      "building tree 44 of 100\n",
      "building tree 31 of 100\n",
      "building tree 26 of 100\n",
      "building tree 45 of 100\n",
      "building tree 27 of 100\n"
     ]
    },
    {
     "name": "stderr",
     "output_type": "stream",
     "text": [
      "[Parallel(n_jobs=1)]: Done  31 tasks       | elapsed:    5.4s\n"
     ]
    },
    {
     "name": "stdout",
     "output_type": "stream",
     "text": [
      "building tree 32 of 100\n",
      "building tree 28 of 100\n",
      "building tree 46 of 100\n",
      "building tree 33 of 100\n",
      "building tree 29 of 100\n",
      "building tree 34 of 100\n",
      "building tree 47 of 100\n",
      "building tree 35 of 100\n",
      "building tree 30 of 100\n",
      "building tree 48 of 100\n",
      "building tree 36 of 100\n",
      "building tree 31 of 100\n",
      "building tree 49 of 100\n",
      "building tree 37 of 100\n"
     ]
    },
    {
     "name": "stderr",
     "output_type": "stream",
     "text": [
      "[Parallel(n_jobs=1)]: Done  31 tasks       | elapsed:    5.3s\n"
     ]
    },
    {
     "name": "stdout",
     "output_type": "stream",
     "text": [
      "building tree 32 of 100\n"
     ]
    },
    {
     "name": "stderr",
     "output_type": "stream",
     "text": [
      "[Parallel(n_jobs=1)]: Done  49 tasks       | elapsed:    8.4s\n"
     ]
    },
    {
     "name": "stdout",
     "output_type": "stream",
     "text": [
      "building tree 50 of 100\n",
      "building tree 38 of 100\n",
      "building tree 33 of 100\n",
      "building tree 51 of 100\n",
      "building tree 39 of 100\n",
      "building tree 34 of 100\n",
      "building tree 52 of 100\n",
      "building tree 35 of 100\n",
      "building tree 40 of 100\n",
      "building tree 53 of 100\n",
      "building tree 36 of 100\n"
     ]
    },
    {
     "name": "stderr",
     "output_type": "stream",
     "text": [
      "[Parallel(n_jobs=1)]: Done  40 tasks       | elapsed:    6.9s\n"
     ]
    },
    {
     "name": "stdout",
     "output_type": "stream",
     "text": [
      "building tree 41 of 100\n",
      "building tree 54 of 100\n",
      "building tree 37 of 100\n",
      "building tree 42 of 100\n",
      "building tree 55 of 100\n",
      "building tree 38 of 100\n",
      "building tree 43 of 100\n",
      "building tree 56 of 100\n",
      "building tree 39 of 100\n",
      "building tree 44 of 100\n",
      "building tree 57 of 100\n",
      "building tree 58 of 100\n",
      "building tree 40 of 100\n",
      "building tree 45 of 100\n",
      "building tree 59 of 100\n"
     ]
    },
    {
     "name": "stderr",
     "output_type": "stream",
     "text": [
      "[Parallel(n_jobs=1)]: Done  40 tasks       | elapsed:    6.7s\n"
     ]
    },
    {
     "name": "stdout",
     "output_type": "stream",
     "text": [
      "building tree 41 of 100\n",
      "building tree 46 of 100\n",
      "building tree 42 of 100\n",
      "building tree 60 of 100\n",
      "building tree 47 of 100\n",
      "building tree 43 of 100\n"
     ]
    },
    {
     "name": "stderr",
     "output_type": "stream",
     "text": [
      "[Parallel(n_jobs=1)]: Done  60 tasks       | elapsed:   10.1s\n"
     ]
    },
    {
     "name": "stdout",
     "output_type": "stream",
     "text": [
      "building tree 61 of 100\n",
      "building tree 48 of 100\n",
      "building tree 44 of 100\n",
      "building tree 62 of 100\n",
      "building tree 49 of 100\n",
      "building tree 63 of 100\n",
      "building tree 45 of 100\n"
     ]
    },
    {
     "name": "stderr",
     "output_type": "stream",
     "text": [
      "[Parallel(n_jobs=1)]: Done  49 tasks       | elapsed:    8.3s\n"
     ]
    },
    {
     "name": "stdout",
     "output_type": "stream",
     "text": [
      "building tree 50 of 100\n",
      "building tree 64 of 100\n",
      "building tree 46 of 100\n",
      "building tree 51 of 100\n",
      "building tree 65 of 100\n",
      "building tree 47 of 100\n",
      "building tree 52 of 100\n",
      "building tree 66 of 100\n",
      "building tree 48 of 100\n",
      "building tree 53 of 100\n",
      "building tree 67 of 100\n",
      "building tree 49 of 100\n"
     ]
    },
    {
     "name": "stderr",
     "output_type": "stream",
     "text": [
      "[Parallel(n_jobs=1)]: Done  49 tasks       | elapsed:    8.1s\n"
     ]
    },
    {
     "name": "stdout",
     "output_type": "stream",
     "text": [
      "building tree 50 of 100\n",
      "building tree 54 of 100\n",
      "building tree 68 of 100\n",
      "building tree 51 of 100\n",
      "building tree 69 of 100\n",
      "building tree 55 of 100\n",
      "building tree 70 of 100\n",
      "building tree 52 of 100\n",
      "building tree 56 of 100\n",
      "building tree 71 of 100\n",
      "building tree 53 of 100\n",
      "building tree 57 of 100\n"
     ]
    },
    {
     "name": "stderr",
     "output_type": "stream",
     "text": [
      "[Parallel(n_jobs=1)]: Done  71 tasks       | elapsed:   11.7s\n"
     ]
    },
    {
     "name": "stdout",
     "output_type": "stream",
     "text": [
      "building tree 72 of 100\n",
      "building tree 54 of 100\n",
      "building tree 73 of 100\n",
      "building tree 58 of 100\n",
      "building tree 74 of 100\n",
      "building tree 55 of 100\n",
      "building tree 59 of 100\n",
      "building tree 75 of 100\n",
      "building tree 60 of 100\n",
      "building tree 56 of 100\n",
      "building tree 76 of 100\n"
     ]
    },
    {
     "name": "stderr",
     "output_type": "stream",
     "text": [
      "[Parallel(n_jobs=1)]: Done  60 tasks       | elapsed:   10.2s\n"
     ]
    },
    {
     "name": "stdout",
     "output_type": "stream",
     "text": [
      "building tree 61 of 100\n",
      "building tree 57 of 100\n",
      "building tree 77 of 100\n",
      "building tree 62 of 100\n",
      "building tree 78 of 100\n",
      "building tree 58 of 100\n",
      "building tree 63 of 100\n",
      "building tree 79 of 100\n",
      "building tree 59 of 100\n",
      "building tree 64 of 100\n",
      "building tree 80 of 100\n",
      "building tree 60 of 100\n",
      "building tree 65 of 100\n",
      "building tree 81 of 100\n"
     ]
    },
    {
     "name": "stderr",
     "output_type": "stream",
     "text": [
      "[Parallel(n_jobs=1)]: Done  60 tasks       | elapsed:   10.0s\n"
     ]
    },
    {
     "name": "stdout",
     "output_type": "stream",
     "text": [
      "building tree 61 of 100\n",
      "building tree 82 of 100\n",
      "building tree 66 of 100\n",
      "building tree 62 of 100\n",
      "building tree 67 of 100\n",
      "building tree 83 of 100\n",
      "building tree 63 of 100\n",
      "building tree 68 of 100\n",
      "building tree 84 of 100\n",
      "building tree 64 of 100\n",
      "building tree 69 of 100\n"
     ]
    },
    {
     "name": "stderr",
     "output_type": "stream",
     "text": [
      "[Parallel(n_jobs=1)]: Done  84 tasks       | elapsed:   13.7s\n"
     ]
    },
    {
     "name": "stdout",
     "output_type": "stream",
     "text": [
      "building tree 85 of 100\n",
      "building tree 65 of 100\n",
      "building tree 70 of 100\n",
      "building tree 86 of 100\n",
      "building tree 66 of 100\n",
      "building tree 71 of 100\n",
      "building tree 87 of 100\n",
      "building tree 67 of 100\n"
     ]
    },
    {
     "name": "stderr",
     "output_type": "stream",
     "text": [
      "[Parallel(n_jobs=1)]: Done  71 tasks       | elapsed:   12.0s\n"
     ]
    },
    {
     "name": "stdout",
     "output_type": "stream",
     "text": [
      "building tree 72 of 100\n",
      "building tree 88 of 100\n",
      "building tree 68 of 100\n",
      "building tree 73 of 100\n",
      "building tree 89 of 100\n",
      "building tree 74 of 100\n",
      "building tree 69 of 100\n",
      "building tree 90 of 100\n",
      "building tree 70 of 100\n",
      "building tree 75 of 100\n",
      "building tree 91 of 100\n",
      "building tree 71 of 100\n",
      "building tree 76 of 100\n",
      "building tree 92 of 100\n"
     ]
    },
    {
     "name": "stderr",
     "output_type": "stream",
     "text": [
      "[Parallel(n_jobs=1)]: Done  71 tasks       | elapsed:   11.8s\n"
     ]
    },
    {
     "name": "stdout",
     "output_type": "stream",
     "text": [
      "building tree 72 of 100\n",
      "building tree 77 of 100\n",
      "building tree 93 of 100\n",
      "building tree 73 of 100\n",
      "building tree 78 of 100\n",
      "building tree 94 of 100\n",
      "building tree 74 of 100\n",
      "building tree 79 of 100\n",
      "building tree 75 of 100\n",
      "building tree 95 of 100\n",
      "building tree 80 of 100\n",
      "building tree 96 of 100\n",
      "building tree 76 of 100\n",
      "building tree 97 of 100\n",
      "building tree 81 of 100\n",
      "building tree 77 of 100\n"
     ]
    },
    {
     "name": "stderr",
     "output_type": "stream",
     "text": [
      "[Parallel(n_jobs=1)]: Done  97 tasks       | elapsed:   15.9s\n"
     ]
    },
    {
     "name": "stdout",
     "output_type": "stream",
     "text": [
      "building tree 98 of 100\n",
      "building tree 78 of 100\n",
      "building tree 82 of 100\n",
      "building tree 99 of 100\n",
      "building tree 79 of 100\n",
      "building tree 83 of 100\n",
      "building tree 100 of 100\n",
      "building tree 80 of 100\n"
     ]
    },
    {
     "name": "stderr",
     "output_type": "stream",
     "text": [
      "[Parallel(n_jobs=1)]: Done 100 out of 100 | elapsed:   16.4s finished\n",
      "[Parallel(n_jobs=1)]: Done   1 tasks       | elapsed:    0.0s\n"
     ]
    },
    {
     "name": "stdout",
     "output_type": "stream",
     "text": [
      "building tree 84 of 100\n"
     ]
    },
    {
     "name": "stderr",
     "output_type": "stream",
     "text": [
      "[Parallel(n_jobs=1)]: Done   4 tasks       | elapsed:    0.1s\n"
     ]
    },
    {
     "name": "stdout",
     "output_type": "stream",
     "text": [
      "building tree 81 of 100\n"
     ]
    },
    {
     "name": "stderr",
     "output_type": "stream",
     "text": [
      "[Parallel(n_jobs=1)]: Done   7 tasks       | elapsed:    0.1s\n",
      "[Parallel(n_jobs=1)]: Done  12 tasks       | elapsed:    0.2s\n",
      "[Parallel(n_jobs=1)]: Done  84 tasks       | elapsed:   14.4s\n"
     ]
    },
    {
     "name": "stdout",
     "output_type": "stream",
     "text": [
      "building tree 85 of 100\n",
      "building tree 82 of 100\n"
     ]
    },
    {
     "name": "stderr",
     "output_type": "stream",
     "text": [
      "[Parallel(n_jobs=1)]: Done  17 tasks       | elapsed:    0.2s\n",
      "[Parallel(n_jobs=1)]: Done  24 tasks       | elapsed:    0.3s\n"
     ]
    },
    {
     "name": "stdout",
     "output_type": "stream",
     "text": [
      "building tree 86 of 100\n",
      "building tree 83 of 100\n"
     ]
    },
    {
     "name": "stderr",
     "output_type": "stream",
     "text": [
      "[Parallel(n_jobs=1)]: Done  31 tasks       | elapsed:    0.4s\n",
      "[Parallel(n_jobs=1)]: Done  40 tasks       | elapsed:    0.5s\n"
     ]
    },
    {
     "name": "stdout",
     "output_type": "stream",
     "text": [
      "building tree 84 of 100\n",
      "building tree 87 of 100\n"
     ]
    },
    {
     "name": "stderr",
     "output_type": "stream",
     "text": [
      "[Parallel(n_jobs=1)]: Done  49 tasks       | elapsed:    0.7s\n",
      "[Parallel(n_jobs=1)]: Done  84 tasks       | elapsed:   14.0s\n"
     ]
    },
    {
     "name": "stdout",
     "output_type": "stream",
     "text": [
      "building tree 88 of 100\n",
      "building tree 85 of 100\n"
     ]
    },
    {
     "name": "stderr",
     "output_type": "stream",
     "text": [
      "[Parallel(n_jobs=1)]: Done  60 tasks       | elapsed:    0.8s\n"
     ]
    },
    {
     "name": "stdout",
     "output_type": "stream",
     "text": [
      "building tree 86 of 100\n",
      "building tree 89 of 100\n"
     ]
    },
    {
     "name": "stderr",
     "output_type": "stream",
     "text": [
      "[Parallel(n_jobs=1)]: Done  71 tasks       | elapsed:    1.0s\n"
     ]
    },
    {
     "name": "stdout",
     "output_type": "stream",
     "text": [
      "building tree 90 of 100\n",
      "building tree 87 of 100\n",
      "building tree 91 of 100\n"
     ]
    },
    {
     "name": "stderr",
     "output_type": "stream",
     "text": [
      "[Parallel(n_jobs=1)]: Done  84 tasks       | elapsed:    1.1s\n"
     ]
    },
    {
     "name": "stdout",
     "output_type": "stream",
     "text": [
      "building tree 88 of 100\n",
      "building tree 92 of 100\n",
      "building tree 89 of 100\n"
     ]
    },
    {
     "name": "stderr",
     "output_type": "stream",
     "text": [
      "[Parallel(n_jobs=1)]: Done  97 tasks       | elapsed:    1.4s\n",
      "[Parallel(n_jobs=1)]: Done 100 out of 100 | elapsed:    1.4s finished\n"
     ]
    },
    {
     "name": "stdout",
     "output_type": "stream",
     "text": [
      "building tree 90 of 100\n",
      "building tree 93 of 100\n",
      "building tree 91 of 100\n",
      "building tree 94 of 100\n",
      "building tree 92 of 100\n",
      "building tree 95 of 100\n",
      "building tree 1 of 100\n",
      "building tree 93 of 100\n",
      "building tree 96 of 100\n"
     ]
    },
    {
     "name": "stderr",
     "output_type": "stream",
     "text": [
      "[Parallel(n_jobs=1)]: Done   1 tasks       | elapsed:    0.2s\n"
     ]
    },
    {
     "name": "stdout",
     "output_type": "stream",
     "text": [
      "building tree 2 of 100\n",
      "building tree 94 of 100\n",
      "building tree 97 of 100\n",
      "building tree 95 of 100\n"
     ]
    },
    {
     "name": "stderr",
     "output_type": "stream",
     "text": [
      "[Parallel(n_jobs=1)]: Done  97 tasks       | elapsed:   16.6s\n"
     ]
    },
    {
     "name": "stdout",
     "output_type": "stream",
     "text": [
      "building tree 98 of 100\n",
      "building tree 3 of 100\n",
      "building tree 96 of 100\n",
      "building tree 99 of 100\n",
      "building tree 4 of 100\n",
      "building tree 97 of 100\n",
      "building tree 100 of 100\n"
     ]
    },
    {
     "name": "stderr",
     "output_type": "stream",
     "text": [
      "[Parallel(n_jobs=1)]: Done   4 tasks       | elapsed:    0.8s\n"
     ]
    },
    {
     "name": "stdout",
     "output_type": "stream",
     "text": [
      "building tree 5 of 100\n"
     ]
    },
    {
     "name": "stderr",
     "output_type": "stream",
     "text": [
      "[Parallel(n_jobs=1)]: Done  97 tasks       | elapsed:   16.0s\n"
     ]
    },
    {
     "name": "stdout",
     "output_type": "stream",
     "text": [
      "building tree 98 of 100\n"
     ]
    },
    {
     "name": "stderr",
     "output_type": "stream",
     "text": [
      "[Parallel(n_jobs=1)]: Done 100 out of 100 | elapsed:   17.1s finished\n"
     ]
    },
    {
     "name": "stdout",
     "output_type": "stream",
     "text": [
      "building tree 99 of 100\n"
     ]
    },
    {
     "name": "stderr",
     "output_type": "stream",
     "text": [
      "[Parallel(n_jobs=1)]: Done   1 tasks       | elapsed:    0.0s\n"
     ]
    },
    {
     "name": "stdout",
     "output_type": "stream",
     "text": [
      "building tree 6 of 100\n"
     ]
    },
    {
     "name": "stderr",
     "output_type": "stream",
     "text": [
      "[Parallel(n_jobs=1)]: Done   4 tasks       | elapsed:    0.1s\n",
      "[Parallel(n_jobs=1)]: Done   7 tasks       | elapsed:    0.1s\n"
     ]
    },
    {
     "name": "stdout",
     "output_type": "stream",
     "text": [
      "building tree 100 of 100\n"
     ]
    },
    {
     "name": "stderr",
     "output_type": "stream",
     "text": [
      "[Parallel(n_jobs=1)]: Done  12 tasks       | elapsed:    0.1s\n",
      "[Parallel(n_jobs=1)]: Done  17 tasks       | elapsed:    0.2s\n"
     ]
    },
    {
     "name": "stdout",
     "output_type": "stream",
     "text": [
      "building tree 7 of 100\n"
     ]
    },
    {
     "name": "stderr",
     "output_type": "stream",
     "text": [
      "[Parallel(n_jobs=1)]: Done  24 tasks       | elapsed:    0.3s\n",
      "[Parallel(n_jobs=1)]: Done 100 out of 100 | elapsed:   16.5s finished\n",
      "[Parallel(n_jobs=1)]: Done   1 tasks       | elapsed:    0.0s\n",
      "[Parallel(n_jobs=1)]: Done   4 tasks       | elapsed:    0.1s\n",
      "[Parallel(n_jobs=1)]: Done  31 tasks       | elapsed:    0.4s\n",
      "[Parallel(n_jobs=1)]: Done   7 tasks       | elapsed:    1.3s\n"
     ]
    },
    {
     "name": "stdout",
     "output_type": "stream",
     "text": [
      "building tree 8 of 100\n"
     ]
    },
    {
     "name": "stderr",
     "output_type": "stream",
     "text": [
      "[Parallel(n_jobs=1)]: Done   7 tasks       | elapsed:    0.1s\n",
      "[Parallel(n_jobs=1)]: Done  12 tasks       | elapsed:    0.2s\n",
      "[Parallel(n_jobs=1)]: Done  40 tasks       | elapsed:    0.5s\n"
     ]
    },
    {
     "name": "stdout",
     "output_type": "stream",
     "text": [
      "building tree 9 of 100\n"
     ]
    },
    {
     "name": "stderr",
     "output_type": "stream",
     "text": [
      "[Parallel(n_jobs=1)]: Done  17 tasks       | elapsed:    0.2s\n",
      "[Parallel(n_jobs=1)]: Done  49 tasks       | elapsed:    0.6s\n"
     ]
    },
    {
     "name": "stdout",
     "output_type": "stream",
     "text": [
      "building tree 10 of 100\n"
     ]
    },
    {
     "name": "stderr",
     "output_type": "stream",
     "text": [
      "[Parallel(n_jobs=1)]: Done  24 tasks       | elapsed:    0.3s\n",
      "[Parallel(n_jobs=1)]: Done  60 tasks       | elapsed:    0.7s\n",
      "[Parallel(n_jobs=1)]: Done  31 tasks       | elapsed:    0.4s\n"
     ]
    },
    {
     "name": "stdout",
     "output_type": "stream",
     "text": [
      "building tree 11 of 100\n"
     ]
    },
    {
     "name": "stderr",
     "output_type": "stream",
     "text": [
      "[Parallel(n_jobs=1)]: Done  71 tasks       | elapsed:    0.9s\n",
      "[Parallel(n_jobs=1)]: Done  40 tasks       | elapsed:    0.5s\n",
      "[Parallel(n_jobs=1)]: Done  49 tasks       | elapsed:    0.6s\n"
     ]
    },
    {
     "name": "stdout",
     "output_type": "stream",
     "text": [
      "building tree 12 of 100\n"
     ]
    },
    {
     "name": "stderr",
     "output_type": "stream",
     "text": [
      "[Parallel(n_jobs=1)]: Done  84 tasks       | elapsed:    1.0s\n",
      "[Parallel(n_jobs=1)]: Done  12 tasks       | elapsed:    2.0s\n"
     ]
    },
    {
     "name": "stdout",
     "output_type": "stream",
     "text": [
      "building tree 13 of 100\n"
     ]
    },
    {
     "name": "stderr",
     "output_type": "stream",
     "text": [
      "[Parallel(n_jobs=1)]: Done  60 tasks       | elapsed:    0.8s\n",
      "[Parallel(n_jobs=1)]: Done  97 tasks       | elapsed:    1.2s\n"
     ]
    },
    {
     "name": "stdout",
     "output_type": "stream",
     "text": [
      "building tree 14 of 100\n"
     ]
    },
    {
     "name": "stderr",
     "output_type": "stream",
     "text": [
      "[Parallel(n_jobs=1)]: Done  71 tasks       | elapsed:    0.9s\n",
      "[Parallel(n_jobs=1)]: Done 100 out of 100 | elapsed:    1.2s finished\n"
     ]
    },
    {
     "name": "stdout",
     "output_type": "stream",
     "text": [
      "building tree 15 of 100\n"
     ]
    },
    {
     "name": "stderr",
     "output_type": "stream",
     "text": [
      "[Parallel(n_jobs=1)]: Done  84 tasks       | elapsed:    1.1s\n"
     ]
    },
    {
     "name": "stdout",
     "output_type": "stream",
     "text": [
      "building tree 16 of 100\n"
     ]
    },
    {
     "name": "stderr",
     "output_type": "stream",
     "text": [
      "[Parallel(n_jobs=1)]: Done  97 tasks       | elapsed:    1.2s\n",
      "[Parallel(n_jobs=1)]: Done 100 out of 100 | elapsed:    1.3s finished\n"
     ]
    },
    {
     "name": "stdout",
     "output_type": "stream",
     "text": [
      "building tree 17 of 100\n",
      "building tree 1 of 100\n"
     ]
    },
    {
     "name": "stderr",
     "output_type": "stream",
     "text": [
      "[Parallel(n_jobs=1)]: Done  17 tasks       | elapsed:    2.8s\n"
     ]
    },
    {
     "name": "stdout",
     "output_type": "stream",
     "text": [
      "building tree 18 of 100\n"
     ]
    },
    {
     "name": "stderr",
     "output_type": "stream",
     "text": [
      "[Parallel(n_jobs=1)]: Done   1 tasks       | elapsed:    0.1s\n"
     ]
    },
    {
     "name": "stdout",
     "output_type": "stream",
     "text": [
      "building tree 2 of 100\n",
      "building tree 19 of 100\n",
      "building tree 1 of 100\n",
      "building tree 3 of 100\n"
     ]
    },
    {
     "name": "stderr",
     "output_type": "stream",
     "text": [
      "[Parallel(n_jobs=1)]: Done   1 tasks       | elapsed:    0.1s\n"
     ]
    },
    {
     "name": "stdout",
     "output_type": "stream",
     "text": [
      "building tree 2 of 100\n",
      "building tree 20 of 100\n",
      "building tree 4 of 100\n",
      "building tree 21 of 100\n",
      "building tree 3 of 100\n",
      "building tree 22 of 100\n"
     ]
    },
    {
     "name": "stderr",
     "output_type": "stream",
     "text": [
      "[Parallel(n_jobs=1)]: Done   4 tasks       | elapsed:    0.7s\n"
     ]
    },
    {
     "name": "stdout",
     "output_type": "stream",
     "text": [
      "building tree 5 of 100\n",
      "building tree 4 of 100\n",
      "building tree 23 of 100\n"
     ]
    },
    {
     "name": "stderr",
     "output_type": "stream",
     "text": [
      "[Parallel(n_jobs=1)]: Done   4 tasks       | elapsed:    0.6s\n"
     ]
    },
    {
     "name": "stdout",
     "output_type": "stream",
     "text": [
      "building tree 5 of 100\n",
      "building tree 6 of 100\n",
      "building tree 24 of 100\n",
      "building tree 6 of 100\n",
      "building tree 7 of 100\n",
      "building tree 7 of 100\n"
     ]
    },
    {
     "name": "stderr",
     "output_type": "stream",
     "text": [
      "[Parallel(n_jobs=1)]: Done  24 tasks       | elapsed:    3.8s\n"
     ]
    },
    {
     "name": "stdout",
     "output_type": "stream",
     "text": [
      "building tree 25 of 100\n"
     ]
    },
    {
     "name": "stderr",
     "output_type": "stream",
     "text": [
      "[Parallel(n_jobs=1)]: Done   7 tasks       | elapsed:    1.2s\n"
     ]
    },
    {
     "name": "stdout",
     "output_type": "stream",
     "text": [
      "building tree 8 of 100\n"
     ]
    },
    {
     "name": "stderr",
     "output_type": "stream",
     "text": [
      "[Parallel(n_jobs=1)]: Done   7 tasks       | elapsed:    1.0s\n"
     ]
    },
    {
     "name": "stdout",
     "output_type": "stream",
     "text": [
      "building tree 9 of 100\n",
      "building tree 8 of 100\n",
      "building tree 26 of 100\n",
      "building tree 10 of 100\n",
      "building tree 9 of 100\n",
      "building tree 27 of 100\n",
      "building tree 11 of 100\n",
      "building tree 10 of 100\n",
      "building tree 28 of 100\n",
      "building tree 12 of 100\n",
      "building tree 11 of 100\n"
     ]
    },
    {
     "name": "stderr",
     "output_type": "stream",
     "text": [
      "[Parallel(n_jobs=1)]: Done  12 tasks       | elapsed:    1.9s\n"
     ]
    },
    {
     "name": "stdout",
     "output_type": "stream",
     "text": [
      "building tree 13 of 100\n",
      "building tree 29 of 100\n",
      "building tree 12 of 100\n",
      "building tree 30 of 100\n",
      "building tree 14 of 100\n"
     ]
    },
    {
     "name": "stderr",
     "output_type": "stream",
     "text": [
      "[Parallel(n_jobs=1)]: Done  12 tasks       | elapsed:    1.8s\n"
     ]
    },
    {
     "name": "stdout",
     "output_type": "stream",
     "text": [
      "building tree 13 of 100\n",
      "building tree 15 of 100\n",
      "building tree 31 of 100\n",
      "building tree 14 of 100\n",
      "building tree 16 of 100\n"
     ]
    },
    {
     "name": "stderr",
     "output_type": "stream",
     "text": [
      "[Parallel(n_jobs=1)]: Done  31 tasks       | elapsed:    5.1s\n"
     ]
    },
    {
     "name": "stdout",
     "output_type": "stream",
     "text": [
      "building tree 32 of 100\n",
      "building tree 15 of 100\n",
      "building tree 17 of 100\n",
      "building tree 16 of 100\n"
     ]
    },
    {
     "name": "stderr",
     "output_type": "stream",
     "text": [
      "[Parallel(n_jobs=1)]: Done  17 tasks       | elapsed:    2.6s\n"
     ]
    },
    {
     "name": "stdout",
     "output_type": "stream",
     "text": [
      "building tree 18 of 100\n",
      "building tree 33 of 100\n",
      "building tree 19 of 100\n",
      "building tree 17 of 100\n",
      "building tree 34 of 100\n",
      "building tree 20 of 100\n"
     ]
    },
    {
     "name": "stderr",
     "output_type": "stream",
     "text": [
      "[Parallel(n_jobs=1)]: Done  17 tasks       | elapsed:    2.6s\n"
     ]
    },
    {
     "name": "stdout",
     "output_type": "stream",
     "text": [
      "building tree 18 of 100\n",
      "building tree 35 of 100\n",
      "building tree 21 of 100\n",
      "building tree 19 of 100\n",
      "building tree 36 of 100\n",
      "building tree 22 of 100\n",
      "building tree 20 of 100\n",
      "building tree 37 of 100\n",
      "building tree 23 of 100\n",
      "building tree 21 of 100\n",
      "building tree 38 of 100\n",
      "building tree 24 of 100\n",
      "building tree 39 of 100\n",
      "building tree 22 of 100\n"
     ]
    },
    {
     "name": "stderr",
     "output_type": "stream",
     "text": [
      "[Parallel(n_jobs=1)]: Done  24 tasks       | elapsed:    3.6s\n"
     ]
    },
    {
     "name": "stdout",
     "output_type": "stream",
     "text": [
      "building tree 25 of 100\n",
      "building tree 26 of 100\n",
      "building tree 40 of 100\n",
      "building tree 23 of 100\n",
      "building tree 27 of 100\n",
      "building tree 24 of 100\n"
     ]
    },
    {
     "name": "stderr",
     "output_type": "stream",
     "text": [
      "[Parallel(n_jobs=1)]: Done  40 tasks       | elapsed:    6.6s\n"
     ]
    },
    {
     "name": "stdout",
     "output_type": "stream",
     "text": [
      "building tree 41 of 100\n",
      "building tree 28 of 100\n"
     ]
    },
    {
     "name": "stderr",
     "output_type": "stream",
     "text": [
      "[Parallel(n_jobs=1)]: Done  24 tasks       | elapsed:    3.8s\n"
     ]
    },
    {
     "name": "stdout",
     "output_type": "stream",
     "text": [
      "building tree 25 of 100\n",
      "building tree 42 of 100\n",
      "building tree 26 of 100\n",
      "building tree 29 of 100\n",
      "building tree 27 of 100\n",
      "building tree 43 of 100\n",
      "building tree 30 of 100\n",
      "building tree 28 of 100\n",
      "building tree 44 of 100\n",
      "building tree 31 of 100\n",
      "building tree 45 of 100\n",
      "building tree 29 of 100\n"
     ]
    },
    {
     "name": "stderr",
     "output_type": "stream",
     "text": [
      "[Parallel(n_jobs=1)]: Done  31 tasks       | elapsed:    4.6s\n"
     ]
    },
    {
     "name": "stdout",
     "output_type": "stream",
     "text": [
      "building tree 32 of 100\n",
      "building tree 46 of 100\n",
      "building tree 30 of 100\n",
      "building tree 33 of 100\n",
      "building tree 31 of 100\n",
      "building tree 47 of 100\n",
      "building tree 34 of 100\n",
      "building tree 48 of 100\n"
     ]
    },
    {
     "name": "stderr",
     "output_type": "stream",
     "text": [
      "[Parallel(n_jobs=1)]: Done  31 tasks       | elapsed:    4.8s\n"
     ]
    },
    {
     "name": "stdout",
     "output_type": "stream",
     "text": [
      "building tree 32 of 100\n",
      "building tree 35 of 100\n",
      "building tree 49 of 100\n",
      "building tree 33 of 100\n",
      "building tree 36 of 100\n"
     ]
    },
    {
     "name": "stderr",
     "output_type": "stream",
     "text": [
      "[Parallel(n_jobs=1)]: Done  49 tasks       | elapsed:    8.0s\n"
     ]
    },
    {
     "name": "stdout",
     "output_type": "stream",
     "text": [
      "building tree 50 of 100\n",
      "building tree 34 of 100\n",
      "building tree 37 of 100\n",
      "building tree 51 of 100\n",
      "building tree 35 of 100\n",
      "building tree 38 of 100\n",
      "building tree 52 of 100\n",
      "building tree 39 of 100\n",
      "building tree 36 of 100\n",
      "building tree 53 of 100\n",
      "building tree 40 of 100\n",
      "building tree 37 of 100\n",
      "building tree 54 of 100\n"
     ]
    },
    {
     "name": "stderr",
     "output_type": "stream",
     "text": [
      "[Parallel(n_jobs=1)]: Done  40 tasks       | elapsed:    6.0s\n"
     ]
    },
    {
     "name": "stdout",
     "output_type": "stream",
     "text": [
      "building tree 41 of 100\n",
      "building tree 55 of 100\n",
      "building tree 38 of 100\n",
      "building tree 42 of 100\n",
      "building tree 56 of 100\n",
      "building tree 39 of 100\n",
      "building tree 43 of 100\n",
      "building tree 57 of 100\n",
      "building tree 40 of 100\n",
      "building tree 44 of 100\n",
      "building tree 58 of 100\n"
     ]
    },
    {
     "name": "stderr",
     "output_type": "stream",
     "text": [
      "[Parallel(n_jobs=1)]: Done  40 tasks       | elapsed:    6.2s\n"
     ]
    },
    {
     "name": "stdout",
     "output_type": "stream",
     "text": [
      "building tree 41 of 100\n",
      "building tree 42 of 100\n",
      "building tree 45 of 100\n",
      "building tree 59 of 100\n",
      "building tree 46 of 100\n",
      "building tree 43 of 100\n",
      "building tree 60 of 100\n",
      "building tree 47 of 100\n",
      "building tree 44 of 100\n"
     ]
    },
    {
     "name": "stderr",
     "output_type": "stream",
     "text": [
      "[Parallel(n_jobs=1)]: Done  60 tasks       | elapsed:    9.6s\n"
     ]
    },
    {
     "name": "stdout",
     "output_type": "stream",
     "text": [
      "building tree 61 of 100\n",
      "building tree 48 of 100\n",
      "building tree 62 of 100\n",
      "building tree 45 of 100\n",
      "building tree 49 of 100\n",
      "building tree 63 of 100\n",
      "building tree 46 of 100\n"
     ]
    },
    {
     "name": "stderr",
     "output_type": "stream",
     "text": [
      "[Parallel(n_jobs=1)]: Done  49 tasks       | elapsed:    7.4s\n"
     ]
    },
    {
     "name": "stdout",
     "output_type": "stream",
     "text": [
      "building tree 64 of 100\n",
      "building tree 50 of 100\n",
      "building tree 47 of 100\n",
      "building tree 65 of 100\n",
      "building tree 51 of 100\n",
      "building tree 52 of 100\n",
      "building tree 48 of 100\n",
      "building tree 66 of 100\n",
      "building tree 53 of 100\n",
      "building tree 67 of 100\n",
      "building tree 49 of 100\n",
      "building tree 54 of 100\n"
     ]
    },
    {
     "name": "stderr",
     "output_type": "stream",
     "text": [
      "[Parallel(n_jobs=1)]: Done  49 tasks       | elapsed:    7.7s\n"
     ]
    },
    {
     "name": "stdout",
     "output_type": "stream",
     "text": [
      "building tree 50 of 100\n",
      "building tree 68 of 100\n",
      "building tree 55 of 100\n",
      "building tree 51 of 100\n",
      "building tree 69 of 100\n",
      "building tree 56 of 100\n",
      "building tree 52 of 100\n",
      "building tree 70 of 100\n",
      "building tree 57 of 100\n",
      "building tree 53 of 100\n",
      "building tree 71 of 100\n",
      "building tree 58 of 100\n"
     ]
    },
    {
     "name": "stderr",
     "output_type": "stream",
     "text": [
      "[Parallel(n_jobs=1)]: Done  71 tasks       | elapsed:   11.3s\n"
     ]
    },
    {
     "name": "stdout",
     "output_type": "stream",
     "text": [
      "building tree 72 of 100\n",
      "building tree 54 of 100\n",
      "building tree 59 of 100\n",
      "building tree 73 of 100\n",
      "building tree 55 of 100\n",
      "building tree 60 of 100\n",
      "building tree 74 of 100\n",
      "building tree 56 of 100\n"
     ]
    },
    {
     "name": "stderr",
     "output_type": "stream",
     "text": [
      "[Parallel(n_jobs=1)]: Done  60 tasks       | elapsed:    9.0s\n"
     ]
    },
    {
     "name": "stdout",
     "output_type": "stream",
     "text": [
      "building tree 61 of 100\n",
      "building tree 75 of 100\n",
      "building tree 57 of 100\n",
      "building tree 62 of 100\n",
      "building tree 76 of 100\n",
      "building tree 63 of 100\n",
      "building tree 58 of 100\n",
      "building tree 77 of 100\n",
      "building tree 64 of 100\n",
      "building tree 59 of 100\n",
      "building tree 65 of 100\n",
      "building tree 78 of 100\n",
      "building tree 60 of 100\n",
      "building tree 66 of 100\n",
      "building tree 79 of 100\n"
     ]
    },
    {
     "name": "stderr",
     "output_type": "stream",
     "text": [
      "[Parallel(n_jobs=1)]: Done  60 tasks       | elapsed:    9.5s\n"
     ]
    },
    {
     "name": "stdout",
     "output_type": "stream",
     "text": [
      "building tree 61 of 100\n",
      "building tree 67 of 100\n",
      "building tree 80 of 100\n",
      "building tree 68 of 100\n",
      "building tree 62 of 100\n",
      "building tree 69 of 100\n",
      "building tree 81 of 100\n",
      "building tree 63 of 100\n",
      "building tree 70 of 100\n",
      "building tree 82 of 100\n",
      "building tree 64 of 100\n",
      "building tree 71 of 100\n",
      "building tree 65 of 100\n",
      "building tree 83 of 100\n"
     ]
    },
    {
     "name": "stderr",
     "output_type": "stream",
     "text": [
      "[Parallel(n_jobs=1)]: Done  71 tasks       | elapsed:   10.5s\n"
     ]
    },
    {
     "name": "stdout",
     "output_type": "stream",
     "text": [
      "building tree 72 of 100\n",
      "building tree 66 of 100\n",
      "building tree 84 of 100\n",
      "building tree 73 of 100\n",
      "building tree 67 of 100\n",
      "building tree 68 of 100\n"
     ]
    },
    {
     "name": "stderr",
     "output_type": "stream",
     "text": [
      "[Parallel(n_jobs=1)]: Done  84 tasks       | elapsed:   13.5s\n"
     ]
    },
    {
     "name": "stdout",
     "output_type": "stream",
     "text": [
      "building tree 85 of 100\n",
      "building tree 74 of 100\n",
      "building tree 69 of 100\n",
      "building tree 86 of 100\n",
      "building tree 75 of 100\n",
      "building tree 87 of 100\n",
      "building tree 70 of 100\n",
      "building tree 76 of 100\n",
      "building tree 71 of 100\n",
      "building tree 88 of 100\n",
      "building tree 77 of 100\n"
     ]
    },
    {
     "name": "stderr",
     "output_type": "stream",
     "text": [
      "[Parallel(n_jobs=1)]: Done  71 tasks       | elapsed:   11.1s\n"
     ]
    },
    {
     "name": "stdout",
     "output_type": "stream",
     "text": [
      "building tree 72 of 100\n",
      "building tree 89 of 100\n",
      "building tree 78 of 100\n",
      "building tree 73 of 100\n",
      "building tree 90 of 100\n",
      "building tree 79 of 100\n",
      "building tree 74 of 100\n",
      "building tree 91 of 100\n",
      "building tree 80 of 100\n",
      "building tree 75 of 100\n",
      "building tree 76 of 100\n",
      "building tree 92 of 100\n",
      "building tree 81 of 100\n",
      "building tree 77 of 100\n",
      "building tree 82 of 100\n",
      "building tree 93 of 100\n",
      "building tree 83 of 100\n",
      "building tree 78 of 100\n",
      "building tree 94 of 100\n",
      "building tree 95 of 100\n",
      "building tree 84 of 100\n",
      "building tree 79 of 100\n",
      "building tree 96 of 100\n",
      "building tree 80 of 100\n"
     ]
    },
    {
     "name": "stderr",
     "output_type": "stream",
     "text": [
      "[Parallel(n_jobs=1)]: Done  84 tasks       | elapsed:   12.5s\n"
     ]
    },
    {
     "name": "stdout",
     "output_type": "stream",
     "text": [
      "building tree 85 of 100\n",
      "building tree 97 of 100\n",
      "building tree 81 of 100\n",
      "building tree 86 of 100\n",
      "building tree 87 of 100\n"
     ]
    },
    {
     "name": "stderr",
     "output_type": "stream",
     "text": [
      "[Parallel(n_jobs=1)]: Done  97 tasks       | elapsed:   15.5s\n"
     ]
    },
    {
     "name": "stdout",
     "output_type": "stream",
     "text": [
      "building tree 98 of 100\n",
      "building tree 82 of 100\n",
      "building tree 99 of 100\n",
      "building tree 88 of 100\n",
      "building tree 83 of 100\n",
      "building tree 100 of 100\n",
      "building tree 89 of 100\n",
      "building tree 84 of 100\n"
     ]
    },
    {
     "name": "stderr",
     "output_type": "stream",
     "text": [
      "[Parallel(n_jobs=1)]: Done 100 out of 100 | elapsed:   16.0s finished\n",
      "[Parallel(n_jobs=1)]: Done   1 tasks       | elapsed:    0.0s\n",
      "[Parallel(n_jobs=1)]: Done   4 tasks       | elapsed:    0.1s\n"
     ]
    },
    {
     "name": "stdout",
     "output_type": "stream",
     "text": [
      "building tree 90 of 100\n"
     ]
    },
    {
     "name": "stderr",
     "output_type": "stream",
     "text": [
      "[Parallel(n_jobs=1)]: Done  84 tasks       | elapsed:   13.1s\n"
     ]
    },
    {
     "name": "stdout",
     "output_type": "stream",
     "text": [
      "building tree 85 of 100\n"
     ]
    },
    {
     "name": "stderr",
     "output_type": "stream",
     "text": [
      "[Parallel(n_jobs=1)]: Done   7 tasks       | elapsed:    0.1s\n",
      "[Parallel(n_jobs=1)]: Done  12 tasks       | elapsed:    0.2s\n"
     ]
    },
    {
     "name": "stdout",
     "output_type": "stream",
     "text": [
      "building tree 91 of 100\n"
     ]
    },
    {
     "name": "stderr",
     "output_type": "stream",
     "text": [
      "[Parallel(n_jobs=1)]: Done  17 tasks       | elapsed:    0.2s\n"
     ]
    },
    {
     "name": "stdout",
     "output_type": "stream",
     "text": [
      "building tree 86 of 100\n"
     ]
    },
    {
     "name": "stderr",
     "output_type": "stream",
     "text": [
      "[Parallel(n_jobs=1)]: Done  24 tasks       | elapsed:    0.3s\n"
     ]
    },
    {
     "name": "stdout",
     "output_type": "stream",
     "text": [
      "building tree 92 of 100\n"
     ]
    },
    {
     "name": "stderr",
     "output_type": "stream",
     "text": [
      "[Parallel(n_jobs=1)]: Done  31 tasks       | elapsed:    0.4s\n"
     ]
    },
    {
     "name": "stdout",
     "output_type": "stream",
     "text": [
      "building tree 87 of 100\n",
      "building tree 93 of 100\n"
     ]
    },
    {
     "name": "stderr",
     "output_type": "stream",
     "text": [
      "[Parallel(n_jobs=1)]: Done  40 tasks       | elapsed:    0.5s\n"
     ]
    },
    {
     "name": "stdout",
     "output_type": "stream",
     "text": [
      "building tree 88 of 100\n"
     ]
    },
    {
     "name": "stderr",
     "output_type": "stream",
     "text": [
      "[Parallel(n_jobs=1)]: Done  49 tasks       | elapsed:    0.6s\n"
     ]
    },
    {
     "name": "stdout",
     "output_type": "stream",
     "text": [
      "building tree 94 of 100\n",
      "building tree 89 of 100\n"
     ]
    },
    {
     "name": "stderr",
     "output_type": "stream",
     "text": [
      "[Parallel(n_jobs=1)]: Done  60 tasks       | elapsed:    0.8s\n"
     ]
    },
    {
     "name": "stdout",
     "output_type": "stream",
     "text": [
      "building tree 95 of 100\n",
      "building tree 90 of 100\n",
      "building tree 96 of 100\n"
     ]
    },
    {
     "name": "stderr",
     "output_type": "stream",
     "text": [
      "[Parallel(n_jobs=1)]: Done  71 tasks       | elapsed:    0.9s\n"
     ]
    },
    {
     "name": "stdout",
     "output_type": "stream",
     "text": [
      "building tree 91 of 100\n",
      "building tree 97 of 100\n",
      "building tree 92 of 100\n"
     ]
    },
    {
     "name": "stderr",
     "output_type": "stream",
     "text": [
      "[Parallel(n_jobs=1)]: Done  84 tasks       | elapsed:    1.1s\n",
      "[Parallel(n_jobs=1)]: Done  97 tasks       | elapsed:   14.5s\n"
     ]
    },
    {
     "name": "stdout",
     "output_type": "stream",
     "text": [
      "building tree 93 of 100\n",
      "building tree 98 of 100\n"
     ]
    },
    {
     "name": "stderr",
     "output_type": "stream",
     "text": [
      "[Parallel(n_jobs=1)]: Done  97 tasks       | elapsed:    1.2s\n",
      "[Parallel(n_jobs=1)]: Done 100 out of 100 | elapsed:    1.3s finished\n"
     ]
    },
    {
     "name": "stdout",
     "output_type": "stream",
     "text": [
      "building tree 99 of 100\n",
      "building tree 94 of 100\n",
      "building tree 100 of 100\n",
      "building tree 95 of 100\n"
     ]
    },
    {
     "name": "stderr",
     "output_type": "stream",
     "text": [
      "[Parallel(n_jobs=1)]: Done 100 out of 100 | elapsed:   14.9s finished\n"
     ]
    },
    {
     "name": "stdout",
     "output_type": "stream",
     "text": [
      "building tree 96 of 100\n"
     ]
    },
    {
     "name": "stderr",
     "output_type": "stream",
     "text": [
      "[Parallel(n_jobs=1)]: Done   1 tasks       | elapsed:    0.0s\n",
      "[Parallel(n_jobs=1)]: Done   4 tasks       | elapsed:    0.1s\n"
     ]
    },
    {
     "name": "stdout",
     "output_type": "stream",
     "text": [
      "building tree 1 of 100\n"
     ]
    },
    {
     "name": "stderr",
     "output_type": "stream",
     "text": [
      "[Parallel(n_jobs=1)]: Done   7 tasks       | elapsed:    0.1s\n"
     ]
    },
    {
     "name": "stdout",
     "output_type": "stream",
     "text": [
      "building tree 97 of 100\n"
     ]
    },
    {
     "name": "stderr",
     "output_type": "stream",
     "text": [
      "[Parallel(n_jobs=1)]: Done  12 tasks       | elapsed:    0.2s\n",
      "[Parallel(n_jobs=1)]: Done  17 tasks       | elapsed:    0.2s\n",
      "[Parallel(n_jobs=1)]: Done   1 tasks       | elapsed:    0.2s\n"
     ]
    },
    {
     "name": "stdout",
     "output_type": "stream",
     "text": [
      "building tree 2 of 100\n"
     ]
    },
    {
     "name": "stderr",
     "output_type": "stream",
     "text": [
      "[Parallel(n_jobs=1)]: Done  97 tasks       | elapsed:   15.0s\n"
     ]
    },
    {
     "name": "stdout",
     "output_type": "stream",
     "text": [
      "building tree 98 of 100\n"
     ]
    },
    {
     "name": "stderr",
     "output_type": "stream",
     "text": [
      "[Parallel(n_jobs=1)]: Done  24 tasks       | elapsed:    0.3s\n",
      "[Parallel(n_jobs=1)]: Done  31 tasks       | elapsed:    0.4s\n"
     ]
    },
    {
     "name": "stdout",
     "output_type": "stream",
     "text": [
      "building tree 3 of 100\n",
      "building tree 99 of 100\n"
     ]
    },
    {
     "name": "stderr",
     "output_type": "stream",
     "text": [
      "[Parallel(n_jobs=1)]: Done  40 tasks       | elapsed:    0.5s\n"
     ]
    },
    {
     "name": "stdout",
     "output_type": "stream",
     "text": [
      "building tree 100 of 100\n",
      "building tree 4 of 100\n"
     ]
    },
    {
     "name": "stderr",
     "output_type": "stream",
     "text": [
      "[Parallel(n_jobs=1)]: Done  49 tasks       | elapsed:    0.6s\n",
      "[Parallel(n_jobs=1)]: Done 100 out of 100 | elapsed:   15.4s finished\n",
      "[Parallel(n_jobs=1)]: Done   1 tasks       | elapsed:    0.0s\n",
      "[Parallel(n_jobs=1)]: Done   4 tasks       | elapsed:    0.6s\n"
     ]
    },
    {
     "name": "stdout",
     "output_type": "stream",
     "text": [
      "building tree 5 of 100\n"
     ]
    },
    {
     "name": "stderr",
     "output_type": "stream",
     "text": [
      "[Parallel(n_jobs=1)]: Done   4 tasks       | elapsed:    0.1s\n",
      "[Parallel(n_jobs=1)]: Done  60 tasks       | elapsed:    0.7s\n",
      "[Parallel(n_jobs=1)]: Done   7 tasks       | elapsed:    0.1s\n"
     ]
    },
    {
     "name": "stdout",
     "output_type": "stream",
     "text": [
      "building tree 6 of 100\n"
     ]
    },
    {
     "name": "stderr",
     "output_type": "stream",
     "text": [
      "[Parallel(n_jobs=1)]: Done  12 tasks       | elapsed:    0.2s\n",
      "[Parallel(n_jobs=1)]: Done  71 tasks       | elapsed:    0.9s\n",
      "[Parallel(n_jobs=1)]: Done  17 tasks       | elapsed:    0.2s\n"
     ]
    },
    {
     "name": "stdout",
     "output_type": "stream",
     "text": [
      "building tree 7 of 100\n"
     ]
    },
    {
     "name": "stderr",
     "output_type": "stream",
     "text": [
      "[Parallel(n_jobs=1)]: Done  24 tasks       | elapsed:    0.3s\n",
      "[Parallel(n_jobs=1)]: Done  84 tasks       | elapsed:    1.0s\n",
      "[Parallel(n_jobs=1)]: Done  31 tasks       | elapsed:    0.4s\n",
      "[Parallel(n_jobs=1)]: Done   7 tasks       | elapsed:    1.0s\n"
     ]
    },
    {
     "name": "stdout",
     "output_type": "stream",
     "text": [
      "building tree 8 of 100\n"
     ]
    },
    {
     "name": "stderr",
     "output_type": "stream",
     "text": [
      "[Parallel(n_jobs=1)]: Done  40 tasks       | elapsed:    0.5s\n",
      "[Parallel(n_jobs=1)]: Done  97 tasks       | elapsed:    1.2s\n",
      "[Parallel(n_jobs=1)]: Done 100 out of 100 | elapsed:    1.2s finished\n"
     ]
    },
    {
     "name": "stdout",
     "output_type": "stream",
     "text": [
      "building tree 9 of 100\n"
     ]
    },
    {
     "name": "stderr",
     "output_type": "stream",
     "text": [
      "[Parallel(n_jobs=1)]: Done  49 tasks       | elapsed:    0.6s\n"
     ]
    },
    {
     "name": "stdout",
     "output_type": "stream",
     "text": [
      "building tree 10 of 100\n"
     ]
    },
    {
     "name": "stderr",
     "output_type": "stream",
     "text": [
      "[Parallel(n_jobs=1)]: Done  60 tasks       | elapsed:    0.8s\n"
     ]
    },
    {
     "name": "stdout",
     "output_type": "stream",
     "text": [
      "building tree 11 of 100\n"
     ]
    },
    {
     "name": "stderr",
     "output_type": "stream",
     "text": [
      "[Parallel(n_jobs=1)]: Done  71 tasks       | elapsed:    1.0s\n"
     ]
    },
    {
     "name": "stdout",
     "output_type": "stream",
     "text": [
      "building tree 1 of 100\n",
      "building tree 12 of 100\n"
     ]
    },
    {
     "name": "stderr",
     "output_type": "stream",
     "text": [
      "[Parallel(n_jobs=1)]: Done  84 tasks       | elapsed:    1.1s\n",
      "[Parallel(n_jobs=1)]: Done   1 tasks       | elapsed:    0.2s\n"
     ]
    },
    {
     "name": "stdout",
     "output_type": "stream",
     "text": [
      "building tree 2 of 100\n"
     ]
    },
    {
     "name": "stderr",
     "output_type": "stream",
     "text": [
      "[Parallel(n_jobs=1)]: Done  12 tasks       | elapsed:    1.9s\n"
     ]
    },
    {
     "name": "stdout",
     "output_type": "stream",
     "text": [
      "building tree 13 of 100\n",
      "building tree 3 of 100\n"
     ]
    },
    {
     "name": "stderr",
     "output_type": "stream",
     "text": [
      "[Parallel(n_jobs=1)]: Done  97 tasks       | elapsed:    1.3s\n",
      "[Parallel(n_jobs=1)]: Done 100 out of 100 | elapsed:    1.4s finished\n"
     ]
    },
    {
     "name": "stdout",
     "output_type": "stream",
     "text": [
      "building tree 14 of 100\n",
      "building tree 4 of 100\n",
      "building tree 15 of 100\n"
     ]
    },
    {
     "name": "stderr",
     "output_type": "stream",
     "text": [
      "[Parallel(n_jobs=1)]: Done   4 tasks       | elapsed:    0.8s\n"
     ]
    },
    {
     "name": "stdout",
     "output_type": "stream",
     "text": [
      "building tree 5 of 100\n",
      "building tree 16 of 100\n",
      "building tree 6 of 100\n",
      "building tree 1 of 100\n",
      "building tree 7 of 100\n",
      "building tree 17 of 100\n"
     ]
    },
    {
     "name": "stderr",
     "output_type": "stream",
     "text": [
      "[Parallel(n_jobs=1)]: Done   1 tasks       | elapsed:    0.1s\n"
     ]
    },
    {
     "name": "stdout",
     "output_type": "stream",
     "text": [
      "building tree 2 of 100\n"
     ]
    },
    {
     "name": "stderr",
     "output_type": "stream",
     "text": [
      "[Parallel(n_jobs=1)]: Done  17 tasks       | elapsed:    2.8s\n"
     ]
    },
    {
     "name": "stdout",
     "output_type": "stream",
     "text": [
      "building tree 18 of 100\n"
     ]
    },
    {
     "name": "stderr",
     "output_type": "stream",
     "text": [
      "[Parallel(n_jobs=1)]: Done   7 tasks       | elapsed:    1.3s\n"
     ]
    },
    {
     "name": "stdout",
     "output_type": "stream",
     "text": [
      "building tree 8 of 100\n",
      "building tree 3 of 100\n",
      "building tree 19 of 100\n",
      "building tree 4 of 100\n",
      "building tree 9 of 100\n"
     ]
    },
    {
     "name": "stderr",
     "output_type": "stream",
     "text": [
      "[Parallel(n_jobs=1)]: Done   4 tasks       | elapsed:    0.6s\n"
     ]
    },
    {
     "name": "stdout",
     "output_type": "stream",
     "text": [
      "building tree 5 of 100\n",
      "building tree 10 of 100\n",
      "building tree 20 of 100\n",
      "building tree 6 of 100\n",
      "building tree 11 of 100\n",
      "building tree 21 of 100\n",
      "building tree 7 of 100\n",
      "building tree 12 of 100\n",
      "building tree 22 of 100\n"
     ]
    },
    {
     "name": "stderr",
     "output_type": "stream",
     "text": [
      "[Parallel(n_jobs=1)]: Done   7 tasks       | elapsed:    1.1s\n"
     ]
    },
    {
     "name": "stdout",
     "output_type": "stream",
     "text": [
      "building tree 8 of 100\n"
     ]
    },
    {
     "name": "stderr",
     "output_type": "stream",
     "text": [
      "[Parallel(n_jobs=1)]: Done  12 tasks       | elapsed:    2.1s\n"
     ]
    },
    {
     "name": "stdout",
     "output_type": "stream",
     "text": [
      "building tree 13 of 100\n",
      "building tree 23 of 100\n",
      "building tree 14 of 100\n",
      "building tree 9 of 100\n",
      "building tree 24 of 100\n",
      "building tree 15 of 100\n",
      "building tree 10 of 100\n"
     ]
    },
    {
     "name": "stderr",
     "output_type": "stream",
     "text": [
      "[Parallel(n_jobs=1)]: Done  24 tasks       | elapsed:    4.1s\n"
     ]
    },
    {
     "name": "stdout",
     "output_type": "stream",
     "text": [
      "building tree 25 of 100\n",
      "building tree 16 of 100\n",
      "building tree 11 of 100\n",
      "building tree 26 of 100\n",
      "building tree 17 of 100\n",
      "building tree 12 of 100\n",
      "building tree 27 of 100\n"
     ]
    },
    {
     "name": "stderr",
     "output_type": "stream",
     "text": [
      "[Parallel(n_jobs=1)]: Done  17 tasks       | elapsed:    3.0s\n"
     ]
    },
    {
     "name": "stdout",
     "output_type": "stream",
     "text": [
      "building tree 18 of 100\n"
     ]
    },
    {
     "name": "stderr",
     "output_type": "stream",
     "text": [
      "[Parallel(n_jobs=1)]: Done  12 tasks       | elapsed:    2.1s\n"
     ]
    },
    {
     "name": "stdout",
     "output_type": "stream",
     "text": [
      "building tree 13 of 100\n",
      "building tree 19 of 100\n",
      "building tree 28 of 100\n",
      "building tree 29 of 100\n",
      "building tree 14 of 100\n",
      "building tree 20 of 100\n",
      "building tree 30 of 100\n",
      "building tree 21 of 100\n",
      "building tree 15 of 100\n",
      "building tree 22 of 100\n",
      "building tree 31 of 100\n",
      "building tree 16 of 100\n",
      "building tree 23 of 100\n"
     ]
    },
    {
     "name": "stderr",
     "output_type": "stream",
     "text": [
      "[Parallel(n_jobs=1)]: Done  31 tasks       | elapsed:    5.4s\n"
     ]
    },
    {
     "name": "stdout",
     "output_type": "stream",
     "text": [
      "building tree 32 of 100\n",
      "building tree 17 of 100\n",
      "building tree 24 of 100\n"
     ]
    },
    {
     "name": "stderr",
     "output_type": "stream",
     "text": [
      "[Parallel(n_jobs=1)]: Done  17 tasks       | elapsed:    3.0s\n"
     ]
    },
    {
     "name": "stdout",
     "output_type": "stream",
     "text": [
      "building tree 18 of 100\n",
      "building tree 33 of 100\n"
     ]
    },
    {
     "name": "stderr",
     "output_type": "stream",
     "text": [
      "[Parallel(n_jobs=1)]: Done  24 tasks       | elapsed:    4.1s\n"
     ]
    },
    {
     "name": "stdout",
     "output_type": "stream",
     "text": [
      "building tree 25 of 100\n",
      "building tree 19 of 100\n",
      "building tree 34 of 100\n",
      "building tree 26 of 100\n",
      "building tree 20 of 100\n",
      "building tree 35 of 100\n",
      "building tree 27 of 100\n",
      "building tree 21 of 100\n",
      "building tree 36 of 100\n",
      "building tree 22 of 100\n",
      "building tree 28 of 100\n",
      "building tree 37 of 100\n",
      "building tree 29 of 100\n",
      "building tree 23 of 100\n",
      "building tree 38 of 100\n",
      "building tree 30 of 100\n",
      "building tree 31 of 100\n",
      "building tree 24 of 100\n",
      "building tree 39 of 100\n"
     ]
    },
    {
     "name": "stderr",
     "output_type": "stream",
     "text": [
      "[Parallel(n_jobs=1)]: Done  24 tasks       | elapsed:    4.2s\n"
     ]
    },
    {
     "name": "stdout",
     "output_type": "stream",
     "text": [
      "building tree 25 of 100\n"
     ]
    },
    {
     "name": "stderr",
     "output_type": "stream",
     "text": [
      "[Parallel(n_jobs=1)]: Done  31 tasks       | elapsed:    5.2s\n"
     ]
    },
    {
     "name": "stdout",
     "output_type": "stream",
     "text": [
      "building tree 32 of 100\n",
      "building tree 40 of 100\n",
      "building tree 26 of 100\n",
      "building tree 33 of 100\n"
     ]
    },
    {
     "name": "stderr",
     "output_type": "stream",
     "text": [
      "[Parallel(n_jobs=1)]: Done  40 tasks       | elapsed:    7.0s\n"
     ]
    },
    {
     "name": "stdout",
     "output_type": "stream",
     "text": [
      "building tree 41 of 100\n",
      "building tree 27 of 100\n",
      "building tree 42 of 100\n",
      "building tree 34 of 100\n",
      "building tree 28 of 100\n",
      "building tree 43 of 100\n",
      "building tree 35 of 100\n",
      "building tree 29 of 100\n",
      "building tree 44 of 100\n",
      "building tree 36 of 100\n",
      "building tree 30 of 100\n",
      "building tree 45 of 100\n",
      "building tree 31 of 100\n",
      "building tree 37 of 100\n",
      "building tree 46 of 100\n",
      "building tree 47 of 100\n"
     ]
    },
    {
     "name": "stderr",
     "output_type": "stream",
     "text": [
      "[Parallel(n_jobs=1)]: Done  31 tasks       | elapsed:    5.3s\n"
     ]
    },
    {
     "name": "stdout",
     "output_type": "stream",
     "text": [
      "building tree 32 of 100\n",
      "building tree 38 of 100\n",
      "building tree 48 of 100\n",
      "building tree 39 of 100\n",
      "building tree 33 of 100\n",
      "building tree 49 of 100\n",
      "building tree 40 of 100\n",
      "building tree 34 of 100\n"
     ]
    },
    {
     "name": "stderr",
     "output_type": "stream",
     "text": [
      "[Parallel(n_jobs=1)]: Done  40 tasks       | elapsed:    6.7s\n"
     ]
    },
    {
     "name": "stdout",
     "output_type": "stream",
     "text": [
      "building tree 41 of 100\n"
     ]
    },
    {
     "name": "stderr",
     "output_type": "stream",
     "text": [
      "[Parallel(n_jobs=1)]: Done  49 tasks       | elapsed:    8.3s\n"
     ]
    },
    {
     "name": "stdout",
     "output_type": "stream",
     "text": [
      "building tree 50 of 100\n",
      "building tree 35 of 100\n",
      "building tree 42 of 100\n",
      "building tree 51 of 100\n",
      "building tree 43 of 100\n",
      "building tree 36 of 100\n",
      "building tree 52 of 100\n",
      "building tree 44 of 100\n",
      "building tree 53 of 100\n",
      "building tree 37 of 100\n",
      "building tree 45 of 100\n",
      "building tree 46 of 100\n",
      "building tree 54 of 100\n",
      "building tree 38 of 100\n",
      "building tree 55 of 100\n",
      "building tree 47 of 100\n",
      "building tree 39 of 100\n",
      "building tree 56 of 100\n",
      "building tree 48 of 100\n",
      "building tree 40 of 100\n",
      "building tree 57 of 100\n",
      "building tree 49 of 100\n"
     ]
    },
    {
     "name": "stderr",
     "output_type": "stream",
     "text": [
      "[Parallel(n_jobs=1)]: Done  40 tasks       | elapsed:    7.0s\n"
     ]
    },
    {
     "name": "stdout",
     "output_type": "stream",
     "text": [
      "building tree 41 of 100\n",
      "building tree 58 of 100\n",
      "building tree 42 of 100\n"
     ]
    },
    {
     "name": "stderr",
     "output_type": "stream",
     "text": [
      "[Parallel(n_jobs=1)]: Done  49 tasks       | elapsed:    8.2s\n"
     ]
    },
    {
     "name": "stdout",
     "output_type": "stream",
     "text": [
      "building tree 50 of 100\n",
      "building tree 43 of 100\n",
      "building tree 59 of 100\n",
      "building tree 51 of 100\n",
      "building tree 44 of 100\n",
      "building tree 52 of 100\n",
      "building tree 60 of 100\n",
      "building tree 45 of 100\n",
      "building tree 53 of 100\n"
     ]
    },
    {
     "name": "stderr",
     "output_type": "stream",
     "text": [
      "[Parallel(n_jobs=1)]: Done  60 tasks       | elapsed:   10.3s\n"
     ]
    },
    {
     "name": "stdout",
     "output_type": "stream",
     "text": [
      "building tree 61 of 100\n",
      "building tree 46 of 100\n",
      "building tree 54 of 100\n",
      "building tree 47 of 100\n",
      "building tree 62 of 100\n",
      "building tree 55 of 100\n",
      "building tree 48 of 100\n",
      "building tree 63 of 100\n",
      "building tree 56 of 100\n",
      "building tree 49 of 100\n",
      "building tree 57 of 100\n"
     ]
    },
    {
     "name": "stderr",
     "output_type": "stream",
     "text": [
      "[Parallel(n_jobs=1)]: Done  49 tasks       | elapsed:    8.4s\n"
     ]
    },
    {
     "name": "stdout",
     "output_type": "stream",
     "text": [
      "building tree 50 of 100\n",
      "building tree 64 of 100\n",
      "building tree 58 of 100\n",
      "building tree 51 of 100\n",
      "building tree 65 of 100\n",
      "building tree 59 of 100\n",
      "building tree 52 of 100\n",
      "building tree 60 of 100\n",
      "building tree 66 of 100\n",
      "building tree 53 of 100\n"
     ]
    },
    {
     "name": "stderr",
     "output_type": "stream",
     "text": [
      "[Parallel(n_jobs=1)]: Done  60 tasks       | elapsed:    9.9s\n"
     ]
    },
    {
     "name": "stdout",
     "output_type": "stream",
     "text": [
      "building tree 61 of 100\n",
      "building tree 54 of 100\n",
      "building tree 67 of 100\n",
      "building tree 62 of 100\n",
      "building tree 68 of 100\n",
      "building tree 55 of 100\n",
      "building tree 63 of 100\n",
      "building tree 56 of 100\n",
      "building tree 69 of 100\n",
      "building tree 57 of 100\n",
      "building tree 64 of 100\n",
      "building tree 70 of 100\n",
      "building tree 65 of 100\n",
      "building tree 58 of 100\n",
      "building tree 71 of 100\n"
     ]
    },
    {
     "name": "stderr",
     "output_type": "stream",
     "text": [
      "[Parallel(n_jobs=1)]: Done  71 tasks       | elapsed:   12.4s\n"
     ]
    },
    {
     "name": "stdout",
     "output_type": "stream",
     "text": [
      "building tree 72 of 100\n",
      "building tree 66 of 100\n",
      "building tree 59 of 100\n",
      "building tree 73 of 100\n",
      "building tree 67 of 100\n",
      "building tree 60 of 100\n",
      "building tree 74 of 100\n"
     ]
    },
    {
     "name": "stderr",
     "output_type": "stream",
     "text": [
      "[Parallel(n_jobs=1)]: Done  60 tasks       | elapsed:   10.1s\n"
     ]
    },
    {
     "name": "stdout",
     "output_type": "stream",
     "text": [
      "building tree 61 of 100\n",
      "building tree 68 of 100\n",
      "building tree 75 of 100\n",
      "building tree 69 of 100\n",
      "building tree 62 of 100\n",
      "building tree 76 of 100\n",
      "building tree 70 of 100\n",
      "building tree 63 of 100\n",
      "building tree 64 of 100\n",
      "building tree 77 of 100\n",
      "building tree 71 of 100\n",
      "building tree 78 of 100\n",
      "building tree 65 of 100\n"
     ]
    },
    {
     "name": "stderr",
     "output_type": "stream",
     "text": [
      "[Parallel(n_jobs=1)]: Done  71 tasks       | elapsed:   11.8s\n"
     ]
    },
    {
     "name": "stdout",
     "output_type": "stream",
     "text": [
      "building tree 72 of 100\n",
      "building tree 79 of 100\n",
      "building tree 66 of 100\n",
      "building tree 73 of 100\n",
      "building tree 80 of 100\n",
      "building tree 67 of 100\n",
      "building tree 74 of 100\n",
      "building tree 81 of 100\n",
      "building tree 75 of 100\n",
      "building tree 68 of 100\n",
      "building tree 82 of 100\n",
      "building tree 76 of 100\n",
      "building tree 69 of 100\n",
      "building tree 83 of 100\n",
      "building tree 77 of 100\n",
      "building tree 70 of 100\n",
      "building tree 84 of 100\n",
      "building tree 71 of 100\n",
      "building tree 78 of 100\n"
     ]
    },
    {
     "name": "stderr",
     "output_type": "stream",
     "text": [
      "[Parallel(n_jobs=1)]: Done  71 tasks       | elapsed:   12.0s\n"
     ]
    },
    {
     "name": "stdout",
     "output_type": "stream",
     "text": [
      "building tree 72 of 100\n"
     ]
    },
    {
     "name": "stderr",
     "output_type": "stream",
     "text": [
      "[Parallel(n_jobs=1)]: Done  84 tasks       | elapsed:   14.6s\n"
     ]
    },
    {
     "name": "stdout",
     "output_type": "stream",
     "text": [
      "building tree 85 of 100\n",
      "building tree 79 of 100\n",
      "building tree 73 of 100\n",
      "building tree 86 of 100\n",
      "building tree 80 of 100\n",
      "building tree 74 of 100\n",
      "building tree 81 of 100\n",
      "building tree 75 of 100\n",
      "building tree 87 of 100\n",
      "building tree 88 of 100\n",
      "building tree 82 of 100\n",
      "building tree 76 of 100\n",
      "building tree 89 of 100\n",
      "building tree 77 of 100\n",
      "building tree 83 of 100\n",
      "building tree 90 of 100\n",
      "building tree 78 of 100\n",
      "building tree 84 of 100\n",
      "building tree 91 of 100\n",
      "building tree 79 of 100\n"
     ]
    },
    {
     "name": "stderr",
     "output_type": "stream",
     "text": [
      "[Parallel(n_jobs=1)]: Done  84 tasks       | elapsed:   14.1s\n"
     ]
    },
    {
     "name": "stdout",
     "output_type": "stream",
     "text": [
      "building tree 85 of 100\n",
      "building tree 92 of 100\n",
      "building tree 86 of 100\n",
      "building tree 80 of 100\n",
      "building tree 93 of 100\n",
      "building tree 87 of 100\n",
      "building tree 81 of 100\n",
      "building tree 94 of 100\n",
      "building tree 88 of 100\n",
      "building tree 82 of 100\n",
      "building tree 95 of 100\n",
      "building tree 89 of 100\n",
      "building tree 83 of 100\n",
      "building tree 96 of 100\n",
      "building tree 90 of 100\n",
      "building tree 84 of 100\n",
      "building tree 97 of 100\n",
      "building tree 91 of 100\n"
     ]
    },
    {
     "name": "stderr",
     "output_type": "stream",
     "text": [
      "[Parallel(n_jobs=1)]: Done  84 tasks       | elapsed:   14.2s\n"
     ]
    },
    {
     "name": "stdout",
     "output_type": "stream",
     "text": [
      "building tree 85 of 100\n",
      "building tree 92 of 100\n"
     ]
    },
    {
     "name": "stderr",
     "output_type": "stream",
     "text": [
      "[Parallel(n_jobs=1)]: Done  97 tasks       | elapsed:   16.8s\n"
     ]
    },
    {
     "name": "stdout",
     "output_type": "stream",
     "text": [
      "building tree 98 of 100\n",
      "building tree 99 of 100\n",
      "building tree 86 of 100\n",
      "building tree 93 of 100\n",
      "building tree 100 of 100\n",
      "building tree 94 of 100\n",
      "building tree 87 of 100\n"
     ]
    },
    {
     "name": "stderr",
     "output_type": "stream",
     "text": [
      "[Parallel(n_jobs=1)]: Done 100 out of 100 | elapsed:   17.2s finished\n",
      "[Parallel(n_jobs=1)]: Done   1 tasks       | elapsed:    0.0s\n"
     ]
    },
    {
     "name": "stdout",
     "output_type": "stream",
     "text": [
      "building tree 95 of 100\n",
      "building tree 88 of 100\n"
     ]
    },
    {
     "name": "stderr",
     "output_type": "stream",
     "text": [
      "[Parallel(n_jobs=1)]: Done   4 tasks       | elapsed:    0.1s\n",
      "[Parallel(n_jobs=1)]: Done   7 tasks       | elapsed:    0.1s\n",
      "[Parallel(n_jobs=1)]: Done  12 tasks       | elapsed:    0.2s\n"
     ]
    },
    {
     "name": "stdout",
     "output_type": "stream",
     "text": [
      "building tree 89 of 100\n",
      "building tree 96 of 100\n"
     ]
    },
    {
     "name": "stderr",
     "output_type": "stream",
     "text": [
      "[Parallel(n_jobs=1)]: Done  17 tasks       | elapsed:    0.2s\n",
      "[Parallel(n_jobs=1)]: Done  24 tasks       | elapsed:    0.3s\n"
     ]
    },
    {
     "name": "stdout",
     "output_type": "stream",
     "text": [
      "building tree 90 of 100\n",
      "building tree 97 of 100\n"
     ]
    },
    {
     "name": "stderr",
     "output_type": "stream",
     "text": [
      "[Parallel(n_jobs=1)]: Done  31 tasks       | elapsed:    0.4s\n",
      "[Parallel(n_jobs=1)]: Done  97 tasks       | elapsed:   16.1s\n"
     ]
    },
    {
     "name": "stdout",
     "output_type": "stream",
     "text": [
      "building tree 98 of 100\n",
      "building tree 91 of 100\n"
     ]
    },
    {
     "name": "stderr",
     "output_type": "stream",
     "text": [
      "[Parallel(n_jobs=1)]: Done  40 tasks       | elapsed:    0.6s\n"
     ]
    },
    {
     "name": "stdout",
     "output_type": "stream",
     "text": [
      "building tree 99 of 100\n"
     ]
    },
    {
     "name": "stderr",
     "output_type": "stream",
     "text": [
      "[Parallel(n_jobs=1)]: Done  49 tasks       | elapsed:    0.7s\n"
     ]
    },
    {
     "name": "stdout",
     "output_type": "stream",
     "text": [
      "building tree 92 of 100\n",
      "building tree 100 of 100\n",
      "building tree 93 of 100\n"
     ]
    },
    {
     "name": "stderr",
     "output_type": "stream",
     "text": [
      "[Parallel(n_jobs=1)]: Done  60 tasks       | elapsed:    0.9s\n",
      "[Parallel(n_jobs=1)]: Done 100 out of 100 | elapsed:   16.6s finished\n"
     ]
    },
    {
     "name": "stdout",
     "output_type": "stream",
     "text": [
      "building tree 94 of 100\n"
     ]
    },
    {
     "name": "stderr",
     "output_type": "stream",
     "text": [
      "[Parallel(n_jobs=1)]: Done   1 tasks       | elapsed:    0.0s\n",
      "[Parallel(n_jobs=1)]: Done  71 tasks       | elapsed:    1.0s\n",
      "[Parallel(n_jobs=1)]: Done   4 tasks       | elapsed:    0.1s\n",
      "[Parallel(n_jobs=1)]: Done   7 tasks       | elapsed:    0.1s\n"
     ]
    },
    {
     "name": "stdout",
     "output_type": "stream",
     "text": [
      "building tree 95 of 100\n"
     ]
    },
    {
     "name": "stderr",
     "output_type": "stream",
     "text": [
      "[Parallel(n_jobs=1)]: Done  12 tasks       | elapsed:    0.2s\n",
      "[Parallel(n_jobs=1)]: Done  84 tasks       | elapsed:    1.2s\n",
      "[Parallel(n_jobs=1)]: Done  17 tasks       | elapsed:    0.3s\n"
     ]
    },
    {
     "name": "stdout",
     "output_type": "stream",
     "text": [
      "building tree 96 of 100\n"
     ]
    },
    {
     "name": "stderr",
     "output_type": "stream",
     "text": [
      "[Parallel(n_jobs=1)]: Done  24 tasks       | elapsed:    0.4s\n",
      "[Parallel(n_jobs=1)]: Done  97 tasks       | elapsed:    1.4s\n",
      "[Parallel(n_jobs=1)]: Done 100 out of 100 | elapsed:    1.4s finished\n",
      "[Parallel(n_jobs=1)]: Done  31 tasks       | elapsed:    0.4s\n"
     ]
    },
    {
     "name": "stdout",
     "output_type": "stream",
     "text": [
      "building tree 97 of 100\n"
     ]
    },
    {
     "name": "stderr",
     "output_type": "stream",
     "text": [
      "[Parallel(n_jobs=1)]: Done  40 tasks       | elapsed:    0.6s\n",
      "[Parallel(n_jobs=1)]: Done  97 tasks       | elapsed:   16.3s\n"
     ]
    },
    {
     "name": "stdout",
     "output_type": "stream",
     "text": [
      "building tree 98 of 100\n"
     ]
    },
    {
     "name": "stderr",
     "output_type": "stream",
     "text": [
      "[Parallel(n_jobs=1)]: Done  49 tasks       | elapsed:    0.7s\n"
     ]
    },
    {
     "name": "stdout",
     "output_type": "stream",
     "text": [
      "building tree 99 of 100\n"
     ]
    },
    {
     "name": "stderr",
     "output_type": "stream",
     "text": [
      "[Parallel(n_jobs=1)]: Done  60 tasks       | elapsed:    0.9s\n"
     ]
    },
    {
     "name": "stdout",
     "output_type": "stream",
     "text": [
      "building tree 1 of 100\n",
      "building tree 100 of 100\n"
     ]
    },
    {
     "name": "stderr",
     "output_type": "stream",
     "text": [
      "[Parallel(n_jobs=1)]: Done  71 tasks       | elapsed:    1.0s\n",
      "[Parallel(n_jobs=1)]: Done   1 tasks       | elapsed:    0.2s\n"
     ]
    },
    {
     "name": "stdout",
     "output_type": "stream",
     "text": [
      "building tree 2 of 100\n"
     ]
    },
    {
     "name": "stderr",
     "output_type": "stream",
     "text": [
      "[Parallel(n_jobs=1)]: Done 100 out of 100 | elapsed:   16.7s finished\n",
      "[Parallel(n_jobs=1)]: Done   1 tasks       | elapsed:    0.0s\n",
      "[Parallel(n_jobs=1)]: Done   4 tasks       | elapsed:    0.1s\n",
      "[Parallel(n_jobs=1)]: Done  84 tasks       | elapsed:    1.2s\n",
      "[Parallel(n_jobs=1)]: Done   7 tasks       | elapsed:    0.1s\n"
     ]
    },
    {
     "name": "stdout",
     "output_type": "stream",
     "text": [
      "building tree 3 of 100\n"
     ]
    },
    {
     "name": "stderr",
     "output_type": "stream",
     "text": [
      "[Parallel(n_jobs=1)]: Done  12 tasks       | elapsed:    0.2s\n",
      "[Parallel(n_jobs=1)]: Done  17 tasks       | elapsed:    0.2s\n",
      "[Parallel(n_jobs=1)]: Done  97 tasks       | elapsed:    1.4s\n"
     ]
    },
    {
     "name": "stdout",
     "output_type": "stream",
     "text": [
      "building tree 4 of 100\n"
     ]
    },
    {
     "name": "stderr",
     "output_type": "stream",
     "text": [
      "[Parallel(n_jobs=1)]: Done 100 out of 100 | elapsed:    1.4s finished\n",
      "[Parallel(n_jobs=1)]: Done  24 tasks       | elapsed:    0.3s\n",
      "[Parallel(n_jobs=1)]: Done  31 tasks       | elapsed:    0.5s\n",
      "[Parallel(n_jobs=1)]: Done   4 tasks       | elapsed:    0.8s\n"
     ]
    },
    {
     "name": "stdout",
     "output_type": "stream",
     "text": [
      "building tree 5 of 100\n"
     ]
    },
    {
     "name": "stderr",
     "output_type": "stream",
     "text": [
      "[Parallel(n_jobs=1)]: Done  40 tasks       | elapsed:    0.6s\n"
     ]
    },
    {
     "name": "stdout",
     "output_type": "stream",
     "text": [
      "building tree 6 of 100\n"
     ]
    },
    {
     "name": "stderr",
     "output_type": "stream",
     "text": [
      "[Parallel(n_jobs=1)]: Done  49 tasks       | elapsed:    0.7s\n"
     ]
    },
    {
     "name": "stdout",
     "output_type": "stream",
     "text": [
      "building tree 7 of 100\n",
      "building tree 1 of 100\n"
     ]
    },
    {
     "name": "stderr",
     "output_type": "stream",
     "text": [
      "[Parallel(n_jobs=1)]: Done  60 tasks       | elapsed:    0.9s\n",
      "[Parallel(n_jobs=1)]: Done   1 tasks       | elapsed:    0.2s\n"
     ]
    },
    {
     "name": "stdout",
     "output_type": "stream",
     "text": [
      "building tree 2 of 100\n"
     ]
    },
    {
     "name": "stderr",
     "output_type": "stream",
     "text": [
      "[Parallel(n_jobs=1)]: Done   7 tasks       | elapsed:    1.2s\n"
     ]
    },
    {
     "name": "stdout",
     "output_type": "stream",
     "text": [
      "building tree 8 of 100\n"
     ]
    },
    {
     "name": "stderr",
     "output_type": "stream",
     "text": [
      "[Parallel(n_jobs=1)]: Done  71 tasks       | elapsed:    1.0s\n"
     ]
    },
    {
     "name": "stdout",
     "output_type": "stream",
     "text": [
      "building tree 3 of 100\n",
      "building tree 9 of 100\n"
     ]
    },
    {
     "name": "stderr",
     "output_type": "stream",
     "text": [
      "[Parallel(n_jobs=1)]: Done  84 tasks       | elapsed:    1.2s\n"
     ]
    },
    {
     "name": "stdout",
     "output_type": "stream",
     "text": [
      "building tree 4 of 100\n",
      "building tree 10 of 100\n"
     ]
    },
    {
     "name": "stderr",
     "output_type": "stream",
     "text": [
      "[Parallel(n_jobs=1)]: Done  97 tasks       | elapsed:    1.4s\n",
      "[Parallel(n_jobs=1)]: Done   4 tasks       | elapsed:    0.7s\n"
     ]
    },
    {
     "name": "stdout",
     "output_type": "stream",
     "text": [
      "building tree 5 of 100\n"
     ]
    },
    {
     "name": "stderr",
     "output_type": "stream",
     "text": [
      "[Parallel(n_jobs=1)]: Done 100 out of 100 | elapsed:    1.4s finished\n"
     ]
    },
    {
     "name": "stdout",
     "output_type": "stream",
     "text": [
      "building tree 11 of 100\n",
      "building tree 6 of 100\n",
      "building tree 12 of 100\n",
      "building tree 7 of 100\n"
     ]
    },
    {
     "name": "stderr",
     "output_type": "stream",
     "text": [
      "[Parallel(n_jobs=1)]: Done  12 tasks       | elapsed:    2.1s\n"
     ]
    },
    {
     "name": "stdout",
     "output_type": "stream",
     "text": [
      "building tree 13 of 100\n"
     ]
    },
    {
     "name": "stderr",
     "output_type": "stream",
     "text": [
      "[Parallel(n_jobs=1)]: Done   7 tasks       | elapsed:    1.1s\n"
     ]
    },
    {
     "name": "stdout",
     "output_type": "stream",
     "text": [
      "building tree 8 of 100\n",
      "building tree 1 of 100\n",
      "building tree 14 of 100\n",
      "building tree 9 of 100\n"
     ]
    },
    {
     "name": "stderr",
     "output_type": "stream",
     "text": [
      "[Parallel(n_jobs=1)]: Done   1 tasks       | elapsed:    0.2s\n"
     ]
    },
    {
     "name": "stdout",
     "output_type": "stream",
     "text": [
      "building tree 2 of 100\n",
      "building tree 15 of 100\n",
      "building tree 10 of 100\n",
      "building tree 3 of 100\n",
      "building tree 16 of 100\n",
      "building tree 11 of 100\n",
      "building tree 4 of 100\n",
      "building tree 17 of 100\n",
      "building tree 12 of 100\n"
     ]
    },
    {
     "name": "stderr",
     "output_type": "stream",
     "text": [
      "[Parallel(n_jobs=1)]: Done   4 tasks       | elapsed:    0.7s\n"
     ]
    },
    {
     "name": "stdout",
     "output_type": "stream",
     "text": [
      "building tree 5 of 100\n"
     ]
    },
    {
     "name": "stderr",
     "output_type": "stream",
     "text": [
      "[Parallel(n_jobs=1)]: Done  12 tasks       | elapsed:    2.0s\n"
     ]
    },
    {
     "name": "stdout",
     "output_type": "stream",
     "text": [
      "building tree 13 of 100\n"
     ]
    },
    {
     "name": "stderr",
     "output_type": "stream",
     "text": [
      "[Parallel(n_jobs=1)]: Done  17 tasks       | elapsed:    3.0s\n"
     ]
    },
    {
     "name": "stdout",
     "output_type": "stream",
     "text": [
      "building tree 18 of 100\n",
      "building tree 6 of 100\n",
      "building tree 19 of 100\n",
      "building tree 14 of 100\n",
      "building tree 20 of 100\n",
      "building tree 7 of 100\n",
      "building tree 15 of 100\n",
      "building tree 21 of 100\n",
      "building tree 16 of 100\n"
     ]
    },
    {
     "name": "stderr",
     "output_type": "stream",
     "text": [
      "[Parallel(n_jobs=1)]: Done   7 tasks       | elapsed:    1.3s\n"
     ]
    },
    {
     "name": "stdout",
     "output_type": "stream",
     "text": [
      "building tree 8 of 100\n",
      "building tree 22 of 100\n",
      "building tree 17 of 100\n",
      "building tree 9 of 100\n",
      "building tree 23 of 100\n"
     ]
    },
    {
     "name": "stderr",
     "output_type": "stream",
     "text": [
      "[Parallel(n_jobs=1)]: Done  17 tasks       | elapsed:    2.8s\n"
     ]
    },
    {
     "name": "stdout",
     "output_type": "stream",
     "text": [
      "building tree 18 of 100\n",
      "building tree 10 of 100\n",
      "building tree 24 of 100\n",
      "building tree 19 of 100\n"
     ]
    },
    {
     "name": "stderr",
     "output_type": "stream",
     "text": [
      "[Parallel(n_jobs=1)]: Done  24 tasks       | elapsed:    4.1s\n"
     ]
    },
    {
     "name": "stdout",
     "output_type": "stream",
     "text": [
      "building tree 25 of 100\n",
      "building tree 11 of 100\n",
      "building tree 20 of 100\n",
      "building tree 12 of 100\n",
      "building tree 26 of 100\n",
      "building tree 21 of 100\n"
     ]
    },
    {
     "name": "stderr",
     "output_type": "stream",
     "text": [
      "[Parallel(n_jobs=1)]: Done  12 tasks       | elapsed:    2.3s\n"
     ]
    },
    {
     "name": "stdout",
     "output_type": "stream",
     "text": [
      "building tree 13 of 100\n",
      "building tree 27 of 100\n",
      "building tree 22 of 100\n",
      "building tree 28 of 100\n",
      "building tree 14 of 100\n",
      "building tree 23 of 100\n",
      "building tree 24 of 100\n",
      "building tree 15 of 100\n",
      "building tree 29 of 100\n"
     ]
    },
    {
     "name": "stderr",
     "output_type": "stream",
     "text": [
      "[Parallel(n_jobs=1)]: Done  24 tasks       | elapsed:    3.9s\n"
     ]
    },
    {
     "name": "stdout",
     "output_type": "stream",
     "text": [
      "building tree 25 of 100\n",
      "building tree 30 of 100\n",
      "building tree 16 of 100\n",
      "building tree 31 of 100\n",
      "building tree 26 of 100\n",
      "building tree 17 of 100\n"
     ]
    },
    {
     "name": "stderr",
     "output_type": "stream",
     "text": [
      "[Parallel(n_jobs=1)]: Done  31 tasks       | elapsed:    5.3s\n"
     ]
    },
    {
     "name": "stdout",
     "output_type": "stream",
     "text": [
      "building tree 32 of 100\n",
      "building tree 27 of 100\n"
     ]
    },
    {
     "name": "stderr",
     "output_type": "stream",
     "text": [
      "[Parallel(n_jobs=1)]: Done  17 tasks       | elapsed:    3.2s\n"
     ]
    },
    {
     "name": "stdout",
     "output_type": "stream",
     "text": [
      "building tree 18 of 100\n",
      "building tree 33 of 100\n",
      "building tree 28 of 100\n",
      "building tree 19 of 100\n",
      "building tree 34 of 100\n",
      "building tree 20 of 100\n",
      "building tree 29 of 100\n",
      "building tree 21 of 100\n",
      "building tree 35 of 100\n",
      "building tree 30 of 100\n",
      "building tree 22 of 100\n",
      "building tree 36 of 100\n",
      "building tree 31 of 100\n",
      "building tree 37 of 100\n",
      "building tree 23 of 100\n"
     ]
    },
    {
     "name": "stderr",
     "output_type": "stream",
     "text": [
      "[Parallel(n_jobs=1)]: Done  31 tasks       | elapsed:    5.2s\n"
     ]
    },
    {
     "name": "stdout",
     "output_type": "stream",
     "text": [
      "building tree 32 of 100\n",
      "building tree 38 of 100\n",
      "building tree 24 of 100\n",
      "building tree 33 of 100\n",
      "building tree 39 of 100\n"
     ]
    },
    {
     "name": "stderr",
     "output_type": "stream",
     "text": [
      "[Parallel(n_jobs=1)]: Done  24 tasks       | elapsed:    4.3s\n"
     ]
    },
    {
     "name": "stdout",
     "output_type": "stream",
     "text": [
      "building tree 25 of 100\n",
      "building tree 34 of 100\n",
      "building tree 40 of 100\n",
      "building tree 26 of 100\n",
      "building tree 35 of 100\n"
     ]
    },
    {
     "name": "stderr",
     "output_type": "stream",
     "text": [
      "[Parallel(n_jobs=1)]: Done  40 tasks       | elapsed:    6.8s\n"
     ]
    },
    {
     "name": "stdout",
     "output_type": "stream",
     "text": [
      "building tree 41 of 100\n",
      "building tree 27 of 100\n",
      "building tree 36 of 100\n",
      "building tree 28 of 100\n",
      "building tree 42 of 100\n",
      "building tree 37 of 100\n",
      "building tree 29 of 100\n",
      "building tree 43 of 100\n",
      "building tree 38 of 100\n",
      "building tree 30 of 100\n",
      "building tree 44 of 100\n",
      "building tree 31 of 100\n",
      "building tree 39 of 100\n",
      "building tree 45 of 100\n"
     ]
    },
    {
     "name": "stderr",
     "output_type": "stream",
     "text": [
      "[Parallel(n_jobs=1)]: Done  31 tasks       | elapsed:    5.4s\n"
     ]
    },
    {
     "name": "stdout",
     "output_type": "stream",
     "text": [
      "building tree 32 of 100\n",
      "building tree 46 of 100\n",
      "building tree 40 of 100\n",
      "building tree 33 of 100\n"
     ]
    },
    {
     "name": "stderr",
     "output_type": "stream",
     "text": [
      "[Parallel(n_jobs=1)]: Done  40 tasks       | elapsed:    6.8s\n"
     ]
    },
    {
     "name": "stdout",
     "output_type": "stream",
     "text": [
      "building tree 41 of 100\n",
      "building tree 47 of 100\n",
      "building tree 34 of 100\n",
      "building tree 48 of 100\n",
      "building tree 42 of 100\n",
      "building tree 35 of 100\n",
      "building tree 43 of 100\n",
      "building tree 49 of 100\n",
      "building tree 36 of 100\n",
      "building tree 37 of 100\n",
      "building tree 44 of 100\n"
     ]
    },
    {
     "name": "stderr",
     "output_type": "stream",
     "text": [
      "[Parallel(n_jobs=1)]: Done  49 tasks       | elapsed:    8.4s\n"
     ]
    },
    {
     "name": "stdout",
     "output_type": "stream",
     "text": [
      "building tree 50 of 100\n",
      "building tree 45 of 100\n",
      "building tree 38 of 100\n",
      "building tree 51 of 100\n",
      "building tree 46 of 100\n",
      "building tree 39 of 100\n",
      "building tree 52 of 100\n",
      "building tree 47 of 100\n",
      "building tree 40 of 100\n",
      "building tree 53 of 100\n"
     ]
    },
    {
     "name": "stderr",
     "output_type": "stream",
     "text": [
      "[Parallel(n_jobs=1)]: Done  40 tasks       | elapsed:    6.8s\n"
     ]
    },
    {
     "name": "stdout",
     "output_type": "stream",
     "text": [
      "building tree 41 of 100\n",
      "building tree 48 of 100\n",
      "building tree 42 of 100\n",
      "building tree 54 of 100\n",
      "building tree 49 of 100\n",
      "building tree 43 of 100\n",
      "building tree 55 of 100\n"
     ]
    },
    {
     "name": "stderr",
     "output_type": "stream",
     "text": [
      "[Parallel(n_jobs=1)]: Done  49 tasks       | elapsed:    8.4s\n"
     ]
    },
    {
     "name": "stdout",
     "output_type": "stream",
     "text": [
      "building tree 50 of 100\n",
      "building tree 44 of 100\n",
      "building tree 56 of 100\n",
      "building tree 45 of 100\n",
      "building tree 51 of 100\n",
      "building tree 57 of 100\n",
      "building tree 46 of 100\n",
      "building tree 52 of 100\n",
      "building tree 58 of 100\n",
      "building tree 53 of 100\n",
      "building tree 47 of 100\n",
      "building tree 59 of 100\n",
      "building tree 54 of 100\n",
      "building tree 48 of 100\n",
      "building tree 49 of 100\n",
      "building tree 60 of 100\n",
      "building tree 55 of 100\n"
     ]
    },
    {
     "name": "stderr",
     "output_type": "stream",
     "text": [
      "[Parallel(n_jobs=1)]: Done  49 tasks       | elapsed:    8.2s\n"
     ]
    },
    {
     "name": "stdout",
     "output_type": "stream",
     "text": [
      "building tree 50 of 100\n"
     ]
    },
    {
     "name": "stderr",
     "output_type": "stream",
     "text": [
      "[Parallel(n_jobs=1)]: Done  60 tasks       | elapsed:   10.5s\n"
     ]
    },
    {
     "name": "stdout",
     "output_type": "stream",
     "text": [
      "building tree 61 of 100\n",
      "building tree 56 of 100\n",
      "building tree 51 of 100\n",
      "building tree 57 of 100\n",
      "building tree 62 of 100\n",
      "building tree 52 of 100\n",
      "building tree 63 of 100\n",
      "building tree 53 of 100\n",
      "building tree 58 of 100\n",
      "building tree 54 of 100\n",
      "building tree 64 of 100\n",
      "building tree 59 of 100\n",
      "building tree 55 of 100\n",
      "building tree 65 of 100\n",
      "building tree 60 of 100\n",
      "building tree 56 of 100\n",
      "building tree 66 of 100\n"
     ]
    },
    {
     "name": "stderr",
     "output_type": "stream",
     "text": [
      "[Parallel(n_jobs=1)]: Done  60 tasks       | elapsed:   10.4s\n"
     ]
    },
    {
     "name": "stdout",
     "output_type": "stream",
     "text": [
      "building tree 61 of 100\n",
      "building tree 67 of 100\n",
      "building tree 57 of 100\n",
      "building tree 62 of 100\n",
      "building tree 68 of 100\n",
      "building tree 58 of 100\n",
      "building tree 63 of 100\n",
      "building tree 69 of 100\n",
      "building tree 59 of 100\n",
      "building tree 70 of 100\n",
      "building tree 64 of 100\n",
      "building tree 60 of 100\n",
      "building tree 71 of 100\n",
      "building tree 65 of 100\n"
     ]
    },
    {
     "name": "stderr",
     "output_type": "stream",
     "text": [
      "[Parallel(n_jobs=1)]: Done  60 tasks       | elapsed:   10.0s\n"
     ]
    },
    {
     "name": "stdout",
     "output_type": "stream",
     "text": [
      "building tree 61 of 100\n"
     ]
    },
    {
     "name": "stderr",
     "output_type": "stream",
     "text": [
      "[Parallel(n_jobs=1)]: Done  71 tasks       | elapsed:   12.2s\n"
     ]
    },
    {
     "name": "stdout",
     "output_type": "stream",
     "text": [
      "building tree 72 of 100\n",
      "building tree 62 of 100\n",
      "building tree 66 of 100\n",
      "building tree 73 of 100\n",
      "building tree 63 of 100\n",
      "building tree 67 of 100\n",
      "building tree 74 of 100\n",
      "building tree 64 of 100\n",
      "building tree 68 of 100\n",
      "building tree 75 of 100\n",
      "building tree 65 of 100\n",
      "building tree 76 of 100\n",
      "building tree 66 of 100\n",
      "building tree 69 of 100\n",
      "building tree 77 of 100\n",
      "building tree 67 of 100\n",
      "building tree 70 of 100\n",
      "building tree 78 of 100\n",
      "building tree 68 of 100\n",
      "building tree 71 of 100\n",
      "building tree 79 of 100\n",
      "building tree 69 of 100\n"
     ]
    },
    {
     "name": "stderr",
     "output_type": "stream",
     "text": [
      "[Parallel(n_jobs=1)]: Done  71 tasks       | elapsed:   12.5s\n"
     ]
    },
    {
     "name": "stdout",
     "output_type": "stream",
     "text": [
      "building tree 72 of 100\n",
      "building tree 80 of 100\n",
      "building tree 70 of 100\n",
      "building tree 73 of 100\n",
      "building tree 74 of 100\n",
      "building tree 81 of 100\n",
      "building tree 71 of 100\n"
     ]
    },
    {
     "name": "stderr",
     "output_type": "stream",
     "text": [
      "[Parallel(n_jobs=1)]: Done  71 tasks       | elapsed:   11.8s\n"
     ]
    },
    {
     "name": "stdout",
     "output_type": "stream",
     "text": [
      "building tree 72 of 100\n",
      "building tree 75 of 100\n",
      "building tree 82 of 100\n",
      "building tree 73 of 100\n",
      "building tree 76 of 100\n",
      "building tree 83 of 100\n",
      "building tree 74 of 100\n",
      "building tree 77 of 100\n",
      "building tree 75 of 100\n",
      "building tree 84 of 100\n",
      "building tree 76 of 100\n",
      "building tree 78 of 100\n"
     ]
    },
    {
     "name": "stderr",
     "output_type": "stream",
     "text": [
      "[Parallel(n_jobs=1)]: Done  84 tasks       | elapsed:   14.6s\n"
     ]
    },
    {
     "name": "stdout",
     "output_type": "stream",
     "text": [
      "building tree 85 of 100\n",
      "building tree 77 of 100\n",
      "building tree 79 of 100\n",
      "building tree 86 of 100\n",
      "building tree 78 of 100\n",
      "building tree 80 of 100\n",
      "building tree 87 of 100\n",
      "building tree 79 of 100\n",
      "building tree 88 of 100\n",
      "building tree 80 of 100\n",
      "building tree 81 of 100\n",
      "building tree 82 of 100\n",
      "building tree 81 of 100\n",
      "building tree 89 of 100\n",
      "building tree 83 of 100\n",
      "building tree 90 of 100\n",
      "building tree 82 of 100\n",
      "building tree 84 of 100\n",
      "building tree 91 of 100\n",
      "building tree 83 of 100\n"
     ]
    },
    {
     "name": "stderr",
     "output_type": "stream",
     "text": [
      "[Parallel(n_jobs=1)]: Done  84 tasks       | elapsed:   14.7s\n"
     ]
    },
    {
     "name": "stdout",
     "output_type": "stream",
     "text": [
      "building tree 85 of 100\n",
      "building tree 92 of 100\n",
      "building tree 84 of 100\n",
      "building tree 86 of 100\n",
      "building tree 93 of 100\n"
     ]
    },
    {
     "name": "stderr",
     "output_type": "stream",
     "text": [
      "[Parallel(n_jobs=1)]: Done  84 tasks       | elapsed:   13.8s\n"
     ]
    },
    {
     "name": "stdout",
     "output_type": "stream",
     "text": [
      "building tree 85 of 100\n",
      "building tree 87 of 100\n",
      "building tree 94 of 100\n",
      "building tree 86 of 100\n",
      "building tree 88 of 100\n",
      "building tree 95 of 100\n",
      "building tree 87 of 100\n",
      "building tree 96 of 100\n",
      "building tree 89 of 100\n",
      "building tree 88 of 100\n",
      "building tree 90 of 100\n",
      "building tree 97 of 100\n",
      "building tree 91 of 100\n",
      "building tree 89 of 100\n"
     ]
    },
    {
     "name": "stderr",
     "output_type": "stream",
     "text": [
      "[Parallel(n_jobs=1)]: Done  97 tasks       | elapsed:   16.8s\n"
     ]
    },
    {
     "name": "stdout",
     "output_type": "stream",
     "text": [
      "building tree 98 of 100\n",
      "building tree 92 of 100\n",
      "building tree 90 of 100\n",
      "building tree 99 of 100\n",
      "building tree 93 of 100\n",
      "building tree 91 of 100\n",
      "building tree 100 of 100\n",
      "building tree 94 of 100\n",
      "building tree 92 of 100\n"
     ]
    },
    {
     "name": "stderr",
     "output_type": "stream",
     "text": [
      "[Parallel(n_jobs=1)]: Done 100 out of 100 | elapsed:   17.4s finished\n"
     ]
    },
    {
     "name": "stdout",
     "output_type": "stream",
     "text": [
      "building tree 93 of 100\n",
      "building tree 95 of 100\n"
     ]
    },
    {
     "name": "stderr",
     "output_type": "stream",
     "text": [
      "[Parallel(n_jobs=1)]: Done   1 tasks       | elapsed:    0.0s\n",
      "[Parallel(n_jobs=1)]: Done   4 tasks       | elapsed:    0.1s\n",
      "[Parallel(n_jobs=1)]: Done   7 tasks       | elapsed:    0.1s\n"
     ]
    },
    {
     "name": "stdout",
     "output_type": "stream",
     "text": [
      "building tree 96 of 100\n"
     ]
    },
    {
     "name": "stderr",
     "output_type": "stream",
     "text": [
      "[Parallel(n_jobs=1)]: Done  12 tasks       | elapsed:    0.2s\n"
     ]
    },
    {
     "name": "stdout",
     "output_type": "stream",
     "text": [
      "building tree 94 of 100\n"
     ]
    },
    {
     "name": "stderr",
     "output_type": "stream",
     "text": [
      "[Parallel(n_jobs=1)]: Done  17 tasks       | elapsed:    0.2s\n"
     ]
    },
    {
     "name": "stdout",
     "output_type": "stream",
     "text": [
      "building tree 97 of 100\n"
     ]
    },
    {
     "name": "stderr",
     "output_type": "stream",
     "text": [
      "[Parallel(n_jobs=1)]: Done  24 tasks       | elapsed:    0.3s\n"
     ]
    },
    {
     "name": "stdout",
     "output_type": "stream",
     "text": [
      "building tree 95 of 100\n"
     ]
    },
    {
     "name": "stderr",
     "output_type": "stream",
     "text": [
      "[Parallel(n_jobs=1)]: Done  31 tasks       | elapsed:    0.4s\n",
      "[Parallel(n_jobs=1)]: Done  97 tasks       | elapsed:   16.8s\n"
     ]
    },
    {
     "name": "stdout",
     "output_type": "stream",
     "text": [
      "building tree 98 of 100\n",
      "building tree 96 of 100\n"
     ]
    },
    {
     "name": "stderr",
     "output_type": "stream",
     "text": [
      "[Parallel(n_jobs=1)]: Done  40 tasks       | elapsed:    0.6s\n"
     ]
    },
    {
     "name": "stdout",
     "output_type": "stream",
     "text": [
      "building tree 99 of 100\n",
      "building tree 97 of 100\n"
     ]
    },
    {
     "name": "stderr",
     "output_type": "stream",
     "text": [
      "[Parallel(n_jobs=1)]: Done  49 tasks       | elapsed:    0.7s\n"
     ]
    },
    {
     "name": "stdout",
     "output_type": "stream",
     "text": [
      "building tree 100 of 100\n"
     ]
    },
    {
     "name": "stderr",
     "output_type": "stream",
     "text": [
      "[Parallel(n_jobs=1)]: Done  97 tasks       | elapsed:   16.0s\n"
     ]
    },
    {
     "name": "stdout",
     "output_type": "stream",
     "text": [
      "building tree 98 of 100\n"
     ]
    },
    {
     "name": "stderr",
     "output_type": "stream",
     "text": [
      "[Parallel(n_jobs=1)]: Done  60 tasks       | elapsed:    0.9s\n",
      "[Parallel(n_jobs=1)]: Done 100 out of 100 | elapsed:   17.3s finished\n",
      "[Parallel(n_jobs=1)]: Done   1 tasks       | elapsed:    0.0s\n"
     ]
    },
    {
     "name": "stdout",
     "output_type": "stream",
     "text": [
      "building tree 99 of 100\n"
     ]
    },
    {
     "name": "stderr",
     "output_type": "stream",
     "text": [
      "[Parallel(n_jobs=1)]: Done   4 tasks       | elapsed:    0.1s\n",
      "[Parallel(n_jobs=1)]: Done   7 tasks       | elapsed:    0.1s\n",
      "[Parallel(n_jobs=1)]: Done  71 tasks       | elapsed:    1.0s\n"
     ]
    },
    {
     "name": "stdout",
     "output_type": "stream",
     "text": [
      "building tree 100 of 100\n"
     ]
    },
    {
     "name": "stderr",
     "output_type": "stream",
     "text": [
      "[Parallel(n_jobs=1)]: Done  12 tasks       | elapsed:    0.2s\n",
      "[Parallel(n_jobs=1)]: Done  17 tasks       | elapsed:    0.2s\n",
      "[Parallel(n_jobs=1)]: Done 100 out of 100 | elapsed:   16.4s finished\n",
      "[Parallel(n_jobs=1)]: Done  84 tasks       | elapsed:    1.2s\n",
      "[Parallel(n_jobs=1)]: Done   1 tasks       | elapsed:    0.0s\n",
      "[Parallel(n_jobs=1)]: Done  24 tasks       | elapsed:    0.3s\n",
      "[Parallel(n_jobs=1)]: Done   4 tasks       | elapsed:    0.1s\n",
      "[Parallel(n_jobs=1)]: Done   7 tasks       | elapsed:    0.1s\n",
      "[Parallel(n_jobs=1)]: Done  31 tasks       | elapsed:    0.4s\n",
      "[Parallel(n_jobs=1)]: Done  12 tasks       | elapsed:    0.2s\n",
      "[Parallel(n_jobs=1)]: Done  97 tasks       | elapsed:    1.4s\n",
      "[Parallel(n_jobs=1)]: Done 100 out of 100 | elapsed:    1.4s finished\n",
      "[Parallel(n_jobs=1)]: Done  40 tasks       | elapsed:    0.5s\n",
      "[Parallel(n_jobs=1)]: Done  17 tasks       | elapsed:    0.2s\n",
      "[Parallel(n_jobs=1)]: Done  24 tasks       | elapsed:    0.3s\n",
      "[Parallel(n_jobs=1)]: Done  49 tasks       | elapsed:    0.7s\n",
      "[Parallel(n_jobs=1)]: Done  31 tasks       | elapsed:    0.4s\n",
      "[Parallel(n_jobs=1)]: Done  60 tasks       | elapsed:    0.8s\n",
      "[Parallel(n_jobs=1)]: Done  40 tasks       | elapsed:    0.5s\n",
      "[Parallel(n_jobs=1)]: Done  49 tasks       | elapsed:    0.6s\n",
      "[Parallel(n_jobs=1)]: Done  71 tasks       | elapsed:    1.0s\n"
     ]
    },
    {
     "name": "stdout",
     "output_type": "stream",
     "text": [
      "building tree 1 of 100\n"
     ]
    },
    {
     "name": "stderr",
     "output_type": "stream",
     "text": [
      "[Parallel(n_jobs=1)]: Done  60 tasks       | elapsed:    0.7s\n",
      "[Parallel(n_jobs=1)]: Done  84 tasks       | elapsed:    1.1s\n",
      "[Parallel(n_jobs=1)]: Done   1 tasks       | elapsed:    0.2s\n"
     ]
    },
    {
     "name": "stdout",
     "output_type": "stream",
     "text": [
      "building tree 2 of 100\n"
     ]
    },
    {
     "name": "stderr",
     "output_type": "stream",
     "text": [
      "[Parallel(n_jobs=1)]: Done  71 tasks       | elapsed:    0.9s\n",
      "[Parallel(n_jobs=1)]: Done  97 tasks       | elapsed:    1.3s\n"
     ]
    },
    {
     "name": "stdout",
     "output_type": "stream",
     "text": [
      "building tree 3 of 100\n"
     ]
    },
    {
     "name": "stderr",
     "output_type": "stream",
     "text": [
      "[Parallel(n_jobs=1)]: Done 100 out of 100 | elapsed:    1.3s finished\n",
      "[Parallel(n_jobs=1)]: Done  84 tasks       | elapsed:    1.0s\n"
     ]
    },
    {
     "name": "stdout",
     "output_type": "stream",
     "text": [
      "building tree 4 of 100\n"
     ]
    },
    {
     "name": "stderr",
     "output_type": "stream",
     "text": [
      "[Parallel(n_jobs=1)]: Done  97 tasks       | elapsed:    1.3s\n",
      "[Parallel(n_jobs=1)]: Done   4 tasks       | elapsed:    0.6s\n"
     ]
    },
    {
     "name": "stdout",
     "output_type": "stream",
     "text": [
      "building tree 5 of 100\n"
     ]
    },
    {
     "name": "stderr",
     "output_type": "stream",
     "text": [
      "[Parallel(n_jobs=1)]: Done 100 out of 100 | elapsed:    1.3s finished\n"
     ]
    },
    {
     "name": "stdout",
     "output_type": "stream",
     "text": [
      "building tree 1 of 100\n",
      "building tree 6 of 100\n"
     ]
    },
    {
     "name": "stderr",
     "output_type": "stream",
     "text": [
      "[Parallel(n_jobs=1)]: Done   1 tasks       | elapsed:    0.2s\n"
     ]
    },
    {
     "name": "stdout",
     "output_type": "stream",
     "text": [
      "building tree 2 of 100\n",
      "building tree 7 of 100\n",
      "building tree 1 of 100\n",
      "building tree 3 of 100\n"
     ]
    },
    {
     "name": "stderr",
     "output_type": "stream",
     "text": [
      "[Parallel(n_jobs=1)]: Done   7 tasks       | elapsed:    1.1s\n"
     ]
    },
    {
     "name": "stdout",
     "output_type": "stream",
     "text": [
      "building tree 8 of 100\n"
     ]
    },
    {
     "name": "stderr",
     "output_type": "stream",
     "text": [
      "[Parallel(n_jobs=1)]: Done   1 tasks       | elapsed:    0.2s\n"
     ]
    },
    {
     "name": "stdout",
     "output_type": "stream",
     "text": [
      "building tree 2 of 100\n",
      "building tree 9 of 100\n",
      "building tree 4 of 100\n",
      "building tree 3 of 100\n",
      "building tree 10 of 100\n",
      "building tree 4 of 100\n"
     ]
    },
    {
     "name": "stderr",
     "output_type": "stream",
     "text": [
      "[Parallel(n_jobs=1)]: Done   4 tasks       | elapsed:    0.8s\n"
     ]
    },
    {
     "name": "stdout",
     "output_type": "stream",
     "text": [
      "building tree 5 of 100\n",
      "building tree 11 of 100\n"
     ]
    },
    {
     "name": "stderr",
     "output_type": "stream",
     "text": [
      "[Parallel(n_jobs=1)]: Done   4 tasks       | elapsed:    0.6s\n"
     ]
    },
    {
     "name": "stdout",
     "output_type": "stream",
     "text": [
      "building tree 5 of 100\n",
      "building tree 6 of 100\n",
      "building tree 12 of 100\n",
      "building tree 6 of 100\n",
      "building tree 7 of 100\n",
      "building tree 7 of 100\n"
     ]
    },
    {
     "name": "stderr",
     "output_type": "stream",
     "text": [
      "[Parallel(n_jobs=1)]: Done  12 tasks       | elapsed:    1.9s\n"
     ]
    },
    {
     "name": "stdout",
     "output_type": "stream",
     "text": [
      "building tree 13 of 100\n",
      "building tree 14 of 100\n"
     ]
    },
    {
     "name": "stderr",
     "output_type": "stream",
     "text": [
      "[Parallel(n_jobs=1)]: Done   7 tasks       | elapsed:    1.4s\n"
     ]
    },
    {
     "name": "stdout",
     "output_type": "stream",
     "text": [
      "building tree 8 of 100\n"
     ]
    },
    {
     "name": "stderr",
     "output_type": "stream",
     "text": [
      "[Parallel(n_jobs=1)]: Done   7 tasks       | elapsed:    1.1s\n"
     ]
    },
    {
     "name": "stdout",
     "output_type": "stream",
     "text": [
      "building tree 8 of 100\n",
      "building tree 15 of 100\n",
      "building tree 9 of 100\n",
      "building tree 9 of 100\n",
      "building tree 16 of 100\n",
      "building tree 10 of 100\n",
      "building tree 10 of 100\n",
      "building tree 17 of 100\n",
      "building tree 11 of 100\n",
      "building tree 11 of 100\n"
     ]
    },
    {
     "name": "stderr",
     "output_type": "stream",
     "text": [
      "[Parallel(n_jobs=1)]: Done  17 tasks       | elapsed:    2.8s\n"
     ]
    },
    {
     "name": "stdout",
     "output_type": "stream",
     "text": [
      "building tree 18 of 100\n",
      "building tree 12 of 100\n",
      "building tree 12 of 100\n",
      "building tree 19 of 100\n"
     ]
    },
    {
     "name": "stderr",
     "output_type": "stream",
     "text": [
      "[Parallel(n_jobs=1)]: Done  12 tasks       | elapsed:    2.2s\n"
     ]
    },
    {
     "name": "stdout",
     "output_type": "stream",
     "text": [
      "building tree 13 of 100\n"
     ]
    },
    {
     "name": "stderr",
     "output_type": "stream",
     "text": [
      "[Parallel(n_jobs=1)]: Done  12 tasks       | elapsed:    2.0s\n"
     ]
    },
    {
     "name": "stdout",
     "output_type": "stream",
     "text": [
      "building tree 13 of 100\n",
      "building tree 14 of 100\n",
      "building tree 20 of 100\n",
      "building tree 21 of 100\n",
      "building tree 15 of 100\n",
      "building tree 14 of 100\n",
      "building tree 22 of 100\n",
      "building tree 16 of 100\n",
      "building tree 15 of 100\n",
      "building tree 23 of 100\n",
      "building tree 17 of 100\n",
      "building tree 16 of 100\n",
      "building tree 24 of 100\n"
     ]
    },
    {
     "name": "stderr",
     "output_type": "stream",
     "text": [
      "[Parallel(n_jobs=1)]: Done  17 tasks       | elapsed:    3.1s\n"
     ]
    },
    {
     "name": "stdout",
     "output_type": "stream",
     "text": [
      "building tree 18 of 100\n"
     ]
    },
    {
     "name": "stderr",
     "output_type": "stream",
     "text": [
      "[Parallel(n_jobs=1)]: Done  24 tasks       | elapsed:    3.8s\n"
     ]
    },
    {
     "name": "stdout",
     "output_type": "stream",
     "text": [
      "building tree 25 of 100\n",
      "building tree 17 of 100\n",
      "building tree 26 of 100\n",
      "building tree 19 of 100\n"
     ]
    },
    {
     "name": "stderr",
     "output_type": "stream",
     "text": [
      "[Parallel(n_jobs=1)]: Done  17 tasks       | elapsed:    3.0s\n"
     ]
    },
    {
     "name": "stdout",
     "output_type": "stream",
     "text": [
      "building tree 18 of 100\n",
      "building tree 27 of 100\n",
      "building tree 20 of 100\n",
      "building tree 19 of 100\n",
      "building tree 28 of 100\n",
      "building tree 21 of 100\n",
      "building tree 20 of 100\n",
      "building tree 22 of 100\n",
      "building tree 29 of 100\n",
      "building tree 21 of 100\n",
      "building tree 30 of 100\n",
      "building tree 23 of 100\n",
      "building tree 22 of 100\n",
      "building tree 31 of 100\n",
      "building tree 24 of 100\n",
      "building tree 23 of 100\n"
     ]
    },
    {
     "name": "stderr",
     "output_type": "stream",
     "text": [
      "[Parallel(n_jobs=1)]: Done  31 tasks       | elapsed:    4.9s\n"
     ]
    },
    {
     "name": "stdout",
     "output_type": "stream",
     "text": [
      "building tree 32 of 100\n"
     ]
    },
    {
     "name": "stderr",
     "output_type": "stream",
     "text": [
      "[Parallel(n_jobs=1)]: Done  24 tasks       | elapsed:    4.2s\n"
     ]
    },
    {
     "name": "stdout",
     "output_type": "stream",
     "text": [
      "building tree 25 of 100\n",
      "building tree 24 of 100\n",
      "building tree 33 of 100\n",
      "building tree 26 of 100\n"
     ]
    },
    {
     "name": "stderr",
     "output_type": "stream",
     "text": [
      "[Parallel(n_jobs=1)]: Done  24 tasks       | elapsed:    4.2s\n"
     ]
    },
    {
     "name": "stdout",
     "output_type": "stream",
     "text": [
      "building tree 25 of 100\n",
      "building tree 34 of 100\n",
      "building tree 27 of 100\n",
      "building tree 35 of 100\n",
      "building tree 26 of 100\n",
      "building tree 28 of 100\n",
      "building tree 36 of 100\n",
      "building tree 27 of 100\n",
      "building tree 29 of 100\n",
      "building tree 37 of 100\n",
      "building tree 28 of 100\n",
      "building tree 30 of 100\n",
      "building tree 29 of 100\n",
      "building tree 38 of 100\n",
      "building tree 31 of 100\n",
      "building tree 30 of 100\n",
      "building tree 39 of 100\n"
     ]
    },
    {
     "name": "stderr",
     "output_type": "stream",
     "text": [
      "[Parallel(n_jobs=1)]: Done  31 tasks       | elapsed:    5.4s\n"
     ]
    },
    {
     "name": "stdout",
     "output_type": "stream",
     "text": [
      "building tree 32 of 100\n",
      "building tree 31 of 100\n",
      "building tree 33 of 100\n",
      "building tree 40 of 100\n"
     ]
    },
    {
     "name": "stderr",
     "output_type": "stream",
     "text": [
      "[Parallel(n_jobs=1)]: Done  31 tasks       | elapsed:    5.4s\n"
     ]
    },
    {
     "name": "stdout",
     "output_type": "stream",
     "text": [
      "building tree 32 of 100\n",
      "building tree 34 of 100\n"
     ]
    },
    {
     "name": "stderr",
     "output_type": "stream",
     "text": [
      "[Parallel(n_jobs=1)]: Done  40 tasks       | elapsed:    6.5s\n"
     ]
    },
    {
     "name": "stdout",
     "output_type": "stream",
     "text": [
      "building tree 41 of 100\n",
      "building tree 35 of 100\n",
      "building tree 33 of 100\n",
      "building tree 42 of 100\n",
      "building tree 36 of 100\n",
      "building tree 34 of 100\n",
      "building tree 43 of 100\n",
      "building tree 35 of 100\n",
      "building tree 37 of 100\n",
      "building tree 38 of 100\n",
      "building tree 44 of 100\n",
      "building tree 36 of 100\n",
      "building tree 39 of 100\n",
      "building tree 45 of 100\n",
      "building tree 37 of 100\n",
      "building tree 40 of 100\n",
      "building tree 46 of 100\n",
      "building tree 38 of 100\n"
     ]
    },
    {
     "name": "stderr",
     "output_type": "stream",
     "text": [
      "[Parallel(n_jobs=1)]: Done  40 tasks       | elapsed:    6.8s\n"
     ]
    },
    {
     "name": "stdout",
     "output_type": "stream",
     "text": [
      "building tree 41 of 100\n",
      "building tree 47 of 100\n",
      "building tree 39 of 100\n",
      "building tree 42 of 100\n",
      "building tree 40 of 100\n",
      "building tree 48 of 100\n",
      "building tree 43 of 100\n"
     ]
    },
    {
     "name": "stderr",
     "output_type": "stream",
     "text": [
      "[Parallel(n_jobs=1)]: Done  40 tasks       | elapsed:    6.9s\n"
     ]
    },
    {
     "name": "stdout",
     "output_type": "stream",
     "text": [
      "building tree 41 of 100\n",
      "building tree 49 of 100\n",
      "building tree 44 of 100\n",
      "building tree 42 of 100\n",
      "building tree 45 of 100\n"
     ]
    },
    {
     "name": "stderr",
     "output_type": "stream",
     "text": [
      "[Parallel(n_jobs=1)]: Done  49 tasks       | elapsed:    8.2s\n"
     ]
    },
    {
     "name": "stdout",
     "output_type": "stream",
     "text": [
      "building tree 50 of 100\n",
      "building tree 43 of 100\n",
      "building tree 46 of 100\n",
      "building tree 51 of 100\n",
      "building tree 44 of 100\n",
      "building tree 47 of 100\n",
      "building tree 52 of 100\n",
      "building tree 45 of 100\n",
      "building tree 48 of 100\n",
      "building tree 53 of 100\n",
      "building tree 46 of 100\n",
      "building tree 49 of 100\n",
      "building tree 54 of 100\n"
     ]
    },
    {
     "name": "stderr",
     "output_type": "stream",
     "text": [
      "[Parallel(n_jobs=1)]: Done  49 tasks       | elapsed:    8.2s\n"
     ]
    },
    {
     "name": "stdout",
     "output_type": "stream",
     "text": [
      "building tree 50 of 100\n",
      "building tree 47 of 100\n",
      "building tree 55 of 100\n",
      "building tree 51 of 100\n",
      "building tree 48 of 100\n",
      "building tree 56 of 100\n",
      "building tree 52 of 100\n",
      "building tree 49 of 100\n",
      "building tree 57 of 100\n",
      "building tree 53 of 100\n"
     ]
    },
    {
     "name": "stderr",
     "output_type": "stream",
     "text": [
      "[Parallel(n_jobs=1)]: Done  49 tasks       | elapsed:    8.5s\n"
     ]
    },
    {
     "name": "stdout",
     "output_type": "stream",
     "text": [
      "building tree 50 of 100\n",
      "building tree 58 of 100\n",
      "building tree 54 of 100\n",
      "building tree 51 of 100\n",
      "building tree 59 of 100\n",
      "building tree 55 of 100\n",
      "building tree 52 of 100\n",
      "building tree 53 of 100\n",
      "building tree 60 of 100\n",
      "building tree 56 of 100\n",
      "building tree 57 of 100\n",
      "building tree 54 of 100\n"
     ]
    },
    {
     "name": "stderr",
     "output_type": "stream",
     "text": [
      "[Parallel(n_jobs=1)]: Done  60 tasks       | elapsed:   10.1s\n"
     ]
    },
    {
     "name": "stdout",
     "output_type": "stream",
     "text": [
      "building tree 61 of 100\n",
      "building tree 62 of 100\n",
      "building tree 55 of 100\n",
      "building tree 58 of 100\n",
      "building tree 59 of 100\n",
      "building tree 56 of 100\n",
      "building tree 63 of 100\n",
      "building tree 60 of 100\n",
      "building tree 57 of 100\n",
      "building tree 64 of 100\n"
     ]
    },
    {
     "name": "stderr",
     "output_type": "stream",
     "text": [
      "[Parallel(n_jobs=1)]: Done  60 tasks       | elapsed:   10.0s\n"
     ]
    },
    {
     "name": "stdout",
     "output_type": "stream",
     "text": [
      "building tree 61 of 100\n",
      "building tree 65 of 100\n",
      "building tree 58 of 100\n",
      "building tree 62 of 100\n",
      "building tree 66 of 100\n",
      "building tree 59 of 100\n",
      "building tree 63 of 100\n",
      "building tree 67 of 100\n",
      "building tree 60 of 100\n",
      "building tree 68 of 100\n",
      "building tree 64 of 100\n"
     ]
    },
    {
     "name": "stderr",
     "output_type": "stream",
     "text": [
      "[Parallel(n_jobs=1)]: Done  60 tasks       | elapsed:   10.3s\n"
     ]
    },
    {
     "name": "stdout",
     "output_type": "stream",
     "text": [
      "building tree 61 of 100\n",
      "building tree 69 of 100\n",
      "building tree 62 of 100\n",
      "building tree 65 of 100\n",
      "building tree 63 of 100\n",
      "building tree 70 of 100\n",
      "building tree 64 of 100\n",
      "building tree 66 of 100\n",
      "building tree 71 of 100\n",
      "building tree 65 of 100\n",
      "building tree 67 of 100\n"
     ]
    },
    {
     "name": "stderr",
     "output_type": "stream",
     "text": [
      "[Parallel(n_jobs=1)]: Done  71 tasks       | elapsed:   11.9s\n"
     ]
    },
    {
     "name": "stdout",
     "output_type": "stream",
     "text": [
      "building tree 72 of 100\n",
      "building tree 66 of 100\n",
      "building tree 68 of 100\n",
      "building tree 73 of 100\n",
      "building tree 67 of 100\n",
      "building tree 69 of 100\n",
      "building tree 74 of 100\n",
      "building tree 68 of 100\n",
      "building tree 70 of 100\n",
      "building tree 75 of 100\n",
      "building tree 69 of 100\n",
      "building tree 70 of 100\n",
      "building tree 71 of 100\n",
      "building tree 76 of 100\n",
      "building tree 71 of 100\n"
     ]
    },
    {
     "name": "stderr",
     "output_type": "stream",
     "text": [
      "[Parallel(n_jobs=1)]: Done  71 tasks       | elapsed:   12.0s\n"
     ]
    },
    {
     "name": "stdout",
     "output_type": "stream",
     "text": [
      "building tree 72 of 100\n",
      "building tree 77 of 100\n",
      "building tree 73 of 100\n"
     ]
    },
    {
     "name": "stderr",
     "output_type": "stream",
     "text": [
      "[Parallel(n_jobs=1)]: Done  71 tasks       | elapsed:   11.9s\n"
     ]
    },
    {
     "name": "stdout",
     "output_type": "stream",
     "text": [
      "building tree 72 of 100\n",
      "building tree 78 of 100\n",
      "building tree 73 of 100\n",
      "building tree 74 of 100\n",
      "building tree 79 of 100\n",
      "building tree 74 of 100\n",
      "building tree 75 of 100\n",
      "building tree 80 of 100\n",
      "building tree 75 of 100\n",
      "building tree 76 of 100\n",
      "building tree 81 of 100\n",
      "building tree 76 of 100\n",
      "building tree 77 of 100\n",
      "building tree 77 of 100\n",
      "building tree 82 of 100\n",
      "building tree 78 of 100\n",
      "building tree 78 of 100\n",
      "building tree 83 of 100\n",
      "building tree 79 of 100\n",
      "building tree 79 of 100\n",
      "building tree 84 of 100\n",
      "building tree 80 of 100\n",
      "building tree 81 of 100\n"
     ]
    },
    {
     "name": "stderr",
     "output_type": "stream",
     "text": [
      "[Parallel(n_jobs=1)]: Done  84 tasks       | elapsed:   14.3s\n"
     ]
    },
    {
     "name": "stdout",
     "output_type": "stream",
     "text": [
      "building tree 80 of 100\n",
      "building tree 85 of 100\n",
      "building tree 82 of 100\n",
      "building tree 86 of 100\n",
      "building tree 81 of 100\n",
      "building tree 83 of 100\n",
      "building tree 87 of 100\n",
      "building tree 82 of 100\n",
      "building tree 84 of 100\n",
      "building tree 88 of 100\n",
      "building tree 83 of 100\n"
     ]
    },
    {
     "name": "stderr",
     "output_type": "stream",
     "text": [
      "[Parallel(n_jobs=1)]: Done  84 tasks       | elapsed:   14.1s\n"
     ]
    },
    {
     "name": "stdout",
     "output_type": "stream",
     "text": [
      "building tree 85 of 100\n",
      "building tree 89 of 100\n",
      "building tree 84 of 100\n",
      "building tree 86 of 100\n",
      "building tree 90 of 100\n"
     ]
    },
    {
     "name": "stderr",
     "output_type": "stream",
     "text": [
      "[Parallel(n_jobs=1)]: Done  84 tasks       | elapsed:   14.2s\n"
     ]
    },
    {
     "name": "stdout",
     "output_type": "stream",
     "text": [
      "building tree 85 of 100\n",
      "building tree 87 of 100\n",
      "building tree 91 of 100\n",
      "building tree 86 of 100\n",
      "building tree 88 of 100\n",
      "building tree 92 of 100\n",
      "building tree 89 of 100\n",
      "building tree 87 of 100\n",
      "building tree 93 of 100\n",
      "building tree 90 of 100\n",
      "building tree 88 of 100\n",
      "building tree 94 of 100\n",
      "building tree 91 of 100\n",
      "building tree 89 of 100\n",
      "building tree 95 of 100\n",
      "building tree 92 of 100\n",
      "building tree 90 of 100\n",
      "building tree 96 of 100\n",
      "building tree 93 of 100\n",
      "building tree 91 of 100\n",
      "building tree 97 of 100\n",
      "building tree 94 of 100\n"
     ]
    },
    {
     "name": "stderr",
     "output_type": "stream",
     "text": [
      "[Parallel(n_jobs=1)]: Done  97 tasks       | elapsed:   16.5s\n"
     ]
    },
    {
     "name": "stdout",
     "output_type": "stream",
     "text": [
      "building tree 98 of 100\n",
      "building tree 95 of 100\n",
      "building tree 92 of 100\n",
      "building tree 96 of 100\n",
      "building tree 99 of 100\n",
      "building tree 93 of 100\n",
      "building tree 100 of 100\n",
      "building tree 97 of 100\n",
      "building tree 94 of 100\n",
      "building tree 95 of 100\n"
     ]
    },
    {
     "name": "stderr",
     "output_type": "stream",
     "text": [
      "[Parallel(n_jobs=1)]: Done 100 out of 100 | elapsed:   17.0s finished\n",
      "[Parallel(n_jobs=1)]: Done  97 tasks       | elapsed:   16.3s\n"
     ]
    },
    {
     "name": "stdout",
     "output_type": "stream",
     "text": [
      "building tree 98 of 100\n"
     ]
    },
    {
     "name": "stderr",
     "output_type": "stream",
     "text": [
      "[Parallel(n_jobs=1)]: Done   1 tasks       | elapsed:    0.0s\n",
      "[Parallel(n_jobs=1)]: Done   4 tasks       | elapsed:    0.1s\n",
      "[Parallel(n_jobs=1)]: Done   7 tasks       | elapsed:    0.1s\n"
     ]
    },
    {
     "name": "stdout",
     "output_type": "stream",
     "text": [
      "building tree 96 of 100\n"
     ]
    },
    {
     "name": "stderr",
     "output_type": "stream",
     "text": [
      "[Parallel(n_jobs=1)]: Done  12 tasks       | elapsed:    0.2s\n"
     ]
    },
    {
     "name": "stdout",
     "output_type": "stream",
     "text": [
      "building tree 99 of 100\n"
     ]
    },
    {
     "name": "stderr",
     "output_type": "stream",
     "text": [
      "[Parallel(n_jobs=1)]: Done  17 tasks       | elapsed:    0.2s\n"
     ]
    },
    {
     "name": "stdout",
     "output_type": "stream",
     "text": [
      "building tree 97 of 100\n",
      "building tree 100 of 100\n"
     ]
    },
    {
     "name": "stderr",
     "output_type": "stream",
     "text": [
      "[Parallel(n_jobs=1)]: Done  24 tasks       | elapsed:    0.3s\n",
      "[Parallel(n_jobs=1)]: Done  31 tasks       | elapsed:    0.4s\n",
      "[Parallel(n_jobs=1)]: Done  97 tasks       | elapsed:   16.4s\n",
      "[Parallel(n_jobs=1)]: Done 100 out of 100 | elapsed:   16.7s finished\n"
     ]
    },
    {
     "name": "stdout",
     "output_type": "stream",
     "text": [
      "building tree 98 of 100\n"
     ]
    },
    {
     "name": "stderr",
     "output_type": "stream",
     "text": [
      "[Parallel(n_jobs=1)]: Done   1 tasks       | elapsed:    0.0s\n",
      "[Parallel(n_jobs=1)]: Done   4 tasks       | elapsed:    0.1s\n",
      "[Parallel(n_jobs=1)]: Done  40 tasks       | elapsed:    0.6s\n",
      "[Parallel(n_jobs=1)]: Done   7 tasks       | elapsed:    0.1s\n"
     ]
    },
    {
     "name": "stdout",
     "output_type": "stream",
     "text": [
      "building tree 99 of 100\n"
     ]
    },
    {
     "name": "stderr",
     "output_type": "stream",
     "text": [
      "[Parallel(n_jobs=1)]: Done  12 tasks       | elapsed:    0.2s\n",
      "[Parallel(n_jobs=1)]: Done  49 tasks       | elapsed:    0.7s\n",
      "[Parallel(n_jobs=1)]: Done  17 tasks       | elapsed:    0.3s\n"
     ]
    },
    {
     "name": "stdout",
     "output_type": "stream",
     "text": [
      "building tree 100 of 100\n"
     ]
    },
    {
     "name": "stderr",
     "output_type": "stream",
     "text": [
      "[Parallel(n_jobs=1)]: Done  60 tasks       | elapsed:    0.8s\n",
      "[Parallel(n_jobs=1)]: Done  24 tasks       | elapsed:    0.3s\n",
      "[Parallel(n_jobs=1)]: Done  31 tasks       | elapsed:    0.4s\n",
      "[Parallel(n_jobs=1)]: Done 100 out of 100 | elapsed:   16.9s finished\n",
      "[Parallel(n_jobs=1)]: Done   1 tasks       | elapsed:    0.0s\n",
      "[Parallel(n_jobs=1)]: Done  71 tasks       | elapsed:    1.0s\n",
      "[Parallel(n_jobs=1)]: Done   4 tasks       | elapsed:    0.1s\n",
      "[Parallel(n_jobs=1)]: Done   7 tasks       | elapsed:    0.1s\n",
      "[Parallel(n_jobs=1)]: Done  40 tasks       | elapsed:    0.6s\n",
      "[Parallel(n_jobs=1)]: Done  12 tasks       | elapsed:    0.2s\n",
      "[Parallel(n_jobs=1)]: Done  84 tasks       | elapsed:    1.1s\n",
      "[Parallel(n_jobs=1)]: Done  17 tasks       | elapsed:    0.2s\n",
      "[Parallel(n_jobs=1)]: Done  49 tasks       | elapsed:    0.7s\n",
      "[Parallel(n_jobs=1)]: Done  24 tasks       | elapsed:    0.3s\n",
      "[Parallel(n_jobs=1)]: Done  97 tasks       | elapsed:    1.3s\n",
      "[Parallel(n_jobs=1)]: Done  60 tasks       | elapsed:    0.8s\n",
      "[Parallel(n_jobs=1)]: Done 100 out of 100 | elapsed:    1.3s finished\n",
      "[Parallel(n_jobs=1)]: Done  31 tasks       | elapsed:    0.4s\n",
      "[Parallel(n_jobs=1)]: Done  71 tasks       | elapsed:    1.0s\n",
      "[Parallel(n_jobs=1)]: Done  40 tasks       | elapsed:    0.6s\n",
      "[Parallel(n_jobs=1)]: Done  49 tasks       | elapsed:    0.6s\n",
      "[Parallel(n_jobs=1)]: Done  84 tasks       | elapsed:    1.1s\n",
      "[Parallel(n_jobs=1)]: Done  60 tasks       | elapsed:    0.7s\n",
      "[Parallel(n_jobs=1)]: Done  97 tasks       | elapsed:    1.2s\n",
      "[Parallel(n_jobs=1)]: Done 100 out of 100 | elapsed:    1.3s finished\n",
      "[Parallel(n_jobs=1)]: Done  71 tasks       | elapsed:    0.8s\n",
      "[Parallel(n_jobs=1)]: Done  84 tasks       | elapsed:    0.9s\n",
      "[Parallel(n_jobs=1)]: Done  97 tasks       | elapsed:    1.0s\n",
      "[Parallel(n_jobs=1)]: Done 100 out of 100 | elapsed:    1.1s finished\n",
      "[Parallel(n_jobs=3)]: Done  72 out of  72 | elapsed:  6.7min finished\n"
     ]
    },
    {
     "name": "stdout",
     "output_type": "stream",
     "text": [
      "building tree 1 of 100\n",
      "building tree 2 of 100\n"
     ]
    },
    {
     "name": "stderr",
     "output_type": "stream",
     "text": [
      "[Parallel(n_jobs=1)]: Done   1 tasks       | elapsed:    0.1s\n"
     ]
    },
    {
     "name": "stdout",
     "output_type": "stream",
     "text": [
      "building tree 3 of 100\n",
      "building tree 4 of 100\n"
     ]
    },
    {
     "name": "stderr",
     "output_type": "stream",
     "text": [
      "[Parallel(n_jobs=1)]: Done   4 tasks       | elapsed:    0.6s\n"
     ]
    },
    {
     "name": "stdout",
     "output_type": "stream",
     "text": [
      "building tree 5 of 100\n",
      "building tree 6 of 100\n",
      "building tree 7 of 100\n",
      "building tree 8 of 100\n"
     ]
    },
    {
     "name": "stderr",
     "output_type": "stream",
     "text": [
      "[Parallel(n_jobs=1)]: Done   7 tasks       | elapsed:    1.0s\n"
     ]
    },
    {
     "name": "stdout",
     "output_type": "stream",
     "text": [
      "building tree 9 of 100\n",
      "building tree 10 of 100\n",
      "building tree 11 of 100\n",
      "building tree 12 of 100\n"
     ]
    },
    {
     "name": "stderr",
     "output_type": "stream",
     "text": [
      "[Parallel(n_jobs=1)]: Done  12 tasks       | elapsed:    1.7s\n"
     ]
    },
    {
     "name": "stdout",
     "output_type": "stream",
     "text": [
      "building tree 13 of 100\n",
      "building tree 14 of 100\n",
      "building tree 15 of 100\n",
      "building tree 16 of 100\n",
      "building tree 17 of 100\n",
      "building tree 18 of 100\n"
     ]
    },
    {
     "name": "stderr",
     "output_type": "stream",
     "text": [
      "[Parallel(n_jobs=1)]: Done  17 tasks       | elapsed:    2.4s\n"
     ]
    },
    {
     "name": "stdout",
     "output_type": "stream",
     "text": [
      "building tree 19 of 100\n",
      "building tree 20 of 100\n",
      "building tree 21 of 100\n",
      "building tree 22 of 100\n",
      "building tree 23 of 100\n",
      "building tree 24 of 100\n"
     ]
    },
    {
     "name": "stderr",
     "output_type": "stream",
     "text": [
      "[Parallel(n_jobs=1)]: Done  24 tasks       | elapsed:    3.3s\n"
     ]
    },
    {
     "name": "stdout",
     "output_type": "stream",
     "text": [
      "building tree 25 of 100\n",
      "building tree 26 of 100\n",
      "building tree 27 of 100\n",
      "building tree 28 of 100\n",
      "building tree 29 of 100\n",
      "building tree 30 of 100\n",
      "building tree 31 of 100\n",
      "building tree 32 of 100\n"
     ]
    },
    {
     "name": "stderr",
     "output_type": "stream",
     "text": [
      "[Parallel(n_jobs=1)]: Done  31 tasks       | elapsed:    4.2s\n"
     ]
    },
    {
     "name": "stdout",
     "output_type": "stream",
     "text": [
      "building tree 33 of 100\n",
      "building tree 34 of 100\n",
      "building tree 35 of 100\n",
      "building tree 36 of 100\n",
      "building tree 37 of 100\n",
      "building tree 38 of 100\n",
      "building tree 39 of 100\n",
      "building tree 40 of 100\n"
     ]
    },
    {
     "name": "stderr",
     "output_type": "stream",
     "text": [
      "[Parallel(n_jobs=1)]: Done  40 tasks       | elapsed:    5.5s\n"
     ]
    },
    {
     "name": "stdout",
     "output_type": "stream",
     "text": [
      "building tree 41 of 100\n",
      "building tree 42 of 100\n",
      "building tree 43 of 100\n",
      "building tree 44 of 100\n",
      "building tree 45 of 100\n",
      "building tree 46 of 100\n",
      "building tree 47 of 100\n",
      "building tree 48 of 100\n",
      "building tree 49 of 100\n",
      "building tree 50 of 100\n"
     ]
    },
    {
     "name": "stderr",
     "output_type": "stream",
     "text": [
      "[Parallel(n_jobs=1)]: Done  49 tasks       | elapsed:    6.7s\n"
     ]
    },
    {
     "name": "stdout",
     "output_type": "stream",
     "text": [
      "building tree 51 of 100\n",
      "building tree 52 of 100\n",
      "building tree 53 of 100\n",
      "building tree 54 of 100\n",
      "building tree 55 of 100\n",
      "building tree 56 of 100\n",
      "building tree 57 of 100\n",
      "building tree 58 of 100\n",
      "building tree 59 of 100\n",
      "building tree 60 of 100\n"
     ]
    },
    {
     "name": "stderr",
     "output_type": "stream",
     "text": [
      "[Parallel(n_jobs=1)]: Done  60 tasks       | elapsed:    8.2s\n"
     ]
    },
    {
     "name": "stdout",
     "output_type": "stream",
     "text": [
      "building tree 61 of 100\n",
      "building tree 62 of 100\n",
      "building tree 63 of 100\n",
      "building tree 64 of 100\n",
      "building tree 65 of 100\n",
      "building tree 66 of 100\n",
      "building tree 67 of 100\n",
      "building tree 68 of 100\n",
      "building tree 69 of 100\n",
      "building tree 70 of 100\n",
      "building tree 71 of 100\n",
      "building tree 72 of 100\n"
     ]
    },
    {
     "name": "stderr",
     "output_type": "stream",
     "text": [
      "[Parallel(n_jobs=1)]: Done  71 tasks       | elapsed:    9.6s\n"
     ]
    },
    {
     "name": "stdout",
     "output_type": "stream",
     "text": [
      "building tree 73 of 100\n",
      "building tree 74 of 100\n",
      "building tree 75 of 100\n",
      "building tree 76 of 100\n",
      "building tree 77 of 100\n",
      "building tree 78 of 100\n",
      "building tree 79 of 100\n",
      "building tree 80 of 100\n",
      "building tree 81 of 100\n",
      "building tree 82 of 100\n",
      "building tree 83 of 100\n",
      "building tree 84 of 100\n"
     ]
    },
    {
     "name": "stderr",
     "output_type": "stream",
     "text": [
      "[Parallel(n_jobs=1)]: Done  84 tasks       | elapsed:   11.4s\n"
     ]
    },
    {
     "name": "stdout",
     "output_type": "stream",
     "text": [
      "building tree 85 of 100\n",
      "building tree 86 of 100\n",
      "building tree 87 of 100\n",
      "building tree 88 of 100\n",
      "building tree 89 of 100\n",
      "building tree 90 of 100\n",
      "building tree 91 of 100\n",
      "building tree 92 of 100\n",
      "building tree 93 of 100\n",
      "building tree 94 of 100\n",
      "building tree 95 of 100\n",
      "building tree 96 of 100\n",
      "building tree 97 of 100\n",
      "building tree 98 of 100\n"
     ]
    },
    {
     "name": "stderr",
     "output_type": "stream",
     "text": [
      "[Parallel(n_jobs=1)]: Done  97 tasks       | elapsed:   13.1s\n"
     ]
    },
    {
     "name": "stdout",
     "output_type": "stream",
     "text": [
      "building tree 99 of 100\n",
      "building tree 100 of 100\n"
     ]
    },
    {
     "name": "stderr",
     "output_type": "stream",
     "text": [
      "[Parallel(n_jobs=1)]: Done 100 out of 100 | elapsed:   13.5s finished\n"
     ]
    },
    {
     "data": {
      "text/plain": [
       "GridSearchCV(cv=None, error_score='raise',\n",
       "       estimator=RandomForestClassifier(bootstrap=True, class_weight=None, criterion='gini',\n",
       "            max_depth=None, max_features='auto', max_leaf_nodes=None,\n",
       "            min_samples_leaf=1, min_samples_split=2,\n",
       "            min_weight_fraction_leaf=0.0, n_estimators=100, n_jobs=1,\n",
       "            oob_score=False, random_state=47, verbose=10, warm_start=False),\n",
       "       fit_params={}, iid=True, n_jobs=3,\n",
       "       param_grid={'min_samples_split': [2, 10, 50], 'criterion': ['gini', 'entropy'], 'max_depth': [8, 10, 12, 15]},\n",
       "       pre_dispatch='2*n_jobs', refit=True, scoring=None, verbose=True)"
      ]
     },
     "execution_count": 16,
     "metadata": {},
     "output_type": "execute_result"
    }
   ],
   "source": [
    "parameters = {'criterion':['gini', 'entropy'], 'max_depth':[8, 10, 12, 15], 'min_samples_split':[2, 10, 50]}\n",
    "clf = RandomForestClassifier(n_estimators=100,verbose=10, random_state=47)\n",
    "grid_search = GridSearchCV(clf, param_grid=parameters, verbose = True, n_jobs= 3)\n",
    "grid_search.fit(X, y)"
   ]
  },
  {
   "cell_type": "code",
   "execution_count": 85,
   "metadata": {},
   "outputs": [
    {
     "data": {
      "text/plain": [
       "RandomForestClassifier(bootstrap=True, class_weight=None, criterion='gini',\n",
       "            max_depth=15, max_features='auto', max_leaf_nodes=None,\n",
       "            min_samples_leaf=1, min_samples_split=50,\n",
       "            min_weight_fraction_leaf=0.0, n_estimators=300, n_jobs=1,\n",
       "            oob_score=False, random_state=None, verbose=0,\n",
       "            warm_start=False)"
      ]
     },
     "execution_count": 85,
     "metadata": {},
     "output_type": "execute_result"
    }
   ],
   "source": [
    "clf = RandomForestClassifier(n_estimators=300,criterion='gini', max_depth=15, min_samples_split=50)\n",
    "clf.fit(X_train, y_train)"
   ]
  },
  {
   "cell_type": "code",
   "execution_count": 86,
   "metadata": {},
   "outputs": [
    {
     "name": "stdout",
     "output_type": "stream",
     "text": [
      "0.781367511271\n"
     ]
    }
   ],
   "source": [
    "pred = clf.predict(X_valid)\n",
    "print accuracy_score(pred, y_valid)"
   ]
  },
  {
   "cell_type": "code",
   "execution_count": 87,
   "metadata": {},
   "outputs": [],
   "source": [
    "X_train_meta['M1'] = pred\n",
    "X_test_meta['M1'] = clf.predict(X_test)"
   ]
  },
  {
   "cell_type": "markdown",
   "metadata": {},
   "source": [
    "#### Navie Bayes"
   ]
  },
  {
   "cell_type": "code",
   "execution_count": 88,
   "metadata": {},
   "outputs": [
    {
     "data": {
      "text/plain": [
       "GaussianNB()"
      ]
     },
     "execution_count": 88,
     "metadata": {},
     "output_type": "execute_result"
    }
   ],
   "source": [
    "clf = GaussianNB()\n",
    "clf.fit(X_train, y_train)"
   ]
  },
  {
   "cell_type": "code",
   "execution_count": 89,
   "metadata": {},
   "outputs": [
    {
     "name": "stdout",
     "output_type": "stream",
     "text": [
      "0.749768668911\n"
     ]
    }
   ],
   "source": [
    "pred = clf.predict(X_valid)\n",
    "print accuracy_score(pred, y_valid)"
   ]
  },
  {
   "cell_type": "code",
   "execution_count": 90,
   "metadata": {
    "scrolled": true
   },
   "outputs": [],
   "source": [
    "X_train_meta['M2'] = pred\n",
    "X_test_meta['M2'] = clf.predict(X_test)"
   ]
  },
  {
   "cell_type": "markdown",
   "metadata": {},
   "source": [
    "#### Decision Tree "
   ]
  },
  {
   "cell_type": "code",
   "execution_count": 91,
   "metadata": {},
   "outputs": [
    {
     "name": "stdout",
     "output_type": "stream",
     "text": [
      "Fitting 3 folds for each of 50 candidates, totalling 150 fits\n"
     ]
    },
    {
     "name": "stderr",
     "output_type": "stream",
     "text": [
      "[Parallel(n_jobs=3)]: Done  44 tasks      | elapsed:   14.3s\n",
      "[Parallel(n_jobs=3)]: Done 150 out of 150 | elapsed:   52.6s finished\n"
     ]
    },
    {
     "data": {
      "text/plain": [
       "GridSearchCV(cv=None, error_score='raise',\n",
       "       estimator=DecisionTreeClassifier(class_weight=None, criterion='gini', max_depth=None,\n",
       "            max_features=None, max_leaf_nodes=None, min_samples_leaf=1,\n",
       "            min_samples_split=2, min_weight_fraction_leaf=0.0,\n",
       "            presort=False, random_state=47, splitter='best'),\n",
       "       fit_params={}, iid=True, n_jobs=3,\n",
       "       param_grid={'min_samples_split': [2, 10, 25, 50, 60], 'criterion': ['gini', 'entropy'], 'max_depth': [8, 10, 15, 20, 25]},\n",
       "       pre_dispatch='2*n_jobs', refit=True, scoring=None, verbose=True)"
      ]
     },
     "execution_count": 91,
     "metadata": {},
     "output_type": "execute_result"
    }
   ],
   "source": [
    "parameters = {'criterion':['gini', 'entropy'], 'max_depth':[8, 10, 15, 20, 25], 'min_samples_split':[2, 10, 25, 50, 60]}\n",
    "clf = DecisionTreeClassifier(random_state=47)\n",
    "grid_search = GridSearchCV(clf, param_grid=parameters, verbose = True, n_jobs= 3)\n",
    "grid_search.fit(X, y)"
   ]
  },
  {
   "cell_type": "code",
   "execution_count": 92,
   "metadata": {},
   "outputs": [
    {
     "data": {
      "text/plain": [
       "{'criterion': 'gini', 'max_depth': 10, 'min_samples_split': 2}"
      ]
     },
     "execution_count": 92,
     "metadata": {},
     "output_type": "execute_result"
    }
   ],
   "source": [
    "grid_search.best_params_"
   ]
  },
  {
   "cell_type": "code",
   "execution_count": 93,
   "metadata": {},
   "outputs": [
    {
     "data": {
      "text/plain": [
       "DecisionTreeClassifier(class_weight=None, criterion='gini', max_depth=10,\n",
       "            max_features=None, max_leaf_nodes=None, min_samples_leaf=1,\n",
       "            min_samples_split=2, min_weight_fraction_leaf=0.0,\n",
       "            presort=False, random_state=47, splitter='best')"
      ]
     },
     "execution_count": 93,
     "metadata": {},
     "output_type": "execute_result"
    }
   ],
   "source": [
    "clf = DecisionTreeClassifier(criterion='gini', max_depth=10, min_samples_split=2, random_state=47)\n",
    "clf.fit(X_train, y_train)"
   ]
  },
  {
   "cell_type": "code",
   "execution_count": 94,
   "metadata": {},
   "outputs": [
    {
     "name": "stdout",
     "output_type": "stream",
     "text": [
      "0.780540625677\n"
     ]
    }
   ],
   "source": [
    "pred = clf.predict(X_valid)\n",
    "print accuracy_score(pred, y_valid)"
   ]
  },
  {
   "cell_type": "code",
   "execution_count": 95,
   "metadata": {
    "collapsed": true
   },
   "outputs": [],
   "source": [
    "X_train_meta['M3'] = pred\n",
    "X_test_meta['M3'] = clf.predict(X_test)"
   ]
  },
  {
   "cell_type": "markdown",
   "metadata": {},
   "source": [
    "#### XGBoost"
   ]
  },
  {
   "cell_type": "code",
   "execution_count": null,
   "metadata": {},
   "outputs": [],
   "source": []
  },
  {
   "cell_type": "code",
   "execution_count": 97,
   "metadata": {
    "collapsed": true
   },
   "outputs": [],
   "source": [
    "dtrain = xgb.DMatrix(data=X_train_meta, label=y_valid)\n",
    "dtest = xgb.DMatrix(X_test_meta)"
   ]
  },
  {
   "cell_type": "code",
   "execution_count": 98,
   "metadata": {
    "collapsed": true
   },
   "outputs": [],
   "source": [
    "watchlist = [(dtrain, 'train')]"
   ]
  },
  {
   "cell_type": "code",
   "execution_count": 104,
   "metadata": {
    "collapsed": true
   },
   "outputs": [],
   "source": [
    "params = {}\n",
    "params['objective'] = 'multi:softmax'\n",
    "params['eta'] = 0.01\n",
    "params['max_depth'] = 30\n",
    "params['silent'] = 0\n",
    "params['max_bin'] = 256\n",
    "params['max_leaf_nodes'] = 2**15\n",
    "params['num_class'] = 3"
   ]
  },
  {
   "cell_type": "code",
   "execution_count": 105,
   "metadata": {},
   "outputs": [
    {
     "name": "stdout",
     "output_type": "stream",
     "text": [
      "[0]\ttrain-maccuracy:0.796094\n",
      "Will train until train-maccuracy hasn't improved in 50 rounds.\n",
      "[10]\ttrain-maccuracy:0.798909\n",
      "[20]\ttrain-maccuracy:0.800386\n",
      "[30]\ttrain-maccuracy:0.801882\n",
      "[40]\ttrain-maccuracy:0.802158\n",
      "[50]\ttrain-maccuracy:0.802886\n",
      "[60]\ttrain-maccuracy:0.803595\n",
      "[70]\ttrain-maccuracy:0.804304\n",
      "[80]\ttrain-maccuracy:0.804835\n",
      "[90]\ttrain-maccuracy:0.805564\n",
      "[100]\ttrain-maccuracy:0.806273\n",
      "[110]\ttrain-maccuracy:0.807552\n",
      "[120]\ttrain-maccuracy:0.808222\n",
      "[130]\ttrain-maccuracy:0.808635\n",
      "[140]\ttrain-maccuracy:0.809048\n",
      "[150]\ttrain-maccuracy:0.809324\n",
      "[160]\ttrain-maccuracy:0.809816\n",
      "[170]\ttrain-maccuracy:0.810053\n",
      "[180]\ttrain-maccuracy:0.810407\n",
      "[190]\ttrain-maccuracy:0.81082\n",
      "[200]\ttrain-maccuracy:0.811194\n",
      "[210]\ttrain-maccuracy:0.811844\n",
      "[220]\ttrain-maccuracy:0.812415\n",
      "[230]\ttrain-maccuracy:0.813144\n",
      "[240]\ttrain-maccuracy:0.813793\n",
      "[250]\ttrain-maccuracy:0.814581\n",
      "[260]\ttrain-maccuracy:0.815427\n",
      "[270]\ttrain-maccuracy:0.816136\n",
      "[280]\ttrain-maccuracy:0.816924\n",
      "[290]\ttrain-maccuracy:0.81775\n",
      "[300]\ttrain-maccuracy:0.818558\n",
      "[310]\ttrain-maccuracy:0.818873\n",
      "[320]\ttrain-maccuracy:0.819424\n",
      "[330]\ttrain-maccuracy:0.819916\n",
      "[340]\ttrain-maccuracy:0.82029\n",
      "[350]\ttrain-maccuracy:0.820625\n",
      "[360]\ttrain-maccuracy:0.821058\n",
      "[370]\ttrain-maccuracy:0.821235\n",
      "[380]\ttrain-maccuracy:0.821511\n",
      "[390]\ttrain-maccuracy:0.822121\n",
      "[400]\ttrain-maccuracy:0.822397\n",
      "[410]\ttrain-maccuracy:0.822633\n",
      "[420]\ttrain-maccuracy:0.82281\n",
      "[430]\ttrain-maccuracy:0.823381\n",
      "[440]\ttrain-maccuracy:0.823539\n",
      "[450]\ttrain-maccuracy:0.823893\n",
      "[460]\ttrain-maccuracy:0.82411\n",
      "[470]\ttrain-maccuracy:0.824247\n",
      "[480]\ttrain-maccuracy:0.824444\n",
      "[490]\ttrain-maccuracy:0.824779\n",
      "[500]\ttrain-maccuracy:0.824956\n",
      "[510]\ttrain-maccuracy:0.825153\n",
      "[520]\ttrain-maccuracy:0.825429\n",
      "[530]\ttrain-maccuracy:0.825665\n",
      "[540]\ttrain-maccuracy:0.825921\n",
      "[550]\ttrain-maccuracy:0.826098\n",
      "[560]\ttrain-maccuracy:0.826216\n",
      "[570]\ttrain-maccuracy:0.82659\n",
      "[580]\ttrain-maccuracy:0.82663\n",
      "[590]\ttrain-maccuracy:0.826748\n",
      "[600]\ttrain-maccuracy:0.826846\n",
      "[610]\ttrain-maccuracy:0.826925\n",
      "[620]\ttrain-maccuracy:0.827004\n",
      "[630]\ttrain-maccuracy:0.827122\n",
      "[640]\ttrain-maccuracy:0.82722\n",
      "[650]\ttrain-maccuracy:0.827299\n",
      "[660]\ttrain-maccuracy:0.827358\n",
      "[670]\ttrain-maccuracy:0.827397\n",
      "[680]\ttrain-maccuracy:0.827496\n",
      "[690]\ttrain-maccuracy:0.827516\n",
      "[700]\ttrain-maccuracy:0.827516\n",
      "[710]\ttrain-maccuracy:0.827516\n",
      "[720]\ttrain-maccuracy:0.827653\n",
      "[730]\ttrain-maccuracy:0.827772\n",
      "[740]\ttrain-maccuracy:0.82787\n",
      "[750]\ttrain-maccuracy:0.827988\n",
      "[760]\ttrain-maccuracy:0.828047\n",
      "[770]\ttrain-maccuracy:0.828067\n",
      "[780]\ttrain-maccuracy:0.828146\n",
      "[790]\ttrain-maccuracy:0.828185\n",
      "[800]\ttrain-maccuracy:0.828224\n",
      "[810]\ttrain-maccuracy:0.828264\n",
      "[820]\ttrain-maccuracy:0.828362\n",
      "[830]\ttrain-maccuracy:0.828441\n",
      "[840]\ttrain-maccuracy:0.82848\n",
      "[850]\ttrain-maccuracy:0.828579\n",
      "[860]\ttrain-maccuracy:0.828697\n",
      "[870]\ttrain-maccuracy:0.828756\n",
      "[880]\ttrain-maccuracy:0.828854\n",
      "[890]\ttrain-maccuracy:0.828913\n",
      "[900]\ttrain-maccuracy:0.828992\n",
      "[910]\ttrain-maccuracy:0.829032\n",
      "[920]\ttrain-maccuracy:0.82911\n",
      "[930]\ttrain-maccuracy:0.829091\n",
      "[940]\ttrain-maccuracy:0.82913\n",
      "[950]\ttrain-maccuracy:0.829189\n",
      "[960]\ttrain-maccuracy:0.829268\n",
      "[970]\ttrain-maccuracy:0.829327\n",
      "[980]\ttrain-maccuracy:0.829366\n",
      "[990]\ttrain-maccuracy:0.829386\n"
     ]
    }
   ],
   "source": [
    "model = xgb.train(params, dtrain, 1000, watchlist, maximize=True, verbose_eval=10, early_stopping_rounds=50, feval=multAcc)"
   ]
  },
  {
   "cell_type": "code",
   "execution_count": 106,
   "metadata": {
    "collapsed": true
   },
   "outputs": [],
   "source": [
    "pred = model.predict(dtest)"
   ]
  },
  {
   "cell_type": "code",
   "execution_count": 107,
   "metadata": {
    "collapsed": true
   },
   "outputs": [],
   "source": [
    "subm = pd.DataFrame()"
   ]
  },
  {
   "cell_type": "code",
   "execution_count": 108,
   "metadata": {
    "collapsed": true
   },
   "outputs": [],
   "source": [
    "subm['connection_id'] = test.connection_id\n",
    "subm['target'] = pred.astype('int')\n",
    "subm.to_csv('submit.csv',index=False)"
   ]
  },
  {
   "cell_type": "code",
   "execution_count": null,
   "metadata": {
    "collapsed": true
   },
   "outputs": [],
   "source": []
  }
 ],
 "metadata": {
  "kernelspec": {
   "display_name": "Python 2",
   "language": "python",
   "name": "python2"
  },
  "language_info": {
   "codemirror_mode": {
    "name": "ipython",
    "version": 2
   },
   "file_extension": ".py",
   "mimetype": "text/x-python",
   "name": "python",
   "nbconvert_exporter": "python",
   "pygments_lexer": "ipython2",
   "version": "2.7.13"
  }
 },
 "nbformat": 4,
 "nbformat_minor": 2
}
